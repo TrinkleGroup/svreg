{
 "cells": [
  {
   "cell_type": "markdown",
   "metadata": {},
   "source": [
    "# Imports"
   ]
  },
  {
   "cell_type": "code",
   "execution_count": 1,
   "metadata": {},
   "outputs": [],
   "source": [
    "import os\n",
    "import h5py\n",
    "import sympy\n",
    "import glob\n",
    "import pickle\n",
    "import numpy as np\n",
    "import matplotlib.pyplot as plt\n",
    "\n",
    "from IPython.display import display, Math\n",
    "from scipy.interpolate import CubicSpline\n",
    "\n",
    "from tree import SVTree\n",
    "from nodes import FunctionNode\n",
    "from regressor import SVRegressor"
   ]
  },
  {
   "cell_type": "markdown",
   "metadata": {},
   "source": [
    "# Setup"
   ]
  },
  {
   "cell_type": "code",
   "execution_count": 60,
   "metadata": {},
   "outputs": [],
   "source": [
    "basePath = os.path.join('results', 'mo_bugfix2_add_ffg_ffg_100')\n",
    "fromArchive = False\n",
    "\n",
    "basePath = os.path.join('results', 'mo_bugfix2')\n",
    "fromArchive = True"
   ]
  },
  {
   "cell_type": "code",
   "execution_count": 61,
   "metadata": {},
   "outputs": [
    {
     "data": {
      "text/latex": [
       "$\\displaystyle 46.11<->ffg + ffg$"
      ],
      "text/plain": [
       "<IPython.core.display.Math object>"
      ]
     },
     "metadata": {},
     "output_type": "display_data"
    },
    {
     "data": {
      "text/latex": [
       "$\\displaystyle 64.57<->ffg + \\rho$"
      ],
      "text/plain": [
       "<IPython.core.display.Math object>"
      ]
     },
     "metadata": {},
     "output_type": "display_data"
    },
    {
     "data": {
      "text/latex": [
       "$\\displaystyle 65.97<->ffg + \\rho \\cdot \\rho + \\rho$"
      ],
      "text/plain": [
       "<IPython.core.display.Math object>"
      ]
     },
     "metadata": {},
     "output_type": "display_data"
    },
    {
     "data": {
      "text/latex": [
       "$\\displaystyle 66.06<->\\rho \\cdot \\left(ffg \\cdot \\rho + \\rho\\right)$"
      ],
      "text/plain": [
       "<IPython.core.display.Math object>"
      ]
     },
     "metadata": {},
     "output_type": "display_data"
    },
    {
     "data": {
      "text/latex": [
       "$\\displaystyle 73.67<->ffg \\cdot \\rho + \\rho$"
      ],
      "text/plain": [
       "<IPython.core.display.Math object>"
      ]
     },
     "metadata": {},
     "output_type": "display_data"
    },
    {
     "data": {
      "text/latex": [
       "$\\displaystyle 81.27<->\\rho \\cdot \\rho$"
      ],
      "text/plain": [
       "<IPython.core.display.Math object>"
      ]
     },
     "metadata": {},
     "output_type": "display_data"
    },
    {
     "data": {
      "text/latex": [
       "$\\displaystyle 83.96<->\\sqrt{ffg} \\cdot \\rho + \\rho$"
      ],
      "text/plain": [
       "<IPython.core.display.Math object>"
      ]
     },
     "metadata": {},
     "output_type": "display_data"
    },
    {
     "data": {
      "text/latex": [
       "$\\displaystyle 85.92<->ffg \\cdot \\rho$"
      ],
      "text/plain": [
       "<IPython.core.display.Math object>"
      ]
     },
     "metadata": {},
     "output_type": "display_data"
    },
    {
     "data": {
      "text/latex": [
       "$\\displaystyle 91.07<->ffg \\cdot ffg + ffg$"
      ],
      "text/plain": [
       "<IPython.core.display.Math object>"
      ]
     },
     "metadata": {},
     "output_type": "display_data"
    }
   ],
   "source": [
    "if fromArchive:\n",
    "    allTreeNames = glob.glob(os.path.join(basePath, '*'))\n",
    "    del allTreeNames[allTreeNames.index(os.path.join(basePath, 'archive.pkl'))]\n",
    "    \n",
    "    bestCost = np.inf\n",
    "    bestIdx = 0\n",
    "    \n",
    "    worstCost = 0\n",
    "    worstIdx = 0\n",
    "    \n",
    "    archive = pickle.load(open(os.path.join(basePath, 'archive.pkl'), 'rb'))\n",
    "    \n",
    "    allErrors = []\n",
    "    allLatex = []\n",
    "\n",
    "    for i, treePath in enumerate(allTreeNames):\n",
    "        treeName = os.path.split(treePath)[-1]\n",
    "        \n",
    "        tree = pickle.load(open(os.path.join(treePath, 'tree.pkl'), 'rb'))\n",
    "\n",
    "        entry = archive[treeName]\n",
    "        tree.bestParams = entry.bestParams\n",
    "\n",
    "        errors = entry.bestErrors\n",
    "    \n",
    "        latex = SVTree([\n",
    "            FunctionNode(n.description) if isinstance(n, FunctionNode)\n",
    "            else n\n",
    "            for n in tree.nodes\n",
    "        ]).latex()\n",
    "\n",
    "        sumErrors = np.sum(errors)\n",
    "        \n",
    "        if sumErrors < bestCost:\n",
    "            bestCost = sumErrors\n",
    "            bestIdx = i\n",
    "        \n",
    "        if sumErrors > worstCost:\n",
    "            worstCost = sumErrors\n",
    "            worstIdx = i\n",
    "        \n",
    "        allErrors.append(sumErrors)\n",
    "        allLatex.append(latex)\n",
    "        \n",
    "    allLatex = np.array(allLatex)[np.argsort(allErrors)]\n",
    "    allErrors = np.array(allErrors)[np.argsort(allErrors)]\n",
    "\n",
    "    for latex, errors in zip(allLatex, allErrors):\n",
    "                display(Math('{:.2f}<->{}'.format(\n",
    "            errors,\n",
    "            sympy.latex(sympy.sympify(latex, evaluate=False), mul_symbol='dot')\n",
    "        )))\n",
    "            \n",
    "    treePath = allTreeNames[bestIdx]\n",
    "#     treePath = allTreeNames[worstIdx]\n",
    "    treeName = os.path.split(treePath)[-1]\n",
    "\n",
    "    archive = pickle.load(open(os.path.join(basePath, 'archive.pkl'), 'rb'))\n",
    "    tree = pickle.load(open(os.path.join(basePath, treeName, 'tree.pkl'), 'rb'))\n",
    "    \n",
    "    entry = archive[treeName]\n",
    "    tree.bestParams = entry.bestParams\n",
    "    \n",
    "    errors = entry.bestErrors\n",
    "else:\n",
    "    files = sorted(glob.glob(os.path.join(basePath, 'tree*')))\n",
    "    intIndices = [int(s[s.find('tree')+5:s.find('.pkl')]) for s in files]\n",
    "\n",
    "    argsort = np.argsort(intIndices)\n",
    "\n",
    "    treeFile = np.array(files)[argsort][-1]\n",
    "    tree = pickle.load(open(treeFile, 'rb'))\n",
    "    \n",
    "    errorFiles = sorted(glob.glob(os.path.join(basePath, 'errors*')))\n",
    "    errorFile  = np.array(errorFiles)[argsort][-1]\n",
    "    errors = pickle.load(open(errorFile, 'rb'))"
   ]
  },
  {
   "cell_type": "code",
   "execution_count": 62,
   "metadata": {},
   "outputs": [
    {
     "name": "stdout",
     "output_type": "stream",
     "text": [
      "Best tree: add(ffg, ffg)\n"
     ]
    }
   ],
   "source": [
    "print('Best tree:', tree)"
   ]
  },
  {
   "cell_type": "markdown",
   "metadata": {},
   "source": [
    "# Plotting"
   ]
  },
  {
   "cell_type": "code",
   "execution_count": 63,
   "metadata": {},
   "outputs": [],
   "source": [
    "def plotSpline(x, y, bc):\n",
    "    cs = CubicSpline(x, y, bc_type=((1, bc[0]), (1, bc[1])))\n",
    "    \n",
    "    plotX = np.linspace(x[0], x[-1], 100)\n",
    "    plotY = cs(plotX)\n",
    "    \n",
    "    return plotX, plotY"
   ]
  },
  {
   "cell_type": "code",
   "execution_count": 64,
   "metadata": {},
   "outputs": [],
   "source": [
    "splits = []\n",
    "\n",
    "for svNode in tree.svNodes:\n",
    "    for comp in svNode.components:\n",
    "        splits.append(svNode.numParams[comp]+len(svNode.restrictions[comp]))"
   ]
  },
  {
   "cell_type": "code",
   "execution_count": 65,
   "metadata": {},
   "outputs": [],
   "source": [
    "splitParams = np.array_split(tree.fillFixedKnots(tree.bestParams)[0], np.cumsum(splits)[:-1])"
   ]
  },
  {
   "cell_type": "code",
   "execution_count": 66,
   "metadata": {},
   "outputs": [
    {
     "data": {
      "image/png": "[encoded data removed]",
      "text/plain": [
       "<Figure size 864x576 with 6 Axes>"
      ]
     },
     "metadata": {
      "needs_background": "light"
     },
     "output_type": "display_data"
    }
   ],
   "source": [
    "numRows = int(max(1, np.ceil(len(splitParams)/3)))\n",
    "\n",
    "fig, axes = plt.subplots(numRows, 3, figsize=(12, 4*numRows))\n",
    "\n",
    "compNames = np.hstack([svNode.components for svNode in tree.svNodes])\n",
    "\n",
    "for i, spline in enumerate(splitParams):\n",
    "    y, bc = spline[:-2], spline[-2:]\n",
    "    x = np.arange(len(y))\n",
    "    \n",
    "    plotX, plotY = plotSpline(x, y, bc)\n",
    "    \n",
    "    row = i//3\n",
    "    col = i%3\n",
    "    \n",
    "    if numRows > 1:\n",
    "        ax = axes[row][col]\n",
    "    else:\n",
    "        ax = axes[col]\n",
    "    \n",
    "    ax.plot(x, y, 'o')\n",
    "    ax.plot(plotX, plotY)\n",
    "    ax.set_title(compNames[i].decode('utf-8'))"
   ]
  },
  {
   "cell_type": "markdown",
   "metadata": {},
   "source": [
    "# Errors"
   ]
  },
  {
   "cell_type": "markdown",
   "metadata": {},
   "source": [
    "## Directly from logs"
   ]
  },
  {
   "cell_type": "code",
   "execution_count": 68,
   "metadata": {},
   "outputs": [
    {
     "data": {
      "text/plain": [
       "38.17579452094006"
      ]
     },
     "execution_count": 68,
     "metadata": {},
     "output_type": "execute_result"
    }
   ],
   "source": [
    "energyWeight = 10\n",
    "forcesWeight = 1\n",
    "\n",
    "unweighted = errors.copy()\n",
    "unweighted[::2] /= energyWeight\n",
    "unweighted[1::2] /= forcesWeight\n",
    "\n",
    "np.sum(unweighted)"
   ]
  },
  {
   "cell_type": "code",
   "execution_count": 69,
   "metadata": {},
   "outputs": [
    {
     "name": "stdout",
     "output_type": "stream",
     "text": [
      "                                add(ffg, ffg) average errors || 0.007729 0.256887\n",
      "\n",
      "                                                  structName || (eV/atom) (eV/A)\n",
      "                                        Ground_state_crystal || 0.000000 0.017422\n",
      "                         Mo_3x3x3_cell_mode_1_strain_-0.0200 || 0.004340 0.016422\n",
      "                         Mo_3x3x3_cell_mode_1_strain_-0.0400 || 0.004277 0.015787\n",
      "                         Mo_3x3x3_cell_mode_1_strain_-0.0600 || 0.001105 0.023686\n",
      "                         Mo_3x3x3_cell_mode_1_strain_-0.0800 || 0.000265 0.028482\n",
      "                         Mo_3x3x3_cell_mode_1_strain_-0.1000 || 0.006449 0.035357\n",
      "                          Mo_3x3x3_cell_mode_1_strain_0.0200 || 0.001295 0.018431\n",
      "                          Mo_3x3x3_cell_mode_1_strain_0.0800 || 0.000096 0.019206\n",
      "                         Mo_3x3x3_cell_mode_2_strain_-0.0200 || 0.004360 0.017437\n",
      "                         Mo_3x3x3_cell_mode_2_strain_-0.0400 || 0.004341 0.017487\n",
      "                         Mo_3x3x3_cell_mode_2_strain_-0.0600 || 0.001131 0.023427\n",
      "                         Mo_3x3x3_cell_mode_2_strain_-0.0800 || 0.000354 0.027269\n",
      "                         Mo_3x3x3_cell_mode_2_strain_-0.1000 || 0.006651 0.047330\n",
      "                          Mo_3x3x3_cell_mode_2_strain_0.0200 || 0.001287 0.019434\n",
      "                          Mo_3x3x3_cell_mode_2_strain_0.0400 || 0.000682 0.021321\n",
      "                          Mo_3x3x3_cell_mode_2_strain_0.0600 || 0.000714 0.019697\n",
      "                          Mo_3x3x3_cell_mode_2_strain_0.0800 || 0.000120 0.020008\n",
      "                          Mo_3x3x3_cell_mode_2_strain_0.1000 || 0.002647 0.019643\n",
      "                         Mo_3x3x3_cell_mode_3_strain_-0.0200 || 0.004334 0.020628\n",
      "                         Mo_3x3x3_cell_mode_3_strain_-0.0400 || 0.004308 0.015822\n",
      "                         Mo_3x3x3_cell_mode_3_strain_-0.0600 || 0.001094 0.023904\n",
      "                         Mo_3x3x3_cell_mode_3_strain_-0.1000 || 0.006412 0.034606\n",
      "                          Mo_3x3x3_cell_mode_3_strain_0.0200 || 0.001262 0.019707\n",
      "                          Mo_3x3x3_cell_mode_3_strain_0.0400 || 0.000660 0.019386\n",
      "                          Mo_3x3x3_cell_mode_3_strain_0.0600 || 0.000770 0.021737\n",
      "                          Mo_3x3x3_cell_mode_3_strain_0.0800 || 0.000154 0.018653\n",
      "                          Mo_3x3x3_cell_mode_3_strain_0.1000 || 0.002639 0.021694\n",
      "                         Mo_3x3x3_cell_mode_4_strain_-0.0200 || 0.000085 0.016446\n",
      "                         Mo_3x3x3_cell_mode_4_strain_-0.0400 || 0.000272 0.017734\n",
      "                         Mo_3x3x3_cell_mode_4_strain_-0.0600 || 0.000082 0.014633\n",
      "                          Mo_3x3x3_cell_mode_4_strain_0.0200 || 0.000113 0.014486\n",
      "                          Mo_3x3x3_cell_mode_4_strain_0.0400 || 0.000326 0.021708\n",
      "                          Mo_3x3x3_cell_mode_4_strain_0.0600 || 0.000028 0.020485\n",
      "                          Mo_3x3x3_cell_mode_4_strain_0.0800 || 0.000244 0.017272\n",
      "                          Mo_3x3x3_cell_mode_4_strain_0.1000 || 0.000145 0.018976\n",
      "                         Mo_3x3x3_cell_mode_5_strain_-0.0200 || 0.000106 0.016319\n",
      "                         Mo_3x3x3_cell_mode_5_strain_-0.0400 || 0.000325 0.021271\n",
      "                         Mo_3x3x3_cell_mode_5_strain_-0.0600 || 0.000011 0.022642\n",
      "                         Mo_3x3x3_cell_mode_5_strain_-0.0800 || 0.000214 0.021844\n",
      "                         Mo_3x3x3_cell_mode_5_strain_-0.1000 || 0.000129 0.018359\n",
      "                          Mo_3x3x3_cell_mode_5_strain_0.0200 || 0.000123 0.019509\n",
      "                          Mo_3x3x3_cell_mode_5_strain_0.0400 || 0.000298 0.018183\n",
      "                          Mo_3x3x3_cell_mode_5_strain_0.0600 || 0.000015 0.020624\n",
      "                          Mo_3x3x3_cell_mode_5_strain_0.0800 || 0.000238 0.015896\n",
      "                          Mo_3x3x3_cell_mode_5_strain_0.1000 || 0.000159 0.019192\n",
      "                         Mo_3x3x3_cell_mode_6_strain_-0.0200 || 0.000094 0.016319\n",
      "                         Mo_3x3x3_cell_mode_6_strain_-0.0400 || 0.000293 0.016973\n",
      "                         Mo_3x3x3_cell_mode_6_strain_-0.0600 || 0.000001 0.018710\n",
      "                         Mo_3x3x3_cell_mode_6_strain_-0.0800 || 0.000363 0.021938\n",
      "                         Mo_3x3x3_cell_mode_6_strain_-0.1000 || 0.000175 0.015824\n",
      "                          Mo_3x3x3_cell_mode_6_strain_0.0200 || 0.000108 0.019637\n",
      "                          Mo_3x3x3_cell_mode_6_strain_0.0400 || 0.000272 0.017657\n",
      "                          Mo_3x3x3_cell_mode_6_strain_0.0600 || 0.000024 0.019219\n",
      "                          Mo_3x3x3_cell_mode_6_strain_0.0800 || 0.000203 0.017402\n",
      "                          Mo_3x3x3_cell_mode_6_strain_0.1000 || 0.000149 0.019791\n",
      "                                       Mo_3x3x3_cell_relaxed || 0.003409 0.000000\n",
      "                             Mo_surface_mp_Mo_mp-129__1_0_0_ || 0.035473 0.296680\n",
      "                             Mo_surface_mp_Mo_mp-129__1_1_0_ || 0.002480 0.111440\n",
      "                             Mo_surface_mp_Mo_mp-129__1_1_1_ || 0.026122 0.267742\n",
      "                             Mo_surface_mp_Mo_mp-129__2_1_0_ || 0.008810 0.274167\n",
      "                             Mo_surface_mp_Mo_mp-129__2_2_1_ || 0.006973 0.188763\n",
      "                             Mo_surface_mp_Mo_mp-129__3_1_1_ || 0.003291 0.348976\n",
      "                             Mo_surface_mp_Mo_mp-129__3_2_0_ || 0.005837 0.246971\n",
      "                             Mo_surface_mp_Mo_mp-129__3_2_1_ || 0.002482 0.270721\n",
      "                             Mo_surface_mp_Mo_mp-129__3_3_2_ || 0.006011 0.265547\n",
      "   Snapshot_10_of_12_of_Vacancy_AIMD_NVT_simulation_at_300_K || 0.000251 0.112378\n",
      "  Snapshot_10_of_12_of_Vacancy_AIMD_NVT_simulation_at_6000_K || 0.007565 0.311714\n",
      "          Snapshot_10_of_40_of_AIMD_NVT_simulation_at_3000_K || 0.000073 0.224651\n",
      "           Snapshot_10_of_40_of_AIMD_NVT_simulation_at_300_K || 0.002322 0.088719\n",
      "   Snapshot_11_of_12_of_Vacancy_AIMD_NVT_simulation_at_300_K || 0.001471 0.105003\n",
      "  Snapshot_11_of_12_of_Vacancy_AIMD_NVT_simulation_at_6000_K || 0.000760 0.245168\n",
      "           Snapshot_11_of_40_of_AIMD_NVT_simulation_at_300_K || 0.003428 0.065015\n",
      "          Snapshot_11_of_40_of_AIMD_NVT_simulation_at_6000_K || 0.017885 0.423207\n",
      "   Snapshot_12_of_12_of_Vacancy_AIMD_NVT_simulation_at_300_K || 0.002309 0.085801\n",
      "  Snapshot_12_of_12_of_Vacancy_AIMD_NVT_simulation_at_6000_K || 0.004638 0.351762\n",
      "          Snapshot_12_of_40_of_AIMD_NVT_simulation_at_3000_K || 0.010286 0.244826\n",
      "           Snapshot_12_of_40_of_AIMD_NVT_simulation_at_300_K || 0.002067 0.075763\n",
      "          Snapshot_12_of_40_of_AIMD_NVT_simulation_at_6000_K || 0.000308 0.424789\n",
      "          Snapshot_13_of_40_of_AIMD_NVT_simulation_at_3000_K || 0.006324 0.247504\n",
      "           Snapshot_13_of_40_of_AIMD_NVT_simulation_at_300_K || 0.002925 0.072347\n",
      "          Snapshot_13_of_40_of_AIMD_NVT_simulation_at_6000_K || 0.016908 0.515141\n",
      "           Snapshot_14_of_40_of_AIMD_NVT_simulation_at_300_K || 0.002601 0.079577\n",
      "          Snapshot_14_of_40_of_AIMD_NVT_simulation_at_6000_K || 0.020646 0.517056\n",
      "          Snapshot_15_of_40_of_AIMD_NVT_simulation_at_3000_K || 0.006157 0.228564\n",
      "           Snapshot_15_of_40_of_AIMD_NVT_simulation_at_300_K || 0.001482 0.099671\n",
      "          Snapshot_15_of_40_of_AIMD_NVT_simulation_at_6000_K || 0.007968 0.524818\n",
      "          Snapshot_16_of_40_of_AIMD_NVT_simulation_at_3000_K || 0.002938 0.238731\n",
      "           Snapshot_16_of_40_of_AIMD_NVT_simulation_at_300_K || 0.004125 0.089040\n",
      "          Snapshot_16_of_40_of_AIMD_NVT_simulation_at_6000_K || 0.002172 0.475113\n",
      "          Snapshot_17_of_40_of_AIMD_NVT_simulation_at_3000_K || 0.008934 0.299234\n",
      "           Snapshot_17_of_40_of_AIMD_NVT_simulation_at_300_K || 0.002183 0.084506\n",
      "          Snapshot_17_of_40_of_AIMD_NVT_simulation_at_6000_K || 0.000518 0.446421\n",
      "          Snapshot_18_of_40_of_AIMD_NVT_simulation_at_3000_K || 0.005899 0.274564\n",
      "           Snapshot_18_of_40_of_AIMD_NVT_simulation_at_300_K || 0.002673 0.078732\n",
      "          Snapshot_18_of_40_of_AIMD_NVT_simulation_at_6000_K || 0.006642 0.458623\n",
      "          Snapshot_19_of_40_of_AIMD_NVT_simulation_at_3000_K || 0.001303 0.249569\n",
      "           Snapshot_19_of_40_of_AIMD_NVT_simulation_at_300_K || 0.002657 0.072501\n",
      "    Snapshot_1_of_12_of_Vacancy_AIMD_NVT_simulation_at_300_K || 0.000624 0.100383\n",
      "   Snapshot_1_of_12_of_Vacancy_AIMD_NVT_simulation_at_6000_K || 0.000370 0.089108\n",
      "           Snapshot_1_of_40_of_AIMD_NVT_simulation_at_3000_K || 0.000082 0.233927\n",
      "            Snapshot_1_of_40_of_AIMD_NVT_simulation_at_300_K || 0.001844 0.073301\n",
      "           Snapshot_1_of_40_of_AIMD_NVT_simulation_at_6000_K || 0.002054 0.526401\n",
      "          Snapshot_20_of_40_of_AIMD_NVT_simulation_at_3000_K || 0.012635 0.288229\n",
      "           Snapshot_20_of_40_of_AIMD_NVT_simulation_at_300_K || 0.002949 0.056370\n",
      "          Snapshot_20_of_40_of_AIMD_NVT_simulation_at_6000_K || 0.015182 0.460643\n",
      "          Snapshot_21_of_40_of_AIMD_NVT_simulation_at_3000_K || 0.001439 0.262044\n",
      "           Snapshot_21_of_40_of_AIMD_NVT_simulation_at_300_K || 0.003950 0.095242\n",
      "          Snapshot_21_of_40_of_AIMD_NVT_simulation_at_6000_K || 0.039812 0.521538\n",
      "          Snapshot_22_of_40_of_AIMD_NVT_simulation_at_3000_K || 0.005436 0.260949\n",
      "           Snapshot_22_of_40_of_AIMD_NVT_simulation_at_300_K || 0.000082 0.096070\n",
      "          Snapshot_22_of_40_of_AIMD_NVT_simulation_at_6000_K || 0.002961 0.468615\n",
      "          Snapshot_23_of_40_of_AIMD_NVT_simulation_at_3000_K || 0.011163 0.252578\n",
      "           Snapshot_23_of_40_of_AIMD_NVT_simulation_at_300_K || 0.001748 0.093461\n",
      "          Snapshot_23_of_40_of_AIMD_NVT_simulation_at_6000_K || 0.008596 0.464039\n",
      "          Snapshot_24_of_40_of_AIMD_NVT_simulation_at_3000_K || 0.013745 0.245954\n",
      "           Snapshot_24_of_40_of_AIMD_NVT_simulation_at_300_K || 0.000962 0.083265\n",
      "          Snapshot_24_of_40_of_AIMD_NVT_simulation_at_6000_K || 0.018886 0.583524\n",
      "          Snapshot_25_of_40_of_AIMD_NVT_simulation_at_3000_K || 0.001620 0.280854\n",
      "          Snapshot_25_of_40_of_AIMD_NVT_simulation_at_6000_K || 0.001782 0.425261\n",
      "          Snapshot_26_of_40_of_AIMD_NVT_simulation_at_3000_K || 0.003693 0.235935\n",
      "           Snapshot_26_of_40_of_AIMD_NVT_simulation_at_300_K || 0.001895 0.082487\n",
      "          Snapshot_26_of_40_of_AIMD_NVT_simulation_at_6000_K || 0.006824 0.472466\n",
      "          Snapshot_27_of_40_of_AIMD_NVT_simulation_at_3000_K || 0.002748 0.275174\n",
      "          Snapshot_27_of_40_of_AIMD_NVT_simulation_at_6000_K || 0.009987 0.561322\n",
      "          Snapshot_28_of_40_of_AIMD_NVT_simulation_at_3000_K || 0.001352 0.217493\n",
      "           Snapshot_28_of_40_of_AIMD_NVT_simulation_at_300_K || 0.001078 0.081239\n",
      "          Snapshot_28_of_40_of_AIMD_NVT_simulation_at_6000_K || 0.012406 0.443961\n",
      "          Snapshot_29_of_40_of_AIMD_NVT_simulation_at_3000_K || 0.005768 0.269985\n",
      "           Snapshot_29_of_40_of_AIMD_NVT_simulation_at_300_K || 0.002408 0.082921\n",
      "          Snapshot_29_of_40_of_AIMD_NVT_simulation_at_6000_K || 0.007569 0.458710\n",
      "    Snapshot_2_of_12_of_Vacancy_AIMD_NVT_simulation_at_300_K || 0.001845 0.120320\n",
      "   Snapshot_2_of_12_of_Vacancy_AIMD_NVT_simulation_at_6000_K || 0.010807 0.271331\n",
      "           Snapshot_2_of_40_of_AIMD_NVT_simulation_at_3000_K || 0.000247 0.285212\n",
      "            Snapshot_2_of_40_of_AIMD_NVT_simulation_at_300_K || 0.000675 0.102031\n",
      "           Snapshot_2_of_40_of_AIMD_NVT_simulation_at_6000_K || 0.025604 0.441532\n",
      "          Snapshot_30_of_40_of_AIMD_NVT_simulation_at_3000_K || 0.004544 0.285217\n",
      "          Snapshot_30_of_40_of_AIMD_NVT_simulation_at_6000_K || 0.000437 0.486565\n",
      "          Snapshot_31_of_40_of_AIMD_NVT_simulation_at_3000_K || 0.006283 0.259027\n",
      "           Snapshot_31_of_40_of_AIMD_NVT_simulation_at_300_K || 0.000154 0.092512\n",
      "          Snapshot_32_of_40_of_AIMD_NVT_simulation_at_3000_K || 0.002758 0.256416\n",
      "           Snapshot_32_of_40_of_AIMD_NVT_simulation_at_300_K || 0.000792 0.089759\n",
      "          Snapshot_32_of_40_of_AIMD_NVT_simulation_at_6000_K || 0.007030 0.483760\n",
      "          Snapshot_33_of_40_of_AIMD_NVT_simulation_at_3000_K || 0.011387 0.251357\n",
      "           Snapshot_33_of_40_of_AIMD_NVT_simulation_at_300_K || 0.002715 0.069405\n",
      "          Snapshot_33_of_40_of_AIMD_NVT_simulation_at_6000_K || 0.015764 0.427258\n",
      "          Snapshot_34_of_40_of_AIMD_NVT_simulation_at_3000_K || 0.000966 0.260774\n",
      "           Snapshot_34_of_40_of_AIMD_NVT_simulation_at_300_K || 0.003598 0.062919\n",
      "          Snapshot_34_of_40_of_AIMD_NVT_simulation_at_6000_K || 0.004031 0.415484\n",
      "          Snapshot_35_of_40_of_AIMD_NVT_simulation_at_3000_K || 0.007650 0.264973\n",
      "           Snapshot_35_of_40_of_AIMD_NVT_simulation_at_300_K || 0.001044 0.089008\n",
      "          Snapshot_35_of_40_of_AIMD_NVT_simulation_at_6000_K || 0.002036 0.520977\n",
      "          Snapshot_36_of_40_of_AIMD_NVT_simulation_at_3000_K || 0.002269 0.335756\n",
      "           Snapshot_36_of_40_of_AIMD_NVT_simulation_at_300_K || 0.001306 0.088684\n",
      "          Snapshot_36_of_40_of_AIMD_NVT_simulation_at_6000_K || 0.001572 0.452296\n",
      "          Snapshot_37_of_40_of_AIMD_NVT_simulation_at_3000_K || 0.005892 0.300619\n",
      "           Snapshot_37_of_40_of_AIMD_NVT_simulation_at_300_K || 0.001349 0.083061\n",
      "          Snapshot_38_of_40_of_AIMD_NVT_simulation_at_3000_K || 0.013145 0.311567\n",
      "           Snapshot_38_of_40_of_AIMD_NVT_simulation_at_300_K || 0.000913 0.088766\n",
      "          Snapshot_38_of_40_of_AIMD_NVT_simulation_at_6000_K || 0.008982 0.427507\n",
      "          Snapshot_39_of_40_of_AIMD_NVT_simulation_at_3000_K || 0.010351 0.269990\n",
      "           Snapshot_39_of_40_of_AIMD_NVT_simulation_at_300_K || 0.001013 0.090950\n",
      "          Snapshot_39_of_40_of_AIMD_NVT_simulation_at_6000_K || 0.026274 0.501685\n",
      "    Snapshot_3_of_12_of_Vacancy_AIMD_NVT_simulation_at_300_K || 0.001071 0.122348\n",
      "   Snapshot_3_of_12_of_Vacancy_AIMD_NVT_simulation_at_6000_K || 0.002970 0.304593\n",
      "           Snapshot_3_of_40_of_AIMD_NVT_simulation_at_3000_K || 0.003218 0.281315\n",
      "            Snapshot_3_of_40_of_AIMD_NVT_simulation_at_300_K || 0.001582 0.081336\n",
      "           Snapshot_3_of_40_of_AIMD_NVT_simulation_at_6000_K || 0.002195 0.441405\n",
      "          Snapshot_40_of_40_of_AIMD_NVT_simulation_at_3000_K || 0.003502 0.250239\n",
      "          Snapshot_40_of_40_of_AIMD_NVT_simulation_at_6000_K || 0.007081 0.364776\n",
      "           Snapshot_4_of_40_of_AIMD_NVT_simulation_at_3000_K || 0.000127 0.304080\n",
      "            Snapshot_4_of_40_of_AIMD_NVT_simulation_at_300_K || 0.000172 0.096879\n",
      "           Snapshot_4_of_40_of_AIMD_NVT_simulation_at_6000_K || 0.021831 0.512686\n",
      "    Snapshot_5_of_12_of_Vacancy_AIMD_NVT_simulation_at_300_K || 0.001202 0.068063\n",
      "   Snapshot_5_of_12_of_Vacancy_AIMD_NVT_simulation_at_6000_K || 0.007403 0.305809\n",
      "           Snapshot_5_of_40_of_AIMD_NVT_simulation_at_3000_K || 0.009658 0.249133\n",
      "            Snapshot_5_of_40_of_AIMD_NVT_simulation_at_300_K || 0.003861 0.079665\n",
      "           Snapshot_5_of_40_of_AIMD_NVT_simulation_at_6000_K || 0.000501 0.588376\n",
      "    Snapshot_6_of_12_of_Vacancy_AIMD_NVT_simulation_at_300_K || 0.000616 0.117752\n",
      "   Snapshot_6_of_12_of_Vacancy_AIMD_NVT_simulation_at_6000_K || 0.001483 0.257723\n",
      "           Snapshot_6_of_40_of_AIMD_NVT_simulation_at_3000_K || 0.008433 0.303448\n",
      "            Snapshot_6_of_40_of_AIMD_NVT_simulation_at_300_K || 0.002984 0.070479\n",
      "           Snapshot_6_of_40_of_AIMD_NVT_simulation_at_6000_K || 0.003617 0.553460\n",
      "    Snapshot_7_of_12_of_Vacancy_AIMD_NVT_simulation_at_300_K || 0.000984 0.069788\n",
      "   Snapshot_7_of_12_of_Vacancy_AIMD_NVT_simulation_at_6000_K || 0.003470 0.264708\n",
      "           Snapshot_7_of_40_of_AIMD_NVT_simulation_at_6000_K || 0.011427 0.480102\n",
      "   Snapshot_8_of_12_of_Vacancy_AIMD_NVT_simulation_at_6000_K || 0.004600 0.309621\n",
      "           Snapshot_8_of_40_of_AIMD_NVT_simulation_at_3000_K || 0.007868 0.298451\n",
      "            Snapshot_8_of_40_of_AIMD_NVT_simulation_at_300_K || 0.002506 0.072338\n",
      "           Snapshot_8_of_40_of_AIMD_NVT_simulation_at_6000_K || 0.023069 0.474178\n",
      "    Snapshot_9_of_12_of_Vacancy_AIMD_NVT_simulation_at_300_K || 0.004092 0.058866\n",
      "   Snapshot_9_of_12_of_Vacancy_AIMD_NVT_simulation_at_6000_K || 0.008476 0.257547\n",
      "           Snapshot_9_of_40_of_AIMD_NVT_simulation_at_3000_K || 0.006790 0.242427\n",
      "            Snapshot_9_of_40_of_AIMD_NVT_simulation_at_300_K || 0.002032 0.088049\n",
      "           Snapshot_9_of_40_of_AIMD_NVT_simulation_at_6000_K || 0.010383 0.489507\n"
     ]
    }
   ],
   "source": [
    "with h5py.File('../svreg_data/mlearn/Mo/Mo.hdf5', 'r') as db:\n",
    "        \n",
    "    print(\n",
    "        '{:>45} average errors || {:.6f} {:.6f}\\n'.format(\n",
    "            str(tree),\n",
    "            np.sqrt(np.average(unweighted[::2]**2)),\n",
    "            np.sqrt(np.average(unweighted[1::2]**2)),\n",
    "        )\n",
    "    )\n",
    "    \n",
    "    print(\n",
    "        '{:>60} || {} {}'.format(\n",
    "            'structName',\n",
    "            '(eV/atom)',\n",
    "            '(eV/A)'\n",
    "        )\n",
    "    )\n",
    "    \n",
    "    for i, structName in enumerate(sorted(db)):\n",
    "        print(\n",
    "            '{:>60} || {:.6f} {:.6f}'.format(\n",
    "                structName,\n",
    "                unweighted[2*i],\n",
    "                unweighted[2*i+1]\n",
    "            )\n",
    "        )"
   ]
  },
  {
   "cell_type": "raw",
   "metadata": {},
   "source": [
    "mul(sqrt(sqrt(rho)), rho) average errors || 0.178780 0.543202"
   ]
  },
  {
   "cell_type": "code",
   "execution_count": 58,
   "metadata": {},
   "outputs": [
    {
     "data": {
      "text/plain": [
       "<matplotlib.legend.Legend at 0x7fabdcbe9ef0>"
      ]
     },
     "execution_count": 58,
     "metadata": {},
     "output_type": "execute_result"
    },
    {
     "data": {
      "image/png": "[encoded data removed]",
      "text/plain": [
       "<Figure size 576x288 with 2 Axes>"
      ]
     },
     "metadata": {
      "needs_background": "light"
     },
     "output_type": "display_data"
    }
   ],
   "source": [
    "fig, ax = plt.subplots(1, 2, figsize=(8, 4))\n",
    "\n",
    "ax[0].hist(errors[::2] , bins=100, alpha=0.3, label='Energy errors', color='orange')\n",
    "ax[1].hist(errors[1::2], bins=100, alpha=0.3, label='Force errors', color='blue')\n",
    "\n",
    "ax[0].legend()\n",
    "ax[1].legend()"
   ]
  },
  {
   "cell_type": "markdown",
   "metadata": {},
   "source": [
    "## External validation"
   ]
  },
  {
   "cell_type": "code",
   "execution_count": 12,
   "metadata": {},
   "outputs": [
    {
     "data": {
      "text/plain": [
       "(36,)"
      ]
     },
     "execution_count": 12,
     "metadata": {},
     "output_type": "execute_result"
    }
   ],
   "source": [
    "tree.bestParams.shape"
   ]
  },
  {
   "cell_type": "code",
   "execution_count": 13,
   "metadata": {},
   "outputs": [],
   "source": [
    "popDict = tree.parseArr2Dict(np.atleast_2d(tree.bestParams), fillFixedKnots=False)\n",
    "\n",
    "for svName in popDict:\n",
    "    for bondType in popDict[svName]:\n",
    "        popDict[svName][bondType] = [popDict[svName][bondType]]"
   ]
  },
  {
   "cell_type": "code",
   "execution_count": 14,
   "metadata": {},
   "outputs": [],
   "source": [
    "def buildSVNodePool(group):\n",
    "    \"\"\"Prepare svNodePool for use in tree construction\"\"\"\n",
    "\n",
    "    svNodePool = []\n",
    "\n",
    "    # `group` is a pointer to an entry for a structure in the database\n",
    "    for svName in sorted(group):\n",
    "        svGroup = group[svName]\n",
    "\n",
    "        restrictions = None\n",
    "        if 'restrictions' in svGroup.attrs:\n",
    "            restrictions = []\n",
    "            resList = svGroup.attrs['restrictions'].tolist()\n",
    "            for num in svGroup.attrs['numRestrictions']:\n",
    "                tmp = []\n",
    "                for _ in range(num):\n",
    "                    tmp.append(tuple(resList.pop()))\n",
    "                restrictions.append(tmp)\n",
    "\n",
    "        svNodePool.append(\n",
    "            SVNode(\n",
    "                description=svName,\n",
    "                components=svGroup.attrs['components'],\n",
    "                numParams=svGroup.attrs['numParams'],\n",
    "                bonds={\n",
    "                    k:svGroup[k].attrs['components'] for k in svGroup.keys()\n",
    "                },\n",
    "                restrictions=restrictions,\n",
    "                paramRanges=svGroup.attrs['paramRanges']\\\n",
    "                    if 'paramRanges' in group[svName].attrs else None\n",
    "            )\n",
    "        )\n",
    "\n",
    "    return svNodePool"
   ]
  },
  {
   "cell_type": "code",
   "execution_count": 15,
   "metadata": {},
   "outputs": [
    {
     "name": "stdout",
     "output_type": "stream",
     "text": [
      "                                        Ground_state_crystal || 0.000000 0.030688\n",
      "                         Mo_3x3x3_cell_mode_1_strain_-0.0200 || 0.003753 0.028177\n",
      "                         Mo_3x3x3_cell_mode_1_strain_-0.0400 || 0.004587 0.032876\n",
      "                         Mo_3x3x3_cell_mode_1_strain_-0.0600 || 0.000000 0.042934\n",
      "                         Mo_3x3x3_cell_mode_1_strain_-0.0800 || 0.006080 0.057486\n",
      "                         Mo_3x3x3_cell_mode_1_strain_-0.1000 || 0.000139 0.074919\n",
      "                          Mo_3x3x3_cell_mode_1_strain_0.0200 || 0.000065 0.029378\n",
      "                          Mo_3x3x3_cell_mode_1_strain_0.0800 || 0.000073 0.040623\n",
      "                         Mo_3x3x3_cell_mode_2_strain_-0.0200 || 0.003741 0.025258\n",
      "                         Mo_3x3x3_cell_mode_2_strain_-0.0400 || 0.004600 0.036328\n",
      "                         Mo_3x3x3_cell_mode_2_strain_-0.0600 || 0.000180 0.046811\n",
      "                         Mo_3x3x3_cell_mode_2_strain_-0.0800 || 0.006216 0.055115\n",
      "                         Mo_3x3x3_cell_mode_2_strain_-0.1000 || 0.000504 0.081961\n",
      "                          Mo_3x3x3_cell_mode_2_strain_0.0200 || 0.000067 0.031457\n",
      "                          Mo_3x3x3_cell_mode_2_strain_0.0400 || 0.000977 0.036025\n",
      "                          Mo_3x3x3_cell_mode_2_strain_0.0600 || 0.000146 0.036628\n",
      "                          Mo_3x3x3_cell_mode_2_strain_0.0800 || 0.000080 0.040528\n",
      "                          Mo_3x3x3_cell_mode_2_strain_0.1000 || 0.004223 0.043126\n",
      "                         Mo_3x3x3_cell_mode_3_strain_-0.0200 || 0.003778 0.029573\n",
      "                         Mo_3x3x3_cell_mode_3_strain_-0.0400 || 0.004628 0.029628\n",
      "                         Mo_3x3x3_cell_mode_3_strain_-0.0600 || 0.000008 0.040425\n",
      "                         Mo_3x3x3_cell_mode_3_strain_-0.1000 || 0.000001 0.068704\n",
      "                          Mo_3x3x3_cell_mode_3_strain_0.0200 || 0.000018 0.032684\n",
      "                          Mo_3x3x3_cell_mode_3_strain_0.0400 || 0.001006 0.035397\n",
      "                          Mo_3x3x3_cell_mode_3_strain_0.0600 || 0.000001 0.040417\n",
      "                          Mo_3x3x3_cell_mode_3_strain_0.0800 || 0.000000 0.037472\n",
      "                          Mo_3x3x3_cell_mode_3_strain_0.1000 || 0.004199 0.045360\n",
      "                         Mo_3x3x3_cell_mode_4_strain_-0.0200 || 0.000024 0.028584\n",
      "                         Mo_3x3x3_cell_mode_4_strain_-0.0400 || 0.000299 0.030799\n",
      "                         Mo_3x3x3_cell_mode_4_strain_-0.0600 || 0.000077 0.028697\n",
      "                          Mo_3x3x3_cell_mode_4_strain_0.0200 || 0.000062 0.027109\n",
      "                          Mo_3x3x3_cell_mode_4_strain_0.0400 || 0.000401 0.033132\n",
      "                          Mo_3x3x3_cell_mode_4_strain_0.0600 || 0.000026 0.030438\n",
      "                          Mo_3x3x3_cell_mode_4_strain_0.0800 || 0.000312 0.028631\n",
      "                          Mo_3x3x3_cell_mode_4_strain_0.1000 || 0.000059 0.027538\n",
      "                         Mo_3x3x3_cell_mode_5_strain_-0.0200 || 0.000078 0.027844\n",
      "                         Mo_3x3x3_cell_mode_5_strain_-0.0400 || 0.000329 0.032903\n",
      "                         Mo_3x3x3_cell_mode_5_strain_-0.0600 || 0.000035 0.031841\n",
      "                         Mo_3x3x3_cell_mode_5_strain_-0.0800 || 0.000347 0.030986\n",
      "                         Mo_3x3x3_cell_mode_5_strain_-0.1000 || 0.000077 0.029346\n",
      "                          Mo_3x3x3_cell_mode_5_strain_0.0200 || 0.000043 0.028744\n",
      "                          Mo_3x3x3_cell_mode_5_strain_0.0400 || 0.000264 0.027055\n",
      "                          Mo_3x3x3_cell_mode_5_strain_0.0600 || 0.000142 0.027114\n",
      "                          Mo_3x3x3_cell_mode_5_strain_0.0800 || 0.000293 0.025686\n",
      "                          Mo_3x3x3_cell_mode_5_strain_0.1000 || 0.000093 0.032401\n",
      "                         Mo_3x3x3_cell_mode_6_strain_-0.0200 || 0.000047 0.028990\n",
      "                         Mo_3x3x3_cell_mode_6_strain_-0.0400 || 0.000349 0.030435\n",
      "                         Mo_3x3x3_cell_mode_6_strain_-0.0600 || 0.000111 0.029270\n",
      "                         Mo_3x3x3_cell_mode_6_strain_-0.0800 || 0.000479 0.031389\n",
      "                         Mo_3x3x3_cell_mode_6_strain_-0.1000 || 0.000009 0.028558\n",
      "                          Mo_3x3x3_cell_mode_6_strain_0.0200 || 0.000103 0.030464\n",
      "                          Mo_3x3x3_cell_mode_6_strain_0.0400 || 0.000243 0.026340\n",
      "                          Mo_3x3x3_cell_mode_6_strain_0.0600 || 0.000058 0.026183\n",
      "                          Mo_3x3x3_cell_mode_6_strain_0.0800 || 0.000313 0.030304\n",
      "                          Mo_3x3x3_cell_mode_6_strain_0.1000 || 0.000001 0.030891\n",
      "                                       Mo_3x3x3_cell_relaxed || 0.003284 0.000000\n",
      "                             Mo_surface_mp_Mo_mp-129__1_0_0_ || 0.046613 0.297385\n",
      "                             Mo_surface_mp_Mo_mp-129__1_1_0_ || 0.002469 0.240912\n",
      "                             Mo_surface_mp_Mo_mp-129__1_1_1_ || 0.018082 0.387324\n",
      "                             Mo_surface_mp_Mo_mp-129__2_1_0_ || 0.005801 0.357142\n",
      "                             Mo_surface_mp_Mo_mp-129__2_2_1_ || 0.004637 0.247519\n",
      "                             Mo_surface_mp_Mo_mp-129__3_1_1_ || 0.000001 0.427020\n",
      "                             Mo_surface_mp_Mo_mp-129__3_2_0_ || 0.006859 0.372701\n",
      "                             Mo_surface_mp_Mo_mp-129__3_2_1_ || 0.005396 0.368968\n",
      "                             Mo_surface_mp_Mo_mp-129__3_3_2_ || 0.008108 0.342742\n",
      "   Snapshot_10_of_12_of_Vacancy_AIMD_NVT_simulation_at_300_K || 0.004798 0.169962\n",
      "  Snapshot_10_of_12_of_Vacancy_AIMD_NVT_simulation_at_6000_K || 0.001821 0.522351\n",
      "          Snapshot_10_of_40_of_AIMD_NVT_simulation_at_3000_K || 0.006912 0.389750\n",
      "           Snapshot_10_of_40_of_AIMD_NVT_simulation_at_300_K || 0.000236 0.149833\n",
      "   Snapshot_11_of_12_of_Vacancy_AIMD_NVT_simulation_at_300_K || 0.000044 0.174393\n",
      "  Snapshot_11_of_12_of_Vacancy_AIMD_NVT_simulation_at_6000_K || 0.000003 0.468472\n",
      "           Snapshot_11_of_40_of_AIMD_NVT_simulation_at_300_K || 0.000001 0.124336\n",
      "          Snapshot_11_of_40_of_AIMD_NVT_simulation_at_6000_K || 0.000025 0.752021\n",
      "   Snapshot_12_of_12_of_Vacancy_AIMD_NVT_simulation_at_300_K || 0.005994 0.192151\n",
      "  Snapshot_12_of_12_of_Vacancy_AIMD_NVT_simulation_at_6000_K || 0.014290 0.567382\n",
      "          Snapshot_12_of_40_of_AIMD_NVT_simulation_at_3000_K || 0.000003 0.426421\n",
      "           Snapshot_12_of_40_of_AIMD_NVT_simulation_at_300_K || 0.001163 0.146949\n",
      "          Snapshot_12_of_40_of_AIMD_NVT_simulation_at_6000_K || 0.010689 0.987537\n",
      "          Snapshot_13_of_40_of_AIMD_NVT_simulation_at_3000_K || 0.017932 0.444188\n",
      "           Snapshot_13_of_40_of_AIMD_NVT_simulation_at_300_K || 0.000053 0.133419\n",
      "          Snapshot_13_of_40_of_AIMD_NVT_simulation_at_6000_K || 0.008180 0.912916\n",
      "           Snapshot_14_of_40_of_AIMD_NVT_simulation_at_300_K || 0.000600 0.141617\n",
      "          Snapshot_14_of_40_of_AIMD_NVT_simulation_at_6000_K || 0.012855 0.989502\n",
      "          Snapshot_15_of_40_of_AIMD_NVT_simulation_at_3000_K || 0.016722 0.456664\n",
      "           Snapshot_15_of_40_of_AIMD_NVT_simulation_at_300_K || 0.002420 0.168598\n",
      "          Snapshot_15_of_40_of_AIMD_NVT_simulation_at_6000_K || 0.000000 0.981740\n",
      "          Snapshot_16_of_40_of_AIMD_NVT_simulation_at_3000_K || 0.015156 0.548145\n",
      "           Snapshot_16_of_40_of_AIMD_NVT_simulation_at_300_K || 0.002196 0.156722\n",
      "          Snapshot_16_of_40_of_AIMD_NVT_simulation_at_6000_K || 0.004354 0.996399\n",
      "          Snapshot_17_of_40_of_AIMD_NVT_simulation_at_3000_K || 0.005124 0.485447\n",
      "           Snapshot_17_of_40_of_AIMD_NVT_simulation_at_300_K || 0.000996 0.135377\n",
      "          Snapshot_17_of_40_of_AIMD_NVT_simulation_at_6000_K || 0.010366 0.750730\n",
      "          Snapshot_18_of_40_of_AIMD_NVT_simulation_at_3000_K || 0.002601 0.457930\n",
      "           Snapshot_18_of_40_of_AIMD_NVT_simulation_at_300_K || 0.000698 0.136505\n",
      "          Snapshot_18_of_40_of_AIMD_NVT_simulation_at_6000_K || 0.016570 0.837624\n",
      "          Snapshot_19_of_40_of_AIMD_NVT_simulation_at_3000_K || 0.003343 0.446634\n",
      "           Snapshot_19_of_40_of_AIMD_NVT_simulation_at_300_K || 0.001010 0.137127\n",
      "    Snapshot_1_of_12_of_Vacancy_AIMD_NVT_simulation_at_300_K || 0.000647 0.154212\n",
      "   Snapshot_1_of_12_of_Vacancy_AIMD_NVT_simulation_at_6000_K || 0.000872 0.147420\n",
      "           Snapshot_1_of_40_of_AIMD_NVT_simulation_at_3000_K || 0.001373 0.426269\n",
      "            Snapshot_1_of_40_of_AIMD_NVT_simulation_at_300_K || 0.000170 0.148221\n",
      "           Snapshot_1_of_40_of_AIMD_NVT_simulation_at_6000_K || 0.034473 1.118788\n",
      "          Snapshot_20_of_40_of_AIMD_NVT_simulation_at_3000_K || 0.000200 0.467204\n",
      "           Snapshot_20_of_40_of_AIMD_NVT_simulation_at_300_K || 0.001474 0.110157\n",
      "          Snapshot_20_of_40_of_AIMD_NVT_simulation_at_6000_K || 0.012679 0.848134\n",
      "          Snapshot_21_of_40_of_AIMD_NVT_simulation_at_3000_K || 0.001719 0.493464\n",
      "           Snapshot_21_of_40_of_AIMD_NVT_simulation_at_300_K || 0.003015 0.138984\n",
      "          Snapshot_21_of_40_of_AIMD_NVT_simulation_at_6000_K || 0.000002 0.915680\n",
      "          Snapshot_22_of_40_of_AIMD_NVT_simulation_at_3000_K || 0.008299 0.518775\n",
      "           Snapshot_22_of_40_of_AIMD_NVT_simulation_at_300_K || 0.003563 0.160811\n",
      "          Snapshot_22_of_40_of_AIMD_NVT_simulation_at_6000_K || 0.000000 0.978519\n",
      "          Snapshot_23_of_40_of_AIMD_NVT_simulation_at_3000_K || 0.012555 0.509416\n",
      "           Snapshot_23_of_40_of_AIMD_NVT_simulation_at_300_K || 0.002625 0.165196\n",
      "          Snapshot_23_of_40_of_AIMD_NVT_simulation_at_6000_K || 0.016878 0.971924\n",
      "          Snapshot_24_of_40_of_AIMD_NVT_simulation_at_3000_K || 0.004603 0.436130\n",
      "           Snapshot_24_of_40_of_AIMD_NVT_simulation_at_300_K || 0.002595 0.142074\n",
      "          Snapshot_24_of_40_of_AIMD_NVT_simulation_at_6000_K || 0.012546 1.116504\n",
      "          Snapshot_25_of_40_of_AIMD_NVT_simulation_at_3000_K || 0.000001 0.485823\n",
      "          Snapshot_25_of_40_of_AIMD_NVT_simulation_at_6000_K || 0.007183 0.855731\n",
      "          Snapshot_26_of_40_of_AIMD_NVT_simulation_at_3000_K || 0.001509 0.428812\n",
      "           Snapshot_26_of_40_of_AIMD_NVT_simulation_at_300_K || 0.001107 0.147290\n",
      "          Snapshot_26_of_40_of_AIMD_NVT_simulation_at_6000_K || 0.023280 0.722632\n",
      "          Snapshot_27_of_40_of_AIMD_NVT_simulation_at_3000_K || 0.014742 0.470108\n",
      "          Snapshot_27_of_40_of_AIMD_NVT_simulation_at_6000_K || 0.004080 0.951986\n",
      "          Snapshot_28_of_40_of_AIMD_NVT_simulation_at_3000_K || 0.000001 0.390006\n",
      "           Snapshot_28_of_40_of_AIMD_NVT_simulation_at_300_K || 0.000775 0.133768\n",
      "          Snapshot_28_of_40_of_AIMD_NVT_simulation_at_6000_K || 0.000000 0.896383\n",
      "          Snapshot_29_of_40_of_AIMD_NVT_simulation_at_3000_K || 0.000001 0.486962\n",
      "           Snapshot_29_of_40_of_AIMD_NVT_simulation_at_300_K || 0.000620 0.132962\n",
      "          Snapshot_29_of_40_of_AIMD_NVT_simulation_at_6000_K || 0.000001 0.795983\n",
      "    Snapshot_2_of_12_of_Vacancy_AIMD_NVT_simulation_at_300_K || 0.001715 0.184580\n",
      "   Snapshot_2_of_12_of_Vacancy_AIMD_NVT_simulation_at_6000_K || 0.001590 0.487073\n",
      "           Snapshot_2_of_40_of_AIMD_NVT_simulation_at_3000_K || 0.021420 0.503212\n",
      "            Snapshot_2_of_40_of_AIMD_NVT_simulation_at_300_K || 0.001786 0.152093\n",
      "           Snapshot_2_of_40_of_AIMD_NVT_simulation_at_6000_K || 0.000000 0.810412\n",
      "          Snapshot_30_of_40_of_AIMD_NVT_simulation_at_3000_K || 0.015185 0.487079\n",
      "          Snapshot_30_of_40_of_AIMD_NVT_simulation_at_6000_K || 0.000000 0.850127\n",
      "          Snapshot_31_of_40_of_AIMD_NVT_simulation_at_3000_K || 0.004796 0.513500\n",
      "           Snapshot_31_of_40_of_AIMD_NVT_simulation_at_300_K || 0.002426 0.140950\n",
      "          Snapshot_32_of_40_of_AIMD_NVT_simulation_at_3000_K || 0.007863 0.445978\n",
      "           Snapshot_32_of_40_of_AIMD_NVT_simulation_at_300_K || 0.001279 0.132777\n",
      "          Snapshot_32_of_40_of_AIMD_NVT_simulation_at_6000_K || 0.000002 0.781825\n",
      "          Snapshot_33_of_40_of_AIMD_NVT_simulation_at_3000_K || 0.004151 0.425930\n",
      "           Snapshot_33_of_40_of_AIMD_NVT_simulation_at_300_K || 0.000746 0.126428\n",
      "          Snapshot_33_of_40_of_AIMD_NVT_simulation_at_6000_K || 0.033815 0.762539\n",
      "          Snapshot_34_of_40_of_AIMD_NVT_simulation_at_3000_K || 0.016143 0.450103\n",
      "           Snapshot_34_of_40_of_AIMD_NVT_simulation_at_300_K || 0.001894 0.115282\n",
      "          Snapshot_34_of_40_of_AIMD_NVT_simulation_at_6000_K || 0.000000 0.893375\n",
      "          Snapshot_35_of_40_of_AIMD_NVT_simulation_at_3000_K || 0.000098 0.452195\n",
      "           Snapshot_35_of_40_of_AIMD_NVT_simulation_at_300_K || 0.001043 0.151480\n",
      "          Snapshot_35_of_40_of_AIMD_NVT_simulation_at_6000_K || 0.002685 0.832557\n",
      "          Snapshot_36_of_40_of_AIMD_NVT_simulation_at_3000_K || 0.019841 0.511520\n",
      "           Snapshot_36_of_40_of_AIMD_NVT_simulation_at_300_K || 0.000054 0.143730\n",
      "          Snapshot_36_of_40_of_AIMD_NVT_simulation_at_6000_K || 0.019078 0.940163\n",
      "          Snapshot_37_of_40_of_AIMD_NVT_simulation_at_3000_K || 0.006003 0.438634\n",
      "           Snapshot_37_of_40_of_AIMD_NVT_simulation_at_300_K || 0.001279 0.157802\n",
      "          Snapshot_38_of_40_of_AIMD_NVT_simulation_at_3000_K || 0.000020 0.462463\n",
      "           Snapshot_38_of_40_of_AIMD_NVT_simulation_at_300_K || 0.000417 0.154690\n",
      "          Snapshot_38_of_40_of_AIMD_NVT_simulation_at_6000_K || 0.000001 0.822597\n",
      "          Snapshot_39_of_40_of_AIMD_NVT_simulation_at_3000_K || 0.009178 0.439799\n",
      "           Snapshot_39_of_40_of_AIMD_NVT_simulation_at_300_K || 0.000864 0.152045\n",
      "          Snapshot_39_of_40_of_AIMD_NVT_simulation_at_6000_K || 0.000001 0.907563\n",
      "    Snapshot_3_of_12_of_Vacancy_AIMD_NVT_simulation_at_300_K || 0.007121 0.184088\n",
      "   Snapshot_3_of_12_of_Vacancy_AIMD_NVT_simulation_at_6000_K || 0.005397 0.477199\n",
      "           Snapshot_3_of_40_of_AIMD_NVT_simulation_at_3000_K || 0.000861 0.464781\n",
      "            Snapshot_3_of_40_of_AIMD_NVT_simulation_at_300_K || 0.001166 0.138101\n",
      "           Snapshot_3_of_40_of_AIMD_NVT_simulation_at_6000_K || 0.000000 0.907879\n",
      "          Snapshot_40_of_40_of_AIMD_NVT_simulation_at_3000_K || 0.001969 0.467376\n",
      "          Snapshot_40_of_40_of_AIMD_NVT_simulation_at_6000_K || 0.002602 0.882383\n",
      "           Snapshot_4_of_40_of_AIMD_NVT_simulation_at_3000_K || 0.000675 0.443229\n",
      "            Snapshot_4_of_40_of_AIMD_NVT_simulation_at_300_K || 0.003720 0.145646\n",
      "           Snapshot_4_of_40_of_AIMD_NVT_simulation_at_6000_K || 0.043193 0.932710\n",
      "    Snapshot_5_of_12_of_Vacancy_AIMD_NVT_simulation_at_300_K || 0.002132 0.136335\n",
      "   Snapshot_5_of_12_of_Vacancy_AIMD_NVT_simulation_at_6000_K || 0.006794 0.489991\n",
      "           Snapshot_5_of_40_of_AIMD_NVT_simulation_at_3000_K || 0.002560 0.428627\n",
      "            Snapshot_5_of_40_of_AIMD_NVT_simulation_at_300_K || 0.001619 0.130482\n",
      "           Snapshot_5_of_40_of_AIMD_NVT_simulation_at_6000_K || 0.053899 1.328408\n",
      "    Snapshot_6_of_12_of_Vacancy_AIMD_NVT_simulation_at_300_K || 0.002973 0.160359\n",
      "   Snapshot_6_of_12_of_Vacancy_AIMD_NVT_simulation_at_6000_K || 0.000900 0.477165\n",
      "           Snapshot_6_of_40_of_AIMD_NVT_simulation_at_3000_K || 0.016549 0.525917\n",
      "            Snapshot_6_of_40_of_AIMD_NVT_simulation_at_300_K || 0.001671 0.127096\n",
      "           Snapshot_6_of_40_of_AIMD_NVT_simulation_at_6000_K || 0.031452 1.112392\n",
      "    Snapshot_7_of_12_of_Vacancy_AIMD_NVT_simulation_at_300_K || 0.003247 0.128979\n",
      "   Snapshot_7_of_12_of_Vacancy_AIMD_NVT_simulation_at_6000_K || 0.005554 0.424260\n",
      "           Snapshot_7_of_40_of_AIMD_NVT_simulation_at_6000_K || 0.014004 0.945588\n",
      "   Snapshot_8_of_12_of_Vacancy_AIMD_NVT_simulation_at_6000_K || 0.000274 0.466039\n",
      "           Snapshot_8_of_40_of_AIMD_NVT_simulation_at_3000_K || 0.002061 0.542399\n",
      "            Snapshot_8_of_40_of_AIMD_NVT_simulation_at_300_K || 0.000330 0.143563\n",
      "           Snapshot_8_of_40_of_AIMD_NVT_simulation_at_6000_K || 0.050189 1.083123\n",
      "    Snapshot_9_of_12_of_Vacancy_AIMD_NVT_simulation_at_300_K || 0.000322 0.092969\n",
      "   Snapshot_9_of_12_of_Vacancy_AIMD_NVT_simulation_at_6000_K || 0.001054 0.484221\n",
      "           Snapshot_9_of_40_of_AIMD_NVT_simulation_at_3000_K || 0.003112 0.423607\n",
      "            Snapshot_9_of_40_of_AIMD_NVT_simulation_at_300_K || 0.000178 0.151550\n",
      "           Snapshot_9_of_40_of_AIMD_NVT_simulation_at_6000_K || 0.008582 0.826561\n"
     ]
    }
   ],
   "source": [
    "import cma\n",
    "\n",
    "from mpi4py import MPI\n",
    "\n",
    "from nodes import SVNode\n",
    "from settings import Settings\n",
    "from database import SVDatabase\n",
    "from evaluator import SVEvaluator\n",
    "from regressor import SVRegressor\n",
    "\n",
    "settingsPath = 'examples/settings.in'\n",
    "databasePath = '../svreg_data/mlearn/Mo/Mo.hdf5'\n",
    "\n",
    "settings = Settings.from_file(settingsPath)\n",
    "settings['PROCS_PER_PHYS_NODE'] = 1\n",
    "settings['PROCS_PER_MANAGER'] = 1\n",
    "\n",
    "worldComm = MPI.COMM_WORLD\n",
    "with SVDatabase(settings['databasePath'], 'r') as database:\n",
    "    structNames = list(database.keys())\n",
    "#     structNames = ['Ground_state_crystal']\n",
    "\n",
    "    if settings['refStruct'] not in structNames:\n",
    "        raise RuntimeError(\n",
    "            \"The reference structure must be included in structNames.\"\n",
    "        )\n",
    "\n",
    "    evaluator =  SVEvaluator(worldComm, structNames, settings)\n",
    "    evaluator.distributeDatabase(database)\n",
    "\n",
    "    trueValues = database.loadTrueValues()\n",
    "\n",
    "#     numStructs = len(trueValues)\n",
    "    \n",
    "    refStruct = settings['refStruct']\n",
    "    treeErrors = np.zeros(2*len(database))\n",
    "    \n",
    "    svNodePool = buildSVNodePool(database[settings['refStruct']])\n",
    "    \n",
    "    regressor = SVRegressor(\n",
    "        settings, svNodePool, cma.CMAEvolutionStrategy, [1.0, {'popsize': 1}]\n",
    "    )\n",
    "    \n",
    "    regressor.trees = [tree]\n",
    "    \n",
    "    treePopulations = [tree.parseArr2Dict(np.atleast_2d(tree.bestParams), fillFixedKnots=False)]\n",
    "    \n",
    "    # Group all dictionaries into one\n",
    "    populationDict = {}\n",
    "    for svNode in svNodePool:\n",
    "        populationDict[svNode.description] = {}\n",
    "        for bondType in svNode.bonds:\n",
    "            populationDict[svNode.description][bondType] = []\n",
    "\n",
    "    for treeDict in treePopulations:\n",
    "        for svName in treeDict.keys():\n",
    "            for bondType, pop in treeDict[svName].items():\n",
    "                populationDict[svName][bondType].append(pop)\n",
    "                            \n",
    "    svEng = evaluator.evaluate(populationDict, evalType='energy')\n",
    "    svFcs = evaluator.evaluate(populationDict, evalType='forces')\n",
    "    \n",
    "    energies, forces = regressor.evaluateTrees(svEng, svFcs, 1)\n",
    "    \n",
    "    for structName in sorted(structNames):\n",
    "        eng = energies[structName][0] - energies[refStruct][0]\n",
    "        fcs =   forces[structName][0]\n",
    "        \n",
    "        engErrors = eng - trueValues[structName]['energy']\n",
    "        fcsErrors = fcs - trueValues[structName]['forces']\n",
    "        \n",
    "        treeErrors[2*i]   = abs(engErrors)\n",
    "        treeErrors[2*i+1] = np.average(np.abs(fcsErrors), axis=(1, 2))\n",
    "        \n",
    "        print(\n",
    "            '{:>60} || {:.6f} {:.6f}'.format(\n",
    "                structName,\n",
    "                treeErrors[2*i],\n",
    "                treeErrors[2*i+1]\n",
    "            )\n",
    "        )\n",
    "# del evaluator"
   ]
  },
  {
   "cell_type": "code",
   "execution_count": 19,
   "metadata": {},
   "outputs": [
    {
     "data": {
      "text/plain": [
       "0.8351426211278248"
      ]
     },
     "execution_count": 19,
     "metadata": {},
     "output_type": "execute_result"
    }
   ],
   "source": [
    "treeErrors.sum()"
   ]
  },
  {
   "cell_type": "code",
   "execution_count": null,
   "metadata": {},
   "outputs": [],
   "source": [
    "del evaluator"
   ]
  },
  {
   "cell_type": "code",
   "execution_count": null,
   "metadata": {},
   "outputs": [],
   "source": []
  }
 ],
 "metadata": {
  "kernelspec": {
   "display_name": "Python 3",
   "language": "python",
   "name": "python3"
  },
  "language_info": {
   "codemirror_mode": {
    "name": "ipython",
    "version": 3
   },
   "file_extension": ".py",
   "mimetype": "text/x-python",
   "name": "python",
   "nbconvert_exporter": "python",
   "pygments_lexer": "ipython3",
   "version": "3.6.10"
  }
 },
 "nbformat": 4,
 "nbformat_minor": 4
}
