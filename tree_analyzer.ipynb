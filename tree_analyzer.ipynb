{
 "cells": [
  {
   "cell_type": "markdown",
   "metadata": {},
   "source": [
    "# Imports"
   ]
  },
  {
   "cell_type": "code",
   "execution_count": 1,
   "metadata": {},
   "outputs": [],
   "source": [
    "import os\n",
    "import h5py\n",
    "import glob\n",
    "import sympy\n",
    "import pickle\n",
    "import numpy as np\n",
    "import matplotlib.pyplot as plt\n",
    "\n",
    "from scipy.interpolate import CubicSpline"
   ]
  },
  {
   "cell_type": "markdown",
   "metadata": {},
   "source": [
    "# Setup"
   ]
  },
  {
   "cell_type": "code",
   "execution_count": 2,
   "metadata": {},
   "outputs": [],
   "source": [
    "basePath = os.path.join('results', 'polish_rho_rho_sof')\n",
    "fromArchive = False\n",
    "\n",
    "# basePath = os.path.join('results', 'mo_fixed')\n",
    "# fromArchive = True"
   ]
  },
  {
   "cell_type": "code",
   "execution_count": 3,
   "metadata": {},
   "outputs": [],
   "source": [
    "if fromArchive:\n",
    "    archive = pickle.load(open(os.path.join(basePath, 'archive.pkl'), 'rb'))\n",
    "    tree = pickle.load(open(os.path.join(basePath, 'tree.pkl'), 'rb'))\n",
    "    \n",
    "    treeName = 'mul(sqrt(sqrt(rho)), rho)'\n",
    "    entry = archive[treeName]\n",
    "    tree.bestParams = entry.bestParams\n",
    "    \n",
    "    errors = entry.bestErrors\n",
    "else:\n",
    "    files = sorted(glob.glob(os.path.join(basePath, 'tree*')))\n",
    "    intIndices = [int(s[s.find('tree')+5:s.find('.pkl')]) for s in files]\n",
    "\n",
    "    argsort = np.argsort(intIndices)\n",
    "\n",
    "    treeFile = np.array(files)[argsort][-1]\n",
    "    tree = pickle.load(open(treeFile, 'rb'))\n",
    "    \n",
    "    errorFiles = sorted(glob.glob(os.path.join(basePath, 'errors*')))\n",
    "    errorFile  = np.array(errorFiles)[argsort][-1]\n",
    "    errors = pickle.load(open(errorFile, 'rb'))"
   ]
  },
  {
   "cell_type": "code",
   "execution_count": 4,
   "metadata": {},
   "outputs": [
    {
     "name": "stdout",
     "output_type": "stream",
     "text": [
      "Tree: mul(sqrt(sqrt(rho)), rho)\n"
     ]
    }
   ],
   "source": [
    "print('Tree:', tree)"
   ]
  },
  {
   "cell_type": "markdown",
   "metadata": {},
   "source": [
    "# Plotting"
   ]
  },
  {
   "cell_type": "code",
   "execution_count": 5,
   "metadata": {},
   "outputs": [],
   "source": [
    "def plotSpline(x, y, bc):\n",
    "    cs = CubicSpline(x, y, bc_type=((1, bc[0]), (1, bc[1])))\n",
    "    \n",
    "    plotX = np.linspace(x[0], x[-1], 100)\n",
    "    plotY = cs(plotX)\n",
    "    \n",
    "    return plotX, plotY"
   ]
  },
  {
   "cell_type": "code",
   "execution_count": 6,
   "metadata": {},
   "outputs": [],
   "source": [
    "splits = []\n",
    "\n",
    "for svNode in tree.svNodes:\n",
    "    for comp in svNode.components:\n",
    "        splits.append(svNode.numParams[comp]+2)"
   ]
  },
  {
   "cell_type": "code",
   "execution_count": 7,
   "metadata": {},
   "outputs": [],
   "source": [
    "splitParams = np.array_split(tree.bestParams, np.cumsum(splits)[:-1])"
   ]
  },
  {
   "cell_type": "code",
   "execution_count": 8,
   "metadata": {},
   "outputs": [
    {
     "data": {
      "image/png": "[encoded data removed]",
      "text/plain": [
       "<Figure size 864x288 with 3 Axes>"
      ]
     },
     "metadata": {
      "needs_background": "light"
     },
     "output_type": "display_data"
    }
   ],
   "source": [
    "numRows = len(splitParams)//3 + 1\n",
    "\n",
    "fig, axes = plt.subplots(numRows, 3, figsize=(12, 4*numRows))\n",
    "\n",
    "for i, spline in enumerate(splitParams):\n",
    "    y, bc = spline[:-2], spline[-2:]\n",
    "    x = np.arange(len(y))\n",
    "    \n",
    "    plotX, plotY = plotSpline(x, y, bc)\n",
    "    \n",
    "    row = i//3\n",
    "    col = i%3\n",
    "    \n",
    "    if numRows > 1:\n",
    "        ax = axes[row][col]\n",
    "    else:\n",
    "        ax = axes[col]\n",
    "    \n",
    "    ax.plot(x, y, 'o')\n",
    "    ax.plot(plotX, plotY)\n",
    "    ax.set_title(tree.svNodes[i].description)"
   ]
  },
  {
   "cell_type": "markdown",
   "metadata": {},
   "source": [
    "# Errors"
   ]
  },
  {
   "cell_type": "code",
   "execution_count": 9,
   "metadata": {},
   "outputs": [
    {
     "name": "stdout",
     "output_type": "stream",
     "text": [
      "                    mul(sqrt(sqrt(rho)), rho) average errors || 0.182654 0.541907\n",
      "\n",
      "                                                  structName || (eV/atom) (eV/A)\n",
      "                                        Ground_state_crystal || 0.000000 0.310759\n",
      "                         Mo_3x3x3_cell_mode_1_strain_-0.0200 || 0.070401 0.299788\n",
      "                         Mo_3x3x3_cell_mode_1_strain_-0.0400 || 0.003589 0.306582\n",
      "                         Mo_3x3x3_cell_mode_1_strain_-0.0600 || 0.088020 0.269847\n",
      "                         Mo_3x3x3_cell_mode_1_strain_-0.0800 || 0.112313 0.239884\n",
      "                         Mo_3x3x3_cell_mode_1_strain_-0.1000 || 0.000191 0.208688\n",
      "                          Mo_3x3x3_cell_mode_1_strain_0.0200 || 0.127090 0.302609\n",
      "                          Mo_3x3x3_cell_mode_1_strain_0.0800 || 0.000045 0.362410\n",
      "                         Mo_3x3x3_cell_mode_2_strain_-0.0200 || 0.069955 0.300685\n",
      "                         Mo_3x3x3_cell_mode_2_strain_-0.0400 || 0.004000 0.299877\n",
      "                         Mo_3x3x3_cell_mode_2_strain_-0.0600 || 0.085701 0.272643\n",
      "                         Mo_3x3x3_cell_mode_2_strain_-0.0800 || 0.112878 0.237024\n",
      "                         Mo_3x3x3_cell_mode_2_strain_-0.1000 || 0.001915 0.217452\n",
      "                          Mo_3x3x3_cell_mode_2_strain_0.0200 || 0.127445 0.308912\n",
      "                          Mo_3x3x3_cell_mode_2_strain_0.0400 || 0.241914 0.339110\n",
      "                          Mo_3x3x3_cell_mode_2_strain_0.0600 || 0.246770 0.364382\n",
      "                          Mo_3x3x3_cell_mode_2_strain_0.0800 || 0.000673 0.366794\n",
      "                          Mo_3x3x3_cell_mode_2_strain_0.1000 || 0.604955 0.380265\n",
      "                         Mo_3x3x3_cell_mode_3_strain_-0.0200 || 0.068434 0.314388\n",
      "                         Mo_3x3x3_cell_mode_3_strain_-0.0400 || 0.006004 0.279063\n",
      "                         Mo_3x3x3_cell_mode_3_strain_-0.0600 || 0.087550 0.278096\n",
      "                         Mo_3x3x3_cell_mode_3_strain_-0.1000 || 0.002687 0.208614\n",
      "                          Mo_3x3x3_cell_mode_3_strain_0.0200 || 0.124796 0.319658\n",
      "                          Mo_3x3x3_cell_mode_3_strain_0.0400 || 0.241941 0.337504\n",
      "                          Mo_3x3x3_cell_mode_3_strain_0.0600 || 0.249126 0.352996\n",
      "                          Mo_3x3x3_cell_mode_3_strain_0.0800 || 0.001351 0.358689\n",
      "                          Mo_3x3x3_cell_mode_3_strain_0.1000 || 0.603656 0.384770\n",
      "                         Mo_3x3x3_cell_mode_4_strain_-0.0200 || 0.022145 0.304755\n",
      "                         Mo_3x3x3_cell_mode_4_strain_-0.0400 || 0.089472 0.296667\n",
      "                         Mo_3x3x3_cell_mode_4_strain_-0.0600 || 0.207685 0.316192\n",
      "                          Mo_3x3x3_cell_mode_4_strain_0.0200 || 0.021827 0.301076\n",
      "                          Mo_3x3x3_cell_mode_4_strain_0.0400 || 0.089716 0.314745\n",
      "                          Mo_3x3x3_cell_mode_4_strain_0.0600 || 0.208895 0.306529\n",
      "                          Mo_3x3x3_cell_mode_4_strain_0.0800 || 0.371703 0.307243\n",
      "                          Mo_3x3x3_cell_mode_4_strain_0.1000 || 0.560447 0.295585\n",
      "                         Mo_3x3x3_cell_mode_5_strain_-0.0200 || 0.022003 0.300688\n",
      "                         Mo_3x3x3_cell_mode_5_strain_-0.0400 || 0.090039 0.314302\n",
      "                         Mo_3x3x3_cell_mode_5_strain_-0.0600 || 0.206577 0.306918\n",
      "                         Mo_3x3x3_cell_mode_5_strain_-0.0800 || 0.371956 0.299197\n",
      "                         Mo_3x3x3_cell_mode_5_strain_-0.1000 || 0.559938 0.303655\n",
      "                          Mo_3x3x3_cell_mode_5_strain_0.0200 || 0.021971 0.303482\n",
      "                          Mo_3x3x3_cell_mode_5_strain_0.0400 || 0.089791 0.292681\n",
      "                          Mo_3x3x3_cell_mode_5_strain_0.0600 || 0.209337 0.298802\n",
      "                          Mo_3x3x3_cell_mode_5_strain_0.0800 || 0.370078 0.308450\n",
      "                          Mo_3x3x3_cell_mode_5_strain_0.1000 || 0.557054 0.325417\n",
      "                         Mo_3x3x3_cell_mode_6_strain_-0.0200 || 0.022958 0.315170\n",
      "                         Mo_3x3x3_cell_mode_6_strain_-0.0400 || 0.088282 0.309932\n",
      "                         Mo_3x3x3_cell_mode_6_strain_-0.0600 || 0.209946 0.314226\n",
      "                         Mo_3x3x3_cell_mode_6_strain_-0.0800 || 0.372228 0.306612\n",
      "                         Mo_3x3x3_cell_mode_6_strain_-0.1000 || 0.560405 0.288607\n",
      "                          Mo_3x3x3_cell_mode_6_strain_0.0200 || 0.021490 0.297865\n",
      "                          Mo_3x3x3_cell_mode_6_strain_0.0400 || 0.089965 0.303607\n",
      "                          Mo_3x3x3_cell_mode_6_strain_0.0600 || 0.208977 0.309492\n",
      "                          Mo_3x3x3_cell_mode_6_strain_0.0800 || 0.370560 0.314758\n",
      "                          Mo_3x3x3_cell_mode_6_strain_0.1000 || 0.561068 0.311891\n",
      "                                       Mo_3x3x3_cell_relaxed || 0.026686 0.000000\n",
      "                             Mo_surface_mp_Mo_mp-129__1_0_0_ || 1.177278 0.325287\n",
      "                             Mo_surface_mp_Mo_mp-129__1_1_0_ || 0.008939 0.227000\n",
      "                             Mo_surface_mp_Mo_mp-129__1_1_1_ || 0.000000 0.319697\n",
      "                             Mo_surface_mp_Mo_mp-129__2_1_0_ || 0.000002 0.398154\n",
      "                             Mo_surface_mp_Mo_mp-129__2_2_1_ || 0.524964 0.422057\n",
      "                             Mo_surface_mp_Mo_mp-129__3_1_1_ || 0.000001 0.407729\n",
      "                             Mo_surface_mp_Mo_mp-129__3_2_0_ || 0.000006 0.364428\n",
      "                             Mo_surface_mp_Mo_mp-129__3_2_1_ || 0.015307 0.511196\n",
      "                             Mo_surface_mp_Mo_mp-129__3_3_2_ || 0.233901 0.469883\n",
      "   Snapshot_10_of_12_of_Vacancy_AIMD_NVT_simulation_at_300_K || 0.393601 0.503411\n",
      "  Snapshot_10_of_12_of_Vacancy_AIMD_NVT_simulation_at_6000_K || 0.369755 0.512069\n",
      "          Snapshot_10_of_40_of_AIMD_NVT_simulation_at_3000_K || 0.005305 0.451454\n",
      "           Snapshot_10_of_40_of_AIMD_NVT_simulation_at_300_K || 0.114785 0.430412\n",
      "   Snapshot_11_of_12_of_Vacancy_AIMD_NVT_simulation_at_300_K || 0.178583 0.501929\n",
      "  Snapshot_11_of_12_of_Vacancy_AIMD_NVT_simulation_at_6000_K || 0.180331 0.555956\n",
      "           Snapshot_11_of_40_of_AIMD_NVT_simulation_at_300_K || 0.113498 0.426865\n",
      "          Snapshot_11_of_40_of_AIMD_NVT_simulation_at_6000_K || 0.040334 1.058985\n",
      "   Snapshot_12_of_12_of_Vacancy_AIMD_NVT_simulation_at_300_K || 0.071725 0.480089\n",
      "  Snapshot_12_of_12_of_Vacancy_AIMD_NVT_simulation_at_6000_K || 0.603592 0.611451\n",
      "          Snapshot_12_of_40_of_AIMD_NVT_simulation_at_3000_K || 0.337374 0.471669\n",
      "           Snapshot_12_of_40_of_AIMD_NVT_simulation_at_300_K || 0.106875 0.428866\n",
      "          Snapshot_12_of_40_of_AIMD_NVT_simulation_at_6000_K || 0.205590 1.194414\n",
      "          Snapshot_13_of_40_of_AIMD_NVT_simulation_at_3000_K || 0.140480 0.494102\n",
      "           Snapshot_13_of_40_of_AIMD_NVT_simulation_at_300_K || 0.141783 0.433028\n",
      "          Snapshot_13_of_40_of_AIMD_NVT_simulation_at_6000_K || 0.696157 1.033047\n",
      "           Snapshot_14_of_40_of_AIMD_NVT_simulation_at_300_K || 0.144100 0.429124\n",
      "          Snapshot_14_of_40_of_AIMD_NVT_simulation_at_6000_K || 0.149004 1.140591\n",
      "          Snapshot_15_of_40_of_AIMD_NVT_simulation_at_3000_K || 0.068456 0.474478\n",
      "           Snapshot_15_of_40_of_AIMD_NVT_simulation_at_300_K || 0.096382 0.427338\n",
      "          Snapshot_15_of_40_of_AIMD_NVT_simulation_at_6000_K || 0.067653 1.138717\n",
      "          Snapshot_16_of_40_of_AIMD_NVT_simulation_at_3000_K || 0.144256 0.495345\n",
      "           Snapshot_16_of_40_of_AIMD_NVT_simulation_at_300_K || 0.157440 0.431923\n",
      "          Snapshot_16_of_40_of_AIMD_NVT_simulation_at_6000_K || 0.194561 1.164927\n",
      "          Snapshot_17_of_40_of_AIMD_NVT_simulation_at_3000_K || 0.072804 0.505852\n",
      "           Snapshot_17_of_40_of_AIMD_NVT_simulation_at_300_K || 0.114074 0.424074\n",
      "          Snapshot_17_of_40_of_AIMD_NVT_simulation_at_6000_K || 0.066828 0.896981\n",
      "          Snapshot_18_of_40_of_AIMD_NVT_simulation_at_3000_K || 0.128242 0.502277\n",
      "           Snapshot_18_of_40_of_AIMD_NVT_simulation_at_300_K || 0.140252 0.425117\n",
      "          Snapshot_18_of_40_of_AIMD_NVT_simulation_at_6000_K || 0.096299 1.197526\n",
      "          Snapshot_19_of_40_of_AIMD_NVT_simulation_at_3000_K || 0.085200 0.498760\n",
      "           Snapshot_19_of_40_of_AIMD_NVT_simulation_at_300_K || 0.136269 0.429576\n",
      "    Snapshot_1_of_12_of_Vacancy_AIMD_NVT_simulation_at_300_K || 0.337850 0.468981\n",
      "   Snapshot_1_of_12_of_Vacancy_AIMD_NVT_simulation_at_6000_K || 0.253309 0.503850\n",
      "           Snapshot_1_of_40_of_AIMD_NVT_simulation_at_3000_K || 0.034173 0.500765\n",
      "            Snapshot_1_of_40_of_AIMD_NVT_simulation_at_300_K || 0.150221 0.421745\n",
      "           Snapshot_1_of_40_of_AIMD_NVT_simulation_at_6000_K || 0.392978 1.330515\n",
      "          Snapshot_20_of_40_of_AIMD_NVT_simulation_at_3000_K || 0.043870 0.537564\n",
      "           Snapshot_20_of_40_of_AIMD_NVT_simulation_at_300_K || 0.122112 0.412511\n",
      "          Snapshot_20_of_40_of_AIMD_NVT_simulation_at_6000_K || 0.431730 1.118779\n",
      "          Snapshot_21_of_40_of_AIMD_NVT_simulation_at_3000_K || 0.106243 0.492057\n",
      "           Snapshot_21_of_40_of_AIMD_NVT_simulation_at_300_K || 0.175253 0.442981\n",
      "          Snapshot_21_of_40_of_AIMD_NVT_simulation_at_6000_K || 0.263027 1.121579\n",
      "          Snapshot_22_of_40_of_AIMD_NVT_simulation_at_3000_K || 0.197864 0.529480\n",
      "           Snapshot_22_of_40_of_AIMD_NVT_simulation_at_300_K || 0.083911 0.440274\n",
      "          Snapshot_22_of_40_of_AIMD_NVT_simulation_at_6000_K || 0.472729 1.119699\n",
      "          Snapshot_23_of_40_of_AIMD_NVT_simulation_at_3000_K || 0.109216 0.573399\n",
      "           Snapshot_23_of_40_of_AIMD_NVT_simulation_at_300_K || 0.055800 0.433806\n",
      "          Snapshot_23_of_40_of_AIMD_NVT_simulation_at_6000_K || 0.469124 1.095370\n",
      "          Snapshot_24_of_40_of_AIMD_NVT_simulation_at_3000_K || 0.078589 0.510571\n",
      "           Snapshot_24_of_40_of_AIMD_NVT_simulation_at_300_K || 0.080882 0.433208\n",
      "          Snapshot_24_of_40_of_AIMD_NVT_simulation_at_6000_K || 0.258454 1.183929\n",
      "          Snapshot_25_of_40_of_AIMD_NVT_simulation_at_3000_K || 0.163744 0.532833\n",
      "          Snapshot_25_of_40_of_AIMD_NVT_simulation_at_6000_K || 0.228642 1.118316\n",
      "          Snapshot_26_of_40_of_AIMD_NVT_simulation_at_3000_K || 0.298722 0.463236\n",
      "           Snapshot_26_of_40_of_AIMD_NVT_simulation_at_300_K || 0.124622 0.432740\n",
      "          Snapshot_26_of_40_of_AIMD_NVT_simulation_at_6000_K || 0.044437 0.911656\n",
      "          Snapshot_27_of_40_of_AIMD_NVT_simulation_at_3000_K || 0.003213 0.575816\n",
      "          Snapshot_27_of_40_of_AIMD_NVT_simulation_at_6000_K || 0.268072 1.257586\n",
      "          Snapshot_28_of_40_of_AIMD_NVT_simulation_at_3000_K || 0.055298 0.493581\n",
      "           Snapshot_28_of_40_of_AIMD_NVT_simulation_at_300_K || 0.083210 0.422419\n",
      "          Snapshot_28_of_40_of_AIMD_NVT_simulation_at_6000_K || 0.170384 1.243245\n",
      "          Snapshot_29_of_40_of_AIMD_NVT_simulation_at_3000_K || 0.073219 0.484472\n",
      "           Snapshot_29_of_40_of_AIMD_NVT_simulation_at_300_K || 0.104557 0.418132\n",
      "          Snapshot_29_of_40_of_AIMD_NVT_simulation_at_6000_K || 0.288194 1.091842\n",
      "    Snapshot_2_of_12_of_Vacancy_AIMD_NVT_simulation_at_300_K || 0.248031 0.500899\n",
      "   Snapshot_2_of_12_of_Vacancy_AIMD_NVT_simulation_at_6000_K || 0.416854 0.536700\n",
      "           Snapshot_2_of_40_of_AIMD_NVT_simulation_at_3000_K || 0.228497 0.530558\n",
      "            Snapshot_2_of_40_of_AIMD_NVT_simulation_at_300_K || 0.081064 0.426674\n",
      "           Snapshot_2_of_40_of_AIMD_NVT_simulation_at_6000_K || 0.225826 0.958121\n",
      "          Snapshot_30_of_40_of_AIMD_NVT_simulation_at_3000_K || 0.050947 0.553090\n",
      "          Snapshot_30_of_40_of_AIMD_NVT_simulation_at_6000_K || 0.269308 1.052939\n",
      "          Snapshot_31_of_40_of_AIMD_NVT_simulation_at_3000_K || 0.069208 0.542836\n",
      "           Snapshot_31_of_40_of_AIMD_NVT_simulation_at_300_K || 0.060380 0.419863\n",
      "          Snapshot_32_of_40_of_AIMD_NVT_simulation_at_3000_K || 0.015515 0.503478\n",
      "           Snapshot_32_of_40_of_AIMD_NVT_simulation_at_300_K || 0.102312 0.433777\n",
      "          Snapshot_32_of_40_of_AIMD_NVT_simulation_at_6000_K || 0.188683 1.038560\n",
      "          Snapshot_33_of_40_of_AIMD_NVT_simulation_at_3000_K || 0.060742 0.486043\n",
      "           Snapshot_33_of_40_of_AIMD_NVT_simulation_at_300_K || 0.105915 0.412633\n",
      "          Snapshot_33_of_40_of_AIMD_NVT_simulation_at_6000_K || 0.035604 0.946323\n",
      "          Snapshot_34_of_40_of_AIMD_NVT_simulation_at_3000_K || 0.159162 0.488968\n",
      "           Snapshot_34_of_40_of_AIMD_NVT_simulation_at_300_K || 0.140916 0.422171\n",
      "          Snapshot_34_of_40_of_AIMD_NVT_simulation_at_6000_K || 0.258562 1.069146\n",
      "          Snapshot_35_of_40_of_AIMD_NVT_simulation_at_3000_K || 0.115423 0.566398\n",
      "           Snapshot_35_of_40_of_AIMD_NVT_simulation_at_300_K || 0.117317 0.438448\n",
      "          Snapshot_35_of_40_of_AIMD_NVT_simulation_at_6000_K || 0.100599 1.111095\n",
      "          Snapshot_36_of_40_of_AIMD_NVT_simulation_at_3000_K || 0.087959 0.569545\n",
      "           Snapshot_36_of_40_of_AIMD_NVT_simulation_at_300_K || 0.101262 0.442262\n",
      "          Snapshot_36_of_40_of_AIMD_NVT_simulation_at_6000_K || 0.348645 1.102890\n",
      "          Snapshot_37_of_40_of_AIMD_NVT_simulation_at_3000_K || 0.000091 0.508008\n",
      "           Snapshot_37_of_40_of_AIMD_NVT_simulation_at_300_K || 0.089535 0.433223\n",
      "          Snapshot_38_of_40_of_AIMD_NVT_simulation_at_3000_K || 0.215468 0.583877\n",
      "           Snapshot_38_of_40_of_AIMD_NVT_simulation_at_300_K || 0.120044 0.440275\n",
      "          Snapshot_38_of_40_of_AIMD_NVT_simulation_at_6000_K || 0.414884 0.956850\n",
      "          Snapshot_39_of_40_of_AIMD_NVT_simulation_at_3000_K || 0.086403 0.495644\n",
      "           Snapshot_39_of_40_of_AIMD_NVT_simulation_at_300_K || 0.087884 0.427548\n",
      "          Snapshot_39_of_40_of_AIMD_NVT_simulation_at_6000_K || 0.190251 1.051598\n",
      "    Snapshot_3_of_12_of_Vacancy_AIMD_NVT_simulation_at_300_K || 0.396021 0.522661\n",
      "   Snapshot_3_of_12_of_Vacancy_AIMD_NVT_simulation_at_6000_K || 0.327169 0.545458\n",
      "           Snapshot_3_of_40_of_AIMD_NVT_simulation_at_3000_K || 0.054087 0.476471\n",
      "            Snapshot_3_of_40_of_AIMD_NVT_simulation_at_300_K || 0.080446 0.425683\n",
      "           Snapshot_3_of_40_of_AIMD_NVT_simulation_at_6000_K || 0.214350 1.202235\n",
      "          Snapshot_40_of_40_of_AIMD_NVT_simulation_at_3000_K || 0.004738 0.503833\n",
      "          Snapshot_40_of_40_of_AIMD_NVT_simulation_at_6000_K || 0.200922 0.890333\n",
      "           Snapshot_4_of_40_of_AIMD_NVT_simulation_at_3000_K || 0.068279 0.472403\n",
      "            Snapshot_4_of_40_of_AIMD_NVT_simulation_at_300_K || 0.079646 0.448160\n",
      "           Snapshot_4_of_40_of_AIMD_NVT_simulation_at_6000_K || 0.122396 1.234014\n",
      "    Snapshot_5_of_12_of_Vacancy_AIMD_NVT_simulation_at_300_K || 0.373852 0.444228\n",
      "   Snapshot_5_of_12_of_Vacancy_AIMD_NVT_simulation_at_6000_K || 0.342817 0.542561\n",
      "           Snapshot_5_of_40_of_AIMD_NVT_simulation_at_3000_K || 0.194282 0.500489\n",
      "            Snapshot_5_of_40_of_AIMD_NVT_simulation_at_300_K || 0.144458 0.424843\n",
      "           Snapshot_5_of_40_of_AIMD_NVT_simulation_at_6000_K || 0.000014 1.446397\n",
      "    Snapshot_6_of_12_of_Vacancy_AIMD_NVT_simulation_at_300_K || 0.322549 0.508040\n",
      "   Snapshot_6_of_12_of_Vacancy_AIMD_NVT_simulation_at_6000_K || 0.410957 0.556001\n",
      "           Snapshot_6_of_40_of_AIMD_NVT_simulation_at_3000_K || 0.074904 0.562263\n",
      "            Snapshot_6_of_40_of_AIMD_NVT_simulation_at_300_K || 0.115529 0.416423\n",
      "           Snapshot_6_of_40_of_AIMD_NVT_simulation_at_6000_K || 0.616605 1.326106\n",
      "    Snapshot_7_of_12_of_Vacancy_AIMD_NVT_simulation_at_300_K || 0.224588 0.489168\n",
      "   Snapshot_7_of_12_of_Vacancy_AIMD_NVT_simulation_at_6000_K || 0.493407 0.538912\n",
      "           Snapshot_7_of_40_of_AIMD_NVT_simulation_at_6000_K || 0.043042 1.085771\n",
      "   Snapshot_8_of_12_of_Vacancy_AIMD_NVT_simulation_at_6000_K || 0.599925 0.602869\n",
      "           Snapshot_8_of_40_of_AIMD_NVT_simulation_at_3000_K || 0.230609 0.569836\n",
      "            Snapshot_8_of_40_of_AIMD_NVT_simulation_at_300_K || 0.111000 0.426304\n",
      "           Snapshot_8_of_40_of_AIMD_NVT_simulation_at_6000_K || 0.361783 1.112446\n",
      "    Snapshot_9_of_12_of_Vacancy_AIMD_NVT_simulation_at_300_K || 0.400207 0.282404\n",
      "   Snapshot_9_of_12_of_Vacancy_AIMD_NVT_simulation_at_6000_K || 0.263647 0.538778\n",
      "           Snapshot_9_of_40_of_AIMD_NVT_simulation_at_3000_K || 0.123662 0.510889\n",
      "            Snapshot_9_of_40_of_AIMD_NVT_simulation_at_300_K || 0.135791 0.444100\n",
      "           Snapshot_9_of_40_of_AIMD_NVT_simulation_at_6000_K || 0.077666 1.106635\n"
     ]
    }
   ],
   "source": [
    "with h5py.File('../svreg_data/mlearn/Mo/Mo.hdf5', 'r') as db:\n",
    "        \n",
    "    print(\n",
    "        '{:>45} average errors || {:.6f} {:.6f}\\n'.format(\n",
    "            str(tree),\n",
    "            np.average(errors[::2]),\n",
    "            np.average(errors[1::2]),\n",
    "        )\n",
    "    )\n",
    "    \n",
    "    print(\n",
    "        '{:>60} || {} {}'.format(\n",
    "            'structName',\n",
    "            '(eV/atom)',\n",
    "            '(eV/A)'\n",
    "        )\n",
    "    )\n",
    "    \n",
    "    for i, structName in enumerate(sorted(db)):\n",
    "        print(\n",
    "            '{:>60} || {:.6f} {:.6f}'.format(\n",
    "                structName,\n",
    "                errors[2*i],\n",
    "                errors[2*i+1]\n",
    "            )\n",
    "        )"
   ]
  },
  {
   "cell_type": "raw",
   "metadata": {},
   "source": [
    "mul(sqrt(sqrt(rho)), rho) average errors || 0.182223 0.542372\n",
    "mul(sqrt(sqrt(rho)), rho) average errors || 0.180778 0.544042\n",
    "mul(sqrt(sqrt(rho)), rho) average errors || 0.178780 0.543202"
   ]
  },
  {
   "cell_type": "code",
   "execution_count": 10,
   "metadata": {},
   "outputs": [
    {
     "data": {
      "text/plain": [
       "<matplotlib.legend.Legend at 0x7f82aeadd278>"
      ]
     },
     "execution_count": 10,
     "metadata": {},
     "output_type": "execute_result"
    },
    {
     "data": {
      "image/png": "[encoded data removed]",
      "text/plain": [
       "<Figure size 576x288 with 2 Axes>"
      ]
     },
     "metadata": {
      "needs_background": "light"
     },
     "output_type": "display_data"
    }
   ],
   "source": [
    "fig, ax = plt.subplots(1, 2, figsize=(8, 4))\n",
    "\n",
    "ax[0].hist(errors[::2] , bins=100, alpha=0.3, label='Energy errors', color='orange')\n",
    "ax[1].hist(errors[1::2], bins=100, alpha=0.3, label='Force errors', color='blue')\n",
    "\n",
    "ax[0].legend()\n",
    "ax[1].legend()"
   ]
  },
  {
   "cell_type": "code",
   "execution_count": null,
   "metadata": {},
   "outputs": [],
   "source": []
  }
 ],
 "metadata": {
  "kernelspec": {
   "display_name": "Python 3",
   "language": "python",
   "name": "python3"
  },
  "language_info": {
   "codemirror_mode": {
    "name": "ipython",
    "version": 3
   },
   "file_extension": ".py",
   "mimetype": "text/x-python",
   "name": "python",
   "nbconvert_exporter": "python",
   "pygments_lexer": "ipython3",
   "version": "3.6.10"
  }
 },
 "nbformat": 4,
 "nbformat_minor": 4
}
