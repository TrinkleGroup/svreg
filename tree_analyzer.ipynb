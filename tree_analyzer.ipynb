{
 "cells": [
  {
   "cell_type": "markdown",
   "metadata": {},
   "source": [
    "# Imports"
   ]
  },
  {
   "cell_type": "code",
   "execution_count": 2,
   "metadata": {},
   "outputs": [],
   "source": [
    "import os\n",
    "import h5py\n",
    "import sympy\n",
    "import glob\n",
    "import pickle\n",
    "import numpy as np\n",
    "import matplotlib.pyplot as plt\n",
    "\n",
    "from IPython.display import display, Math\n",
    "from scipy.interpolate import CubicSpline\n",
    "\n",
    "from tree import SVTree\n",
    "from nodes import FunctionNode\n",
    "from regressor import SVRegressor"
   ]
  },
  {
   "cell_type": "markdown",
   "metadata": {},
   "source": [
    "# Setup"
   ]
  },
  {
   "cell_type": "code",
   "execution_count": 163,
   "metadata": {},
   "outputs": [],
   "source": [
    "basePath = os.path.join('results', 'smeam_dup')\n",
    "fromArchive = False\n",
    "\n",
    "basePath = os.path.join('results', 'mo_mae')\n",
    "fromArchive = True"
   ]
  },
  {
   "cell_type": "code",
   "execution_count": 164,
   "metadata": {},
   "outputs": [
    {
     "name": "stdout",
     "output_type": "stream",
     "text": [
      "59.4408476353345 inf\n"
     ]
    },
    {
     "data": {
      "text/latex": [
       "$\\displaystyle 59.44<->ffg \\cdot ffg + \\cos{\\left(\\rho \\right)}$"
      ],
      "text/plain": [
       "<IPython.core.display.Math object>"
      ]
     },
     "metadata": {},
     "output_type": "display_data"
    },
    {
     "data": {
      "text/latex": [
       "$\\displaystyle 100.94<->ffg \\cdot ffg$"
      ],
      "text/plain": [
       "<IPython.core.display.Math object>"
      ]
     },
     "metadata": {},
     "output_type": "display_data"
    }
   ],
   "source": [
    "if fromArchive:\n",
    "    allTreeNames = glob.glob(os.path.join(basePath, '*'))\n",
    "    del allTreeNames[allTreeNames.index(os.path.join(basePath, 'archive.pkl'))]\n",
    "    \n",
    "    bestCost = np.inf\n",
    "    bestIdx = 0\n",
    "    \n",
    "    worstCost = 0\n",
    "    worstIdx = 0\n",
    "    \n",
    "    archive = pickle.load(open(os.path.join(basePath, 'archive.pkl'), 'rb'))\n",
    "    \n",
    "    allErrors = []\n",
    "    allLatex = []\n",
    "\n",
    "    for i, treePath in enumerate(allTreeNames):\n",
    "        treeName = os.path.split(treePath)[-1]\n",
    "        \n",
    "        tree = pickle.load(open(os.path.join(treePath, 'tree.pkl'), 'rb'))\n",
    "\n",
    "        entry = archive[treeName]\n",
    "        tree.bestParams = entry.bestParams\n",
    "\n",
    "        errors = entry.bestErrors\n",
    "    \n",
    "        latex = SVTree([\n",
    "            FunctionNode(n.description) if isinstance(n, FunctionNode)\n",
    "            else n\n",
    "            for n in tree.nodes\n",
    "        ]).latex()\n",
    "\n",
    "        sumErrors = np.sum(errors)\n",
    "        \n",
    "        if sumErrors < bestCost:\n",
    "            print(sumErrors, bestCost)\n",
    "            bestCost = sumErrors\n",
    "            bestIdx = i\n",
    "        \n",
    "        if sumErrors > worstCost:\n",
    "            worstCost = sumErrors\n",
    "            worstIdx = i\n",
    "        \n",
    "        allErrors.append(sumErrors)\n",
    "        allLatex.append(latex)\n",
    "        \n",
    "    allLatex = np.array(allLatex)[np.argsort(allErrors)]\n",
    "    allErrors = np.array(allErrors)[np.argsort(allErrors)]\n",
    "\n",
    "    for latex, errors in zip(allLatex, allErrors):\n",
    "        display(Math('{:.2f}<->{}'.format(\n",
    "            errors,\n",
    "            sympy.latex(sympy.sympify(latex, evaluate=False), mul_symbol='dot')\n",
    "        )))\n",
    "            \n",
    "    treePath = allTreeNames[bestIdx]\n",
    "#     treePath = allTreeNames[worstIdx]\n",
    "    treeName = os.path.split(treePath)[-1]\n",
    "\n",
    "    archive = pickle.load(open(os.path.join(basePath, 'archive.pkl'), 'rb'))\n",
    "    tree = pickle.load(open(os.path.join(basePath, treeName, 'tree.pkl'), 'rb'))\n",
    "    \n",
    "    entry = archive[treeName]\n",
    "    tree.bestParams = entry.bestParams\n",
    "    \n",
    "    errors = entry.bestErrors\n",
    "else:\n",
    "    files = sorted(glob.glob(os.path.join(basePath, 'tree*')))\n",
    "    intIndices = [int(s[s.find('tree')+5:s.find('.pkl')]) for s in files]\n",
    "\n",
    "    argsort = np.argsort(intIndices)\n",
    "\n",
    "    treeFile = np.array(files)[argsort][-1]\n",
    "    tree = pickle.load(open(treeFile, 'rb'))\n",
    "    \n",
    "    errorFiles = sorted(glob.glob(os.path.join(basePath, 'errors*')))\n",
    "    errorFile  = np.array(errorFiles)[argsort][-1]\n",
    "    errors = pickle.load(open(errorFile, 'rb'))"
   ]
  },
  {
   "cell_type": "code",
   "execution_count": 165,
   "metadata": {},
   "outputs": [
    {
     "data": {
      "text/plain": [
       "59.4408476353345"
      ]
     },
     "execution_count": 165,
     "metadata": {},
     "output_type": "execute_result"
    }
   ],
   "source": [
    "allErrors[bestIdx]"
   ]
  },
  {
   "cell_type": "markdown",
   "metadata": {},
   "source": [
    "# Plotting"
   ]
  },
  {
   "cell_type": "code",
   "execution_count": 166,
   "metadata": {},
   "outputs": [],
   "source": [
    "def plotSpline(x, y, bc):\n",
    "    cs = CubicSpline(x, y, bc_type=((1, bc[0]), (1, bc[1])))\n",
    "    \n",
    "    plotX = np.linspace(x[0]-0.1, x[-1]+0.1, 100)\n",
    "    plotY = cs(plotX)\n",
    "    \n",
    "    return plotX, plotY"
   ]
  },
  {
   "cell_type": "code",
   "execution_count": 167,
   "metadata": {},
   "outputs": [],
   "source": [
    "splits = []\n",
    "\n",
    "for svNode in tree.svNodes:\n",
    "    for comp in svNode.components:\n",
    "        splits.append(svNode.numParams[comp]+len(svNode.restrictions[comp]))"
   ]
  },
  {
   "cell_type": "code",
   "execution_count": 168,
   "metadata": {},
   "outputs": [],
   "source": [
    "splitParams = np.array_split(tree.fillFixedKnots(tree.bestParams)[0], np.cumsum(splits)[:-1])"
   ]
  },
  {
   "cell_type": "code",
   "execution_count": 169,
   "metadata": {},
   "outputs": [
    {
     "data": {
      "text/latex": [
       "$\\displaystyle ffg \\cdot ffg + \\cos{\\left(\\rho \\right)}$"
      ],
      "text/plain": [
       "<IPython.core.display.Math object>"
      ]
     },
     "metadata": {},
     "output_type": "display_data"
    },
    {
     "data": {
      "image/png": "[encoded data removed]",
      "text/plain": [
       "<Figure size 864x576 with 6 Axes>"
      ]
     },
     "metadata": {
      "needs_background": "light"
     },
     "output_type": "display_data"
    }
   ],
   "source": [
    "numRows = int(max(1, np.ceil(len(splitParams)/3)))\n",
    "\n",
    "fig, axes = plt.subplots(numRows, 3, figsize=(12, 4*numRows))\n",
    "\n",
    "compNames = np.hstack([svNode.components for svNode in tree.svNodes])\n",
    "\n",
    "display(Math('{}'.format(\n",
    "    sympy.latex(sympy.sympify(allLatex[0], evaluate=False), mul_symbol='dot')\n",
    ")))\n",
    "    \n",
    "for i, spline in enumerate(splitParams):\n",
    "    y, bc = spline[:-2], spline[-2:]\n",
    "    x = np.arange(len(y))\n",
    "    \n",
    "    plotX, plotY = plotSpline(x, y, bc)\n",
    "    \n",
    "    row = i//3\n",
    "    col = i%3\n",
    "    \n",
    "    if numRows > 1:\n",
    "        ax = axes[row][col]\n",
    "    else:\n",
    "        ax = axes[col]\n",
    "    \n",
    "    ax.plot(x, y, 'o')\n",
    "    ax.plot(plotX, plotY)\n",
    "    ax.set_title(compNames[i].decode('utf-8'))"
   ]
  },
  {
   "cell_type": "markdown",
   "metadata": {},
   "source": [
    "# Smoothness penalty test"
   ]
  },
  {
   "cell_type": "code",
   "execution_count": 170,
   "metadata": {},
   "outputs": [
    {
     "data": {
      "text/plain": [
       "array([-0.23008216, -0.0700907 , -0.0313019 , -0.01139977, -0.00486677,\n",
       "        0.00226752,  0.        ,  0.4446121 ,  0.        ,  0.18416109,\n",
       "        0.35701802,  0.15539686,  0.33159227,  0.18337088,  0.53573384,\n",
       "        0.71992156,  0.13106571,  0.0268782 ,  0.65223198,  1.05500773,\n",
       "        0.89082843,  0.37126443,  0.10331537,  0.03096998,  0.        ,\n",
       "       -0.87930669,  0.        ,  0.40369751,  0.16491955,  0.10240324,\n",
       "        0.09515706,  0.2665506 , -0.14095288,  0.31956474, -0.14835325,\n",
       "        0.00784106,  0.62799366,  0.56988532,  0.43184278,  0.17776689,\n",
       "        0.07039004,  0.00986834,  0.        , -0.1380194 ,  0.        ])"
      ]
     },
     "execution_count": 170,
     "metadata": {},
     "output_type": "execute_result"
    }
   ],
   "source": [
    "tree.fillFixedKnots(tree.bestParams)[0]"
   ]
  },
  {
   "cell_type": "code",
   "execution_count": 171,
   "metadata": {},
   "outputs": [
    {
     "data": {
      "text/plain": [
       "array([0.62799366, 0.56988532, 0.43184278, 0.17776689, 0.07039004,\n",
       "       0.00986834, 0.        ])"
      ]
     },
     "execution_count": 171,
     "metadata": {},
     "output_type": "execute_result"
    }
   ],
   "source": [
    "y"
   ]
  },
  {
   "cell_type": "code",
   "execution_count": 172,
   "metadata": {},
   "outputs": [
    {
     "data": {
      "text/plain": [
       "array([-0.1380194,  0.       ])"
      ]
     },
     "execution_count": 172,
     "metadata": {},
     "output_type": "execute_result"
    }
   ],
   "source": [
    "bc"
   ]
  },
  {
   "cell_type": "code",
   "execution_count": 173,
   "metadata": {},
   "outputs": [],
   "source": [
    "bccopy = bc.copy()\n",
    "bccopy[0] = -0.5"
   ]
  },
  {
   "cell_type": "code",
   "execution_count": 174,
   "metadata": {},
   "outputs": [],
   "source": [
    "cs = CubicSpline(x, y, bc_type=((1, bc[0]), (1, bc[1])))"
   ]
  },
  {
   "cell_type": "code",
   "execution_count": 175,
   "metadata": {},
   "outputs": [],
   "source": [
    "xSamples = np.linspace(x[0], x[-1], 100)"
   ]
  },
  {
   "cell_type": "code",
   "execution_count": 176,
   "metadata": {},
   "outputs": [],
   "source": [
    "deriv = cs.derivative(nu=2)"
   ]
  },
  {
   "cell_type": "code",
   "execution_count": 177,
   "metadata": {},
   "outputs": [
    {
     "data": {
      "text/plain": [
       "2.423197565360697"
      ]
     },
     "execution_count": 177,
     "metadata": {},
     "output_type": "execute_result"
    }
   ],
   "source": [
    "sum(deriv(xSamples))"
   ]
  },
  {
   "cell_type": "code",
   "execution_count": 178,
   "metadata": {},
   "outputs": [
    {
     "data": {
      "text/plain": [
       "(9,)"
      ]
     },
     "execution_count": 178,
     "metadata": {},
     "output_type": "execute_result"
    }
   ],
   "source": [
    "splitParams[0].shape"
   ]
  },
  {
   "cell_type": "code",
   "execution_count": 185,
   "metadata": {},
   "outputs": [],
   "source": [
    "n = splitParams[0].shape[0] - 2\n",
    "x = np.arange(n)\n",
    "dx = 1  # because we're ignoring actual knot spacing\n",
    "D = np.zeros((n-2, n))\n",
    "for i in range(D.shape[0]):\n",
    "    D[i,i] = 1\n",
    "    D[i,i+1] = -2\n",
    "    D[i,i+2] = 1\n",
    "\n",
    "W = np.zeros((n-2, n-2))\n",
    "for i in range(W.shape[0]):\n",
    "    W[i,i] = 2/3.\n",
    "    if i > 0:\n",
    "        W[i-1, i]=1/6.\n",
    "    if i < W.shape[0]-1:\n",
    "        W[i, i-1] = 1/6.\n",
    "\n",
    "A = D.T @ (np.linalg.inv(W) @ D)"
   ]
  },
  {
   "cell_type": "code",
   "execution_count": 186,
   "metadata": {},
   "outputs": [
    {
     "data": {
      "text/plain": [
       "(7, 7)"
      ]
     },
     "execution_count": 186,
     "metadata": {},
     "output_type": "execute_result"
    }
   ],
   "source": [
    "A.shape"
   ]
  },
  {
   "cell_type": "code",
   "execution_count": 187,
   "metadata": {},
   "outputs": [
    {
     "data": {
      "text/plain": [
       "80.04759236767202"
      ]
     },
     "execution_count": 187,
     "metadata": {},
     "output_type": "execute_result"
    }
   ],
   "source": [
    "m = splitParams[0][:-2].T\n",
    "m = np.random.normal(size=n)\n",
    "m.T @ (A @ m)"
   ]
  },
  {
   "cell_type": "code",
   "execution_count": 188,
   "metadata": {},
   "outputs": [
    {
     "name": "stdout",
     "output_type": "stream",
     "text": [
      "337.4999999999999\n"
     ]
    },
    {
     "data": {
      "text/plain": [
       "[<matplotlib.lines.Line2D at 0x7f14693fc7b8>]"
      ]
     },
     "execution_count": 188,
     "metadata": {},
     "output_type": "execute_result"
    },
    {
     "data": {
      "image/png": "[encoded data removed]",
      "text/plain": [
       "<Figure size 432x288 with 1 Axes>"
      ]
     },
     "metadata": {
      "needs_background": "light"
     },
     "output_type": "display_data"
    }
   ],
   "source": [
    "m = splitParams[0][:-2].T\n",
    "m = np.random.normal(size=n)\n",
    "m = np.arange(n); m[-1] = 3*n\n",
    "print(m.T @ (A @ m))\n",
    "\n",
    "plotX, plotY = plotSpline(x, m, bc)\n",
    "\n",
    "fig, ax = plt.subplots()\n",
    "    \n",
    "ax.plot(x, m, 'o')\n",
    "ax.plot(plotX, plotY)"
   ]
  },
  {
   "cell_type": "markdown",
   "metadata": {},
   "source": [
    "# Errors"
   ]
  },
  {
   "cell_type": "markdown",
   "metadata": {},
   "source": [
    "## Directly from logs"
   ]
  },
  {
   "cell_type": "code",
   "execution_count": 183,
   "metadata": {},
   "outputs": [
    {
     "data": {
      "text/plain": [
       "0.27755795681205114"
      ]
     },
     "execution_count": 183,
     "metadata": {},
     "output_type": "execute_result"
    }
   ],
   "source": [
    "energyWeight = 10\n",
    "forcesWeight = 1\n",
    "\n",
    "unweighted = errors.copy()\n",
    "unweighted[::2] /= energyWeight\n",
    "unweighted[1::2] /= forcesWeight\n",
    "\n",
    "np.sqrt(np.average(unweighted**2))"
   ]
  },
  {
   "cell_type": "code",
   "execution_count": 184,
   "metadata": {},
   "outputs": [
    {
     "name": "stdout",
     "output_type": "stream",
     "text": [
      "                 add(mul(ffg, ffg), cos(rho)) average errors || 0.009925 0.392401\n",
      "\n",
      "                                                  structName || (eV/atom) (eV/A)\n",
      "                                        Ground_state_crystal || 0.000000 0.013106\n",
      "                         Mo_3x3x3_cell_mode_1_strain_-0.0200 || 0.000102 0.009491\n",
      "                         Mo_3x3x3_cell_mode_1_strain_-0.0400 || 0.001333 0.014072\n",
      "                         Mo_3x3x3_cell_mode_1_strain_-0.0600 || 0.002942 0.022185\n",
      "                         Mo_3x3x3_cell_mode_1_strain_-0.0800 || 0.002234 0.028618\n",
      "                         Mo_3x3x3_cell_mode_1_strain_-0.1000 || 0.001813 0.039920\n",
      "                          Mo_3x3x3_cell_mode_1_strain_0.0200 || 0.000922 0.012387\n",
      "                          Mo_3x3x3_cell_mode_1_strain_0.0800 || 0.000339 0.015524\n",
      "                         Mo_3x3x3_cell_mode_2_strain_-0.0200 || 0.000092 0.010684\n",
      "                         Mo_3x3x3_cell_mode_2_strain_-0.0400 || 0.001359 0.014665\n",
      "                         Mo_3x3x3_cell_mode_2_strain_-0.0600 || 0.003003 0.022813\n",
      "                         Mo_3x3x3_cell_mode_2_strain_-0.0800 || 0.002217 0.030322\n",
      "                         Mo_3x3x3_cell_mode_2_strain_-0.1000 || 0.001781 0.046336\n",
      "                          Mo_3x3x3_cell_mode_2_strain_0.0200 || 0.000909 0.013180\n",
      "                          Mo_3x3x3_cell_mode_2_strain_0.0400 || 0.002164 0.011543\n",
      "                          Mo_3x3x3_cell_mode_2_strain_0.0600 || 0.003277 0.014205\n",
      "                          Mo_3x3x3_cell_mode_2_strain_0.0800 || 0.000278 0.013550\n",
      "                          Mo_3x3x3_cell_mode_2_strain_0.1000 || 0.009069 0.016762\n",
      "                         Mo_3x3x3_cell_mode_3_strain_-0.0200 || 0.000102 0.011453\n",
      "                         Mo_3x3x3_cell_mode_3_strain_-0.0400 || 0.001363 0.013272\n",
      "                         Mo_3x3x3_cell_mode_3_strain_-0.0600 || 0.002945 0.022702\n",
      "                         Mo_3x3x3_cell_mode_3_strain_-0.1000 || 0.001993 0.047101\n",
      "                          Mo_3x3x3_cell_mode_3_strain_0.0200 || 0.000861 0.014222\n",
      "                          Mo_3x3x3_cell_mode_3_strain_0.0400 || 0.002128 0.011282\n",
      "                          Mo_3x3x3_cell_mode_3_strain_0.0600 || 0.003339 0.014753\n",
      "                          Mo_3x3x3_cell_mode_3_strain_0.0800 || 0.000254 0.014317\n",
      "                          Mo_3x3x3_cell_mode_3_strain_0.1000 || 0.009082 0.016905\n",
      "                         Mo_3x3x3_cell_mode_4_strain_-0.0200 || 0.000100 0.012643\n",
      "                         Mo_3x3x3_cell_mode_4_strain_-0.0400 || 0.000189 0.010982\n",
      "                         Mo_3x3x3_cell_mode_4_strain_-0.0600 || 0.000343 0.012419\n",
      "                          Mo_3x3x3_cell_mode_4_strain_0.0200 || 0.000086 0.008841\n",
      "                          Mo_3x3x3_cell_mode_4_strain_0.0400 || 0.000207 0.015822\n",
      "                          Mo_3x3x3_cell_mode_4_strain_0.0600 || 0.000376 0.013548\n",
      "                          Mo_3x3x3_cell_mode_4_strain_0.0800 || 0.000079 0.012932\n",
      "                          Mo_3x3x3_cell_mode_4_strain_0.1000 || 0.000758 0.016507\n",
      "                         Mo_3x3x3_cell_mode_5_strain_-0.0200 || 0.000092 0.011118\n",
      "                         Mo_3x3x3_cell_mode_5_strain_-0.0400 || 0.000162 0.014676\n",
      "                         Mo_3x3x3_cell_mode_5_strain_-0.0600 || 0.000386 0.015238\n",
      "                         Mo_3x3x3_cell_mode_5_strain_-0.0800 || 0.000068 0.014942\n",
      "                         Mo_3x3x3_cell_mode_5_strain_-0.1000 || 0.000762 0.013207\n",
      "                          Mo_3x3x3_cell_mode_5_strain_0.0200 || 0.000110 0.011761\n",
      "                          Mo_3x3x3_cell_mode_5_strain_0.0400 || 0.000207 0.012327\n",
      "                          Mo_3x3x3_cell_mode_5_strain_0.0600 || 0.000408 0.012432\n",
      "                          Mo_3x3x3_cell_mode_5_strain_0.0800 || 0.000094 0.013870\n",
      "                          Mo_3x3x3_cell_mode_5_strain_0.1000 || 0.000910 0.017157\n",
      "                         Mo_3x3x3_cell_mode_6_strain_-0.0200 || 0.000088 0.010299\n",
      "                         Mo_3x3x3_cell_mode_6_strain_-0.0400 || 0.000170 0.012227\n",
      "                         Mo_3x3x3_cell_mode_6_strain_-0.0600 || 0.000355 0.012493\n",
      "                         Mo_3x3x3_cell_mode_6_strain_-0.0800 || 0.000129 0.013316\n",
      "                         Mo_3x3x3_cell_mode_6_strain_-0.1000 || 0.000797 0.011968\n",
      "                          Mo_3x3x3_cell_mode_6_strain_0.0200 || 0.000081 0.014294\n",
      "                          Mo_3x3x3_cell_mode_6_strain_0.0400 || 0.000206 0.012261\n",
      "                          Mo_3x3x3_cell_mode_6_strain_0.0600 || 0.000355 0.013101\n",
      "                          Mo_3x3x3_cell_mode_6_strain_0.0800 || 0.000055 0.012918\n",
      "                          Mo_3x3x3_cell_mode_6_strain_0.1000 || 0.000767 0.013390\n",
      "                                       Mo_3x3x3_cell_relaxed || 0.003496 0.000000\n",
      "                             Mo_surface_mp_Mo_mp-129__1_0_0_ || 0.025297 0.231981\n",
      "                             Mo_surface_mp_Mo_mp-129__1_1_0_ || 0.024949 0.199508\n",
      "                             Mo_surface_mp_Mo_mp-129__1_1_1_ || 0.039772 0.257330\n",
      "                             Mo_surface_mp_Mo_mp-129__2_1_0_ || 0.002709 0.308741\n",
      "                             Mo_surface_mp_Mo_mp-129__2_2_1_ || 0.015000 0.197683\n",
      "                             Mo_surface_mp_Mo_mp-129__3_1_1_ || 0.001763 0.333116\n",
      "                             Mo_surface_mp_Mo_mp-129__3_2_0_ || 0.026242 0.301527\n",
      "                             Mo_surface_mp_Mo_mp-129__3_2_1_ || 0.012880 0.252277\n",
      "                             Mo_surface_mp_Mo_mp-129__3_3_2_ || 0.037511 0.257799\n",
      "   Snapshot_10_of_12_of_Vacancy_AIMD_NVT_simulation_at_300_K || 0.000379 0.111786\n",
      "  Snapshot_10_of_12_of_Vacancy_AIMD_NVT_simulation_at_6000_K || 0.013516 0.337608\n",
      "          Snapshot_10_of_40_of_AIMD_NVT_simulation_at_3000_K || 0.004280 0.213160\n",
      "           Snapshot_10_of_40_of_AIMD_NVT_simulation_at_300_K || 0.000036 0.061403\n",
      "   Snapshot_11_of_12_of_Vacancy_AIMD_NVT_simulation_at_300_K || 0.000004 0.099570\n",
      "  Snapshot_11_of_12_of_Vacancy_AIMD_NVT_simulation_at_6000_K || 0.005077 0.280642\n",
      "           Snapshot_11_of_40_of_AIMD_NVT_simulation_at_300_K || 0.000039 0.061563\n",
      "          Snapshot_11_of_40_of_AIMD_NVT_simulation_at_6000_K || 0.000298 0.788702\n",
      "   Snapshot_12_of_12_of_Vacancy_AIMD_NVT_simulation_at_300_K || 0.000238 0.105263\n",
      "  Snapshot_12_of_12_of_Vacancy_AIMD_NVT_simulation_at_6000_K || 0.001981 0.475162\n",
      "          Snapshot_12_of_40_of_AIMD_NVT_simulation_at_3000_K || 0.001292 0.283477\n",
      "           Snapshot_12_of_40_of_AIMD_NVT_simulation_at_300_K || 0.000580 0.057541\n",
      "          Snapshot_12_of_40_of_AIMD_NVT_simulation_at_6000_K || 0.009890 0.810512\n",
      "          Snapshot_13_of_40_of_AIMD_NVT_simulation_at_3000_K || 0.003640 0.234981\n",
      "           Snapshot_13_of_40_of_AIMD_NVT_simulation_at_300_K || 0.000462 0.068252\n",
      "          Snapshot_13_of_40_of_AIMD_NVT_simulation_at_6000_K || 0.024662 0.806398\n",
      "           Snapshot_14_of_40_of_AIMD_NVT_simulation_at_300_K || 0.000863 0.058497\n",
      "          Snapshot_14_of_40_of_AIMD_NVT_simulation_at_6000_K || 0.014536 0.827625\n",
      "          Snapshot_15_of_40_of_AIMD_NVT_simulation_at_3000_K || 0.001664 0.205433\n",
      "           Snapshot_15_of_40_of_AIMD_NVT_simulation_at_300_K || 0.001458 0.063796\n",
      "          Snapshot_15_of_40_of_AIMD_NVT_simulation_at_6000_K || 0.015330 0.928492\n",
      "          Snapshot_16_of_40_of_AIMD_NVT_simulation_at_3000_K || 0.002434 0.247981\n",
      "           Snapshot_16_of_40_of_AIMD_NVT_simulation_at_300_K || 0.000167 0.063550\n",
      "          Snapshot_16_of_40_of_AIMD_NVT_simulation_at_6000_K || 0.006256 0.848003\n",
      "          Snapshot_17_of_40_of_AIMD_NVT_simulation_at_3000_K || 0.002118 0.289957\n",
      "           Snapshot_17_of_40_of_AIMD_NVT_simulation_at_300_K || 0.000096 0.057485\n",
      "          Snapshot_17_of_40_of_AIMD_NVT_simulation_at_6000_K || 0.014502 0.639158\n",
      "          Snapshot_18_of_40_of_AIMD_NVT_simulation_at_3000_K || 0.001835 0.290143\n",
      "           Snapshot_18_of_40_of_AIMD_NVT_simulation_at_300_K || 0.000334 0.062309\n",
      "          Snapshot_18_of_40_of_AIMD_NVT_simulation_at_6000_K || 0.008318 0.801947\n",
      "          Snapshot_19_of_40_of_AIMD_NVT_simulation_at_3000_K || 0.002815 0.271783\n",
      "           Snapshot_19_of_40_of_AIMD_NVT_simulation_at_300_K || 0.000453 0.059418\n",
      "    Snapshot_1_of_12_of_Vacancy_AIMD_NVT_simulation_at_300_K || 0.001884 0.111570\n",
      "   Snapshot_1_of_12_of_Vacancy_AIMD_NVT_simulation_at_6000_K || 0.000850 0.098541\n",
      "           Snapshot_1_of_40_of_AIMD_NVT_simulation_at_3000_K || 0.000552 0.233866\n",
      "            Snapshot_1_of_40_of_AIMD_NVT_simulation_at_300_K || 0.000754 0.058603\n",
      "           Snapshot_1_of_40_of_AIMD_NVT_simulation_at_6000_K || 0.037114 1.091187\n",
      "          Snapshot_20_of_40_of_AIMD_NVT_simulation_at_3000_K || 0.000898 0.308594\n",
      "           Snapshot_20_of_40_of_AIMD_NVT_simulation_at_300_K || 0.000120 0.052663\n",
      "          Snapshot_20_of_40_of_AIMD_NVT_simulation_at_6000_K || 0.011596 0.836154\n",
      "          Snapshot_21_of_40_of_AIMD_NVT_simulation_at_3000_K || 0.005767 0.233927\n",
      "           Snapshot_21_of_40_of_AIMD_NVT_simulation_at_300_K || 0.000285 0.057606\n",
      "          Snapshot_21_of_40_of_AIMD_NVT_simulation_at_6000_K || 0.006058 0.833749\n",
      "          Snapshot_22_of_40_of_AIMD_NVT_simulation_at_3000_K || 0.012327 0.309768\n",
      "           Snapshot_22_of_40_of_AIMD_NVT_simulation_at_300_K || 0.000748 0.062053\n",
      "          Snapshot_22_of_40_of_AIMD_NVT_simulation_at_6000_K || 0.011820 0.928029\n",
      "          Snapshot_23_of_40_of_AIMD_NVT_simulation_at_3000_K || 0.008847 0.312701\n",
      "           Snapshot_23_of_40_of_AIMD_NVT_simulation_at_300_K || 0.001647 0.061671\n",
      "          Snapshot_23_of_40_of_AIMD_NVT_simulation_at_6000_K || 0.035046 0.794758\n",
      "          Snapshot_24_of_40_of_AIMD_NVT_simulation_at_3000_K || 0.006104 0.227701\n",
      "           Snapshot_24_of_40_of_AIMD_NVT_simulation_at_300_K || 0.000288 0.053320\n",
      "          Snapshot_24_of_40_of_AIMD_NVT_simulation_at_6000_K || 0.027821 0.977357\n",
      "          Snapshot_25_of_40_of_AIMD_NVT_simulation_at_3000_K || 0.007956 0.217907\n",
      "          Snapshot_25_of_40_of_AIMD_NVT_simulation_at_6000_K || 0.009943 0.765177\n",
      "          Snapshot_26_of_40_of_AIMD_NVT_simulation_at_3000_K || 0.004833 0.229515\n",
      "           Snapshot_26_of_40_of_AIMD_NVT_simulation_at_300_K || 0.001000 0.069508\n",
      "          Snapshot_26_of_40_of_AIMD_NVT_simulation_at_6000_K || 0.005495 0.607739\n",
      "          Snapshot_27_of_40_of_AIMD_NVT_simulation_at_3000_K || 0.000098 0.371407\n",
      "          Snapshot_27_of_40_of_AIMD_NVT_simulation_at_6000_K || 0.023510 0.871491\n",
      "          Snapshot_28_of_40_of_AIMD_NVT_simulation_at_3000_K || 0.000242 0.210971\n",
      "           Snapshot_28_of_40_of_AIMD_NVT_simulation_at_300_K || 0.000560 0.053320\n",
      "          Snapshot_28_of_40_of_AIMD_NVT_simulation_at_6000_K || 0.000573 0.894023\n",
      "          Snapshot_29_of_40_of_AIMD_NVT_simulation_at_3000_K || 0.005153 0.274322\n",
      "           Snapshot_29_of_40_of_AIMD_NVT_simulation_at_300_K || 0.001294 0.055110\n",
      "          Snapshot_29_of_40_of_AIMD_NVT_simulation_at_6000_K || 0.010307 0.754633\n",
      "    Snapshot_2_of_12_of_Vacancy_AIMD_NVT_simulation_at_300_K || 0.001335 0.111224\n",
      "   Snapshot_2_of_12_of_Vacancy_AIMD_NVT_simulation_at_6000_K || 0.004417 0.267681\n",
      "           Snapshot_2_of_40_of_AIMD_NVT_simulation_at_3000_K || 0.005675 0.262298\n",
      "            Snapshot_2_of_40_of_AIMD_NVT_simulation_at_300_K || 0.000367 0.062928\n",
      "           Snapshot_2_of_40_of_AIMD_NVT_simulation_at_6000_K || 0.000073 0.700595\n",
      "          Snapshot_30_of_40_of_AIMD_NVT_simulation_at_3000_K || 0.006669 0.321759\n",
      "          Snapshot_30_of_40_of_AIMD_NVT_simulation_at_6000_K || 0.000803 0.852754\n",
      "          Snapshot_31_of_40_of_AIMD_NVT_simulation_at_3000_K || 0.001214 0.286105\n",
      "           Snapshot_31_of_40_of_AIMD_NVT_simulation_at_300_K || 0.000647 0.054721\n",
      "          Snapshot_32_of_40_of_AIMD_NVT_simulation_at_3000_K || 0.001978 0.284778\n",
      "           Snapshot_32_of_40_of_AIMD_NVT_simulation_at_300_K || 0.000232 0.058089\n",
      "          Snapshot_32_of_40_of_AIMD_NVT_simulation_at_6000_K || 0.011085 0.699231\n",
      "          Snapshot_33_of_40_of_AIMD_NVT_simulation_at_3000_K || 0.001498 0.216858\n",
      "           Snapshot_33_of_40_of_AIMD_NVT_simulation_at_300_K || 0.000254 0.054411\n",
      "          Snapshot_33_of_40_of_AIMD_NVT_simulation_at_6000_K || 0.031565 0.614996\n",
      "          Snapshot_34_of_40_of_AIMD_NVT_simulation_at_3000_K || 0.000716 0.238486\n",
      "           Snapshot_34_of_40_of_AIMD_NVT_simulation_at_300_K || 0.000130 0.059098\n",
      "          Snapshot_34_of_40_of_AIMD_NVT_simulation_at_6000_K || 0.003362 0.803828\n",
      "          Snapshot_35_of_40_of_AIMD_NVT_simulation_at_3000_K || 0.005502 0.340056\n",
      "           Snapshot_35_of_40_of_AIMD_NVT_simulation_at_300_K || 0.000357 0.057724\n",
      "          Snapshot_35_of_40_of_AIMD_NVT_simulation_at_6000_K || 0.040648 0.701773\n",
      "          Snapshot_36_of_40_of_AIMD_NVT_simulation_at_3000_K || 0.001466 0.333581\n",
      "           Snapshot_36_of_40_of_AIMD_NVT_simulation_at_300_K || 0.000732 0.056948\n",
      "          Snapshot_36_of_40_of_AIMD_NVT_simulation_at_6000_K || 0.007807 0.845340\n",
      "          Snapshot_37_of_40_of_AIMD_NVT_simulation_at_3000_K || 0.012702 0.259463\n",
      "           Snapshot_37_of_40_of_AIMD_NVT_simulation_at_300_K || 0.000940 0.057614\n",
      "          Snapshot_38_of_40_of_AIMD_NVT_simulation_at_3000_K || 0.008221 0.301465\n",
      "           Snapshot_38_of_40_of_AIMD_NVT_simulation_at_300_K || 0.000152 0.059447\n",
      "          Snapshot_38_of_40_of_AIMD_NVT_simulation_at_6000_K || 0.017424 0.675434\n",
      "          Snapshot_39_of_40_of_AIMD_NVT_simulation_at_3000_K || 0.007385 0.269782\n",
      "           Snapshot_39_of_40_of_AIMD_NVT_simulation_at_300_K || 0.000201 0.058003\n",
      "          Snapshot_39_of_40_of_AIMD_NVT_simulation_at_6000_K || 0.001252 0.753045\n",
      "    Snapshot_3_of_12_of_Vacancy_AIMD_NVT_simulation_at_300_K || 0.000356 0.112105\n",
      "   Snapshot_3_of_12_of_Vacancy_AIMD_NVT_simulation_at_6000_K || 0.007502 0.296846\n",
      "           Snapshot_3_of_40_of_AIMD_NVT_simulation_at_3000_K || 0.002231 0.265719\n",
      "            Snapshot_3_of_40_of_AIMD_NVT_simulation_at_300_K || 0.000124 0.049180\n",
      "           Snapshot_3_of_40_of_AIMD_NVT_simulation_at_6000_K || 0.014578 0.819721\n",
      "          Snapshot_40_of_40_of_AIMD_NVT_simulation_at_3000_K || 0.004367 0.231854\n",
      "          Snapshot_40_of_40_of_AIMD_NVT_simulation_at_6000_K || 0.015513 0.664116\n",
      "           Snapshot_4_of_40_of_AIMD_NVT_simulation_at_3000_K || 0.004975 0.299528\n",
      "            Snapshot_4_of_40_of_AIMD_NVT_simulation_at_300_K || 0.001103 0.065005\n",
      "           Snapshot_4_of_40_of_AIMD_NVT_simulation_at_6000_K || 0.003604 0.891021\n",
      "    Snapshot_5_of_12_of_Vacancy_AIMD_NVT_simulation_at_300_K || 0.006051 0.062849\n",
      "   Snapshot_5_of_12_of_Vacancy_AIMD_NVT_simulation_at_6000_K || 0.001400 0.285114\n",
      "           Snapshot_5_of_40_of_AIMD_NVT_simulation_at_3000_K || 0.002044 0.243889\n",
      "            Snapshot_5_of_40_of_AIMD_NVT_simulation_at_300_K || 0.001654 0.061981\n",
      "           Snapshot_5_of_40_of_AIMD_NVT_simulation_at_6000_K || 0.026949 1.248455\n",
      "    Snapshot_6_of_12_of_Vacancy_AIMD_NVT_simulation_at_300_K || 0.000292 0.106545\n",
      "   Snapshot_6_of_12_of_Vacancy_AIMD_NVT_simulation_at_6000_K || 0.000208 0.322831\n",
      "           Snapshot_6_of_40_of_AIMD_NVT_simulation_at_3000_K || 0.013665 0.280051\n",
      "            Snapshot_6_of_40_of_AIMD_NVT_simulation_at_300_K || 0.000557 0.046542\n",
      "           Snapshot_6_of_40_of_AIMD_NVT_simulation_at_6000_K || 0.028425 1.100748\n",
      "    Snapshot_7_of_12_of_Vacancy_AIMD_NVT_simulation_at_300_K || 0.004188 0.068012\n",
      "   Snapshot_7_of_12_of_Vacancy_AIMD_NVT_simulation_at_6000_K || 0.014993 0.240420\n",
      "           Snapshot_7_of_40_of_AIMD_NVT_simulation_at_6000_K || 0.011615 0.884870\n",
      "   Snapshot_8_of_12_of_Vacancy_AIMD_NVT_simulation_at_6000_K || 0.003911 0.342143\n",
      "           Snapshot_8_of_40_of_AIMD_NVT_simulation_at_3000_K || 0.000072 0.357971\n",
      "            Snapshot_8_of_40_of_AIMD_NVT_simulation_at_300_K || 0.000157 0.050364\n",
      "           Snapshot_8_of_40_of_AIMD_NVT_simulation_at_6000_K || 0.020508 0.896807\n",
      "    Snapshot_9_of_12_of_Vacancy_AIMD_NVT_simulation_at_300_K || 0.001972 0.060891\n",
      "   Snapshot_9_of_12_of_Vacancy_AIMD_NVT_simulation_at_6000_K || 0.004563 0.312730\n",
      "           Snapshot_9_of_40_of_AIMD_NVT_simulation_at_3000_K || 0.004312 0.223595\n",
      "            Snapshot_9_of_40_of_AIMD_NVT_simulation_at_300_K || 0.000616 0.059817\n",
      "           Snapshot_9_of_40_of_AIMD_NVT_simulation_at_6000_K || 0.009072 0.784151\n"
     ]
    }
   ],
   "source": [
    "with h5py.File('../svreg_data/mlearn/Mo/Mo.hdf5', 'r') as db:\n",
    "        \n",
    "    print(\n",
    "        '{:>45} average errors || {:.6f} {:.6f}\\n'.format(\n",
    "            str(tree),\n",
    "            np.sqrt(np.average(unweighted[::2]**2)),\n",
    "            np.sqrt(np.average(unweighted[1::2]**2)),\n",
    "        )\n",
    "    )\n",
    "    \n",
    "    print(\n",
    "        '{:>60} || {} {}'.format(\n",
    "            'structName',\n",
    "            '(eV/atom)',\n",
    "            '(eV/A)'\n",
    "        )\n",
    "    )\n",
    "    \n",
    "    for i, structName in enumerate(sorted(db)):\n",
    "        print(\n",
    "            '{:>60} || {:.6f} {:.6f}'.format(\n",
    "                structName,\n",
    "                unweighted[2*i],\n",
    "                unweighted[2*i+1]\n",
    "            )\n",
    "        )"
   ]
  },
  {
   "cell_type": "raw",
   "metadata": {},
   "source": [
    "mul(sqrt(sqrt(rho)), rho) average errors || 0.178780 0.543202"
   ]
  },
  {
   "cell_type": "code",
   "execution_count": 11,
   "metadata": {},
   "outputs": [
    {
     "data": {
      "text/plain": [
       "<matplotlib.legend.Legend at 0x7f5b00e1b160>"
      ]
     },
     "execution_count": 11,
     "metadata": {},
     "output_type": "execute_result"
    },
    {
     "data": {
      "image/png": "[encoded data removed]",
      "text/plain": [
       "<Figure size 576x288 with 2 Axes>"
      ]
     },
     "metadata": {
      "needs_background": "light"
     },
     "output_type": "display_data"
    }
   ],
   "source": [
    "fig, ax = plt.subplots(1, 2, figsize=(8, 4))\n",
    "\n",
    "ax[0].hist(errors[::2] , bins=100, alpha=0.3, label='Energy errors', color='orange')\n",
    "ax[1].hist(errors[1::2], bins=100, alpha=0.3, label='Force errors', color='blue')\n",
    "\n",
    "ax[0].legend()\n",
    "ax[1].legend()"
   ]
  },
  {
   "cell_type": "markdown",
   "metadata": {},
   "source": [
    "## External validation"
   ]
  },
  {
   "cell_type": "code",
   "execution_count": 12,
   "metadata": {},
   "outputs": [
    {
     "data": {
      "text/plain": [
       "(21,)"
      ]
     },
     "execution_count": 12,
     "metadata": {},
     "output_type": "execute_result"
    }
   ],
   "source": [
    "tree.bestParams.shape"
   ]
  },
  {
   "cell_type": "code",
   "execution_count": 13,
   "metadata": {},
   "outputs": [],
   "source": [
    "popDict = tree.parseArr2Dict(np.atleast_2d(tree.bestParams), fillFixedKnots=True)\n",
    "\n",
    "for svName in popDict:\n",
    "    for bondType in popDict[svName]:\n",
    "        popDict[svName][bondType] = [popDict[svName][bondType]]"
   ]
  },
  {
   "cell_type": "code",
   "execution_count": 14,
   "metadata": {},
   "outputs": [],
   "source": [
    "def buildSVNodePool(group):\n",
    "    \"\"\"Prepare svNodePool for use in tree construction\"\"\"\n",
    "\n",
    "    svNodePool = []\n",
    "\n",
    "    # `group` is a pointer to an entry for a structure in the database\n",
    "    for svName in sorted(group):\n",
    "        svGroup = group[svName]\n",
    "\n",
    "        restrictions = None\n",
    "        if 'restrictions' in svGroup.attrs:\n",
    "            restrictions = []\n",
    "            resList = svGroup.attrs['restrictions'].tolist()\n",
    "            for num in svGroup.attrs['numRestrictions']:\n",
    "                tmp = []\n",
    "                for _ in range(num):\n",
    "                    tmp.append(tuple(resList.pop()))\n",
    "                restrictions.append(tmp)\n",
    "\n",
    "        svNodePool.append(\n",
    "            SVNode(\n",
    "                description=svName,\n",
    "                components=svGroup.attrs['components'],\n",
    "                numParams=svGroup.attrs['numParams'],\n",
    "                bonds={\n",
    "                    k:svGroup[k].attrs['components'] for k in svGroup.keys()\n",
    "                },\n",
    "                restrictions=restrictions,\n",
    "                paramRanges=svGroup.attrs['paramRanges']\\\n",
    "                    if 'paramRanges' in group[svName].attrs else None\n",
    "            )\n",
    "        )\n",
    "\n",
    "    return svNodePool"
   ]
  },
  {
   "cell_type": "code",
   "execution_count": 15,
   "metadata": {},
   "outputs": [
    {
     "name": "stdout",
     "output_type": "stream",
     "text": [
      "                                        Ground_state_crystal || 0.000000 0.028654\n",
      "                         Mo_3x3x3_cell_mode_1_strain_-0.0200 || 0.002350 0.028872\n",
      "                         Mo_3x3x3_cell_mode_1_strain_-0.0400 || 0.009258 0.028032\n",
      "                         Mo_3x3x3_cell_mode_1_strain_-0.0600 || 0.031877 0.033074\n",
      "                         Mo_3x3x3_cell_mode_1_strain_-0.0800 || 0.057567 0.032855\n",
      "                         Mo_3x3x3_cell_mode_1_strain_-0.1000 || 0.084679 0.035269\n",
      "                          Mo_3x3x3_cell_mode_1_strain_0.0200 || 0.005888 0.030261\n",
      "                          Mo_3x3x3_cell_mode_1_strain_0.0800 || 0.020028 0.035627\n",
      "                         Mo_3x3x3_cell_mode_2_strain_-0.0200 || 0.002422 0.022330\n",
      "                         Mo_3x3x3_cell_mode_2_strain_-0.0400 || 0.009313 0.031360\n",
      "                         Mo_3x3x3_cell_mode_2_strain_-0.0600 || 0.031967 0.031970\n",
      "                         Mo_3x3x3_cell_mode_2_strain_-0.0800 || 0.057517 0.032589\n",
      "                         Mo_3x3x3_cell_mode_2_strain_-0.1000 || 0.084827 0.044432\n",
      "                          Mo_3x3x3_cell_mode_2_strain_0.0200 || 0.005899 0.030859\n",
      "                          Mo_3x3x3_cell_mode_2_strain_0.0400 || 0.012062 0.035612\n",
      "                          Mo_3x3x3_cell_mode_2_strain_0.0600 || 0.016267 0.030170\n",
      "                          Mo_3x3x3_cell_mode_2_strain_0.0800 || 0.020101 0.032229\n",
      "                          Mo_3x3x3_cell_mode_2_strain_0.1000 || 0.025042 0.030522\n",
      "                         Mo_3x3x3_cell_mode_3_strain_-0.0200 || 0.002349 0.028948\n",
      "                         Mo_3x3x3_cell_mode_3_strain_-0.0400 || 0.009330 0.026374\n",
      "                         Mo_3x3x3_cell_mode_3_strain_-0.0600 || 0.031845 0.031250\n",
      "                         Mo_3x3x3_cell_mode_3_strain_-0.1000 || 0.084498 0.038308\n",
      "                          Mo_3x3x3_cell_mode_3_strain_0.0200 || 0.005978 0.028604\n",
      "                          Mo_3x3x3_cell_mode_3_strain_0.0400 || 0.012085 0.034558\n",
      "                          Mo_3x3x3_cell_mode_3_strain_0.0600 || 0.016151 0.035248\n",
      "                          Mo_3x3x3_cell_mode_3_strain_0.0800 || 0.020157 0.030332\n",
      "                          Mo_3x3x3_cell_mode_3_strain_0.1000 || 0.025033 0.031735\n",
      "                         Mo_3x3x3_cell_mode_4_strain_-0.0200 || 0.001246 0.024678\n",
      "                         Mo_3x3x3_cell_mode_4_strain_-0.0400 || 0.004902 0.023404\n",
      "                         Mo_3x3x3_cell_mode_4_strain_-0.0600 || 0.010700 0.022528\n",
      "                          Mo_3x3x3_cell_mode_4_strain_0.0200 || 0.001210 0.022193\n",
      "                          Mo_3x3x3_cell_mode_4_strain_0.0400 || 0.004901 0.027616\n",
      "                          Mo_3x3x3_cell_mode_4_strain_0.0600 || 0.010711 0.023990\n",
      "                          Mo_3x3x3_cell_mode_4_strain_0.0800 || 0.017898 0.021365\n",
      "                          Mo_3x3x3_cell_mode_4_strain_0.1000 || 0.026369 0.020771\n",
      "                         Mo_3x3x3_cell_mode_5_strain_-0.0200 || 0.001227 0.024168\n",
      "                         Mo_3x3x3_cell_mode_5_strain_-0.0400 || 0.004892 0.024712\n",
      "                         Mo_3x3x3_cell_mode_5_strain_-0.0600 || 0.010722 0.026699\n",
      "                         Mo_3x3x3_cell_mode_5_strain_-0.0800 || 0.017882 0.023114\n",
      "                         Mo_3x3x3_cell_mode_5_strain_-0.1000 || 0.026348 0.020574\n",
      "                          Mo_3x3x3_cell_mode_5_strain_0.0200 || 0.001209 0.024620\n",
      "                          Mo_3x3x3_cell_mode_5_strain_0.0400 || 0.004930 0.023333\n",
      "                          Mo_3x3x3_cell_mode_5_strain_0.0600 || 0.010813 0.021513\n",
      "                          Mo_3x3x3_cell_mode_5_strain_0.0800 || 0.017862 0.020423\n",
      "                          Mo_3x3x3_cell_mode_5_strain_0.1000 || 0.026196 0.022280\n",
      "                         Mo_3x3x3_cell_mode_6_strain_-0.0200 || 0.001279 0.024979\n",
      "                         Mo_3x3x3_cell_mode_6_strain_-0.0400 || 0.004892 0.022445\n",
      "                         Mo_3x3x3_cell_mode_6_strain_-0.0600 || 0.010814 0.021232\n",
      "                         Mo_3x3x3_cell_mode_6_strain_-0.0800 || 0.018018 0.026109\n",
      "                         Mo_3x3x3_cell_mode_6_strain_-0.1000 || 0.026291 0.018399\n",
      "                          Mo_3x3x3_cell_mode_6_strain_0.0200 || 0.001201 0.026546\n",
      "                          Mo_3x3x3_cell_mode_6_strain_0.0400 || 0.004953 0.022678\n",
      "                          Mo_3x3x3_cell_mode_6_strain_0.0600 || 0.010727 0.022450\n",
      "                          Mo_3x3x3_cell_mode_6_strain_0.0800 || 0.017834 0.020847\n",
      "                          Mo_3x3x3_cell_mode_6_strain_0.1000 || 0.026304 0.021152\n",
      "                                       Mo_3x3x3_cell_relaxed || 0.004360 0.000000\n",
      "                             Mo_surface_mp_Mo_mp-129__1_0_0_ || 0.076297 0.249098\n",
      "                             Mo_surface_mp_Mo_mp-129__1_1_0_ || 0.067664 0.158627\n",
      "                             Mo_surface_mp_Mo_mp-129__1_1_1_ || 0.011795 0.261576\n",
      "                             Mo_surface_mp_Mo_mp-129__2_1_0_ || 0.045501 0.296947\n",
      "                             Mo_surface_mp_Mo_mp-129__2_2_1_ || 0.026687 0.220493\n",
      "                             Mo_surface_mp_Mo_mp-129__3_1_1_ || 0.041918 0.386595\n",
      "                             Mo_surface_mp_Mo_mp-129__3_2_0_ || 0.071529 0.286768\n",
      "                             Mo_surface_mp_Mo_mp-129__3_2_1_ || 0.036087 0.319798\n",
      "                             Mo_surface_mp_Mo_mp-129__3_3_2_ || 0.016235 0.286415\n",
      "   Snapshot_10_of_12_of_Vacancy_AIMD_NVT_simulation_at_300_K || 0.023827 0.142408\n",
      "  Snapshot_10_of_12_of_Vacancy_AIMD_NVT_simulation_at_6000_K || 0.028102 0.514663\n",
      "          Snapshot_10_of_40_of_AIMD_NVT_simulation_at_3000_K || 0.001736 0.293404\n",
      "           Snapshot_10_of_40_of_AIMD_NVT_simulation_at_300_K || 0.004994 0.119223\n",
      "   Snapshot_11_of_12_of_Vacancy_AIMD_NVT_simulation_at_300_K || 0.021389 0.158646\n",
      "  Snapshot_11_of_12_of_Vacancy_AIMD_NVT_simulation_at_6000_K || 0.020251 0.437655\n",
      "           Snapshot_11_of_40_of_AIMD_NVT_simulation_at_300_K || 0.004111 0.113652\n",
      "          Snapshot_11_of_40_of_AIMD_NVT_simulation_at_6000_K || 0.019321 1.127559\n",
      "   Snapshot_12_of_12_of_Vacancy_AIMD_NVT_simulation_at_300_K || 0.021370 0.134368\n",
      "  Snapshot_12_of_12_of_Vacancy_AIMD_NVT_simulation_at_6000_K || 0.017051 0.621241\n",
      "          Snapshot_12_of_40_of_AIMD_NVT_simulation_at_3000_K || 0.000507 0.409348\n",
      "           Snapshot_12_of_40_of_AIMD_NVT_simulation_at_300_K || 0.003832 0.108311\n",
      "          Snapshot_12_of_40_of_AIMD_NVT_simulation_at_6000_K || 0.041307 1.225533\n",
      "          Snapshot_13_of_40_of_AIMD_NVT_simulation_at_3000_K || 0.004645 0.424833\n",
      "           Snapshot_13_of_40_of_AIMD_NVT_simulation_at_300_K || 0.004575 0.112025\n",
      "          Snapshot_13_of_40_of_AIMD_NVT_simulation_at_6000_K || 0.001515 1.164170\n",
      "           Snapshot_14_of_40_of_AIMD_NVT_simulation_at_300_K || 0.005124 0.109666\n",
      "          Snapshot_14_of_40_of_AIMD_NVT_simulation_at_6000_K || 0.021971 1.290693\n",
      "          Snapshot_15_of_40_of_AIMD_NVT_simulation_at_3000_K || 0.012940 0.332414\n",
      "           Snapshot_15_of_40_of_AIMD_NVT_simulation_at_300_K || 0.003327 0.119216\n",
      "          Snapshot_15_of_40_of_AIMD_NVT_simulation_at_6000_K || 0.024717 1.292363\n",
      "          Snapshot_16_of_40_of_AIMD_NVT_simulation_at_3000_K || 0.001997 0.408389\n",
      "           Snapshot_16_of_40_of_AIMD_NVT_simulation_at_300_K || 0.005471 0.122640\n",
      "          Snapshot_16_of_40_of_AIMD_NVT_simulation_at_6000_K || 0.021110 1.131265\n",
      "          Snapshot_17_of_40_of_AIMD_NVT_simulation_at_3000_K || 0.009852 0.477689\n",
      "           Snapshot_17_of_40_of_AIMD_NVT_simulation_at_300_K || 0.005558 0.107968\n",
      "          Snapshot_17_of_40_of_AIMD_NVT_simulation_at_6000_K || 0.031112 0.910315\n",
      "          Snapshot_18_of_40_of_AIMD_NVT_simulation_at_3000_K || 0.001732 0.411769\n",
      "           Snapshot_18_of_40_of_AIMD_NVT_simulation_at_300_K || 0.004414 0.114462\n",
      "          Snapshot_18_of_40_of_AIMD_NVT_simulation_at_6000_K || 0.042844 1.011107\n",
      "          Snapshot_19_of_40_of_AIMD_NVT_simulation_at_3000_K || 0.000843 0.369965\n",
      "           Snapshot_19_of_40_of_AIMD_NVT_simulation_at_300_K || 0.004565 0.112346\n",
      "    Snapshot_1_of_12_of_Vacancy_AIMD_NVT_simulation_at_300_K || 0.019185 0.115826\n",
      "   Snapshot_1_of_12_of_Vacancy_AIMD_NVT_simulation_at_6000_K || 0.021091 0.133397\n",
      "           Snapshot_1_of_40_of_AIMD_NVT_simulation_at_3000_K || 0.001875 0.331465\n",
      "            Snapshot_1_of_40_of_AIMD_NVT_simulation_at_300_K || 0.004163 0.105672\n",
      "           Snapshot_1_of_40_of_AIMD_NVT_simulation_at_6000_K || 0.026233 1.395040\n",
      "          Snapshot_20_of_40_of_AIMD_NVT_simulation_at_3000_K || 0.007995 0.521156\n",
      "           Snapshot_20_of_40_of_AIMD_NVT_simulation_at_300_K || 0.004728 0.089750\n",
      "          Snapshot_20_of_40_of_AIMD_NVT_simulation_at_6000_K || 0.031554 1.339896\n",
      "          Snapshot_21_of_40_of_AIMD_NVT_simulation_at_3000_K || 0.007472 0.400628\n",
      "           Snapshot_21_of_40_of_AIMD_NVT_simulation_at_300_K || 0.008624 0.112029\n",
      "          Snapshot_21_of_40_of_AIMD_NVT_simulation_at_6000_K || 0.003069 1.105898\n",
      "          Snapshot_22_of_40_of_AIMD_NVT_simulation_at_3000_K || 0.015749 0.411637\n",
      "           Snapshot_22_of_40_of_AIMD_NVT_simulation_at_300_K || 0.003063 0.124404\n",
      "          Snapshot_22_of_40_of_AIMD_NVT_simulation_at_6000_K || 0.009548 1.270375\n",
      "          Snapshot_23_of_40_of_AIMD_NVT_simulation_at_3000_K || 0.017036 0.446768\n",
      "           Snapshot_23_of_40_of_AIMD_NVT_simulation_at_300_K || 0.002007 0.130611\n",
      "          Snapshot_23_of_40_of_AIMD_NVT_simulation_at_6000_K || 0.003788 1.319430\n",
      "          Snapshot_24_of_40_of_AIMD_NVT_simulation_at_3000_K || 0.018874 0.418833\n",
      "           Snapshot_24_of_40_of_AIMD_NVT_simulation_at_300_K || 0.004436 0.110390\n",
      "          Snapshot_24_of_40_of_AIMD_NVT_simulation_at_6000_K || 0.055963 1.303089\n",
      "          Snapshot_25_of_40_of_AIMD_NVT_simulation_at_3000_K || 0.001674 0.382205\n",
      "          Snapshot_25_of_40_of_AIMD_NVT_simulation_at_6000_K || 0.061394 1.165716\n",
      "          Snapshot_26_of_40_of_AIMD_NVT_simulation_at_3000_K || 0.000665 0.355192\n",
      "           Snapshot_26_of_40_of_AIMD_NVT_simulation_at_300_K || 0.003556 0.113943\n",
      "          Snapshot_26_of_40_of_AIMD_NVT_simulation_at_6000_K || 0.041941 0.964515\n",
      "          Snapshot_27_of_40_of_AIMD_NVT_simulation_at_3000_K || 0.005527 0.540091\n",
      "          Snapshot_27_of_40_of_AIMD_NVT_simulation_at_6000_K || 0.011559 1.229961\n",
      "          Snapshot_28_of_40_of_AIMD_NVT_simulation_at_3000_K || 0.010052 0.382331\n",
      "           Snapshot_28_of_40_of_AIMD_NVT_simulation_at_300_K || 0.003956 0.110844\n",
      "          Snapshot_28_of_40_of_AIMD_NVT_simulation_at_6000_K || 0.021036 1.243512\n",
      "          Snapshot_29_of_40_of_AIMD_NVT_simulation_at_3000_K || 0.011827 0.408754\n",
      "           Snapshot_29_of_40_of_AIMD_NVT_simulation_at_300_K || 0.005788 0.104814\n",
      "          Snapshot_29_of_40_of_AIMD_NVT_simulation_at_6000_K || 0.002647 1.156263\n",
      "    Snapshot_2_of_12_of_Vacancy_AIMD_NVT_simulation_at_300_K || 0.022375 0.162175\n",
      "   Snapshot_2_of_12_of_Vacancy_AIMD_NVT_simulation_at_6000_K || 0.024173 0.427128\n",
      "           Snapshot_2_of_40_of_AIMD_NVT_simulation_at_3000_K || 0.002310 0.475001\n",
      "            Snapshot_2_of_40_of_AIMD_NVT_simulation_at_300_K || 0.004421 0.117385\n",
      "           Snapshot_2_of_40_of_AIMD_NVT_simulation_at_6000_K || 0.059929 1.057620\n",
      "          Snapshot_30_of_40_of_AIMD_NVT_simulation_at_3000_K || 0.007714 0.455724\n",
      "          Snapshot_30_of_40_of_AIMD_NVT_simulation_at_6000_K || 0.008423 1.150439\n",
      "          Snapshot_31_of_40_of_AIMD_NVT_simulation_at_3000_K || 0.002818 0.431189\n",
      "           Snapshot_31_of_40_of_AIMD_NVT_simulation_at_300_K || 0.003579 0.108796\n",
      "          Snapshot_32_of_40_of_AIMD_NVT_simulation_at_3000_K || 0.011041 0.465214\n",
      "           Snapshot_32_of_40_of_AIMD_NVT_simulation_at_300_K || 0.005464 0.106564\n",
      "          Snapshot_32_of_40_of_AIMD_NVT_simulation_at_6000_K || 0.009705 1.083050\n",
      "          Snapshot_33_of_40_of_AIMD_NVT_simulation_at_3000_K || 0.005617 0.368863\n",
      "           Snapshot_33_of_40_of_AIMD_NVT_simulation_at_300_K || 0.005029 0.098513\n",
      "          Snapshot_33_of_40_of_AIMD_NVT_simulation_at_6000_K || 0.040039 0.927797\n",
      "          Snapshot_34_of_40_of_AIMD_NVT_simulation_at_3000_K || 0.009254 0.361426\n",
      "           Snapshot_34_of_40_of_AIMD_NVT_simulation_at_300_K || 0.005563 0.095627\n",
      "          Snapshot_34_of_40_of_AIMD_NVT_simulation_at_6000_K || 0.012889 1.157329\n",
      "          Snapshot_35_of_40_of_AIMD_NVT_simulation_at_3000_K || 0.019731 0.493737\n",
      "           Snapshot_35_of_40_of_AIMD_NVT_simulation_at_300_K || 0.004852 0.122308\n",
      "          Snapshot_35_of_40_of_AIMD_NVT_simulation_at_6000_K || 0.017162 1.211579\n",
      "          Snapshot_36_of_40_of_AIMD_NVT_simulation_at_3000_K || 0.018296 0.513992\n",
      "           Snapshot_36_of_40_of_AIMD_NVT_simulation_at_300_K || 0.004294 0.120016\n",
      "          Snapshot_36_of_40_of_AIMD_NVT_simulation_at_6000_K || 0.029796 1.265353\n",
      "          Snapshot_37_of_40_of_AIMD_NVT_simulation_at_3000_K || 0.005470 0.389758\n",
      "           Snapshot_37_of_40_of_AIMD_NVT_simulation_at_300_K || 0.002935 0.115078\n",
      "          Snapshot_38_of_40_of_AIMD_NVT_simulation_at_3000_K || 0.020797 0.496197\n",
      "           Snapshot_38_of_40_of_AIMD_NVT_simulation_at_300_K || 0.003538 0.118556\n",
      "          Snapshot_38_of_40_of_AIMD_NVT_simulation_at_6000_K || 0.019433 1.030101\n",
      "          Snapshot_39_of_40_of_AIMD_NVT_simulation_at_3000_K || 0.012711 0.488809\n",
      "           Snapshot_39_of_40_of_AIMD_NVT_simulation_at_300_K || 0.003820 0.117843\n",
      "          Snapshot_39_of_40_of_AIMD_NVT_simulation_at_6000_K || 0.016124 1.125356\n",
      "    Snapshot_3_of_12_of_Vacancy_AIMD_NVT_simulation_at_300_K || 0.022358 0.149380\n",
      "   Snapshot_3_of_12_of_Vacancy_AIMD_NVT_simulation_at_6000_K || 0.027212 0.467331\n",
      "           Snapshot_3_of_40_of_AIMD_NVT_simulation_at_3000_K || 0.001897 0.383371\n",
      "            Snapshot_3_of_40_of_AIMD_NVT_simulation_at_300_K || 0.003669 0.110617\n",
      "           Snapshot_3_of_40_of_AIMD_NVT_simulation_at_6000_K || 0.034113 1.225275\n",
      "          Snapshot_40_of_40_of_AIMD_NVT_simulation_at_3000_K || 0.007099 0.367767\n",
      "          Snapshot_40_of_40_of_AIMD_NVT_simulation_at_6000_K || 0.012304 1.001760\n",
      "           Snapshot_4_of_40_of_AIMD_NVT_simulation_at_3000_K || 0.005842 0.405753\n",
      "            Snapshot_4_of_40_of_AIMD_NVT_simulation_at_300_K || 0.003202 0.124330\n",
      "           Snapshot_4_of_40_of_AIMD_NVT_simulation_at_6000_K || 0.041399 1.451023\n",
      "    Snapshot_5_of_12_of_Vacancy_AIMD_NVT_simulation_at_300_K || 0.026892 0.093534\n",
      "   Snapshot_5_of_12_of_Vacancy_AIMD_NVT_simulation_at_6000_K || 0.005051 0.438204\n",
      "           Snapshot_5_of_40_of_AIMD_NVT_simulation_at_3000_K || 0.008584 0.372374\n",
      "            Snapshot_5_of_40_of_AIMD_NVT_simulation_at_300_K || 0.006510 0.107157\n",
      "           Snapshot_5_of_40_of_AIMD_NVT_simulation_at_6000_K || 0.057882 1.707000\n",
      "    Snapshot_6_of_12_of_Vacancy_AIMD_NVT_simulation_at_300_K || 0.021404 0.144001\n",
      "   Snapshot_6_of_12_of_Vacancy_AIMD_NVT_simulation_at_6000_K || 0.026250 0.468675\n",
      "           Snapshot_6_of_40_of_AIMD_NVT_simulation_at_3000_K || 0.007021 0.471358\n",
      "            Snapshot_6_of_40_of_AIMD_NVT_simulation_at_300_K || 0.005537 0.096490\n",
      "           Snapshot_6_of_40_of_AIMD_NVT_simulation_at_6000_K || 0.077344 1.530498\n",
      "    Snapshot_7_of_12_of_Vacancy_AIMD_NVT_simulation_at_300_K || 0.023428 0.096046\n",
      "   Snapshot_7_of_12_of_Vacancy_AIMD_NVT_simulation_at_6000_K || 0.040601 0.454717\n",
      "           Snapshot_7_of_40_of_AIMD_NVT_simulation_at_6000_K || 0.006827 1.123439\n",
      "   Snapshot_8_of_12_of_Vacancy_AIMD_NVT_simulation_at_6000_K || 0.032860 0.550339\n",
      "           Snapshot_8_of_40_of_AIMD_NVT_simulation_at_3000_K || 0.008606 0.495707\n",
      "            Snapshot_8_of_40_of_AIMD_NVT_simulation_at_300_K || 0.003657 0.109617\n",
      "           Snapshot_8_of_40_of_AIMD_NVT_simulation_at_6000_K || 0.026243 1.294435\n",
      "    Snapshot_9_of_12_of_Vacancy_AIMD_NVT_simulation_at_300_K || 0.018836 0.069523\n",
      "   Snapshot_9_of_12_of_Vacancy_AIMD_NVT_simulation_at_6000_K || 0.028512 0.481865\n",
      "           Snapshot_9_of_40_of_AIMD_NVT_simulation_at_3000_K || 0.008871 0.343186\n",
      "            Snapshot_9_of_40_of_AIMD_NVT_simulation_at_300_K || 0.005289 0.121074\n",
      "           Snapshot_9_of_40_of_AIMD_NVT_simulation_at_6000_K || 0.044762 1.104642\n"
     ]
    }
   ],
   "source": [
    "import cma\n",
    "\n",
    "from mpi4py import MPI\n",
    "\n",
    "from nodes import SVNode\n",
    "from settings import Settings\n",
    "from database import SVDatabase\n",
    "from evaluator import SVEvaluator\n",
    "from regressor import SVRegressor\n",
    "\n",
    "settingsPath = 'examples/settings.in'\n",
    "databasePath = '../svreg_data/mlearn/Mo/Mo.hdf5'\n",
    "\n",
    "settings = Settings.from_file(settingsPath)\n",
    "settings['PROCS_PER_PHYS_NODE'] = 1\n",
    "settings['PROCS_PER_MANAGER'] = 1\n",
    "\n",
    "worldComm = MPI.COMM_WORLD\n",
    "with SVDatabase(settings['databasePath'], 'r') as database:\n",
    "    structNames = list(database.keys())\n",
    "#     structNames = ['Ground_state_crystal']\n",
    "\n",
    "    if settings['refStruct'] not in structNames:\n",
    "        raise RuntimeError(\n",
    "            \"The reference structure must be included in structNames.\"\n",
    "        )\n",
    "\n",
    "    evaluator =  SVEvaluator(worldComm, structNames, settings)\n",
    "    evaluator.distributeDatabase(database)\n",
    "\n",
    "    trueValues = database.loadTrueValues()\n",
    "\n",
    "#     numStructs = len(trueValues)\n",
    "    \n",
    "    refStruct = settings['refStruct']\n",
    "    treeErrors = np.zeros(2*len(database))\n",
    "    \n",
    "    svNodePool = buildSVNodePool(database[settings['refStruct']])\n",
    "    \n",
    "    regressor = SVRegressor(\n",
    "        settings, svNodePool, cma.CMAEvolutionStrategy, [1.0, {'popsize': 1}]\n",
    "    )\n",
    "    \n",
    "    regressor.trees = [tree]\n",
    "    \n",
    "    treePopulations = [tree.parseArr2Dict(np.atleast_2d(tree.bestParams), fillFixedKnots=True)]\n",
    "    \n",
    "    # Group all dictionaries into one\n",
    "    populationDict = {}\n",
    "    for svNode in svNodePool:\n",
    "        populationDict[svNode.description] = {}\n",
    "        for bondType in svNode.bonds:\n",
    "            populationDict[svNode.description][bondType] = []\n",
    "\n",
    "    for treeDict in treePopulations:\n",
    "        for svName in treeDict.keys():\n",
    "            for bondType, pop in treeDict[svName].items():\n",
    "                populationDict[svName][bondType].append(pop)\n",
    "                            \n",
    "    svEng = evaluator.evaluate(populationDict, evalType='energy')\n",
    "    svFcs = evaluator.evaluate(populationDict, evalType='forces')\n",
    "    \n",
    "    energies, forces = regressor.evaluateTrees(svEng, svFcs, 1)\n",
    "    \n",
    "    for structName in sorted(structNames):\n",
    "        eng = energies[structName][0] - energies[refStruct][0]\n",
    "        fcs =   forces[structName][0]\n",
    "        \n",
    "        engErrors = eng - trueValues[structName]['energy']\n",
    "        fcsErrors = fcs - trueValues[structName]['forces']\n",
    "        \n",
    "        treeErrors[2*i]   = abs(engErrors)\n",
    "        treeErrors[2*i+1] = np.average(np.abs(fcsErrors), axis=(1, 2))\n",
    "        \n",
    "        print(\n",
    "            '{:>60} || {:.6f} {:.6f}'.format(\n",
    "                structName,\n",
    "                treeErrors[2*i],\n",
    "                treeErrors[2*i+1]\n",
    "            )\n",
    "        )\n",
    "# del evaluator"
   ]
  },
  {
   "cell_type": "code",
   "execution_count": 19,
   "metadata": {},
   "outputs": [
    {
     "data": {
      "text/plain": [
       "0.8351426211278248"
      ]
     },
     "execution_count": 19,
     "metadata": {},
     "output_type": "execute_result"
    }
   ],
   "source": [
    "treeErrors.sum()"
   ]
  },
  {
   "cell_type": "code",
   "execution_count": null,
   "metadata": {},
   "outputs": [],
   "source": [
    "del evaluator"
   ]
  },
  {
   "cell_type": "code",
   "execution_count": 9,
   "metadata": {},
   "outputs": [],
   "source": [
    "from scipy.special import erf"
   ]
  },
  {
   "cell_type": "code",
   "execution_count": 21,
   "metadata": {},
   "outputs": [
    {
     "name": "stderr",
     "output_type": "stream",
     "text": [
      "/home/jvita/Programs/miniconda2/envs/parhdf5/lib/python3.6/site-packages/ipykernel_launcher.py:4: RuntimeWarning: divide by zero encountered in log\n",
      "  after removing the cwd from sys.path.\n"
     ]
    },
    {
     "data": {
      "text/plain": [
       "[<matplotlib.lines.Line2D at 0x7f6436030b00>]"
      ]
     },
     "execution_count": 21,
     "metadata": {},
     "output_type": "execute_result"
    },
    {
     "data": {
      "image/png": "[encoded data removed]",
      "text/plain": [
       "<Figure size 432x288 with 1 Axes>"
      ]
     },
     "metadata": {
      "needs_background": "light"
     },
     "output_type": "display_data"
    }
   ],
   "source": [
    "fig, ax = plt.subplots()\n",
    "\n",
    "x = np.linspace(0, 10, 100)\n",
    "ax.plot(x, 1-erf(np.log(x)))"
   ]
  },
  {
   "cell_type": "code",
   "execution_count": 23,
   "metadata": {},
   "outputs": [
    {
     "name": "stderr",
     "output_type": "stream",
     "text": [
      "/home/jvita/Programs/miniconda2/envs/parhdf5/lib/python3.6/site-packages/ipykernel_launcher.py:1: RuntimeWarning: divide by zero encountered in log\n",
      "  \"\"\"Entry point for launching an IPython kernel.\n"
     ]
    },
    {
     "data": {
      "text/plain": [
       "array([       -inf, -2.29253476, -1.59938758, -1.19392247, -0.9062404 ,\n",
       "       -0.68309684, -0.50077529, -0.34662461, -0.21309322, -0.09531018,\n",
       "        0.01005034,  0.10536052,  0.19237189,  0.2724146 ,  0.34652257,\n",
       "        0.41551544,  0.48005397,  0.54067859,  0.597837  ,  0.65190422,\n",
       "        0.70319752,  0.75198768,  0.7985077 ,  0.84295946,  0.88551907,\n",
       "        0.92634107,  0.96556178,  1.00330211,  1.03966975,  1.07476107,\n",
       "        1.10866262,  1.14145245,  1.17320115,  1.2039728 ,  1.23382577,\n",
       "        1.2628133 ,  1.29098418,  1.31838316,  1.3450514 ,  1.37102689,\n",
       "        1.3963447 ,  1.42103731,  1.44513486,  1.46866536,  1.49165488,\n",
       "        1.51412773,  1.53610664,  1.55761284,  1.57866625,  1.59928554,\n",
       "        1.61948825,  1.63929088,  1.65870896,  1.67775716,  1.69644929,\n",
       "        1.71479843,  1.73281693,  1.75051651,  1.76790825,  1.78500269,\n",
       "        1.80180981,  1.81833911,  1.83459963,  1.85059997,  1.86634833,\n",
       "        1.88185251,  1.89711998,  1.91215786,  1.92697295,  1.94157175,\n",
       "        1.95596048,  1.97014512,  1.98413136,  1.99792468,  2.01153034,\n",
       "        2.02495336,  2.03819858,  2.05127066,  2.06417407,  2.0769131 ,\n",
       "        2.08949188,  2.1019144 ,  2.11418449,  2.12630585,  2.13828204,\n",
       "        2.1501165 ,  2.16181254,  2.17337336,  2.18480206,  2.19610161,\n",
       "        2.20727491,  2.21832475,  2.22925382,  2.24006474,  2.25076003,\n",
       "        2.26134213,  2.27181343,  2.28217622,  2.29243272,  2.30258509])"
      ]
     },
     "execution_count": 23,
     "metadata": {},
     "output_type": "execute_result"
    }
   ],
   "source": [
    "1-erf(np.log(x))"
   ]
  },
  {
   "cell_type": "code",
   "execution_count": null,
   "metadata": {},
   "outputs": [],
   "source": []
  }
 ],
 "metadata": {
  "kernelspec": {
   "display_name": "Python 3",
   "language": "python",
   "name": "python3"
  },
  "language_info": {
   "codemirror_mode": {
    "name": "ipython",
    "version": 3
   },
   "file_extension": ".py",
   "mimetype": "text/x-python",
   "name": "python",
   "nbconvert_exporter": "python",
   "pygments_lexer": "ipython3",
   "version": "3.6.10"
  }
 },
 "nbformat": 4,
 "nbformat_minor": 4
}
