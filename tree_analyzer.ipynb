{
 "cells": [
  {
   "cell_type": "markdown",
   "metadata": {},
   "source": [
    "# Imports"
   ]
  },
  {
   "cell_type": "code",
   "execution_count": 1,
   "metadata": {},
   "outputs": [],
   "source": [
    "import os\n",
    "import h5py\n",
    "import sympy\n",
    "import glob\n",
    "import pickle\n",
    "import numpy as np\n",
    "import matplotlib.pyplot as plt\n",
    "\n",
    "from IPython.display import display, Math\n",
    "from scipy.interpolate import CubicSpline\n",
    "\n",
    "from tree import SVTree\n",
    "from nodes import FunctionNode\n",
    "from regressor import SVRegressor"
   ]
  },
  {
   "cell_type": "markdown",
   "metadata": {},
   "source": [
    "# Setup"
   ]
  },
  {
   "cell_type": "code",
   "execution_count": 87,
   "metadata": {},
   "outputs": [],
   "source": [
    "basePath = os.path.join('results', 'smeam_dup')\n",
    "fromArchive = False\n",
    "\n",
    "basePath = os.path.join('results', 'mo_smooth2')\n",
    "fromArchive = True"
   ]
  },
  {
   "cell_type": "code",
   "execution_count": 88,
   "metadata": {},
   "outputs": [
    {
     "data": {
      "text/latex": [
       "$\\displaystyle 43.10<->ffg \\cdot \\rho + \\cos{\\left(\\rho \\right)}$"
      ],
      "text/plain": [
       "<IPython.core.display.Math object>"
      ]
     },
     "metadata": {},
     "output_type": "display_data"
    },
    {
     "data": {
      "text/latex": [
       "$\\displaystyle 46.42<->ffg \\cdot ffg$"
      ],
      "text/plain": [
       "<IPython.core.display.Math object>"
      ]
     },
     "metadata": {},
     "output_type": "display_data"
    },
    {
     "data": {
      "text/latex": [
       "$\\displaystyle 51.43<->\\left(ffg \\cdot \\rho + \\rho\\right) \\cdot \\left(\\operatorname{sig}{\\left(ffg \\right)} + \\cos{\\left(\\rho \\right)}\\right)$"
      ],
      "text/plain": [
       "<IPython.core.display.Math object>"
      ]
     },
     "metadata": {},
     "output_type": "display_data"
    },
    {
     "data": {
      "text/latex": [
       "$\\displaystyle 52.66<->ffg \\cdot ffg + \\rho \\cdot \\rho$"
      ],
      "text/plain": [
       "<IPython.core.display.Math object>"
      ]
     },
     "metadata": {},
     "output_type": "display_data"
    },
    {
     "data": {
      "text/latex": [
       "$\\displaystyle 65.35<->ffg \\cdot ffg + \\cos{\\left(\\rho \\right)}$"
      ],
      "text/plain": [
       "<IPython.core.display.Math object>"
      ]
     },
     "metadata": {},
     "output_type": "display_data"
    },
    {
     "data": {
      "text/latex": [
       "$\\displaystyle 78.78<->ffg$"
      ],
      "text/plain": [
       "<IPython.core.display.Math object>"
      ]
     },
     "metadata": {},
     "output_type": "display_data"
    },
    {
     "data": {
      "text/latex": [
       "$\\displaystyle 80.96<->\\rho$"
      ],
      "text/plain": [
       "<IPython.core.display.Math object>"
      ]
     },
     "metadata": {},
     "output_type": "display_data"
    },
    {
     "data": {
      "text/latex": [
       "$\\displaystyle 89.21<->ffg + \\operatorname{sig}{\\left(\\rho \\right)}$"
      ],
      "text/plain": [
       "<IPython.core.display.Math object>"
      ]
     },
     "metadata": {},
     "output_type": "display_data"
    }
   ],
   "source": [
    "choice = 0\n",
    "\n",
    "if fromArchive:\n",
    "    allTreeNames = glob.glob(os.path.join(basePath, '*'))\n",
    "    del allTreeNames[allTreeNames.index(os.path.join(basePath, 'archive.pkl'))]\n",
    "    \n",
    "    bestCost = np.inf\n",
    "    bestIdx = 0\n",
    "    \n",
    "    worstCost = 0\n",
    "    worstIdx = 0\n",
    "    \n",
    "    archive = pickle.load(open(os.path.join(basePath, 'archive.pkl'), 'rb'))\n",
    "    \n",
    "    allErrors = []\n",
    "    allLatex = []\n",
    "\n",
    "    for i, treePath in enumerate(allTreeNames):\n",
    "        treeName = os.path.split(treePath)[-1]\n",
    "        \n",
    "        tree = pickle.load(open(os.path.join(treePath, 'tree.pkl'), 'rb'))\n",
    "\n",
    "        entry = archive[treeName]\n",
    "        tree.bestParams = entry.bestParams\n",
    "\n",
    "        errors = entry.bestErrors\n",
    "    \n",
    "        latex = SVTree([\n",
    "            FunctionNode(n.description) if isinstance(n, FunctionNode)\n",
    "            else n\n",
    "            for n in tree.nodes\n",
    "        ]).latex()\n",
    "\n",
    "        sumErrors = np.sum(errors)\n",
    "        \n",
    "        if sumErrors < bestCost:\n",
    "            bestCost = sumErrors\n",
    "            bestIdx = i\n",
    "        \n",
    "        if sumErrors > worstCost:\n",
    "            worstCost = sumErrors\n",
    "            worstIdx = i\n",
    "        \n",
    "        allErrors.append(sumErrors)\n",
    "        allLatex.append(latex)\n",
    "        \n",
    "    allLatex = np.array(allLatex)[np.argsort(allErrors)]\n",
    "    allTreeNames = np.array(allTreeNames)[np.argsort(allErrors)]\n",
    "    allErrors = np.array(allErrors)[np.argsort(allErrors)]\n",
    "\n",
    "    for latex, errors in zip(allLatex, allErrors):\n",
    "        display(Math('{:.2f}<->{}'.format(\n",
    "            errors,\n",
    "            sympy.latex(sympy.sympify(latex, evaluate=False), mul_symbol='dot')\n",
    "        )))\n",
    "            \n",
    "    treePath = allTreeNames[choice]\n",
    "#     treePath = allTreeNames[worstIdx]\n",
    "    treeName = os.path.split(treePath)[-1]\n",
    "\n",
    "    archive = pickle.load(open(os.path.join(basePath, 'archive.pkl'), 'rb'))\n",
    "    tree = pickle.load(open(os.path.join(basePath, treeName, 'tree.pkl'), 'rb'))\n",
    "    \n",
    "    entry = archive[treeName]\n",
    "    tree.bestParams = entry.bestParams\n",
    "    \n",
    "    errors = entry.bestErrors\n",
    "else:\n",
    "    files = sorted(glob.glob(os.path.join(basePath, 'tree*')))\n",
    "    intIndices = [int(s[s.find('tree')+5:s.find('.pkl')]) for s in files]\n",
    "\n",
    "    argsort = np.argsort(intIndices)\n",
    "\n",
    "    treeFile = np.array(files)[argsort][-1]\n",
    "    tree = pickle.load(open(treeFile, 'rb'))\n",
    "    \n",
    "    errorFiles = sorted(glob.glob(os.path.join(basePath, 'errors*')))\n",
    "    errorFile  = np.array(errorFiles)[argsort][-1]\n",
    "    errors = pickle.load(open(errorFile, 'rb'))"
   ]
  },
  {
   "cell_type": "markdown",
   "metadata": {},
   "source": [
    "# Plotting"
   ]
  },
  {
   "cell_type": "code",
   "execution_count": 121,
   "metadata": {},
   "outputs": [],
   "source": [
    "def plotSpline(x, y, bc):\n",
    "    cs = CubicSpline(x, y, bc_type=((1, bc[0]), (1, bc[1])))\n",
    "#     cs = CubicSpline(x, y, bc_type='natural')\n",
    "    \n",
    "    plotX = np.linspace(x[0]-.1, x[-1]+.1, 100)\n",
    "    plotY = cs(plotX)\n",
    "    \n",
    "    return plotX, plotY"
   ]
  },
  {
   "cell_type": "code",
   "execution_count": 122,
   "metadata": {},
   "outputs": [],
   "source": [
    "splits = []\n",
    "types = []\n",
    "\n",
    "for svNode in tree.svNodes:\n",
    "    for comp in svNode.components:\n",
    "        splits.append(svNode.numParams[comp]+len(svNode.restrictions[comp]))\n",
    "        types.append(comp)"
   ]
  },
  {
   "cell_type": "code",
   "execution_count": 123,
   "metadata": {},
   "outputs": [],
   "source": [
    "splitParams = np.array_split(tree.fillFixedKnots(tree.bestParams)[0], np.cumsum(splits)[:-1])"
   ]
  },
  {
   "cell_type": "code",
   "execution_count": 124,
   "metadata": {},
   "outputs": [
    {
     "data": {
      "text/latex": [
       "$\\displaystyle ffg \\cdot \\rho + \\cos{\\left(\\rho \\right)}$"
      ],
      "text/plain": [
       "<IPython.core.display.Math object>"
      ]
     },
     "metadata": {},
     "output_type": "display_data"
    },
    {
     "data": {
      "image/png": "[encoded data removed]",
      "text/plain": [
       "<Figure size 864x576 with 6 Axes>"
      ]
     },
     "metadata": {
      "needs_background": "light"
     },
     "output_type": "display_data"
    }
   ],
   "source": [
    "numRows = int(max(1, np.ceil(len(splitParams)/3)))\n",
    "\n",
    "fig, axes = plt.subplots(numRows, 3, figsize=(12, 4*numRows))\n",
    "\n",
    "compNames = np.hstack([svNode.components for svNode in tree.svNodes])\n",
    "\n",
    "display(Math('{}'.format(\n",
    "    sympy.latex(sympy.sympify(allLatex[choice], evaluate=False), mul_symbol='dot')\n",
    ")))\n",
    "    \n",
    "for i, spline in enumerate(splitParams):\n",
    "    y, bc = spline[:-2], spline[-2:]\n",
    "    \n",
    "    x = np.arange(len(y))\n",
    "    \n",
    "    plotX, plotY = plotSpline(x, y, bc)\n",
    "    \n",
    "    row = i//3\n",
    "    col = i%3\n",
    "    \n",
    "    if numRows > 1:\n",
    "        ax = axes[row][col]\n",
    "    else:\n",
    "        ax = axes[col]\n",
    "    \n",
    "    ax.plot(x, y, 'o')\n",
    "    ax.plot(plotX, plotY)\n",
    "    ax.set_title(compNames[i].decode('utf-8'))\n",
    "    \n",
    "_ = plt.suptitle(r'${}$'.format(sympy.latex(sympy.sympify(allLatex[choice], evaluate=False), mul_symbol='dot')))"
   ]
  },
  {
   "cell_type": "code",
   "execution_count": 120,
   "metadata": {},
   "outputs": [
    {
     "data": {
      "text/plain": [
       "array([  93.8920417 ,   78.24241712,   62.57661228,   46.9263978 ,\n",
       "         31.28655487,   15.63062262,    0.        , -235.42645746,\n",
       "          0.        ])"
      ]
     },
     "execution_count": 120,
     "metadata": {},
     "output_type": "execute_result"
    }
   ],
   "source": [
    "splitParams[2]"
   ]
  },
  {
   "cell_type": "markdown",
   "metadata": {},
   "source": [
    "# Errors"
   ]
  },
  {
   "cell_type": "markdown",
   "metadata": {},
   "source": [
    "## Directly from logs"
   ]
  },
  {
   "cell_type": "code",
   "execution_count": 53,
   "metadata": {},
   "outputs": [
    {
     "data": {
      "text/plain": [
       "0.23699244422719676"
      ]
     },
     "execution_count": 53,
     "metadata": {},
     "output_type": "execute_result"
    }
   ],
   "source": [
    "energyWeight = 1\n",
    "forcesWeight = 1\n",
    "\n",
    "unweighted = errors.copy()\n",
    "unweighted[::2] /= energyWeight\n",
    "unweighted[1::2] /= forcesWeight\n",
    "\n",
    "np.sqrt(np.average(unweighted**2))"
   ]
  },
  {
   "cell_type": "code",
   "execution_count": 54,
   "metadata": {},
   "outputs": [
    {
     "name": "stdout",
     "output_type": "stream",
     "text": [
      "            add(rho, add(ffg, mul(rho, ffg))) average errors || 0.011502 0.334961\n",
      "\n",
      "                                                  structName || (eV/atom) (eV/A)\n",
      "                                        Ground_state_crystal || 0.000000 0.014663\n",
      "                         Mo_3x3x3_cell_mode_1_strain_-0.0200 || 0.001451 0.012469\n",
      "                         Mo_3x3x3_cell_mode_1_strain_-0.0400 || 0.001806 0.015489\n",
      "                         Mo_3x3x3_cell_mode_1_strain_-0.0600 || 0.001430 0.023469\n",
      "                         Mo_3x3x3_cell_mode_1_strain_-0.0800 || 0.008387 0.028313\n",
      "                         Mo_3x3x3_cell_mode_1_strain_-0.1000 || 0.020667 0.045762\n",
      "                          Mo_3x3x3_cell_mode_1_strain_0.0200 || 0.000958 0.012809\n",
      "                          Mo_3x3x3_cell_mode_1_strain_0.0800 || 0.003137 0.015803\n",
      "                         Mo_3x3x3_cell_mode_2_strain_-0.0200 || 0.001466 0.013145\n",
      "                         Mo_3x3x3_cell_mode_2_strain_-0.0400 || 0.001829 0.017188\n",
      "                         Mo_3x3x3_cell_mode_2_strain_-0.0600 || 0.001488 0.022023\n",
      "                         Mo_3x3x3_cell_mode_2_strain_-0.0800 || 0.008366 0.028941\n",
      "                         Mo_3x3x3_cell_mode_2_strain_-0.1000 || 0.020693 0.051344\n",
      "                          Mo_3x3x3_cell_mode_2_strain_0.0200 || 0.000933 0.014574\n",
      "                          Mo_3x3x3_cell_mode_2_strain_0.0400 || 0.002851 0.014777\n",
      "                          Mo_3x3x3_cell_mode_2_strain_0.0600 || 0.004772 0.015038\n",
      "                          Mo_3x3x3_cell_mode_2_strain_0.0800 || 0.003128 0.015213\n",
      "                          Mo_3x3x3_cell_mode_2_strain_0.1000 || 0.002372 0.016735\n",
      "                         Mo_3x3x3_cell_mode_3_strain_-0.0200 || 0.001434 0.014093\n",
      "                         Mo_3x3x3_cell_mode_3_strain_-0.0400 || 0.001799 0.015331\n",
      "                         Mo_3x3x3_cell_mode_3_strain_-0.0600 || 0.001421 0.023188\n",
      "                         Mo_3x3x3_cell_mode_3_strain_-0.1000 || 0.020618 0.042777\n",
      "                          Mo_3x3x3_cell_mode_3_strain_0.0200 || 0.000895 0.013814\n",
      "                          Mo_3x3x3_cell_mode_3_strain_0.0400 || 0.002821 0.014227\n",
      "                          Mo_3x3x3_cell_mode_3_strain_0.0600 || 0.004768 0.016760\n",
      "                          Mo_3x3x3_cell_mode_3_strain_0.0800 || 0.003141 0.014577\n",
      "                          Mo_3x3x3_cell_mode_3_strain_0.1000 || 0.002370 0.018515\n",
      "                         Mo_3x3x3_cell_mode_4_strain_-0.0200 || 0.000391 0.014344\n",
      "                         Mo_3x3x3_cell_mode_4_strain_-0.0400 || 0.001682 0.011986\n",
      "                         Mo_3x3x3_cell_mode_4_strain_-0.0600 || 0.003646 0.012765\n",
      "                          Mo_3x3x3_cell_mode_4_strain_0.0200 || 0.000400 0.010757\n",
      "                          Mo_3x3x3_cell_mode_4_strain_0.0400 || 0.001672 0.015515\n",
      "                          Mo_3x3x3_cell_mode_4_strain_0.0600 || 0.003627 0.014616\n",
      "                          Mo_3x3x3_cell_mode_4_strain_0.0800 || 0.006669 0.016497\n",
      "                          Mo_3x3x3_cell_mode_4_strain_0.1000 || 0.010667 0.013176\n",
      "                         Mo_3x3x3_cell_mode_5_strain_-0.0200 || 0.000408 0.010747\n",
      "                         Mo_3x3x3_cell_mode_5_strain_-0.0400 || 0.001695 0.012437\n",
      "                         Mo_3x3x3_cell_mode_5_strain_-0.0600 || 0.003572 0.016728\n",
      "                         Mo_3x3x3_cell_mode_5_strain_-0.0800 || 0.006651 0.015708\n",
      "                         Mo_3x3x3_cell_mode_5_strain_-0.1000 || 0.010646 0.015772\n",
      "                          Mo_3x3x3_cell_mode_5_strain_0.0200 || 0.000321 0.011530\n",
      "                          Mo_3x3x3_cell_mode_5_strain_0.0400 || 0.001666 0.012783\n",
      "                          Mo_3x3x3_cell_mode_5_strain_0.0600 || 0.003574 0.012508\n",
      "                          Mo_3x3x3_cell_mode_5_strain_0.0800 || 0.006637 0.013117\n",
      "                          Mo_3x3x3_cell_mode_5_strain_0.1000 || 0.010679 0.016238\n",
      "                         Mo_3x3x3_cell_mode_6_strain_-0.0200 || 0.000413 0.013062\n",
      "                         Mo_3x3x3_cell_mode_6_strain_-0.0400 || 0.001681 0.013090\n",
      "                         Mo_3x3x3_cell_mode_6_strain_-0.0600 || 0.003637 0.014693\n",
      "                         Mo_3x3x3_cell_mode_6_strain_-0.0800 || 0.006600 0.015710\n",
      "                         Mo_3x3x3_cell_mode_6_strain_-0.1000 || 0.010675 0.013572\n",
      "                          Mo_3x3x3_cell_mode_6_strain_0.0200 || 0.000377 0.015673\n",
      "                          Mo_3x3x3_cell_mode_6_strain_0.0400 || 0.001669 0.013132\n",
      "                          Mo_3x3x3_cell_mode_6_strain_0.0600 || 0.003611 0.012483\n",
      "                          Mo_3x3x3_cell_mode_6_strain_0.0800 || 0.006652 0.016014\n",
      "                          Mo_3x3x3_cell_mode_6_strain_0.1000 || 0.010655 0.017217\n",
      "                                       Mo_3x3x3_cell_relaxed || 0.003513 0.000000\n",
      "                             Mo_surface_mp_Mo_mp-129__1_0_0_ || 0.055109 0.173908\n",
      "                             Mo_surface_mp_Mo_mp-129__1_1_0_ || 0.053506 0.076876\n",
      "                             Mo_surface_mp_Mo_mp-129__1_1_1_ || 0.010984 0.233472\n",
      "                             Mo_surface_mp_Mo_mp-129__2_1_0_ || 0.034660 0.184877\n",
      "                             Mo_surface_mp_Mo_mp-129__2_2_1_ || 0.027473 0.118024\n",
      "                             Mo_surface_mp_Mo_mp-129__3_1_1_ || 0.011329 0.235992\n",
      "                             Mo_surface_mp_Mo_mp-129__3_2_0_ || 0.046808 0.156777\n",
      "                             Mo_surface_mp_Mo_mp-129__3_2_1_ || 0.028009 0.186495\n",
      "                             Mo_surface_mp_Mo_mp-129__3_3_2_ || 0.013100 0.183595\n",
      "   Snapshot_10_of_12_of_Vacancy_AIMD_NVT_simulation_at_300_K || 0.000128 0.094754\n",
      "  Snapshot_10_of_12_of_Vacancy_AIMD_NVT_simulation_at_6000_K || 0.000059 0.316137\n",
      "          Snapshot_10_of_40_of_AIMD_NVT_simulation_at_3000_K || 0.001777 0.214550\n",
      "           Snapshot_10_of_40_of_AIMD_NVT_simulation_at_300_K || 0.000322 0.063311\n",
      "   Snapshot_11_of_12_of_Vacancy_AIMD_NVT_simulation_at_300_K || 0.000750 0.089718\n",
      "  Snapshot_11_of_12_of_Vacancy_AIMD_NVT_simulation_at_6000_K || 0.010952 0.290074\n",
      "           Snapshot_11_of_40_of_AIMD_NVT_simulation_at_300_K || 0.000977 0.059991\n",
      "          Snapshot_11_of_40_of_AIMD_NVT_simulation_at_6000_K || 0.020621 0.633804\n",
      "   Snapshot_12_of_12_of_Vacancy_AIMD_NVT_simulation_at_300_K || 0.002094 0.080747\n",
      "  Snapshot_12_of_12_of_Vacancy_AIMD_NVT_simulation_at_6000_K || 0.012195 0.427641\n",
      "          Snapshot_12_of_40_of_AIMD_NVT_simulation_at_3000_K || 0.008593 0.261224\n",
      "           Snapshot_12_of_40_of_AIMD_NVT_simulation_at_300_K || 0.000456 0.057971\n",
      "          Snapshot_12_of_40_of_AIMD_NVT_simulation_at_6000_K || 0.012538 0.741989\n",
      "          Snapshot_13_of_40_of_AIMD_NVT_simulation_at_3000_K || 0.007009 0.250106\n",
      "           Snapshot_13_of_40_of_AIMD_NVT_simulation_at_300_K || 0.001459 0.056113\n",
      "          Snapshot_13_of_40_of_AIMD_NVT_simulation_at_6000_K || 0.024172 0.672260\n",
      "           Snapshot_14_of_40_of_AIMD_NVT_simulation_at_300_K || 0.000202 0.059377\n",
      "          Snapshot_14_of_40_of_AIMD_NVT_simulation_at_6000_K || 0.007507 0.714775\n",
      "          Snapshot_15_of_40_of_AIMD_NVT_simulation_at_3000_K || 0.000232 0.233566\n",
      "           Snapshot_15_of_40_of_AIMD_NVT_simulation_at_300_K || 0.001081 0.066771\n",
      "          Snapshot_15_of_40_of_AIMD_NVT_simulation_at_6000_K || 0.015550 0.752479\n",
      "          Snapshot_16_of_40_of_AIMD_NVT_simulation_at_3000_K || 0.000394 0.272345\n",
      "           Snapshot_16_of_40_of_AIMD_NVT_simulation_at_300_K || 0.000956 0.067742\n",
      "          Snapshot_16_of_40_of_AIMD_NVT_simulation_at_6000_K || 0.002765 0.697647\n",
      "          Snapshot_17_of_40_of_AIMD_NVT_simulation_at_3000_K || 0.003119 0.269245\n",
      "           Snapshot_17_of_40_of_AIMD_NVT_simulation_at_300_K || 0.001194 0.059366\n",
      "          Snapshot_17_of_40_of_AIMD_NVT_simulation_at_6000_K || 0.011257 0.546753\n",
      "          Snapshot_18_of_40_of_AIMD_NVT_simulation_at_3000_K || 0.001535 0.258443\n",
      "           Snapshot_18_of_40_of_AIMD_NVT_simulation_at_300_K || 0.001777 0.052302\n",
      "          Snapshot_18_of_40_of_AIMD_NVT_simulation_at_6000_K || 0.010804 0.722424\n",
      "          Snapshot_19_of_40_of_AIMD_NVT_simulation_at_3000_K || 0.002736 0.282767\n",
      "           Snapshot_19_of_40_of_AIMD_NVT_simulation_at_300_K || 0.000824 0.062499\n",
      "    Snapshot_1_of_12_of_Vacancy_AIMD_NVT_simulation_at_300_K || 0.000003 0.084481\n",
      "   Snapshot_1_of_12_of_Vacancy_AIMD_NVT_simulation_at_6000_K || 0.002466 0.087037\n",
      "           Snapshot_1_of_40_of_AIMD_NVT_simulation_at_3000_K || 0.002981 0.220907\n",
      "            Snapshot_1_of_40_of_AIMD_NVT_simulation_at_300_K || 0.000799 0.055488\n",
      "           Snapshot_1_of_40_of_AIMD_NVT_simulation_at_6000_K || 0.032181 0.871231\n",
      "          Snapshot_20_of_40_of_AIMD_NVT_simulation_at_3000_K || 0.003324 0.275035\n",
      "           Snapshot_20_of_40_of_AIMD_NVT_simulation_at_300_K || 0.001315 0.045979\n",
      "          Snapshot_20_of_40_of_AIMD_NVT_simulation_at_6000_K || 0.001279 0.699390\n",
      "          Snapshot_21_of_40_of_AIMD_NVT_simulation_at_3000_K || 0.005788 0.257380\n",
      "           Snapshot_21_of_40_of_AIMD_NVT_simulation_at_300_K || 0.000140 0.062919\n",
      "          Snapshot_21_of_40_of_AIMD_NVT_simulation_at_6000_K || 0.006031 0.715027\n",
      "          Snapshot_22_of_40_of_AIMD_NVT_simulation_at_3000_K || 0.011635 0.282463\n",
      "           Snapshot_22_of_40_of_AIMD_NVT_simulation_at_300_K || 0.000579 0.053188\n",
      "          Snapshot_22_of_40_of_AIMD_NVT_simulation_at_6000_K || 0.012792 0.764344\n",
      "          Snapshot_23_of_40_of_AIMD_NVT_simulation_at_3000_K || 0.010206 0.250191\n",
      "           Snapshot_23_of_40_of_AIMD_NVT_simulation_at_300_K || 0.000566 0.062113\n",
      "          Snapshot_23_of_40_of_AIMD_NVT_simulation_at_6000_K || 0.037324 0.686272\n",
      "          Snapshot_24_of_40_of_AIMD_NVT_simulation_at_3000_K || 0.011660 0.245350\n",
      "           Snapshot_24_of_40_of_AIMD_NVT_simulation_at_300_K || 0.000110 0.055154\n",
      "          Snapshot_24_of_40_of_AIMD_NVT_simulation_at_6000_K || 0.024332 0.833324\n",
      "          Snapshot_25_of_40_of_AIMD_NVT_simulation_at_3000_K || 0.011005 0.240347\n",
      "          Snapshot_25_of_40_of_AIMD_NVT_simulation_at_6000_K || 0.000355 0.672402\n",
      "          Snapshot_26_of_40_of_AIMD_NVT_simulation_at_3000_K || 0.000924 0.258873\n",
      "           Snapshot_26_of_40_of_AIMD_NVT_simulation_at_300_K || 0.000660 0.062980\n",
      "          Snapshot_26_of_40_of_AIMD_NVT_simulation_at_6000_K || 0.034620 0.524776\n",
      "          Snapshot_27_of_40_of_AIMD_NVT_simulation_at_3000_K || 0.002701 0.333564\n",
      "          Snapshot_27_of_40_of_AIMD_NVT_simulation_at_6000_K || 0.013872 0.706908\n",
      "          Snapshot_28_of_40_of_AIMD_NVT_simulation_at_3000_K || 0.003534 0.206025\n",
      "           Snapshot_28_of_40_of_AIMD_NVT_simulation_at_300_K || 0.000703 0.065120\n",
      "          Snapshot_28_of_40_of_AIMD_NVT_simulation_at_6000_K || 0.005617 0.772783\n",
      "          Snapshot_29_of_40_of_AIMD_NVT_simulation_at_3000_K || 0.002785 0.268335\n",
      "           Snapshot_29_of_40_of_AIMD_NVT_simulation_at_300_K || 0.001949 0.052003\n",
      "          Snapshot_29_of_40_of_AIMD_NVT_simulation_at_6000_K || 0.004187 0.644537\n",
      "    Snapshot_2_of_12_of_Vacancy_AIMD_NVT_simulation_at_300_K || 0.001773 0.092155\n",
      "   Snapshot_2_of_12_of_Vacancy_AIMD_NVT_simulation_at_6000_K || 0.003654 0.271125\n",
      "           Snapshot_2_of_40_of_AIMD_NVT_simulation_at_3000_K || 0.003432 0.255821\n",
      "            Snapshot_2_of_40_of_AIMD_NVT_simulation_at_300_K || 0.000047 0.069174\n",
      "           Snapshot_2_of_40_of_AIMD_NVT_simulation_at_6000_K || 0.007912 0.584004\n",
      "          Snapshot_30_of_40_of_AIMD_NVT_simulation_at_3000_K || 0.007855 0.308855\n",
      "          Snapshot_30_of_40_of_AIMD_NVT_simulation_at_6000_K || 0.000437 0.682065\n",
      "          Snapshot_31_of_40_of_AIMD_NVT_simulation_at_3000_K || 0.003472 0.275007\n",
      "           Snapshot_31_of_40_of_AIMD_NVT_simulation_at_300_K || 0.000356 0.056923\n",
      "          Snapshot_32_of_40_of_AIMD_NVT_simulation_at_3000_K || 0.001461 0.289838\n",
      "           Snapshot_32_of_40_of_AIMD_NVT_simulation_at_300_K || 0.000007 0.060927\n",
      "          Snapshot_32_of_40_of_AIMD_NVT_simulation_at_6000_K || 0.015157 0.560552\n",
      "          Snapshot_33_of_40_of_AIMD_NVT_simulation_at_3000_K || 0.008614 0.218802\n",
      "           Snapshot_33_of_40_of_AIMD_NVT_simulation_at_300_K || 0.001352 0.052265\n",
      "          Snapshot_33_of_40_of_AIMD_NVT_simulation_at_6000_K || 0.039316 0.559141\n",
      "          Snapshot_34_of_40_of_AIMD_NVT_simulation_at_3000_K || 0.001633 0.247180\n",
      "           Snapshot_34_of_40_of_AIMD_NVT_simulation_at_300_K || 0.001413 0.051884\n",
      "          Snapshot_34_of_40_of_AIMD_NVT_simulation_at_6000_K || 0.001760 0.654173\n",
      "          Snapshot_35_of_40_of_AIMD_NVT_simulation_at_3000_K || 0.006113 0.309301\n",
      "           Snapshot_35_of_40_of_AIMD_NVT_simulation_at_300_K || 0.000103 0.066596\n",
      "          Snapshot_35_of_40_of_AIMD_NVT_simulation_at_6000_K || 0.013179 0.669666\n",
      "          Snapshot_36_of_40_of_AIMD_NVT_simulation_at_3000_K || 0.000124 0.326847\n",
      "           Snapshot_36_of_40_of_AIMD_NVT_simulation_at_300_K || 0.000209 0.062795\n",
      "          Snapshot_36_of_40_of_AIMD_NVT_simulation_at_6000_K || 0.020554 0.683574\n",
      "          Snapshot_37_of_40_of_AIMD_NVT_simulation_at_3000_K || 0.004289 0.271203\n",
      "           Snapshot_37_of_40_of_AIMD_NVT_simulation_at_300_K || 0.000736 0.060020\n",
      "          Snapshot_38_of_40_of_AIMD_NVT_simulation_at_3000_K || 0.001015 0.267491\n",
      "           Snapshot_38_of_40_of_AIMD_NVT_simulation_at_300_K || 0.001231 0.058673\n",
      "          Snapshot_38_of_40_of_AIMD_NVT_simulation_at_6000_K || 0.005687 0.549947\n",
      "          Snapshot_39_of_40_of_AIMD_NVT_simulation_at_3000_K || 0.004167 0.274415\n",
      "           Snapshot_39_of_40_of_AIMD_NVT_simulation_at_300_K || 0.000946 0.054763\n",
      "          Snapshot_39_of_40_of_AIMD_NVT_simulation_at_6000_K || 0.006045 0.594648\n",
      "    Snapshot_3_of_12_of_Vacancy_AIMD_NVT_simulation_at_300_K || 0.002783 0.090862\n",
      "   Snapshot_3_of_12_of_Vacancy_AIMD_NVT_simulation_at_6000_K || 0.005106 0.277145\n",
      "           Snapshot_3_of_40_of_AIMD_NVT_simulation_at_3000_K || 0.002427 0.247333\n",
      "            Snapshot_3_of_40_of_AIMD_NVT_simulation_at_300_K || 0.000585 0.057759\n",
      "           Snapshot_3_of_40_of_AIMD_NVT_simulation_at_6000_K || 0.007133 0.706989\n",
      "          Snapshot_40_of_40_of_AIMD_NVT_simulation_at_3000_K || 0.005931 0.226398\n",
      "          Snapshot_40_of_40_of_AIMD_NVT_simulation_at_6000_K || 0.013113 0.624568\n",
      "           Snapshot_4_of_40_of_AIMD_NVT_simulation_at_3000_K || 0.000262 0.288076\n",
      "            Snapshot_4_of_40_of_AIMD_NVT_simulation_at_300_K || 0.000773 0.061649\n",
      "           Snapshot_4_of_40_of_AIMD_NVT_simulation_at_6000_K || 0.003527 0.764038\n",
      "    Snapshot_5_of_12_of_Vacancy_AIMD_NVT_simulation_at_300_K || 0.008235 0.070702\n",
      "   Snapshot_5_of_12_of_Vacancy_AIMD_NVT_simulation_at_6000_K || 0.002344 0.289397\n",
      "           Snapshot_5_of_40_of_AIMD_NVT_simulation_at_3000_K || 0.000721 0.243851\n",
      "            Snapshot_5_of_40_of_AIMD_NVT_simulation_at_300_K || 0.002436 0.058028\n",
      "           Snapshot_5_of_40_of_AIMD_NVT_simulation_at_6000_K || 0.020474 0.983040\n",
      "    Snapshot_6_of_12_of_Vacancy_AIMD_NVT_simulation_at_300_K || 0.000040 0.085642\n",
      "   Snapshot_6_of_12_of_Vacancy_AIMD_NVT_simulation_at_6000_K || 0.004969 0.307466\n",
      "           Snapshot_6_of_40_of_AIMD_NVT_simulation_at_3000_K || 0.008033 0.297593\n",
      "            Snapshot_6_of_40_of_AIMD_NVT_simulation_at_300_K || 0.001417 0.050245\n",
      "           Snapshot_6_of_40_of_AIMD_NVT_simulation_at_6000_K || 0.011836 0.940023\n",
      "    Snapshot_7_of_12_of_Vacancy_AIMD_NVT_simulation_at_300_K || 0.005631 0.072321\n",
      "   Snapshot_7_of_12_of_Vacancy_AIMD_NVT_simulation_at_6000_K || 0.009601 0.230808\n",
      "           Snapshot_7_of_40_of_AIMD_NVT_simulation_at_6000_K || 0.002244 0.742943\n",
      "   Snapshot_8_of_12_of_Vacancy_AIMD_NVT_simulation_at_6000_K || 0.001228 0.307811\n",
      "           Snapshot_8_of_40_of_AIMD_NVT_simulation_at_3000_K || 0.004328 0.304752\n",
      "            Snapshot_8_of_40_of_AIMD_NVT_simulation_at_300_K || 0.001093 0.052930\n",
      "           Snapshot_8_of_40_of_AIMD_NVT_simulation_at_6000_K || 0.009581 0.694089\n",
      "    Snapshot_9_of_12_of_Vacancy_AIMD_NVT_simulation_at_300_K || 0.003452 0.058721\n",
      "   Snapshot_9_of_12_of_Vacancy_AIMD_NVT_simulation_at_6000_K || 0.007439 0.284355\n",
      "           Snapshot_9_of_40_of_AIMD_NVT_simulation_at_3000_K || 0.001047 0.210258\n",
      "            Snapshot_9_of_40_of_AIMD_NVT_simulation_at_300_K || 0.000064 0.064876\n",
      "           Snapshot_9_of_40_of_AIMD_NVT_simulation_at_6000_K || 0.021094 0.638054\n"
     ]
    }
   ],
   "source": [
    "with h5py.File('../svreg_data/mlearn/Mo/Mo.hdf5', 'r') as db:\n",
    "        \n",
    "    print(\n",
    "        '{:>45} average errors || {:.6f} {:.6f}\\n'.format(\n",
    "            str(tree),\n",
    "            np.sqrt(np.average(unweighted[::2]**2)),\n",
    "            np.sqrt(np.average(unweighted[1::2]**2)),\n",
    "        )\n",
    "    )\n",
    "    \n",
    "    print(\n",
    "        '{:>60} || {} {}'.format(\n",
    "            'structName',\n",
    "            '(eV/atom)',\n",
    "            '(eV/A)'\n",
    "        )\n",
    "    )\n",
    "    \n",
    "    for i, structName in enumerate(sorted(db)):\n",
    "        print(\n",
    "            '{:>60} || {:.6f} {:.6f}'.format(\n",
    "                structName,\n",
    "                unweighted[2*i],\n",
    "                unweighted[2*i+1]\n",
    "            )\n",
    "        )"
   ]
  },
  {
   "cell_type": "raw",
   "metadata": {},
   "source": [
    "mul(sqrt(sqrt(rho)), rho) average errors || 0.178780 0.543202"
   ]
  },
  {
   "cell_type": "code",
   "execution_count": 10,
   "metadata": {},
   "outputs": [
    {
     "data": {
      "text/plain": [
       "<matplotlib.legend.Legend at 0x7efeff6957b8>"
      ]
     },
     "execution_count": 10,
     "metadata": {},
     "output_type": "execute_result"
    },
    {
     "data": {
      "image/png": "[encoded data removed]",
      "text/plain": [
       "<Figure size 576x288 with 2 Axes>"
      ]
     },
     "metadata": {
      "needs_background": "light"
     },
     "output_type": "display_data"
    }
   ],
   "source": [
    "fig, ax = plt.subplots(1, 2, figsize=(8, 4))\n",
    "\n",
    "ax[0].hist(errors[::2] , bins=100, alpha=0.3, label='Energy errors', color='orange')\n",
    "ax[1].hist(errors[1::2], bins=100, alpha=0.3, label='Force errors', color='blue')\n",
    "\n",
    "ax[0].legend()\n",
    "ax[1].legend()"
   ]
  },
  {
   "cell_type": "markdown",
   "metadata": {},
   "source": [
    "## External validation"
   ]
  },
  {
   "cell_type": "code",
   "execution_count": 11,
   "metadata": {},
   "outputs": [
    {
     "data": {
      "text/plain": [
       "(30,)"
      ]
     },
     "execution_count": 11,
     "metadata": {},
     "output_type": "execute_result"
    }
   ],
   "source": [
    "tree.bestParams.shape"
   ]
  },
  {
   "cell_type": "code",
   "execution_count": 12,
   "metadata": {},
   "outputs": [],
   "source": [
    "popDict = tree.parseArr2Dict(np.atleast_2d(tree.bestParams), fillFixedKnots=True)\n",
    "\n",
    "for svName in popDict:\n",
    "    for bondType in popDict[svName]:\n",
    "        popDict[svName][bondType] = [popDict[svName][bondType]]"
   ]
  },
  {
   "cell_type": "code",
   "execution_count": 13,
   "metadata": {},
   "outputs": [],
   "source": [
    "def buildSVNodePool(group):\n",
    "    \"\"\"Prepare svNodePool for use in tree construction\"\"\"\n",
    "\n",
    "    svNodePool = []\n",
    "\n",
    "    # `group` is a pointer to an entry for a structure in the database\n",
    "    for svName in sorted(group):\n",
    "        svGroup = group[svName]\n",
    "\n",
    "        restrictions = None\n",
    "        if 'restrictions' in svGroup.attrs:\n",
    "            restrictions = []\n",
    "            resList = svGroup.attrs['restrictions'].tolist()\n",
    "            for num in svGroup.attrs['numRestrictions']:\n",
    "                tmp = []\n",
    "                for _ in range(num):\n",
    "                    tmp.append(tuple(resList.pop()))\n",
    "                restrictions.append(tmp)\n",
    "\n",
    "        svNodePool.append(\n",
    "            SVNode(\n",
    "                description=svName,\n",
    "                components=svGroup.attrs['components'],\n",
    "                numParams=svGroup.attrs['numParams'],\n",
    "                bonds={\n",
    "                    k:svGroup[k].attrs['components'] for k in svGroup.keys()\n",
    "                },\n",
    "                restrictions=restrictions,\n",
    "                paramRanges=svGroup.attrs['paramRanges']\\\n",
    "                    if 'paramRanges' in group[svName].attrs else None\n",
    "            )\n",
    "        )\n",
    "\n",
    "    return svNodePool"
   ]
  },
  {
   "cell_type": "code",
   "execution_count": 14,
   "metadata": {},
   "outputs": [
    {
     "name": "stdout",
     "output_type": "stream",
     "text": [
      "                                        Ground_state_crystal || 0.000000 0.021021\n",
      "                         Mo_3x3x3_cell_mode_1_strain_-0.0200 || 0.019806 0.014665\n",
      "                         Mo_3x3x3_cell_mode_1_strain_-0.0400 || 0.042847 0.013761\n",
      "                         Mo_3x3x3_cell_mode_1_strain_-0.0600 || 0.066099 0.019553\n",
      "                         Mo_3x3x3_cell_mode_1_strain_-0.0800 || 0.086833 0.023055\n",
      "                         Mo_3x3x3_cell_mode_1_strain_-0.1000 || 0.105468 0.041660\n",
      "                          Mo_3x3x3_cell_mode_1_strain_0.0200 || 0.013712 0.024685\n",
      "                          Mo_3x3x3_cell_mode_1_strain_0.0800 || 0.012633 0.029584\n",
      "                         Mo_3x3x3_cell_mode_2_strain_-0.0200 || 0.019765 0.016139\n",
      "                         Mo_3x3x3_cell_mode_2_strain_-0.0400 || 0.042843 0.016584\n",
      "                         Mo_3x3x3_cell_mode_2_strain_-0.0600 || 0.066120 0.020096\n",
      "                         Mo_3x3x3_cell_mode_2_strain_-0.0800 || 0.086797 0.024123\n",
      "                         Mo_3x3x3_cell_mode_2_strain_-0.1000 || 0.105524 0.048367\n",
      "                          Mo_3x3x3_cell_mode_2_strain_0.0200 || 0.013732 0.025753\n",
      "                          Mo_3x3x3_cell_mode_2_strain_0.0400 || 0.020717 0.025910\n",
      "                          Mo_3x3x3_cell_mode_2_strain_0.0600 || 0.021179 0.031120\n",
      "                          Mo_3x3x3_cell_mode_2_strain_0.0800 || 0.012609 0.029718\n",
      "                          Mo_3x3x3_cell_mode_2_strain_0.1000 || 0.004308 0.030675\n",
      "                         Mo_3x3x3_cell_mode_3_strain_-0.0200 || 0.019842 0.017203\n",
      "                         Mo_3x3x3_cell_mode_3_strain_-0.0400 || 0.042831 0.014514\n",
      "                         Mo_3x3x3_cell_mode_3_strain_-0.0600 || 0.066042 0.025746\n",
      "                         Mo_3x3x3_cell_mode_3_strain_-0.1000 || 0.105466 0.038922\n",
      "                          Mo_3x3x3_cell_mode_3_strain_0.0200 || 0.013698 0.025443\n",
      "                          Mo_3x3x3_cell_mode_3_strain_0.0400 || 0.020721 0.024237\n",
      "                          Mo_3x3x3_cell_mode_3_strain_0.0600 || 0.021160 0.031856\n",
      "                          Mo_3x3x3_cell_mode_3_strain_0.0800 || 0.012659 0.028460\n",
      "                          Mo_3x3x3_cell_mode_3_strain_0.1000 || 0.004272 0.031393\n",
      "                         Mo_3x3x3_cell_mode_4_strain_-0.0200 || 0.000812 0.020461\n",
      "                         Mo_3x3x3_cell_mode_4_strain_-0.0400 || 0.003409 0.018704\n",
      "                         Mo_3x3x3_cell_mode_4_strain_-0.0600 || 0.007147 0.019191\n",
      "                          Mo_3x3x3_cell_mode_4_strain_0.0200 || 0.000848 0.018155\n",
      "                          Mo_3x3x3_cell_mode_4_strain_0.0400 || 0.003426 0.023595\n",
      "                          Mo_3x3x3_cell_mode_4_strain_0.0600 || 0.007086 0.020345\n",
      "                          Mo_3x3x3_cell_mode_4_strain_0.0800 || 0.012099 0.019487\n",
      "                          Mo_3x3x3_cell_mode_4_strain_0.1000 || 0.018178 0.018787\n",
      "                         Mo_3x3x3_cell_mode_5_strain_-0.0200 || 0.000829 0.018387\n",
      "                         Mo_3x3x3_cell_mode_5_strain_-0.0400 || 0.003475 0.022910\n",
      "                         Mo_3x3x3_cell_mode_5_strain_-0.0600 || 0.007059 0.020700\n",
      "                         Mo_3x3x3_cell_mode_5_strain_-0.0800 || 0.012086 0.021027\n",
      "                         Mo_3x3x3_cell_mode_5_strain_-0.1000 || 0.018208 0.019650\n",
      "                          Mo_3x3x3_cell_mode_5_strain_0.0200 || 0.000841 0.020742\n",
      "                          Mo_3x3x3_cell_mode_5_strain_0.0400 || 0.003353 0.018840\n",
      "                          Mo_3x3x3_cell_mode_5_strain_0.0600 || 0.007035 0.016690\n",
      "                          Mo_3x3x3_cell_mode_5_strain_0.0800 || 0.012014 0.018983\n",
      "                          Mo_3x3x3_cell_mode_5_strain_0.1000 || 0.018371 0.022438\n",
      "                         Mo_3x3x3_cell_mode_6_strain_-0.0200 || 0.000885 0.020003\n",
      "                         Mo_3x3x3_cell_mode_6_strain_-0.0400 || 0.003433 0.020387\n",
      "                         Mo_3x3x3_cell_mode_6_strain_-0.0600 || 0.007122 0.018279\n",
      "                         Mo_3x3x3_cell_mode_6_strain_-0.0800 || 0.012091 0.019365\n",
      "                         Mo_3x3x3_cell_mode_6_strain_-0.1000 || 0.018208 0.017802\n",
      "                          Mo_3x3x3_cell_mode_6_strain_0.0200 || 0.000840 0.022545\n",
      "                          Mo_3x3x3_cell_mode_6_strain_0.0400 || 0.003361 0.019658\n",
      "                          Mo_3x3x3_cell_mode_6_strain_0.0600 || 0.007101 0.018232\n",
      "                          Mo_3x3x3_cell_mode_6_strain_0.0800 || 0.012126 0.021289\n",
      "                          Mo_3x3x3_cell_mode_6_strain_0.1000 || 0.018259 0.021192\n",
      "                                       Mo_3x3x3_cell_relaxed || 0.001576 0.000000\n",
      "                             Mo_surface_mp_Mo_mp-129__1_0_0_ || 0.278856 0.229341\n",
      "                             Mo_surface_mp_Mo_mp-129__1_1_0_ || 0.250097 0.094311\n",
      "                             Mo_surface_mp_Mo_mp-129__1_1_1_ || 0.268537 0.239277\n",
      "                             Mo_surface_mp_Mo_mp-129__2_1_0_ || 0.239584 0.240972\n",
      "                             Mo_surface_mp_Mo_mp-129__2_2_1_ || 0.179640 0.155484\n",
      "                             Mo_surface_mp_Mo_mp-129__3_1_1_ || 0.309634 0.295665\n",
      "                             Mo_surface_mp_Mo_mp-129__3_2_0_ || 0.301781 0.206931\n",
      "                             Mo_surface_mp_Mo_mp-129__3_2_1_ || 0.217533 0.208286\n",
      "                             Mo_surface_mp_Mo_mp-129__3_3_2_ || 0.213944 0.221410\n",
      "   Snapshot_10_of_12_of_Vacancy_AIMD_NVT_simulation_at_300_K || 0.032370 0.096159\n",
      "  Snapshot_10_of_12_of_Vacancy_AIMD_NVT_simulation_at_6000_K || 0.066941 0.292034\n",
      "          Snapshot_10_of_40_of_AIMD_NVT_simulation_at_3000_K || 0.049653 0.194746\n",
      "           Snapshot_10_of_40_of_AIMD_NVT_simulation_at_300_K || 0.018571 0.108433\n",
      "   Snapshot_11_of_12_of_Vacancy_AIMD_NVT_simulation_at_300_K || 0.035358 0.112574\n",
      "  Snapshot_11_of_12_of_Vacancy_AIMD_NVT_simulation_at_6000_K || 0.075079 0.216721\n",
      "           Snapshot_11_of_40_of_AIMD_NVT_simulation_at_300_K || 0.014575 0.102074\n",
      "          Snapshot_11_of_40_of_AIMD_NVT_simulation_at_6000_K || 0.006249 0.402238\n",
      "   Snapshot_12_of_12_of_Vacancy_AIMD_NVT_simulation_at_300_K || 0.036906 0.110420\n",
      "  Snapshot_12_of_12_of_Vacancy_AIMD_NVT_simulation_at_6000_K || 0.086131 0.368235\n",
      "          Snapshot_12_of_40_of_AIMD_NVT_simulation_at_3000_K || 0.056197 0.217212\n",
      "           Snapshot_12_of_40_of_AIMD_NVT_simulation_at_300_K || 0.017134 0.109424\n",
      "          Snapshot_12_of_40_of_AIMD_NVT_simulation_at_6000_K || 0.024657 0.461166\n",
      "          Snapshot_13_of_40_of_AIMD_NVT_simulation_at_3000_K || 0.049795 0.219824\n",
      "           Snapshot_13_of_40_of_AIMD_NVT_simulation_at_300_K || 0.013440 0.086473\n",
      "          Snapshot_13_of_40_of_AIMD_NVT_simulation_at_6000_K || 0.011807 0.501175\n",
      "           Snapshot_14_of_40_of_AIMD_NVT_simulation_at_300_K || 0.017502 0.108770\n",
      "          Snapshot_14_of_40_of_AIMD_NVT_simulation_at_6000_K || 0.015104 0.530683\n",
      "          Snapshot_15_of_40_of_AIMD_NVT_simulation_at_3000_K || 0.057268 0.181547\n",
      "           Snapshot_15_of_40_of_AIMD_NVT_simulation_at_300_K || 0.020757 0.116626\n",
      "          Snapshot_15_of_40_of_AIMD_NVT_simulation_at_6000_K || 0.009385 0.443874\n",
      "          Snapshot_16_of_40_of_AIMD_NVT_simulation_at_3000_K || 0.055572 0.228958\n",
      "           Snapshot_16_of_40_of_AIMD_NVT_simulation_at_300_K || 0.016762 0.108714\n",
      "          Snapshot_16_of_40_of_AIMD_NVT_simulation_at_6000_K || 0.016675 0.451690\n",
      "          Snapshot_17_of_40_of_AIMD_NVT_simulation_at_3000_K || 0.057802 0.265667\n",
      "           Snapshot_17_of_40_of_AIMD_NVT_simulation_at_300_K || 0.016779 0.102367\n",
      "          Snapshot_17_of_40_of_AIMD_NVT_simulation_at_6000_K || 0.021392 0.362450\n",
      "          Snapshot_18_of_40_of_AIMD_NVT_simulation_at_3000_K || 0.056361 0.232134\n",
      "           Snapshot_18_of_40_of_AIMD_NVT_simulation_at_300_K || 0.014080 0.095710\n",
      "          Snapshot_18_of_40_of_AIMD_NVT_simulation_at_6000_K || 0.005571 0.406583\n",
      "          Snapshot_19_of_40_of_AIMD_NVT_simulation_at_3000_K || 0.049626 0.213166\n",
      "           Snapshot_19_of_40_of_AIMD_NVT_simulation_at_300_K || 0.014887 0.100985\n",
      "    Snapshot_1_of_12_of_Vacancy_AIMD_NVT_simulation_at_300_K || 0.030589 0.084208\n",
      "   Snapshot_1_of_12_of_Vacancy_AIMD_NVT_simulation_at_6000_K || 0.032908 0.089998\n",
      "           Snapshot_1_of_40_of_AIMD_NVT_simulation_at_3000_K || 0.055363 0.202713\n",
      "            Snapshot_1_of_40_of_AIMD_NVT_simulation_at_300_K || 0.015639 0.102695\n",
      "           Snapshot_1_of_40_of_AIMD_NVT_simulation_at_6000_K || 0.020022 0.431269\n",
      "          Snapshot_20_of_40_of_AIMD_NVT_simulation_at_3000_K || 0.065300 0.276664\n",
      "           Snapshot_20_of_40_of_AIMD_NVT_simulation_at_300_K || 0.013005 0.085116\n",
      "          Snapshot_20_of_40_of_AIMD_NVT_simulation_at_6000_K || 0.019201 0.441021\n",
      "          Snapshot_21_of_40_of_AIMD_NVT_simulation_at_3000_K || 0.060429 0.214797\n",
      "           Snapshot_21_of_40_of_AIMD_NVT_simulation_at_300_K || 0.018558 0.108979\n",
      "          Snapshot_21_of_40_of_AIMD_NVT_simulation_at_6000_K || 0.003614 0.382546\n",
      "          Snapshot_22_of_40_of_AIMD_NVT_simulation_at_3000_K || 0.062078 0.221788\n",
      "           Snapshot_22_of_40_of_AIMD_NVT_simulation_at_300_K || 0.017699 0.107291\n",
      "          Snapshot_22_of_40_of_AIMD_NVT_simulation_at_6000_K || 0.004346 0.441314\n",
      "          Snapshot_23_of_40_of_AIMD_NVT_simulation_at_3000_K || 0.059939 0.228594\n",
      "           Snapshot_23_of_40_of_AIMD_NVT_simulation_at_300_K || 0.019169 0.119396\n",
      "          Snapshot_23_of_40_of_AIMD_NVT_simulation_at_6000_K || 0.017996 0.468366\n",
      "          Snapshot_24_of_40_of_AIMD_NVT_simulation_at_3000_K || 0.060952 0.225519\n",
      "           Snapshot_24_of_40_of_AIMD_NVT_simulation_at_300_K || 0.017852 0.105185\n",
      "          Snapshot_24_of_40_of_AIMD_NVT_simulation_at_6000_K || 0.018894 0.504936\n",
      "          Snapshot_25_of_40_of_AIMD_NVT_simulation_at_3000_K || 0.064298 0.194852\n",
      "          Snapshot_25_of_40_of_AIMD_NVT_simulation_at_6000_K || 0.011154 0.488728\n",
      "          Snapshot_26_of_40_of_AIMD_NVT_simulation_at_3000_K || 0.054655 0.226160\n",
      "           Snapshot_26_of_40_of_AIMD_NVT_simulation_at_300_K || 0.016360 0.113936\n",
      "          Snapshot_26_of_40_of_AIMD_NVT_simulation_at_6000_K || 0.037975 0.436552\n",
      "          Snapshot_27_of_40_of_AIMD_NVT_simulation_at_3000_K || 0.055502 0.245995\n",
      "          Snapshot_27_of_40_of_AIMD_NVT_simulation_at_6000_K || 0.027691 0.472547\n",
      "          Snapshot_28_of_40_of_AIMD_NVT_simulation_at_3000_K || 0.057341 0.215116\n",
      "           Snapshot_28_of_40_of_AIMD_NVT_simulation_at_300_K || 0.020124 0.107446\n",
      "          Snapshot_28_of_40_of_AIMD_NVT_simulation_at_6000_K || 0.015324 0.447673\n",
      "          Snapshot_29_of_40_of_AIMD_NVT_simulation_at_3000_K || 0.057957 0.231127\n",
      "           Snapshot_29_of_40_of_AIMD_NVT_simulation_at_300_K || 0.014964 0.097164\n",
      "          Snapshot_29_of_40_of_AIMD_NVT_simulation_at_6000_K || 0.005835 0.375678\n",
      "    Snapshot_2_of_12_of_Vacancy_AIMD_NVT_simulation_at_300_K || 0.036062 0.111202\n",
      "   Snapshot_2_of_12_of_Vacancy_AIMD_NVT_simulation_at_6000_K || 0.067253 0.242806\n",
      "           Snapshot_2_of_40_of_AIMD_NVT_simulation_at_3000_K || 0.057746 0.207708\n",
      "            Snapshot_2_of_40_of_AIMD_NVT_simulation_at_300_K || 0.019717 0.107101\n",
      "           Snapshot_2_of_40_of_AIMD_NVT_simulation_at_6000_K || 0.031402 0.397147\n",
      "          Snapshot_30_of_40_of_AIMD_NVT_simulation_at_3000_K || 0.051716 0.231415\n",
      "          Snapshot_30_of_40_of_AIMD_NVT_simulation_at_6000_K || 0.011394 0.471080\n",
      "          Snapshot_31_of_40_of_AIMD_NVT_simulation_at_3000_K || 0.047598 0.232503\n",
      "           Snapshot_31_of_40_of_AIMD_NVT_simulation_at_300_K || 0.017417 0.103250\n",
      "          Snapshot_32_of_40_of_AIMD_NVT_simulation_at_3000_K || 0.057516 0.239360\n",
      "           Snapshot_32_of_40_of_AIMD_NVT_simulation_at_300_K || 0.018757 0.095725\n",
      "          Snapshot_32_of_40_of_AIMD_NVT_simulation_at_6000_K || 0.013543 0.460557\n",
      "          Snapshot_33_of_40_of_AIMD_NVT_simulation_at_3000_K || 0.069181 0.227657\n",
      "           Snapshot_33_of_40_of_AIMD_NVT_simulation_at_300_K || 0.015196 0.093538\n",
      "          Snapshot_33_of_40_of_AIMD_NVT_simulation_at_6000_K || 0.004900 0.382811\n",
      "          Snapshot_34_of_40_of_AIMD_NVT_simulation_at_3000_K || 0.056934 0.204936\n",
      "           Snapshot_34_of_40_of_AIMD_NVT_simulation_at_300_K || 0.013543 0.091289\n",
      "          Snapshot_34_of_40_of_AIMD_NVT_simulation_at_6000_K || 0.026940 0.422795\n",
      "          Snapshot_35_of_40_of_AIMD_NVT_simulation_at_3000_K || 0.063825 0.260449\n",
      "           Snapshot_35_of_40_of_AIMD_NVT_simulation_at_300_K || 0.019159 0.108292\n",
      "          Snapshot_35_of_40_of_AIMD_NVT_simulation_at_6000_K || 0.003842 0.464571\n",
      "          Snapshot_36_of_40_of_AIMD_NVT_simulation_at_3000_K || 0.064821 0.324512\n",
      "           Snapshot_36_of_40_of_AIMD_NVT_simulation_at_300_K || 0.020573 0.110475\n",
      "          Snapshot_36_of_40_of_AIMD_NVT_simulation_at_6000_K || 0.010979 0.521001\n",
      "          Snapshot_37_of_40_of_AIMD_NVT_simulation_at_3000_K || 0.050235 0.249828\n",
      "           Snapshot_37_of_40_of_AIMD_NVT_simulation_at_300_K || 0.018609 0.113900\n",
      "          Snapshot_38_of_40_of_AIMD_NVT_simulation_at_3000_K || 0.062978 0.254451\n",
      "           Snapshot_38_of_40_of_AIMD_NVT_simulation_at_300_K || 0.017861 0.106376\n",
      "          Snapshot_38_of_40_of_AIMD_NVT_simulation_at_6000_K || 0.023598 0.399255\n",
      "          Snapshot_39_of_40_of_AIMD_NVT_simulation_at_3000_K || 0.063724 0.223903\n",
      "           Snapshot_39_of_40_of_AIMD_NVT_simulation_at_300_K || 0.018706 0.096975\n",
      "          Snapshot_39_of_40_of_AIMD_NVT_simulation_at_6000_K || 0.026232 0.479575\n",
      "    Snapshot_3_of_12_of_Vacancy_AIMD_NVT_simulation_at_300_K || 0.034358 0.106123\n",
      "   Snapshot_3_of_12_of_Vacancy_AIMD_NVT_simulation_at_6000_K || 0.069987 0.221789\n",
      "           Snapshot_3_of_40_of_AIMD_NVT_simulation_at_3000_K || 0.058249 0.239230\n",
      "            Snapshot_3_of_40_of_AIMD_NVT_simulation_at_300_K || 0.017233 0.105632\n",
      "           Snapshot_3_of_40_of_AIMD_NVT_simulation_at_6000_K || 0.009571 0.484596\n",
      "          Snapshot_40_of_40_of_AIMD_NVT_simulation_at_3000_K || 0.053815 0.216248\n",
      "          Snapshot_40_of_40_of_AIMD_NVT_simulation_at_6000_K || 0.030168 0.341960\n",
      "           Snapshot_4_of_40_of_AIMD_NVT_simulation_at_3000_K || 0.056253 0.262946\n",
      "            Snapshot_4_of_40_of_AIMD_NVT_simulation_at_300_K || 0.020498 0.103935\n",
      "           Snapshot_4_of_40_of_AIMD_NVT_simulation_at_6000_K || 0.028236 0.506967\n",
      "    Snapshot_5_of_12_of_Vacancy_AIMD_NVT_simulation_at_300_K || 0.034038 0.080882\n",
      "   Snapshot_5_of_12_of_Vacancy_AIMD_NVT_simulation_at_6000_K || 0.072246 0.269283\n",
      "           Snapshot_5_of_40_of_AIMD_NVT_simulation_at_3000_K || 0.057895 0.205865\n",
      "            Snapshot_5_of_40_of_AIMD_NVT_simulation_at_300_K || 0.013769 0.091808\n",
      "           Snapshot_5_of_40_of_AIMD_NVT_simulation_at_6000_K || 0.012096 0.576495\n",
      "    Snapshot_6_of_12_of_Vacancy_AIMD_NVT_simulation_at_300_K || 0.033942 0.094805\n",
      "   Snapshot_6_of_12_of_Vacancy_AIMD_NVT_simulation_at_6000_K || 0.069057 0.242970\n",
      "           Snapshot_6_of_40_of_AIMD_NVT_simulation_at_3000_K || 0.056341 0.260459\n",
      "            Snapshot_6_of_40_of_AIMD_NVT_simulation_at_300_K || 0.014952 0.095424\n",
      "           Snapshot_6_of_40_of_AIMD_NVT_simulation_at_6000_K || 0.018567 0.521945\n",
      "    Snapshot_7_of_12_of_Vacancy_AIMD_NVT_simulation_at_300_K || 0.033993 0.080833\n",
      "   Snapshot_7_of_12_of_Vacancy_AIMD_NVT_simulation_at_6000_K || 0.061580 0.217443\n",
      "           Snapshot_7_of_40_of_AIMD_NVT_simulation_at_6000_K || 0.024107 0.410041\n",
      "   Snapshot_8_of_12_of_Vacancy_AIMD_NVT_simulation_at_6000_K || 0.063567 0.299571\n",
      "           Snapshot_8_of_40_of_AIMD_NVT_simulation_at_3000_K || 0.061694 0.290475\n",
      "            Snapshot_8_of_40_of_AIMD_NVT_simulation_at_300_K || 0.015425 0.096199\n",
      "           Snapshot_8_of_40_of_AIMD_NVT_simulation_at_6000_K || 0.010160 0.536876\n",
      "    Snapshot_9_of_12_of_Vacancy_AIMD_NVT_simulation_at_300_K || 0.034010 0.059965\n",
      "   Snapshot_9_of_12_of_Vacancy_AIMD_NVT_simulation_at_6000_K || 0.069851 0.224469\n",
      "           Snapshot_9_of_40_of_AIMD_NVT_simulation_at_3000_K || 0.054555 0.217965\n",
      "            Snapshot_9_of_40_of_AIMD_NVT_simulation_at_300_K || 0.019162 0.111936\n",
      "           Snapshot_9_of_40_of_AIMD_NVT_simulation_at_6000_K || 0.002968 0.387433\n"
     ]
    }
   ],
   "source": [
    "import cma\n",
    "\n",
    "from mpi4py import MPI\n",
    "\n",
    "from nodes import SVNode\n",
    "from settings import Settings\n",
    "from database import SVDatabase\n",
    "from evaluator import SVEvaluator\n",
    "from regressor import SVRegressor\n",
    "\n",
    "settingsPath = 'examples/settings.in'\n",
    "databasePath = '../svreg_data/mlearn/Mo/Mo.hdf5'\n",
    "\n",
    "settings = Settings.from_file(settingsPath)\n",
    "settings['PROCS_PER_PHYS_NODE'] = 1\n",
    "settings['PROCS_PER_MANAGER'] = 1\n",
    "\n",
    "worldComm = MPI.COMM_WORLD\n",
    "with SVDatabase(settings['databasePath'], 'r') as database:\n",
    "    structNames = list(database.keys())\n",
    "#     structNames = ['Ground_state_crystal']\n",
    "\n",
    "    if settings['refStruct'] not in structNames:\n",
    "        raise RuntimeError(\n",
    "            \"The reference structure must be included in structNames.\"\n",
    "        )\n",
    "\n",
    "    evaluator =  SVEvaluator(worldComm, structNames, settings)\n",
    "    evaluator.distributeDatabase(database)\n",
    "\n",
    "    trueValues = database.loadTrueValues()\n",
    "\n",
    "#     numStructs = len(trueValues)\n",
    "    \n",
    "    refStruct = settings['refStruct']\n",
    "    treeErrors = np.zeros(2*len(database))\n",
    "    \n",
    "    svNodePool = buildSVNodePool(database[settings['refStruct']])\n",
    "    \n",
    "    regressor = SVRegressor(\n",
    "        settings, svNodePool, cma.CMAEvolutionStrategy, [1.0, {'popsize': 1}]\n",
    "    )\n",
    "    \n",
    "    regressor.trees = [tree]\n",
    "    \n",
    "    treePopulations = [tree.parseArr2Dict(np.atleast_2d(tree.bestParams), fillFixedKnots=True)]\n",
    "    \n",
    "    # Group all dictionaries into one\n",
    "    populationDict = {}\n",
    "    for svNode in svNodePool:\n",
    "        populationDict[svNode.description] = {}\n",
    "        for bondType in svNode.bonds:\n",
    "            populationDict[svNode.description][bondType] = []\n",
    "\n",
    "    for treeDict in treePopulations:\n",
    "        for svName in treeDict.keys():\n",
    "            for bondType, pop in treeDict[svName].items():\n",
    "                populationDict[svName][bondType].append(pop)\n",
    "                            \n",
    "    svEng = evaluator.evaluate(populationDict, evalType='energy')\n",
    "    svFcs = evaluator.evaluate(populationDict, evalType='forces')\n",
    "    \n",
    "    energies, forces = regressor.evaluateTrees(svEng, svFcs, 1)\n",
    "    \n",
    "    for structName in sorted(structNames):\n",
    "        eng = energies[structName][0] - energies[refStruct][0]\n",
    "        fcs =   forces[structName][0]\n",
    "        \n",
    "        engErrors = eng - trueValues[structName]['energy']\n",
    "        fcsErrors = fcs - trueValues[structName]['forces']\n",
    "        \n",
    "        treeErrors[2*i]   = abs(engErrors)\n",
    "        treeErrors[2*i+1] = np.average(np.abs(fcsErrors), axis=(1, 2))\n",
    "        \n",
    "        print(\n",
    "            '{:>60} || {:.6f} {:.6f}'.format(\n",
    "                structName,\n",
    "                treeErrors[2*i],\n",
    "                treeErrors[2*i+1]\n",
    "            )\n",
    "        )\n",
    "# del evaluator"
   ]
  },
  {
   "cell_type": "code",
   "execution_count": 15,
   "metadata": {},
   "outputs": [
    {
     "data": {
      "text/plain": [
       "0.39040108580769417"
      ]
     },
     "execution_count": 15,
     "metadata": {},
     "output_type": "execute_result"
    }
   ],
   "source": [
    "treeErrors.sum()"
   ]
  },
  {
   "cell_type": "code",
   "execution_count": 16,
   "metadata": {},
   "outputs": [],
   "source": [
    "del evaluator"
   ]
  },
  {
   "cell_type": "code",
   "execution_count": 17,
   "metadata": {},
   "outputs": [],
   "source": [
    "from scipy.special import erf"
   ]
  },
  {
   "cell_type": "code",
   "execution_count": 18,
   "metadata": {},
   "outputs": [
    {
     "name": "stderr",
     "output_type": "stream",
     "text": [
      "/home/jvita/Programs/miniconda2/envs/parhdf5/lib/python3.6/site-packages/ipykernel_launcher.py:4: RuntimeWarning: divide by zero encountered in log\n",
      "  after removing the cwd from sys.path.\n"
     ]
    },
    {
     "data": {
      "text/plain": [
       "[<matplotlib.lines.Line2D at 0x7efefbbf9ac8>]"
      ]
     },
     "execution_count": 18,
     "metadata": {},
     "output_type": "execute_result"
    },
    {
     "data": {
      "image/png": "[encoded data removed]",
      "text/plain": [
       "<Figure size 432x288 with 1 Axes>"
      ]
     },
     "metadata": {
      "needs_background": "light"
     },
     "output_type": "display_data"
    }
   ],
   "source": [
    "fig, ax = plt.subplots()\n",
    "\n",
    "x = np.linspace(0, 10, 100)\n",
    "ax.plot(x, 1-erf(np.log(x)))"
   ]
  },
  {
   "cell_type": "code",
   "execution_count": 19,
   "metadata": {},
   "outputs": [
    {
     "name": "stderr",
     "output_type": "stream",
     "text": [
      "/home/jvita/Programs/miniconda2/envs/parhdf5/lib/python3.6/site-packages/ipykernel_launcher.py:1: RuntimeWarning: divide by zero encountered in log\n",
      "  \"\"\"Entry point for launching an IPython kernel.\n"
     ]
    },
    {
     "data": {
      "text/plain": [
       "array([2.00000000e+00, 1.99881362e+00, 1.97629491e+00, 1.90867730e+00,\n",
       "       1.80002313e+00, 1.66597825e+00, 1.52118092e+00, 1.37600848e+00,\n",
       "       1.23685949e+00, 1.10722126e+00, 9.88659792e-01, 8.81551842e-01,\n",
       "       7.85579776e-01, 7.00050408e-01, 6.24093620e-01, 5.56782297e-01,\n",
       "       4.97201968e-01, 4.44488927e-01, 3.97848925e-01, 3.56564155e-01,\n",
       "       3.19993391e-01, 2.87568330e-01, 2.58787995e-01, 2.33212354e-01,\n",
       "       2.10455803e-01, 1.90180917e-01, 1.72092635e-01, 1.55932998e-01,\n",
       "       1.41476443e-01, 1.28525632e-01, 1.16907805e-01, 1.06471578e-01,\n",
       "       9.70841656e-02, 8.86289679e-02, 8.10034728e-02, 7.41174426e-02,\n",
       "       6.78913431e-02, 6.22549816e-02, 5.71463281e-02, 5.25104931e-02,\n",
       "       4.82988410e-02, 4.44682204e-02, 4.09802950e-02, 3.78009622e-02,\n",
       "       3.48998459e-02, 3.22498552e-02, 2.98267981e-02, 2.76090449e-02,\n",
       "       2.55772333e-02, 2.37140095e-02, 2.20038018e-02, 2.04326211e-02,\n",
       "       1.89878862e-02, 1.76582690e-02, 1.64335587e-02, 1.53045418e-02,\n",
       "       1.42628955e-02, 1.33010946e-02, 1.24123271e-02, 1.15904214e-02,\n",
       "       1.08297800e-02, 1.01253218e-02, 9.47242941e-03, 8.86690366e-03,\n",
       "       8.30492184e-03, 7.78300102e-03, 7.29796505e-03, 6.84691508e-03,\n",
       "       6.42720313e-03, 6.03640840e-03, 5.67231599e-03, 5.33289778e-03,\n",
       "       5.01629525e-03, 4.72080396e-03, 4.44485967e-03, 4.18702571e-03,\n",
       "       3.94598161e-03, 3.72051289e-03, 3.50950173e-03, 3.31191860e-03,\n",
       "       3.12681464e-03, 2.95331476e-03, 2.79061137e-03, 2.63795874e-03,\n",
       "       2.49466776e-03, 2.36010132e-03, 2.23366998e-03, 2.11482810e-03,\n",
       "       2.00307029e-03, 1.89792816e-03, 1.79896735e-03, 1.70578490e-03,\n",
       "       1.61800667e-03, 1.53528519e-03, 1.45729752e-03, 1.38374340e-03,\n",
       "       1.31434349e-03, 1.24883779e-03, 1.18698418e-03, 1.12855709e-03])"
      ]
     },
     "execution_count": 19,
     "metadata": {},
     "output_type": "execute_result"
    }
   ],
   "source": [
    "1-erf(np.log(x))"
   ]
  },
  {
   "cell_type": "code",
   "execution_count": null,
   "metadata": {},
   "outputs": [],
   "source": []
  }
 ],
 "metadata": {
  "kernelspec": {
   "display_name": "Python 3",
   "language": "python",
   "name": "python3"
  },
  "language_info": {
   "codemirror_mode": {
    "name": "ipython",
    "version": 3
   },
   "file_extension": ".py",
   "mimetype": "text/x-python",
   "name": "python",
   "nbconvert_exporter": "python",
   "pygments_lexer": "ipython3",
   "version": "3.6.10"
  }
 },
 "nbformat": 4,
 "nbformat_minor": 4
}
