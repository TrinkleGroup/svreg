{
 "cells": [
  {
   "cell_type": "markdown",
   "metadata": {},
   "source": [
    "# Imports"
   ]
  },
  {
   "cell_type": "code",
   "execution_count": 1,
   "metadata": {},
   "outputs": [],
   "source": [
    "import os\n",
    "import h5py\n",
    "import sympy\n",
    "import glob\n",
    "import pickle\n",
    "import numpy as np\n",
    "import matplotlib.pyplot as plt\n",
    "\n",
    "from IPython.display import display, Math\n",
    "from scipy.interpolate import CubicSpline\n",
    "\n",
    "from tree import SVTree\n",
    "from nodes import FunctionNode\n",
    "from regressor import SVRegressor"
   ]
  },
  {
   "cell_type": "markdown",
   "metadata": {},
   "source": [
    "# Setup"
   ]
  },
  {
   "cell_type": "code",
   "execution_count": 2,
   "metadata": {},
   "outputs": [],
   "source": [
    "basePath = os.path.join('results', 'smeam_dup')\n",
    "fromArchive = False\n",
    "\n",
    "basePath = os.path.join('results', 'mo_smooth2')\n",
    "fromArchive = True"
   ]
  },
  {
   "cell_type": "code",
   "execution_count": 3,
   "metadata": {},
   "outputs": [
    {
     "data": {
      "text/latex": [
       "$\\displaystyle 43.10<->ffg \\cdot \\rho + \\cos{\\left(\\rho \\right)}$"
      ],
      "text/plain": [
       "<IPython.core.display.Math object>"
      ]
     },
     "metadata": {},
     "output_type": "display_data"
    },
    {
     "data": {
      "text/latex": [
       "$\\displaystyle 46.42<->ffg \\cdot ffg$"
      ],
      "text/plain": [
       "<IPython.core.display.Math object>"
      ]
     },
     "metadata": {},
     "output_type": "display_data"
    },
    {
     "data": {
      "text/latex": [
       "$\\displaystyle 51.43<->\\left(ffg \\cdot \\rho + \\rho\\right) \\cdot \\left(\\operatorname{sig}{\\left(ffg \\right)} + \\cos{\\left(\\rho \\right)}\\right)$"
      ],
      "text/plain": [
       "<IPython.core.display.Math object>"
      ]
     },
     "metadata": {},
     "output_type": "display_data"
    },
    {
     "data": {
      "text/latex": [
       "$\\displaystyle 52.66<->ffg \\cdot ffg + \\rho \\cdot \\rho$"
      ],
      "text/plain": [
       "<IPython.core.display.Math object>"
      ]
     },
     "metadata": {},
     "output_type": "display_data"
    },
    {
     "data": {
      "text/latex": [
       "$\\displaystyle 65.35<->ffg \\cdot ffg + \\cos{\\left(\\rho \\right)}$"
      ],
      "text/plain": [
       "<IPython.core.display.Math object>"
      ]
     },
     "metadata": {},
     "output_type": "display_data"
    },
    {
     "data": {
      "text/latex": [
       "$\\displaystyle 78.78<->ffg$"
      ],
      "text/plain": [
       "<IPython.core.display.Math object>"
      ]
     },
     "metadata": {},
     "output_type": "display_data"
    },
    {
     "data": {
      "text/latex": [
       "$\\displaystyle 80.96<->\\rho$"
      ],
      "text/plain": [
       "<IPython.core.display.Math object>"
      ]
     },
     "metadata": {},
     "output_type": "display_data"
    },
    {
     "data": {
      "text/latex": [
       "$\\displaystyle 89.21<->ffg + \\operatorname{sig}{\\left(\\rho \\right)}$"
      ],
      "text/plain": [
       "<IPython.core.display.Math object>"
      ]
     },
     "metadata": {},
     "output_type": "display_data"
    }
   ],
   "source": [
    "choice = 0\n",
    "\n",
    "if fromArchive:\n",
    "    allTreeNames = glob.glob(os.path.join(basePath, '*'))\n",
    "    del allTreeNames[allTreeNames.index(os.path.join(basePath, 'archive.pkl'))]\n",
    "    \n",
    "    bestCost = np.inf\n",
    "    bestIdx = 0\n",
    "    \n",
    "    worstCost = 0\n",
    "    worstIdx = 0\n",
    "    \n",
    "    archive = pickle.load(open(os.path.join(basePath, 'archive.pkl'), 'rb'))\n",
    "    \n",
    "    allErrors = []\n",
    "    allLatex = []\n",
    "\n",
    "    for i, treePath in enumerate(allTreeNames):\n",
    "        treeName = os.path.split(treePath)[-1]\n",
    "        \n",
    "        tree = pickle.load(open(os.path.join(treePath, 'tree.pkl'), 'rb'))\n",
    "\n",
    "        entry = archive[treeName]\n",
    "        tree.bestParams = entry.bestParams\n",
    "\n",
    "        errors = entry.bestErrors\n",
    "    \n",
    "        latex = SVTree([\n",
    "            FunctionNode(n.description) if isinstance(n, FunctionNode)\n",
    "            else n\n",
    "            for n in tree.nodes\n",
    "        ]).latex()\n",
    "\n",
    "        sumErrors = np.sum(errors)\n",
    "        \n",
    "        if sumErrors < bestCost:\n",
    "            bestCost = sumErrors\n",
    "            bestIdx = i\n",
    "        \n",
    "        if sumErrors > worstCost:\n",
    "            worstCost = sumErrors\n",
    "            worstIdx = i\n",
    "        \n",
    "        allErrors.append(sumErrors)\n",
    "        allLatex.append(latex)\n",
    "        \n",
    "    allLatex = np.array(allLatex)[np.argsort(allErrors)]\n",
    "    allTreeNames = np.array(allTreeNames)[np.argsort(allErrors)]\n",
    "    allErrors = np.array(allErrors)[np.argsort(allErrors)]\n",
    "\n",
    "    for latex, errors in zip(allLatex, allErrors):\n",
    "        display(Math('{:.2f}<->{}'.format(\n",
    "            errors,\n",
    "            sympy.latex(sympy.sympify(latex, evaluate=False), mul_symbol='dot')\n",
    "        )))\n",
    "            \n",
    "    treePath = allTreeNames[choice]\n",
    "    treePath = allTreeNames[1]\n",
    "    treeName = os.path.split(treePath)[-1]\n",
    "\n",
    "    archive = pickle.load(open(os.path.join(basePath, 'archive.pkl'), 'rb'))\n",
    "    tree = pickle.load(open(os.path.join(basePath, treeName, 'tree.pkl'), 'rb'))\n",
    "    \n",
    "    entry = archive[treeName]\n",
    "    tree.bestParams = entry.bestParams\n",
    "    \n",
    "    errors = entry.bestErrors\n",
    "else:\n",
    "    files = sorted(glob.glob(os.path.join(basePath, 'tree*')))\n",
    "    intIndices = [int(s[s.find('tree')+5:s.find('.pkl')]) for s in files]\n",
    "\n",
    "    argsort = np.argsort(intIndices)\n",
    "\n",
    "    treeFile = np.array(files)[argsort][-1]\n",
    "    tree = pickle.load(open(treeFile, 'rb'))\n",
    "    \n",
    "    errorFiles = sorted(glob.glob(os.path.join(basePath, 'errors*')))\n",
    "    errorFile  = np.array(errorFiles)[argsort][-1]\n",
    "    errors = pickle.load(open(errorFile, 'rb'))"
   ]
  },
  {
   "cell_type": "code",
   "execution_count": 4,
   "metadata": {},
   "outputs": [
    {
     "data": {
      "text/plain": [
       "'results/mo_smooth2/mul(ffg, ffg)'"
      ]
     },
     "execution_count": 4,
     "metadata": {},
     "output_type": "execute_result"
    }
   ],
   "source": [
    "treePath"
   ]
  },
  {
   "cell_type": "markdown",
   "metadata": {},
   "source": [
    "# Plotting"
   ]
  },
  {
   "cell_type": "code",
   "execution_count": 29,
   "metadata": {},
   "outputs": [],
   "source": [
    "def plotSpline(x, y, bc):\n",
    "    cs = CubicSpline(x, y, bc_type=((1, bc[0]), (1, bc[1])))\n",
    "#     cs = CubicSpline(x, y, bc_type='natural')\n",
    "    \n",
    "    plotX = np.linspace(x[0]-.1, x[-1]+.1, 100)\n",
    "    plotY = cs(plotX)\n",
    "    \n",
    "    return plotX, plotY"
   ]
  },
  {
   "cell_type": "code",
   "execution_count": 30,
   "metadata": {},
   "outputs": [],
   "source": [
    "splits = []\n",
    "types = []\n",
    "\n",
    "for svNode in tree.svNodes:\n",
    "    for comp in svNode.components:\n",
    "        splits.append(svNode.numParams[comp]+len(svNode.restrictions[comp]))\n",
    "        types.append(comp)"
   ]
  },
  {
   "cell_type": "code",
   "execution_count": 31,
   "metadata": {},
   "outputs": [],
   "source": [
    "splitParams = np.array_split(tree.fillFixedKnots(tree.bestParams)[0], np.cumsum(splits)[:-1])"
   ]
  },
  {
   "cell_type": "code",
   "execution_count": 34,
   "metadata": {},
   "outputs": [
    {
     "data": {
      "text/latex": [
       "$\\displaystyle ffg \\cdot \\rho + \\cos{\\left(\\rho \\right)}$"
      ],
      "text/plain": [
       "<IPython.core.display.Math object>"
      ]
     },
     "metadata": {},
     "output_type": "display_data"
    },
    {
     "data": {
      "image/png": "[encoded data removed]",
      "text/plain": [
       "<Figure size 864x576 with 6 Axes>"
      ]
     },
     "metadata": {
      "needs_background": "light"
     },
     "output_type": "display_data"
    }
   ],
   "source": [
    "numRows = int(max(1, np.ceil(len(splitParams)/3)))\n",
    "\n",
    "fig, axes = plt.subplots(numRows, 3, figsize=(12, 4*numRows))\n",
    "\n",
    "compNames = np.hstack([svNode.components for svNode in tree.svNodes])\n",
    "\n",
    "display(Math('{}'.format(\n",
    "    sympy.latex(sympy.sympify(allLatex[choice], evaluate=False), mul_symbol='dot')\n",
    ")))\n",
    "    \n",
    "for i, spline in enumerate(splitParams):\n",
    "    y, bc = spline[:-2], spline[-2:]\n",
    "    \n",
    "    x = np.arange(len(y))\n",
    "    \n",
    "    plotX, plotY = plotSpline(x, y, bc)\n",
    "    \n",
    "    row = i//3\n",
    "    col = i%3\n",
    "    \n",
    "    if numRows > 1:\n",
    "        ax = axes[row][col]\n",
    "    else:\n",
    "        ax = axes[col]\n",
    "    \n",
    "    ax.plot(x, y, 'o')\n",
    "    ax.plot(plotX, plotY)\n",
    "    ax.set_title(compNames[i].decode('utf-8'))\n",
    "    \n",
    "# _ = plt.suptitle(r'${}$'.format(sympy.latex(sympy.sympify(allLatex[choice], evaluate=False), mul_symbol='dot')))"
   ]
  },
  {
   "cell_type": "code",
   "execution_count": 33,
   "metadata": {},
   "outputs": [
    {
     "data": {
      "text/plain": [
       "array([ 0.69400443,  0.34843976,  0.13220814,  0.04362019,  0.01183334,\n",
       "        0.00279363,  0.        , -0.35311995,  0.        ])"
      ]
     },
     "execution_count": 33,
     "metadata": {},
     "output_type": "execute_result"
    }
   ],
   "source": [
    "splitParams[2]"
   ]
  },
  {
   "cell_type": "markdown",
   "metadata": {},
   "source": [
    "# Errors"
   ]
  },
  {
   "cell_type": "markdown",
   "metadata": {},
   "source": [
    "## Directly from logs"
   ]
  },
  {
   "cell_type": "code",
   "execution_count": 53,
   "metadata": {},
   "outputs": [
    {
     "data": {
      "text/plain": [
       "0.23699244422719676"
      ]
     },
     "execution_count": 53,
     "metadata": {},
     "output_type": "execute_result"
    }
   ],
   "source": [
    "energyWeight = 1\n",
    "forcesWeight = 1\n",
    "\n",
    "unweighted = errors.copy()\n",
    "unweighted[::2] /= energyWeight\n",
    "unweighted[1::2] /= forcesWeight\n",
    "\n",
    "np.sqrt(np.average(unweighted**2))"
   ]
  },
  {
   "cell_type": "code",
   "execution_count": 54,
   "metadata": {},
   "outputs": [
    {
     "name": "stdout",
     "output_type": "stream",
     "text": [
      "            add(rho, add(ffg, mul(rho, ffg))) average errors || 0.011502 0.334961\n",
      "\n",
      "                                                  structName || (eV/atom) (eV/A)\n",
      "                                        Ground_state_crystal || 0.000000 0.014663\n",
      "                         Mo_3x3x3_cell_mode_1_strain_-0.0200 || 0.001451 0.012469\n",
      "                         Mo_3x3x3_cell_mode_1_strain_-0.0400 || 0.001806 0.015489\n",
      "                         Mo_3x3x3_cell_mode_1_strain_-0.0600 || 0.001430 0.023469\n",
      "                         Mo_3x3x3_cell_mode_1_strain_-0.0800 || 0.008387 0.028313\n",
      "                         Mo_3x3x3_cell_mode_1_strain_-0.1000 || 0.020667 0.045762\n",
      "                          Mo_3x3x3_cell_mode_1_strain_0.0200 || 0.000958 0.012809\n",
      "                          Mo_3x3x3_cell_mode_1_strain_0.0800 || 0.003137 0.015803\n",
      "                         Mo_3x3x3_cell_mode_2_strain_-0.0200 || 0.001466 0.013145\n",
      "                         Mo_3x3x3_cell_mode_2_strain_-0.0400 || 0.001829 0.017188\n",
      "                         Mo_3x3x3_cell_mode_2_strain_-0.0600 || 0.001488 0.022023\n",
      "                         Mo_3x3x3_cell_mode_2_strain_-0.0800 || 0.008366 0.028941\n",
      "                         Mo_3x3x3_cell_mode_2_strain_-0.1000 || 0.020693 0.051344\n",
      "                          Mo_3x3x3_cell_mode_2_strain_0.0200 || 0.000933 0.014574\n",
      "                          Mo_3x3x3_cell_mode_2_strain_0.0400 || 0.002851 0.014777\n",
      "                          Mo_3x3x3_cell_mode_2_strain_0.0600 || 0.004772 0.015038\n",
      "                          Mo_3x3x3_cell_mode_2_strain_0.0800 || 0.003128 0.015213\n",
      "                          Mo_3x3x3_cell_mode_2_strain_0.1000 || 0.002372 0.016735\n",
      "                         Mo_3x3x3_cell_mode_3_strain_-0.0200 || 0.001434 0.014093\n",
      "                         Mo_3x3x3_cell_mode_3_strain_-0.0400 || 0.001799 0.015331\n",
      "                         Mo_3x3x3_cell_mode_3_strain_-0.0600 || 0.001421 0.023188\n",
      "                         Mo_3x3x3_cell_mode_3_strain_-0.1000 || 0.020618 0.042777\n",
      "                          Mo_3x3x3_cell_mode_3_strain_0.0200 || 0.000895 0.013814\n",
      "                          Mo_3x3x3_cell_mode_3_strain_0.0400 || 0.002821 0.014227\n",
      "                          Mo_3x3x3_cell_mode_3_strain_0.0600 || 0.004768 0.016760\n",
      "                          Mo_3x3x3_cell_mode_3_strain_0.0800 || 0.003141 0.014577\n",
      "                          Mo_3x3x3_cell_mode_3_strain_0.1000 || 0.002370 0.018515\n",
      "                         Mo_3x3x3_cell_mode_4_strain_-0.0200 || 0.000391 0.014344\n",
      "                         Mo_3x3x3_cell_mode_4_strain_-0.0400 || 0.001682 0.011986\n",
      "                         Mo_3x3x3_cell_mode_4_strain_-0.0600 || 0.003646 0.012765\n",
      "                          Mo_3x3x3_cell_mode_4_strain_0.0200 || 0.000400 0.010757\n",
      "                          Mo_3x3x3_cell_mode_4_strain_0.0400 || 0.001672 0.015515\n",
      "                          Mo_3x3x3_cell_mode_4_strain_0.0600 || 0.003627 0.014616\n",
      "                          Mo_3x3x3_cell_mode_4_strain_0.0800 || 0.006669 0.016497\n",
      "                          Mo_3x3x3_cell_mode_4_strain_0.1000 || 0.010667 0.013176\n",
      "                         Mo_3x3x3_cell_mode_5_strain_-0.0200 || 0.000408 0.010747\n",
      "                         Mo_3x3x3_cell_mode_5_strain_-0.0400 || 0.001695 0.012437\n",
      "                         Mo_3x3x3_cell_mode_5_strain_-0.0600 || 0.003572 0.016728\n",
      "                         Mo_3x3x3_cell_mode_5_strain_-0.0800 || 0.006651 0.015708\n",
      "                         Mo_3x3x3_cell_mode_5_strain_-0.1000 || 0.010646 0.015772\n",
      "                          Mo_3x3x3_cell_mode_5_strain_0.0200 || 0.000321 0.011530\n",
      "                          Mo_3x3x3_cell_mode_5_strain_0.0400 || 0.001666 0.012783\n",
      "                          Mo_3x3x3_cell_mode_5_strain_0.0600 || 0.003574 0.012508\n",
      "                          Mo_3x3x3_cell_mode_5_strain_0.0800 || 0.006637 0.013117\n",
      "                          Mo_3x3x3_cell_mode_5_strain_0.1000 || 0.010679 0.016238\n",
      "                         Mo_3x3x3_cell_mode_6_strain_-0.0200 || 0.000413 0.013062\n",
      "                         Mo_3x3x3_cell_mode_6_strain_-0.0400 || 0.001681 0.013090\n",
      "                         Mo_3x3x3_cell_mode_6_strain_-0.0600 || 0.003637 0.014693\n",
      "                         Mo_3x3x3_cell_mode_6_strain_-0.0800 || 0.006600 0.015710\n",
      "                         Mo_3x3x3_cell_mode_6_strain_-0.1000 || 0.010675 0.013572\n",
      "                          Mo_3x3x3_cell_mode_6_strain_0.0200 || 0.000377 0.015673\n",
      "                          Mo_3x3x3_cell_mode_6_strain_0.0400 || 0.001669 0.013132\n",
      "                          Mo_3x3x3_cell_mode_6_strain_0.0600 || 0.003611 0.012483\n",
      "                          Mo_3x3x3_cell_mode_6_strain_0.0800 || 0.006652 0.016014\n",
      "                          Mo_3x3x3_cell_mode_6_strain_0.1000 || 0.010655 0.017217\n",
      "                                       Mo_3x3x3_cell_relaxed || 0.003513 0.000000\n",
      "                             Mo_surface_mp_Mo_mp-129__1_0_0_ || 0.055109 0.173908\n",
      "                             Mo_surface_mp_Mo_mp-129__1_1_0_ || 0.053506 0.076876\n",
      "                             Mo_surface_mp_Mo_mp-129__1_1_1_ || 0.010984 0.233472\n",
      "                             Mo_surface_mp_Mo_mp-129__2_1_0_ || 0.034660 0.184877\n",
      "                             Mo_surface_mp_Mo_mp-129__2_2_1_ || 0.027473 0.118024\n",
      "                             Mo_surface_mp_Mo_mp-129__3_1_1_ || 0.011329 0.235992\n",
      "                             Mo_surface_mp_Mo_mp-129__3_2_0_ || 0.046808 0.156777\n",
      "                             Mo_surface_mp_Mo_mp-129__3_2_1_ || 0.028009 0.186495\n",
      "                             Mo_surface_mp_Mo_mp-129__3_3_2_ || 0.013100 0.183595\n",
      "   Snapshot_10_of_12_of_Vacancy_AIMD_NVT_simulation_at_300_K || 0.000128 0.094754\n",
      "  Snapshot_10_of_12_of_Vacancy_AIMD_NVT_simulation_at_6000_K || 0.000059 0.316137\n",
      "          Snapshot_10_of_40_of_AIMD_NVT_simulation_at_3000_K || 0.001777 0.214550\n",
      "           Snapshot_10_of_40_of_AIMD_NVT_simulation_at_300_K || 0.000322 0.063311\n",
      "   Snapshot_11_of_12_of_Vacancy_AIMD_NVT_simulation_at_300_K || 0.000750 0.089718\n",
      "  Snapshot_11_of_12_of_Vacancy_AIMD_NVT_simulation_at_6000_K || 0.010952 0.290074\n",
      "           Snapshot_11_of_40_of_AIMD_NVT_simulation_at_300_K || 0.000977 0.059991\n",
      "          Snapshot_11_of_40_of_AIMD_NVT_simulation_at_6000_K || 0.020621 0.633804\n",
      "   Snapshot_12_of_12_of_Vacancy_AIMD_NVT_simulation_at_300_K || 0.002094 0.080747\n",
      "  Snapshot_12_of_12_of_Vacancy_AIMD_NVT_simulation_at_6000_K || 0.012195 0.427641\n",
      "          Snapshot_12_of_40_of_AIMD_NVT_simulation_at_3000_K || 0.008593 0.261224\n",
      "           Snapshot_12_of_40_of_AIMD_NVT_simulation_at_300_K || 0.000456 0.057971\n",
      "          Snapshot_12_of_40_of_AIMD_NVT_simulation_at_6000_K || 0.012538 0.741989\n",
      "          Snapshot_13_of_40_of_AIMD_NVT_simulation_at_3000_K || 0.007009 0.250106\n",
      "           Snapshot_13_of_40_of_AIMD_NVT_simulation_at_300_K || 0.001459 0.056113\n",
      "          Snapshot_13_of_40_of_AIMD_NVT_simulation_at_6000_K || 0.024172 0.672260\n",
      "           Snapshot_14_of_40_of_AIMD_NVT_simulation_at_300_K || 0.000202 0.059377\n",
      "          Snapshot_14_of_40_of_AIMD_NVT_simulation_at_6000_K || 0.007507 0.714775\n",
      "          Snapshot_15_of_40_of_AIMD_NVT_simulation_at_3000_K || 0.000232 0.233566\n",
      "           Snapshot_15_of_40_of_AIMD_NVT_simulation_at_300_K || 0.001081 0.066771\n",
      "          Snapshot_15_of_40_of_AIMD_NVT_simulation_at_6000_K || 0.015550 0.752479\n",
      "          Snapshot_16_of_40_of_AIMD_NVT_simulation_at_3000_K || 0.000394 0.272345\n",
      "           Snapshot_16_of_40_of_AIMD_NVT_simulation_at_300_K || 0.000956 0.067742\n",
      "          Snapshot_16_of_40_of_AIMD_NVT_simulation_at_6000_K || 0.002765 0.697647\n",
      "          Snapshot_17_of_40_of_AIMD_NVT_simulation_at_3000_K || 0.003119 0.269245\n",
      "           Snapshot_17_of_40_of_AIMD_NVT_simulation_at_300_K || 0.001194 0.059366\n",
      "          Snapshot_17_of_40_of_AIMD_NVT_simulation_at_6000_K || 0.011257 0.546753\n",
      "          Snapshot_18_of_40_of_AIMD_NVT_simulation_at_3000_K || 0.001535 0.258443\n",
      "           Snapshot_18_of_40_of_AIMD_NVT_simulation_at_300_K || 0.001777 0.052302\n",
      "          Snapshot_18_of_40_of_AIMD_NVT_simulation_at_6000_K || 0.010804 0.722424\n",
      "          Snapshot_19_of_40_of_AIMD_NVT_simulation_at_3000_K || 0.002736 0.282767\n",
      "           Snapshot_19_of_40_of_AIMD_NVT_simulation_at_300_K || 0.000824 0.062499\n",
      "    Snapshot_1_of_12_of_Vacancy_AIMD_NVT_simulation_at_300_K || 0.000003 0.084481\n",
      "   Snapshot_1_of_12_of_Vacancy_AIMD_NVT_simulation_at_6000_K || 0.002466 0.087037\n",
      "           Snapshot_1_of_40_of_AIMD_NVT_simulation_at_3000_K || 0.002981 0.220907\n",
      "            Snapshot_1_of_40_of_AIMD_NVT_simulation_at_300_K || 0.000799 0.055488\n",
      "           Snapshot_1_of_40_of_AIMD_NVT_simulation_at_6000_K || 0.032181 0.871231\n",
      "          Snapshot_20_of_40_of_AIMD_NVT_simulation_at_3000_K || 0.003324 0.275035\n",
      "           Snapshot_20_of_40_of_AIMD_NVT_simulation_at_300_K || 0.001315 0.045979\n",
      "          Snapshot_20_of_40_of_AIMD_NVT_simulation_at_6000_K || 0.001279 0.699390\n",
      "          Snapshot_21_of_40_of_AIMD_NVT_simulation_at_3000_K || 0.005788 0.257380\n",
      "           Snapshot_21_of_40_of_AIMD_NVT_simulation_at_300_K || 0.000140 0.062919\n",
      "          Snapshot_21_of_40_of_AIMD_NVT_simulation_at_6000_K || 0.006031 0.715027\n",
      "          Snapshot_22_of_40_of_AIMD_NVT_simulation_at_3000_K || 0.011635 0.282463\n",
      "           Snapshot_22_of_40_of_AIMD_NVT_simulation_at_300_K || 0.000579 0.053188\n",
      "          Snapshot_22_of_40_of_AIMD_NVT_simulation_at_6000_K || 0.012792 0.764344\n",
      "          Snapshot_23_of_40_of_AIMD_NVT_simulation_at_3000_K || 0.010206 0.250191\n",
      "           Snapshot_23_of_40_of_AIMD_NVT_simulation_at_300_K || 0.000566 0.062113\n",
      "          Snapshot_23_of_40_of_AIMD_NVT_simulation_at_6000_K || 0.037324 0.686272\n",
      "          Snapshot_24_of_40_of_AIMD_NVT_simulation_at_3000_K || 0.011660 0.245350\n",
      "           Snapshot_24_of_40_of_AIMD_NVT_simulation_at_300_K || 0.000110 0.055154\n",
      "          Snapshot_24_of_40_of_AIMD_NVT_simulation_at_6000_K || 0.024332 0.833324\n",
      "          Snapshot_25_of_40_of_AIMD_NVT_simulation_at_3000_K || 0.011005 0.240347\n",
      "          Snapshot_25_of_40_of_AIMD_NVT_simulation_at_6000_K || 0.000355 0.672402\n",
      "          Snapshot_26_of_40_of_AIMD_NVT_simulation_at_3000_K || 0.000924 0.258873\n",
      "           Snapshot_26_of_40_of_AIMD_NVT_simulation_at_300_K || 0.000660 0.062980\n",
      "          Snapshot_26_of_40_of_AIMD_NVT_simulation_at_6000_K || 0.034620 0.524776\n",
      "          Snapshot_27_of_40_of_AIMD_NVT_simulation_at_3000_K || 0.002701 0.333564\n",
      "          Snapshot_27_of_40_of_AIMD_NVT_simulation_at_6000_K || 0.013872 0.706908\n",
      "          Snapshot_28_of_40_of_AIMD_NVT_simulation_at_3000_K || 0.003534 0.206025\n",
      "           Snapshot_28_of_40_of_AIMD_NVT_simulation_at_300_K || 0.000703 0.065120\n",
      "          Snapshot_28_of_40_of_AIMD_NVT_simulation_at_6000_K || 0.005617 0.772783\n",
      "          Snapshot_29_of_40_of_AIMD_NVT_simulation_at_3000_K || 0.002785 0.268335\n",
      "           Snapshot_29_of_40_of_AIMD_NVT_simulation_at_300_K || 0.001949 0.052003\n",
      "          Snapshot_29_of_40_of_AIMD_NVT_simulation_at_6000_K || 0.004187 0.644537\n",
      "    Snapshot_2_of_12_of_Vacancy_AIMD_NVT_simulation_at_300_K || 0.001773 0.092155\n",
      "   Snapshot_2_of_12_of_Vacancy_AIMD_NVT_simulation_at_6000_K || 0.003654 0.271125\n",
      "           Snapshot_2_of_40_of_AIMD_NVT_simulation_at_3000_K || 0.003432 0.255821\n",
      "            Snapshot_2_of_40_of_AIMD_NVT_simulation_at_300_K || 0.000047 0.069174\n",
      "           Snapshot_2_of_40_of_AIMD_NVT_simulation_at_6000_K || 0.007912 0.584004\n",
      "          Snapshot_30_of_40_of_AIMD_NVT_simulation_at_3000_K || 0.007855 0.308855\n",
      "          Snapshot_30_of_40_of_AIMD_NVT_simulation_at_6000_K || 0.000437 0.682065\n",
      "          Snapshot_31_of_40_of_AIMD_NVT_simulation_at_3000_K || 0.003472 0.275007\n",
      "           Snapshot_31_of_40_of_AIMD_NVT_simulation_at_300_K || 0.000356 0.056923\n",
      "          Snapshot_32_of_40_of_AIMD_NVT_simulation_at_3000_K || 0.001461 0.289838\n",
      "           Snapshot_32_of_40_of_AIMD_NVT_simulation_at_300_K || 0.000007 0.060927\n",
      "          Snapshot_32_of_40_of_AIMD_NVT_simulation_at_6000_K || 0.015157 0.560552\n",
      "          Snapshot_33_of_40_of_AIMD_NVT_simulation_at_3000_K || 0.008614 0.218802\n",
      "           Snapshot_33_of_40_of_AIMD_NVT_simulation_at_300_K || 0.001352 0.052265\n",
      "          Snapshot_33_of_40_of_AIMD_NVT_simulation_at_6000_K || 0.039316 0.559141\n",
      "          Snapshot_34_of_40_of_AIMD_NVT_simulation_at_3000_K || 0.001633 0.247180\n",
      "           Snapshot_34_of_40_of_AIMD_NVT_simulation_at_300_K || 0.001413 0.051884\n",
      "          Snapshot_34_of_40_of_AIMD_NVT_simulation_at_6000_K || 0.001760 0.654173\n",
      "          Snapshot_35_of_40_of_AIMD_NVT_simulation_at_3000_K || 0.006113 0.309301\n",
      "           Snapshot_35_of_40_of_AIMD_NVT_simulation_at_300_K || 0.000103 0.066596\n",
      "          Snapshot_35_of_40_of_AIMD_NVT_simulation_at_6000_K || 0.013179 0.669666\n",
      "          Snapshot_36_of_40_of_AIMD_NVT_simulation_at_3000_K || 0.000124 0.326847\n",
      "           Snapshot_36_of_40_of_AIMD_NVT_simulation_at_300_K || 0.000209 0.062795\n",
      "          Snapshot_36_of_40_of_AIMD_NVT_simulation_at_6000_K || 0.020554 0.683574\n",
      "          Snapshot_37_of_40_of_AIMD_NVT_simulation_at_3000_K || 0.004289 0.271203\n",
      "           Snapshot_37_of_40_of_AIMD_NVT_simulation_at_300_K || 0.000736 0.060020\n",
      "          Snapshot_38_of_40_of_AIMD_NVT_simulation_at_3000_K || 0.001015 0.267491\n",
      "           Snapshot_38_of_40_of_AIMD_NVT_simulation_at_300_K || 0.001231 0.058673\n",
      "          Snapshot_38_of_40_of_AIMD_NVT_simulation_at_6000_K || 0.005687 0.549947\n",
      "          Snapshot_39_of_40_of_AIMD_NVT_simulation_at_3000_K || 0.004167 0.274415\n",
      "           Snapshot_39_of_40_of_AIMD_NVT_simulation_at_300_K || 0.000946 0.054763\n",
      "          Snapshot_39_of_40_of_AIMD_NVT_simulation_at_6000_K || 0.006045 0.594648\n",
      "    Snapshot_3_of_12_of_Vacancy_AIMD_NVT_simulation_at_300_K || 0.002783 0.090862\n",
      "   Snapshot_3_of_12_of_Vacancy_AIMD_NVT_simulation_at_6000_K || 0.005106 0.277145\n",
      "           Snapshot_3_of_40_of_AIMD_NVT_simulation_at_3000_K || 0.002427 0.247333\n",
      "            Snapshot_3_of_40_of_AIMD_NVT_simulation_at_300_K || 0.000585 0.057759\n",
      "           Snapshot_3_of_40_of_AIMD_NVT_simulation_at_6000_K || 0.007133 0.706989\n",
      "          Snapshot_40_of_40_of_AIMD_NVT_simulation_at_3000_K || 0.005931 0.226398\n",
      "          Snapshot_40_of_40_of_AIMD_NVT_simulation_at_6000_K || 0.013113 0.624568\n",
      "           Snapshot_4_of_40_of_AIMD_NVT_simulation_at_3000_K || 0.000262 0.288076\n",
      "            Snapshot_4_of_40_of_AIMD_NVT_simulation_at_300_K || 0.000773 0.061649\n",
      "           Snapshot_4_of_40_of_AIMD_NVT_simulation_at_6000_K || 0.003527 0.764038\n",
      "    Snapshot_5_of_12_of_Vacancy_AIMD_NVT_simulation_at_300_K || 0.008235 0.070702\n",
      "   Snapshot_5_of_12_of_Vacancy_AIMD_NVT_simulation_at_6000_K || 0.002344 0.289397\n",
      "           Snapshot_5_of_40_of_AIMD_NVT_simulation_at_3000_K || 0.000721 0.243851\n",
      "            Snapshot_5_of_40_of_AIMD_NVT_simulation_at_300_K || 0.002436 0.058028\n",
      "           Snapshot_5_of_40_of_AIMD_NVT_simulation_at_6000_K || 0.020474 0.983040\n",
      "    Snapshot_6_of_12_of_Vacancy_AIMD_NVT_simulation_at_300_K || 0.000040 0.085642\n",
      "   Snapshot_6_of_12_of_Vacancy_AIMD_NVT_simulation_at_6000_K || 0.004969 0.307466\n",
      "           Snapshot_6_of_40_of_AIMD_NVT_simulation_at_3000_K || 0.008033 0.297593\n",
      "            Snapshot_6_of_40_of_AIMD_NVT_simulation_at_300_K || 0.001417 0.050245\n",
      "           Snapshot_6_of_40_of_AIMD_NVT_simulation_at_6000_K || 0.011836 0.940023\n",
      "    Snapshot_7_of_12_of_Vacancy_AIMD_NVT_simulation_at_300_K || 0.005631 0.072321\n",
      "   Snapshot_7_of_12_of_Vacancy_AIMD_NVT_simulation_at_6000_K || 0.009601 0.230808\n",
      "           Snapshot_7_of_40_of_AIMD_NVT_simulation_at_6000_K || 0.002244 0.742943\n",
      "   Snapshot_8_of_12_of_Vacancy_AIMD_NVT_simulation_at_6000_K || 0.001228 0.307811\n",
      "           Snapshot_8_of_40_of_AIMD_NVT_simulation_at_3000_K || 0.004328 0.304752\n",
      "            Snapshot_8_of_40_of_AIMD_NVT_simulation_at_300_K || 0.001093 0.052930\n",
      "           Snapshot_8_of_40_of_AIMD_NVT_simulation_at_6000_K || 0.009581 0.694089\n",
      "    Snapshot_9_of_12_of_Vacancy_AIMD_NVT_simulation_at_300_K || 0.003452 0.058721\n",
      "   Snapshot_9_of_12_of_Vacancy_AIMD_NVT_simulation_at_6000_K || 0.007439 0.284355\n",
      "           Snapshot_9_of_40_of_AIMD_NVT_simulation_at_3000_K || 0.001047 0.210258\n",
      "            Snapshot_9_of_40_of_AIMD_NVT_simulation_at_300_K || 0.000064 0.064876\n",
      "           Snapshot_9_of_40_of_AIMD_NVT_simulation_at_6000_K || 0.021094 0.638054\n"
     ]
    }
   ],
   "source": [
    "with h5py.File('../svreg_data/mlearn/Mo/Mo.hdf5', 'r') as db:\n",
    "        \n",
    "    print(\n",
    "        '{:>45} average errors || {:.6f} {:.6f}\\n'.format(\n",
    "            str(tree),\n",
    "            np.sqrt(np.average(unweighted[::2]**2)),\n",
    "            np.sqrt(np.average(unweighted[1::2]**2)),\n",
    "        )\n",
    "    )\n",
    "    \n",
    "    print(\n",
    "        '{:>60} || {} {}'.format(\n",
    "            'structName',\n",
    "            '(eV/atom)',\n",
    "            '(eV/A)'\n",
    "        )\n",
    "    )\n",
    "    \n",
    "    for i, structName in enumerate(sorted(db)):\n",
    "        print(\n",
    "            '{:>60} || {:.6f} {:.6f}'.format(\n",
    "                structName,\n",
    "                unweighted[2*i],\n",
    "                unweighted[2*i+1]\n",
    "            )\n",
    "        )"
   ]
  },
  {
   "cell_type": "raw",
   "metadata": {},
   "source": [
    "mul(sqrt(sqrt(rho)), rho) average errors || 0.178780 0.543202"
   ]
  },
  {
   "cell_type": "code",
   "execution_count": 10,
   "metadata": {},
   "outputs": [
    {
     "data": {
      "text/plain": [
       "<matplotlib.legend.Legend at 0x7efeff6957b8>"
      ]
     },
     "execution_count": 10,
     "metadata": {},
     "output_type": "execute_result"
    },
    {
     "data": {
      "image/png": "[encoded data removed]",
      "text/plain": [
       "<Figure size 576x288 with 2 Axes>"
      ]
     },
     "metadata": {
      "needs_background": "light"
     },
     "output_type": "display_data"
    }
   ],
   "source": [
    "fig, ax = plt.subplots(1, 2, figsize=(8, 4))\n",
    "\n",
    "ax[0].hist(errors[::2] , bins=100, alpha=0.3, label='Energy errors', color='orange')\n",
    "ax[1].hist(errors[1::2], bins=100, alpha=0.3, label='Force errors', color='blue')\n",
    "\n",
    "ax[0].legend()\n",
    "ax[1].legend()"
   ]
  },
  {
   "cell_type": "markdown",
   "metadata": {},
   "source": [
    "## External validation"
   ]
  },
  {
   "cell_type": "code",
   "execution_count": 5,
   "metadata": {},
   "outputs": [
    {
     "data": {
      "text/plain": [
       "(32,)"
      ]
     },
     "execution_count": 5,
     "metadata": {},
     "output_type": "execute_result"
    }
   ],
   "source": [
    "tree.bestParams.shape"
   ]
  },
  {
   "cell_type": "code",
   "execution_count": 6,
   "metadata": {},
   "outputs": [],
   "source": [
    "popDict = tree.parseArr2Dict(np.atleast_2d(tree.bestParams), fillFixedKnots=True)\n",
    "\n",
    "for svName in popDict:\n",
    "    for bondType in popDict[svName]:\n",
    "        popDict[svName][bondType] = [popDict[svName][bondType]]"
   ]
  },
  {
   "cell_type": "code",
   "execution_count": 7,
   "metadata": {},
   "outputs": [],
   "source": [
    "def buildSVNodePool(group):\n",
    "    \"\"\"Prepare svNodePool for use in tree construction\"\"\"\n",
    "\n",
    "    svNodePool = []\n",
    "\n",
    "    # `group` is a pointer to an entry for a structure in the database\n",
    "    for svName in sorted(group):\n",
    "        svGroup = group[svName]\n",
    "\n",
    "        restrictions = None\n",
    "        if 'restrictions' in svGroup.attrs:\n",
    "            restrictions = []\n",
    "            resList = svGroup.attrs['restrictions'].tolist()\n",
    "            for num in svGroup.attrs['numRestrictions']:\n",
    "                tmp = []\n",
    "                for _ in range(num):\n",
    "                    tmp.append(tuple(resList.pop()))\n",
    "                restrictions.append(tmp)\n",
    "\n",
    "        svNodePool.append(\n",
    "            SVNode(\n",
    "                description=svName,\n",
    "                components=svGroup.attrs['components'],\n",
    "                numParams=svGroup.attrs['numParams'],\n",
    "                bonds={\n",
    "                    k:svGroup[k].attrs['components'] for k in svGroup.keys()\n",
    "                },\n",
    "                restrictions=restrictions,\n",
    "                paramRanges=svGroup.attrs['paramRanges']\\\n",
    "                    if 'paramRanges' in group[svName].attrs else None\n",
    "            )\n",
    "        )\n",
    "\n",
    "    return svNodePool"
   ]
  },
  {
   "cell_type": "code",
   "execution_count": 8,
   "metadata": {},
   "outputs": [
    {
     "name": "stdout",
     "output_type": "stream",
     "text": [
      "tree.eval() intermediateEng: [-3766.25900969] [array([25562.98471245]), array([-0.14733252])]\n",
      "                                        Ground_state_crystal || 0.000000 5.827250 (-3766.259010)\n"
     ]
    }
   ],
   "source": [
    "import cma\n",
    "\n",
    "from mpi4py import MPI\n",
    "\n",
    "from nodes import SVNode\n",
    "from settings import Settings\n",
    "from database import SVDatabase\n",
    "from evaluator import SVEvaluator\n",
    "from regressor import SVRegressor\n",
    "\n",
    "settingsPath = 'examples/settings.in'\n",
    "databasePath = '../svreg_data/mlearn/Mo/Mo.hdf5'\n",
    "\n",
    "settings = Settings.from_file(settingsPath)\n",
    "settings['PROCS_PER_PHYS_NODE'] = 1\n",
    "settings['PROCS_PER_MANAGER'] = 1\n",
    "\n",
    "worldComm = MPI.COMM_WORLD\n",
    "with SVDatabase(settings['databasePath'], 'r') as database:\n",
    "    structNames = list(database.keys())\n",
    "    structNames = ['Ground_state_crystal']\n",
    "\n",
    "    if settings['refStruct'] not in structNames:\n",
    "        raise RuntimeError(\n",
    "            \"The reference structure must be included in structNames.\"\n",
    "        )\n",
    "\n",
    "    evaluator =  SVEvaluator(worldComm, structNames, settings)\n",
    "    evaluator.distributeDatabase(database)\n",
    "\n",
    "    trueValues = database.loadTrueValues()\n",
    "\n",
    "#     numStructs = len(trueValues)\n",
    "    \n",
    "    refStruct = settings['refStruct']\n",
    "    treeErrors = np.zeros(2*len(database))\n",
    "    \n",
    "    svNodePool = buildSVNodePool(database[settings['refStruct']])\n",
    "    \n",
    "    regressor = SVRegressor(\n",
    "        settings, svNodePool, cma.CMAEvolutionStrategy, [1.0, {'popsize': 1}]\n",
    "    )\n",
    "    \n",
    "    regressor.trees = [tree]\n",
    "    \n",
    "    treePopulations = [tree.parseArr2Dict(np.atleast_2d(tree.bestParams), fillFixedKnots=True)]\n",
    "    \n",
    "    # Group all dictionaries into one\n",
    "    populationDict = {}\n",
    "    for svNode in svNodePool:\n",
    "        populationDict[svNode.description] = {}\n",
    "        for bondType in svNode.bonds:\n",
    "            populationDict[svNode.description][bondType] = []\n",
    "\n",
    "    for treeDict in treePopulations:\n",
    "        for svName in treeDict.keys():\n",
    "            for bondType, pop in treeDict[svName].items():\n",
    "                populationDict[svName][bondType].append(pop)\n",
    "                            \n",
    "    svEng = evaluator.evaluate(populationDict, evalType='energy')\n",
    "    svFcs = evaluator.evaluate(populationDict, evalType='forces')\n",
    "    \n",
    "    energies, forces = regressor.evaluateTrees(svEng, svFcs, 1)\n",
    "    \n",
    "    for structName in sorted(structNames):\n",
    "        eng = energies[structName][0] - energies[refStruct][0]\n",
    "        fcs =   forces[structName][0]\n",
    "        \n",
    "        engErrors = eng - trueValues[structName]['energy']\n",
    "        fcsErrors = fcs - trueValues[structName]['forces']\n",
    "        \n",
    "        treeErrors[2*i]   = abs(engErrors)\n",
    "        treeErrors[2*i+1] = np.average(np.abs(fcsErrors), axis=(1, 2))\n",
    "        \n",
    "        print(\n",
    "            '{:>60} || {:.6f} {:.6f} ({:.6f})'.format(\n",
    "                structName,\n",
    "                treeErrors[2*i],\n",
    "                treeErrors[2*i+1],\n",
    "                energies[structName][0][0]\n",
    "            )\n",
    "        )\n",
    "# del evaluator"
   ]
  },
  {
   "cell_type": "code",
   "execution_count": 17,
   "metadata": {},
   "outputs": [],
   "source": [
    "from scipy.special import erf"
   ]
  },
  {
   "cell_type": "code",
   "execution_count": 18,
   "metadata": {},
   "outputs": [
    {
     "name": "stderr",
     "output_type": "stream",
     "text": [
      "/home/jvita/Programs/miniconda2/envs/parhdf5/lib/python3.6/site-packages/ipykernel_launcher.py:4: RuntimeWarning: divide by zero encountered in log\n",
      "  after removing the cwd from sys.path.\n"
     ]
    },
    {
     "data": {
      "text/plain": [
       "[<matplotlib.lines.Line2D at 0x7efefbbf9ac8>]"
      ]
     },
     "execution_count": 18,
     "metadata": {},
     "output_type": "execute_result"
    },
    {
     "data": {
      "image/png": "[encoded data removed]",
      "text/plain": [
       "<Figure size 432x288 with 1 Axes>"
      ]
     },
     "metadata": {
      "needs_background": "light"
     },
     "output_type": "display_data"
    }
   ],
   "source": [
    "fig, ax = plt.subplots()\n",
    "\n",
    "x = np.linspace(0, 10, 100)\n",
    "ax.plot(x, 1-erf(np.log(x)))"
   ]
  },
  {
   "cell_type": "code",
   "execution_count": 19,
   "metadata": {},
   "outputs": [
    {
     "name": "stderr",
     "output_type": "stream",
     "text": [
      "/home/jvita/Programs/miniconda2/envs/parhdf5/lib/python3.6/site-packages/ipykernel_launcher.py:1: RuntimeWarning: divide by zero encountered in log\n",
      "  \"\"\"Entry point for launching an IPython kernel.\n"
     ]
    },
    {
     "data": {
      "text/plain": [
       "array([2.00000000e+00, 1.99881362e+00, 1.97629491e+00, 1.90867730e+00,\n",
       "       1.80002313e+00, 1.66597825e+00, 1.52118092e+00, 1.37600848e+00,\n",
       "       1.23685949e+00, 1.10722126e+00, 9.88659792e-01, 8.81551842e-01,\n",
       "       7.85579776e-01, 7.00050408e-01, 6.24093620e-01, 5.56782297e-01,\n",
       "       4.97201968e-01, 4.44488927e-01, 3.97848925e-01, 3.56564155e-01,\n",
       "       3.19993391e-01, 2.87568330e-01, 2.58787995e-01, 2.33212354e-01,\n",
       "       2.10455803e-01, 1.90180917e-01, 1.72092635e-01, 1.55932998e-01,\n",
       "       1.41476443e-01, 1.28525632e-01, 1.16907805e-01, 1.06471578e-01,\n",
       "       9.70841656e-02, 8.86289679e-02, 8.10034728e-02, 7.41174426e-02,\n",
       "       6.78913431e-02, 6.22549816e-02, 5.71463281e-02, 5.25104931e-02,\n",
       "       4.82988410e-02, 4.44682204e-02, 4.09802950e-02, 3.78009622e-02,\n",
       "       3.48998459e-02, 3.22498552e-02, 2.98267981e-02, 2.76090449e-02,\n",
       "       2.55772333e-02, 2.37140095e-02, 2.20038018e-02, 2.04326211e-02,\n",
       "       1.89878862e-02, 1.76582690e-02, 1.64335587e-02, 1.53045418e-02,\n",
       "       1.42628955e-02, 1.33010946e-02, 1.24123271e-02, 1.15904214e-02,\n",
       "       1.08297800e-02, 1.01253218e-02, 9.47242941e-03, 8.86690366e-03,\n",
       "       8.30492184e-03, 7.78300102e-03, 7.29796505e-03, 6.84691508e-03,\n",
       "       6.42720313e-03, 6.03640840e-03, 5.67231599e-03, 5.33289778e-03,\n",
       "       5.01629525e-03, 4.72080396e-03, 4.44485967e-03, 4.18702571e-03,\n",
       "       3.94598161e-03, 3.72051289e-03, 3.50950173e-03, 3.31191860e-03,\n",
       "       3.12681464e-03, 2.95331476e-03, 2.79061137e-03, 2.63795874e-03,\n",
       "       2.49466776e-03, 2.36010132e-03, 2.23366998e-03, 2.11482810e-03,\n",
       "       2.00307029e-03, 1.89792816e-03, 1.79896735e-03, 1.70578490e-03,\n",
       "       1.61800667e-03, 1.53528519e-03, 1.45729752e-03, 1.38374340e-03,\n",
       "       1.31434349e-03, 1.24883779e-03, 1.18698418e-03, 1.12855709e-03])"
      ]
     },
     "execution_count": 19,
     "metadata": {},
     "output_type": "execute_result"
    }
   ],
   "source": [
    "1-erf(np.log(x))"
   ]
  },
  {
   "cell_type": "markdown",
   "metadata": {},
   "source": [
    "# Direct evaluation tests"
   ]
  },
  {
   "cell_type": "code",
   "execution_count": 13,
   "metadata": {},
   "outputs": [
    {
     "data": {
      "text/plain": [
       "'mul(ffg, ffg)'"
      ]
     },
     "execution_count": 13,
     "metadata": {},
     "output_type": "execute_result"
    }
   ],
   "source": [
    "str(tree)"
   ]
  },
  {
   "cell_type": "code",
   "execution_count": 14,
   "metadata": {},
   "outputs": [],
   "source": [
    "import os\n",
    "from ase.io import read"
   ]
  },
  {
   "cell_type": "code",
   "execution_count": 15,
   "metadata": {},
   "outputs": [],
   "source": [
    "atoms = read('/home/jvita/scripts/s-meam/data/fitting_databases/mlearn/data/Mo/lammps/Ground_state_crystal.data', format='lammps-data', style='atomic')"
   ]
  },
  {
   "cell_type": "code",
   "execution_count": 16,
   "metadata": {},
   "outputs": [
    {
     "data": {
      "text/plain": [
       "(36,)"
      ]
     },
     "execution_count": 16,
     "metadata": {},
     "output_type": "execute_result"
    }
   ],
   "source": [
    "y = tree.fillFixedKnots(tree.bestParams)[0]\n",
    "y.shape"
   ]
  },
  {
   "cell_type": "code",
   "execution_count": 9,
   "metadata": {},
   "outputs": [
    {
     "name": "stdout",
     "output_type": "stream",
     "text": [
      "Summation.loop() totalEnergy: 25562.9847414047\n",
      "Summation.loop() totalEnergy: -0.14733250678003182\n",
      "intermediateEng: -3766.258622730858\n"
     ]
    },
    {
     "data": {
      "text/plain": [
       "-69.74553005057145"
      ]
     },
     "execution_count": 9,
     "metadata": {},
     "output_type": "execute_result"
    }
   ],
   "source": [
    "tree.directEvaluation(y, atoms, evalType='energy') / len(atoms)"
   ]
  },
  {
   "cell_type": "raw",
   "metadata": {},
   "source": [
    "tree.eval() intermediateEng: [-3766.25900969] [array([25562.98471245]), array([-0.14733252])]\n",
    "                                        Ground_state_crystal || 0.000000 5.827250 (-3766.259010)\n"
   ]
  },
  {
   "cell_type": "markdown",
   "metadata": {},
   "source": [
    "# Lattice constant tests"
   ]
  },
  {
   "cell_type": "code",
   "execution_count": 17,
   "metadata": {},
   "outputs": [
    {
     "name": "stdout",
     "output_type": "stream",
     "text": [
      "Summation.loop() totalEnergy: 2950.798607382507\n",
      "Summation.loop() totalEnergy: 0.09512396912124305\n",
      "intermediateEng: 280.69167561166057\n",
      "Summation.loop() totalEnergy: 2254.743742853751\n",
      "Summation.loop() totalEnergy: 0.06074470131472899\n",
      "intermediateEng: 136.9637352009052\n",
      "Summation.loop() totalEnergy: 1816.329788795207\n",
      "Summation.loop() totalEnergy: 0.036642367006122806\n",
      "intermediateEng: 66.5546227251875\n",
      "Summation.loop() totalEnergy: 1508.4293101708865\n",
      "Summation.loop() totalEnergy: 0.019779920393902\n",
      "intermediateEng: 29.836611675008644\n",
      "Summation.loop() totalEnergy: 1260.7109004907084\n",
      "Summation.loop() totalEnergy: 0.008053142559216913\n",
      "intermediateEng: 10.152684607610402\n",
      "Summation.loop() totalEnergy: 1087.4876992675618\n",
      "Summation.loop() totalEnergy: 0.00034190773458545455\n",
      "intermediateEng: 0.3718204556461201\n",
      "Summation.loop() totalEnergy: 971.4394446982525\n",
      "Summation.loop() totalEnergy: -0.004094713378975733\n",
      "intermediateEng: -3.977766091070692\n",
      "Summation.loop() totalEnergy: 919.0726496679172\n",
      "Summation.loop() totalEnergy: -0.005890793850206765\n",
      "intermediateEng: -5.414067512557003\n",
      "Summation.loop() totalEnergy: 918.0936450269339\n",
      "Summation.loop() totalEnergy: -0.006057320021984097\n",
      "intermediateEng: -5.561187018078008\n",
      "Summation.loop() totalEnergy: 954.109436195378\n",
      "Summation.loop() totalEnergy: -0.005293056857089378\n",
      "intermediateEng: -5.050155493667625\n",
      "Summation.loop() totalEnergy: 978.9754698898628\n",
      "Summation.loop() totalEnergy: -0.004356362038773363\n",
      "intermediateEng: -4.264771573918513\n",
      "Summation.loop() totalEnergy: 970.9015075488464\n",
      "Summation.loop() totalEnergy: -0.0034998817263796056\n",
      "intermediateEng: -3.3980404443846184\n",
      "Summation.loop() totalEnergy: 921.8111075639898\n",
      "Summation.loop() totalEnergy: -0.002816873163040644\n",
      "intermediateEng: -2.5966249702897755\n",
      "Summation.loop() totalEnergy: 842.8691826341119\n",
      "Summation.loop() totalEnergy: -0.002275280922222408\n",
      "intermediateEng: -1.9177641711765894\n",
      "Summation.loop() totalEnergy: 748.6354030932282\n",
      "Summation.loop() totalEnergy: -0.0018323406554662902\n",
      "intermediateEng: -1.371755085209116\n",
      "Summation.loop() totalEnergy: 651.7969382448248\n",
      "Summation.loop() totalEnergy: -0.0014574878409733046\n",
      "intermediateEng: -0.94998611227546\n",
      "Summation.loop() totalEnergy: 561.0658780681249\n",
      "Summation.loop() totalEnergy: -0.0011344167513702604\n",
      "intermediateEng: -0.6364825307027449\n",
      "Summation.loop() totalEnergy: 473.8849561037644\n",
      "Summation.loop() totalEnergy: -0.0008801553108037255\n",
      "intermediateEng: -0.41709236082471857\n",
      "Summation.loop() totalEnergy: 393.2852137410663\n",
      "Summation.loop() totalEnergy: -0.0006803334861307759\n",
      "intermediateEng: -0.26756510050814697\n",
      "Summation.loop() totalEnergy: 321.60129088446945\n",
      "Summation.loop() totalEnergy: -0.0005204999041427846\n",
      "intermediateEng: -0.16739344107756216\n",
      "Summation.loop() totalEnergy: 259.20210862248604\n",
      "Summation.loop() totalEnergy: -0.00039352670586476063\n",
      "intermediateEng: -0.1020029519594068\n",
      "Summation.loop() totalEnergy: 205.99581903943147\n",
      "Summation.loop() totalEnergy: -0.0002938437166381853\n",
      "intermediateEng: -0.06053057707847359\n",
      "Summation.loop() totalEnergy: 161.61823570989904\n",
      "Summation.loop() totalEnergy: -0.0002166178683775996\n",
      "intermediateEng: -0.03500939771042678\n",
      "Summation.loop() totalEnergy: 125.47948418349057\n",
      "Summation.loop() totalEnergy: -0.00015767519568584914\n",
      "intermediateEng: -0.019785002223191288\n",
      "Summation.loop() totalEnergy: 96.79533835681632\n",
      "Summation.loop() totalEnergy: -0.00011342477156208766\n",
      "intermediateEng: -0.010978989141396873\n",
      "Summation.loop() totalEnergy: 74.46355577645001\n",
      "Summation.loop() totalEnergy: -8.07381833841626e-05\n",
      "intermediateEng: -0.006012052221715841\n",
      "Summation.loop() totalEnergy: 57.25868939046821\n",
      "Summation.loop() totalEnergy: -5.696106379903287e-05\n",
      "intermediateEng: -0.003261515859419466\n",
      "Summation.loop() totalEnergy: 43.93697522382924\n",
      "Summation.loop() totalEnergy: -3.989856114562951e-05\n",
      "intermediateEng: -0.00175302209252196\n",
      "Summation.loop() totalEnergy: 33.49954959049515\n",
      "Summation.loop() totalEnergy: -2.7811792779846838e-05\n",
      "intermediateEng: -0.0009316825314290541\n",
      "Summation.loop() totalEnergy: 25.195125902227176\n",
      "Summation.loop() totalEnergy: -1.9353557685619814e-05\n",
      "intermediateEng: -0.0004876153225452076\n",
      "Summation.loop() totalEnergy: 18.480816277312357\n",
      "Summation.loop() totalEnergy: -1.3496922372485511e-05\n",
      "intermediateEng: -0.00024943414267505155\n",
      "Summation.loop() totalEnergy: 13.14691478741772\n",
      "Summation.loop() totalEnergy: -9.45514971782929e-06\n",
      "intermediateEng: -0.00012430604764257838\n",
      "Summation.loop() totalEnergy: 9.134515617261817\n",
      "Summation.loop() totalEnergy: -6.641654547671506e-06\n",
      "intermediateEng: -6.0668297190163344e-05\n",
      "Summation.loop() totalEnergy: 6.294780894790195\n",
      "Summation.loop() totalEnergy: -4.65194571294932e-06\n",
      "intermediateEng: -2.928297899747453e-05\n",
      "Summation.loop() totalEnergy: 4.402319919678756\n",
      "Summation.loop() totalEnergy: -3.2391111548323556e-06\n",
      "intermediateEng: -1.4259603558972137e-05\n",
      "Summation.loop() totalEnergy: 3.2553685734984277\n",
      "Summation.loop() totalEnergy: -2.2320672733364186e-06\n",
      "intermediateEng: -7.266201655553702e-06\n",
      "Summation.loop() totalEnergy: 2.6794297641601297\n",
      "Summation.loop() totalEnergy: -1.5096891007057057e-06\n",
      "intermediateEng: -4.045105911059007e-06\n",
      "Summation.loop() totalEnergy: 2.2694428933539594\n",
      "Summation.loop() totalEnergy: -1.0086586102310475e-06\n",
      "intermediateEng: -2.289093114809132e-06\n",
      "Summation.loop() totalEnergy: 1.8806905063090058\n",
      "Summation.loop() totalEnergy: -6.628466538180975e-07\n",
      "intermediateEng: -1.246609408974388e-06\n",
      "Summation.loop() totalEnergy: 1.4759250145919527\n",
      "Summation.loop() totalEnergy: -4.202943087867348e-07\n",
      "intermediateEng: -6.203228838289762e-07\n",
      "Summation.loop() totalEnergy: 1.048258165994496\n",
      "Summation.loop() totalEnergy: -2.4815574906213776e-07\n",
      "intermediateEng: -2.601312903928669e-07\n",
      "Summation.loop() totalEnergy: 0.6528473566437473\n",
      "Summation.loop() totalEnergy: -1.3184449267687645e-07\n",
      "intermediateEng: -8.607432853213469e-08\n",
      "Summation.loop() totalEnergy: 0.34313324360529573\n",
      "Summation.loop() totalEnergy: -6.033312676708662e-08\n",
      "intermediateEng: -2.0702301484439923e-08\n",
      "Summation.loop() totalEnergy: 0.14113970881080734\n",
      "Summation.loop() totalEnergy: -2.1964101747924166e-08\n",
      "intermediateEng: -3.1000069249929613e-09\n",
      "Summation.loop() totalEnergy: 0.038495240694429764\n",
      "Summation.loop() totalEnergy: -5.373919332292635e-09\n",
      "intermediateEng: -2.0687031816905428e-10\n",
      "Summation.loop() totalEnergy: 0.0043306402827596015\n",
      "Summation.loop() totalEnergy: -5.484388499056393e-10\n",
      "intermediateEng: -2.3750913760317084e-12\n",
      "Summation.loop() totalEnergy: 8.910243777776966e-06\n",
      "Summation.loop() totalEnergy: -1.0334009138425357e-12\n",
      "intermediateEng: -9.207854062514484e-18\n",
      "Summation.loop() totalEnergy: 0.0\n",
      "Summation.loop() totalEnergy: 0.0\n",
      "intermediateEng: 0.0\n",
      "Summation.loop() totalEnergy: 0.0\n",
      "Summation.loop() totalEnergy: 0.0\n",
      "intermediateEng: 0.0\n",
      "Summation.loop() totalEnergy: 0.0\n",
      "Summation.loop() totalEnergy: 0.0\n",
      "intermediateEng: 0.0\n",
      "Summation.loop() totalEnergy: 0.0\n",
      "Summation.loop() totalEnergy: 0.0\n",
      "intermediateEng: 0.0\n",
      "Summation.loop() totalEnergy: 0.0\n",
      "Summation.loop() totalEnergy: 0.0\n",
      "intermediateEng: 0.0\n",
      "Summation.loop() totalEnergy: 0.0\n",
      "Summation.loop() totalEnergy: 0.0\n",
      "intermediateEng: 0.0\n",
      "Summation.loop() totalEnergy: 0.0\n",
      "Summation.loop() totalEnergy: 0.0\n",
      "intermediateEng: 0.0\n",
      "Summation.loop() totalEnergy: 0.0\n",
      "Summation.loop() totalEnergy: 0.0\n",
      "intermediateEng: 0.0\n",
      "Summation.loop() totalEnergy: 0.0\n",
      "Summation.loop() totalEnergy: 0.0\n",
      "intermediateEng: 0.0\n",
      "Summation.loop() totalEnergy: 0.0\n",
      "Summation.loop() totalEnergy: 0.0\n",
      "intermediateEng: 0.0\n",
      "Summation.loop() totalEnergy: 0.0\n",
      "Summation.loop() totalEnergy: 0.0\n",
      "intermediateEng: 0.0\n",
      "Summation.loop() totalEnergy: 0.0\n",
      "Summation.loop() totalEnergy: 0.0\n",
      "intermediateEng: 0.0\n",
      "Summation.loop() totalEnergy: 0.0\n",
      "Summation.loop() totalEnergy: 0.0\n",
      "intermediateEng: 0.0\n",
      "Summation.loop() totalEnergy: 0.0\n",
      "Summation.loop() totalEnergy: 0.0\n",
      "intermediateEng: 0.0\n",
      "Summation.loop() totalEnergy: 0.0\n",
      "Summation.loop() totalEnergy: 0.0\n",
      "intermediateEng: 0.0\n",
      "Summation.loop() totalEnergy: 0.0\n",
      "Summation.loop() totalEnergy: 0.0\n",
      "intermediateEng: 0.0\n",
      "Summation.loop() totalEnergy: 0.0\n",
      "Summation.loop() totalEnergy: 0.0\n",
      "intermediateEng: 0.0\n",
      "Summation.loop() totalEnergy: 0.0\n",
      "Summation.loop() totalEnergy: 0.0\n",
      "intermediateEng: 0.0\n",
      "Summation.loop() totalEnergy: 0.0\n",
      "Summation.loop() totalEnergy: 0.0\n",
      "intermediateEng: 0.0\n",
      "Summation.loop() totalEnergy: 0.0\n",
      "Summation.loop() totalEnergy: 0.0\n",
      "intermediateEng: 0.0\n",
      "Summation.loop() totalEnergy: 0.0\n",
      "Summation.loop() totalEnergy: 0.0\n",
      "intermediateEng: 0.0\n",
      "Summation.loop() totalEnergy: 0.0\n"
     ]
    },
    {
     "name": "stdout",
     "output_type": "stream",
     "text": [
      "Summation.loop() totalEnergy: 0.0\n",
      "intermediateEng: 0.0\n",
      "Summation.loop() totalEnergy: 0.0\n",
      "Summation.loop() totalEnergy: 0.0\n",
      "intermediateEng: 0.0\n",
      "Summation.loop() totalEnergy: 0.0\n",
      "Summation.loop() totalEnergy: 0.0\n",
      "intermediateEng: 0.0\n",
      "Summation.loop() totalEnergy: 0.0\n",
      "Summation.loop() totalEnergy: 0.0\n",
      "intermediateEng: 0.0\n",
      "Summation.loop() totalEnergy: 0.0\n",
      "Summation.loop() totalEnergy: 0.0\n",
      "intermediateEng: 0.0\n",
      "Summation.loop() totalEnergy: 0.0\n",
      "Summation.loop() totalEnergy: 0.0\n",
      "intermediateEng: 0.0\n",
      "Summation.loop() totalEnergy: 0.0\n",
      "Summation.loop() totalEnergy: 0.0\n",
      "intermediateEng: 0.0\n",
      "Summation.loop() totalEnergy: 0.0\n",
      "Summation.loop() totalEnergy: 0.0\n",
      "intermediateEng: 0.0\n",
      "Summation.loop() totalEnergy: 0.0\n",
      "Summation.loop() totalEnergy: 0.0\n",
      "intermediateEng: 0.0\n",
      "Summation.loop() totalEnergy: 0.0\n",
      "Summation.loop() totalEnergy: 0.0\n",
      "intermediateEng: 0.0\n",
      "Summation.loop() totalEnergy: 0.0\n",
      "Summation.loop() totalEnergy: 0.0\n",
      "intermediateEng: 0.0\n",
      "Summation.loop() totalEnergy: 0.0\n",
      "Summation.loop() totalEnergy: 0.0\n",
      "intermediateEng: 0.0\n",
      "Summation.loop() totalEnergy: 0.0\n",
      "Summation.loop() totalEnergy: 0.0\n",
      "intermediateEng: 0.0\n",
      "Summation.loop() totalEnergy: 0.0\n",
      "Summation.loop() totalEnergy: 0.0\n",
      "intermediateEng: 0.0\n",
      "Summation.loop() totalEnergy: 0.0\n",
      "Summation.loop() totalEnergy: 0.0\n",
      "intermediateEng: 0.0\n",
      "Summation.loop() totalEnergy: 0.0\n",
      "Summation.loop() totalEnergy: 0.0\n",
      "intermediateEng: 0.0\n",
      "Summation.loop() totalEnergy: 0.0\n",
      "Summation.loop() totalEnergy: 0.0\n",
      "intermediateEng: 0.0\n",
      "Summation.loop() totalEnergy: 0.0\n",
      "Summation.loop() totalEnergy: 0.0\n",
      "intermediateEng: 0.0\n",
      "Summation.loop() totalEnergy: 0.0\n",
      "Summation.loop() totalEnergy: 0.0\n",
      "intermediateEng: 0.0\n",
      "Summation.loop() totalEnergy: 0.0\n",
      "Summation.loop() totalEnergy: 0.0\n",
      "intermediateEng: 0.0\n",
      "Summation.loop() totalEnergy: 0.0\n",
      "Summation.loop() totalEnergy: 0.0\n",
      "intermediateEng: 0.0\n",
      "Summation.loop() totalEnergy: 0.0\n",
      "Summation.loop() totalEnergy: 0.0\n",
      "intermediateEng: 0.0\n",
      "Summation.loop() totalEnergy: 0.0\n",
      "Summation.loop() totalEnergy: 0.0\n",
      "intermediateEng: 0.0\n",
      "Summation.loop() totalEnergy: 0.0\n",
      "Summation.loop() totalEnergy: 0.0\n",
      "intermediateEng: 0.0\n",
      "Summation.loop() totalEnergy: 0.0\n",
      "Summation.loop() totalEnergy: 0.0\n",
      "intermediateEng: 0.0\n",
      "Summation.loop() totalEnergy: 0.0\n",
      "Summation.loop() totalEnergy: 0.0\n",
      "intermediateEng: 0.0\n",
      "Summation.loop() totalEnergy: 0.0\n",
      "Summation.loop() totalEnergy: 0.0\n",
      "intermediateEng: 0.0\n",
      "Summation.loop() totalEnergy: 0.0\n",
      "Summation.loop() totalEnergy: 0.0\n",
      "intermediateEng: 0.0\n",
      "Summation.loop() totalEnergy: 0.0\n",
      "Summation.loop() totalEnergy: 0.0\n",
      "intermediateEng: 0.0\n",
      "Summation.loop() totalEnergy: 0.0\n",
      "Summation.loop() totalEnergy: 0.0\n",
      "intermediateEng: 0.0\n",
      "Summation.loop() totalEnergy: 0.0\n",
      "Summation.loop() totalEnergy: 0.0\n",
      "intermediateEng: 0.0\n",
      "Summation.loop() totalEnergy: 0.0\n",
      "Summation.loop() totalEnergy: 0.0\n",
      "intermediateEng: 0.0\n"
     ]
    }
   ],
   "source": [
    "import ase.build\n",
    "from ase.io import Trajectory, read, write\n",
    "\n",
    "y = tree.fillFixedKnots(tree.bestParams)[0]\n",
    "\n",
    "elements = ['Cu', 'Ge', 'Li' , 'Mo', 'Ni', 'Si']\n",
    "crystals = ['fcc', 'diamond', 'bcc', 'bcc', 'fcc', 'diamond']\n",
    "\n",
    "elem = 'Mo'\n",
    "\n",
    "types = [elem]\n",
    "cryst = crystals[elements.index(elem)]\n",
    "\n",
    "atoms = ase.build.bulk(elem, cryst, cubic=True, a=3.4188376753507015)\n",
    "traj = Trajectory(\"test.traj\", 'w')\n",
    "\n",
    "low = 2.5; high = 10\n",
    "\n",
    "a_linspace = np.linspace(low, high, 100)\n",
    "for a in a_linspace:\n",
    "    scaled_atoms = atoms.copy()\n",
    "\n",
    "    cell = scaled_atoms.get_cell()\n",
    "    cell[0,0] = cell[1,1] = cell[2, 2,] = a\n",
    "\n",
    "    scaled_atoms.set_cell(cell, scale_atoms=True)\n",
    "\n",
    "    traj.write(scaled_atoms)\n",
    "\n",
    "configs = ase.io.read(\"test.traj@:\")\n",
    "\n",
    "energies = [tree.directEvaluation(y, config, evalType='energy') / len(config) for config in configs]\n",
    "a_trace = [config.cell[0,0] for config in configs]"
   ]
  },
  {
   "cell_type": "code",
   "execution_count": 28,
   "metadata": {},
   "outputs": [
    {
     "name": "stdout",
     "output_type": "stream",
     "text": [
      "\n"
     ]
    },
    {
     "data": {
      "image/png": "[encoded data removed]",
      "text/plain": [
       "<Figure size 432x288 with 1 Axes>"
      ]
     },
     "metadata": {
      "needs_background": "light"
     },
     "output_type": "display_data"
    }
   ],
   "source": [
    "fig, ax = plt.subplots()\n",
    "\n",
    "ax.plot(a_trace, energies)\n",
    "\n",
    "ax.set_ylim([-5, 10])\n",
    "ax.set_xlabel(r\"Lattice constant ($\\AA$)\", fontsize=14)\n",
    "ax.set_ylabel(\"Energy (eV)\", fontsize=14)\n",
    "ax.set_title(\"Example tree: {}\".format(tree), fontsize=14)\n",
    "print()"
   ]
  },
  {
   "cell_type": "code",
   "execution_count": 21,
   "metadata": {},
   "outputs": [
    {
     "name": "stdout",
     "output_type": "stream",
     "text": [
      "3.168 3.106060606060606 -0.019551576369758263\n"
     ]
    }
   ],
   "source": [
    "min_idx = np.argmin(energies)\n",
    "\n",
    "min_a = a_trace[min_idx]\n",
    "\n",
    "expected_a = [3.621, 5.763, 3.427, 3.168, 3.508, 5.469]\n",
    "\n",
    "err = (min_a - expected_a[elements.index(elem)])/expected_a[elements.index(elem)]\n",
    "\n",
    "print(expected_a[elements.index(elem)], min_a, err)"
   ]
  },
  {
   "cell_type": "code",
   "execution_count": null,
   "metadata": {},
   "outputs": [],
   "source": []
  }
 ],
 "metadata": {
  "kernelspec": {
   "display_name": "Python 3",
   "language": "python",
   "name": "python3"
  },
  "language_info": {
   "codemirror_mode": {
    "name": "ipython",
    "version": 3
   },
   "file_extension": ".py",
   "mimetype": "text/x-python",
   "name": "python",
   "nbconvert_exporter": "python",
   "pygments_lexer": "ipython3",
   "version": "3.6.10"
  }
 },
 "nbformat": 4,
 "nbformat_minor": 4
}
