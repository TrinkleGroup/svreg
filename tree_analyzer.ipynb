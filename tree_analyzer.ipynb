{
 "cells": [
  {
   "cell_type": "markdown",
   "metadata": {},
   "source": [
    "# Imports"
   ]
  },
  {
   "cell_type": "code",
   "execution_count": 1,
   "metadata": {},
   "outputs": [],
   "source": [
    "import os\n",
    "import h5py\n",
    "import glob\n",
    "import pickle\n",
    "import numpy as np\n",
    "import matplotlib.pyplot as plt\n",
    "\n",
    "from scipy.interpolate import CubicSpline"
   ]
  },
  {
   "cell_type": "markdown",
   "metadata": {},
   "source": [
    "# Setup"
   ]
  },
  {
   "cell_type": "code",
   "execution_count": 2,
   "metadata": {},
   "outputs": [],
   "source": [
    "basePath = os.path.join('results', 'polish_rho_rho_sof')\n",
    "fromArchive = False\n",
    "\n",
    "# basePath = os.path.join('results', 'mo_fixed')\n",
    "# fromArchive = True"
   ]
  },
  {
   "cell_type": "code",
   "execution_count": 3,
   "metadata": {},
   "outputs": [],
   "source": [
    "if fromArchive:\n",
    "    archive = pickle.load(open(os.path.join(basePath, 'archive.pkl'), 'rb'))\n",
    "    tree = pickle.load(open(os.path.join(basePath, 'tree.pkl'), 'rb'))\n",
    "    \n",
    "    treeName = 'mul(sqrt(sqrt(rho)), rho)'\n",
    "    entry = archive[treeName]\n",
    "    tree.bestParams = entry.bestParams\n",
    "    \n",
    "    errors = entry.bestErrors\n",
    "else:\n",
    "    files = sorted(glob.glob(os.path.join(basePath, 'tree*')))\n",
    "    intIndices = [int(s[s.find('tree')+5:s.find('.pkl')]) for s in files]\n",
    "\n",
    "    argsort = np.argsort(intIndices)\n",
    "\n",
    "    treeFile = np.array(files)[argsort][-1]\n",
    "    tree = pickle.load(open(treeFile, 'rb'))\n",
    "    \n",
    "    errorFiles = sorted(glob.glob(os.path.join(basePath, 'errors*')))\n",
    "    errorFile  = np.array(errorFiles)[argsort][-1]\n",
    "    errors = pickle.load(open(errorFile, 'rb'))"
   ]
  },
  {
   "cell_type": "code",
   "execution_count": 4,
   "metadata": {},
   "outputs": [
    {
     "name": "stdout",
     "output_type": "stream",
     "text": [
      "Tree: mul(sqrt(sqrt(rho)), rho)\n"
     ]
    }
   ],
   "source": [
    "print('Tree:', tree)"
   ]
  },
  {
   "cell_type": "markdown",
   "metadata": {},
   "source": [
    "# Plotting"
   ]
  },
  {
   "cell_type": "code",
   "execution_count": 5,
   "metadata": {},
   "outputs": [],
   "source": [
    "def plotSpline(x, y, bc):\n",
    "    cs = CubicSpline(x, y, bc_type=((1, bc[0]), (1, bc[1])))\n",
    "    \n",
    "    plotX = np.linspace(x[0], x[-1], 100)\n",
    "    plotY = cs(plotX)\n",
    "    \n",
    "    return plotX, plotY"
   ]
  },
  {
   "cell_type": "code",
   "execution_count": 6,
   "metadata": {},
   "outputs": [],
   "source": [
    "splits = []\n",
    "\n",
    "for svNode in tree.svNodes:\n",
    "    for comp in svNode.components:\n",
    "        splits.append(svNode.numParams[comp]+2)"
   ]
  },
  {
   "cell_type": "code",
   "execution_count": 7,
   "metadata": {},
   "outputs": [],
   "source": [
    "splitParams = np.array_split(tree.bestParams, np.cumsum(splits)[:-1])"
   ]
  },
  {
   "cell_type": "code",
   "execution_count": 8,
   "metadata": {},
   "outputs": [
    {
     "data": {
      "image/png": "[encoded data removed]",
      "text/plain": [
       "<Figure size 864x288 with 3 Axes>"
      ]
     },
     "metadata": {
      "needs_background": "light"
     },
     "output_type": "display_data"
    }
   ],
   "source": [
    "numRows = len(splitParams)//3 + 1\n",
    "\n",
    "fig, axes = plt.subplots(numRows, 3, figsize=(12, 4*numRows))\n",
    "\n",
    "for i, spline in enumerate(splitParams):\n",
    "    y, bc = spline[:-2], spline[-2:]\n",
    "    x = np.arange(len(y))\n",
    "    \n",
    "    plotX, plotY = plotSpline(x, y, bc)\n",
    "    \n",
    "    row = i//3\n",
    "    col = i%3\n",
    "    \n",
    "    if numRows > 1:\n",
    "        ax = axes[row][col]\n",
    "    else:\n",
    "        ax = axes[col]\n",
    "    \n",
    "    ax.plot(x, y, 'o')\n",
    "    ax.plot(plotX, plotY)\n",
    "    ax.set_title(tree.svNodes[i].description)"
   ]
  },
  {
   "cell_type": "markdown",
   "metadata": {},
   "source": [
    "# Errors"
   ]
  },
  {
   "cell_type": "code",
   "execution_count": 9,
   "metadata": {},
   "outputs": [
    {
     "name": "stdout",
     "output_type": "stream",
     "text": [
      "                    mul(sqrt(sqrt(rho)), rho) average errors || 0.395545 0.627005\n",
      "\n",
      "                                                  structName || (eV/atom) (eV/A)\n",
      "                                        Ground_state_crystal || 0.000000 0.467175\n",
      "                         Mo_3x3x3_cell_mode_1_strain_-0.0200 || 0.022657 0.454063\n",
      "                         Mo_3x3x3_cell_mode_1_strain_-0.0400 || 0.075310 0.454560\n",
      "                         Mo_3x3x3_cell_mode_1_strain_-0.0600 || 0.152844 0.424480\n",
      "                         Mo_3x3x3_cell_mode_1_strain_-0.0800 || 0.162547 0.388069\n",
      "                         Mo_3x3x3_cell_mode_1_strain_-0.1000 || 0.013228 0.357343\n",
      "                          Mo_3x3x3_cell_mode_1_strain_0.0200 || 0.362014 0.460953\n",
      "                          Mo_3x3x3_cell_mode_1_strain_0.0800 || 0.034852 0.386139\n",
      "                         Mo_3x3x3_cell_mode_2_strain_-0.0200 || 0.023172 0.448097\n",
      "                         Mo_3x3x3_cell_mode_2_strain_-0.0400 || 0.073506 0.453156\n",
      "                         Mo_3x3x3_cell_mode_2_strain_-0.0600 || 0.148857 0.414761\n",
      "                         Mo_3x3x3_cell_mode_2_strain_-0.0800 || 0.163344 0.388402\n",
      "                         Mo_3x3x3_cell_mode_2_strain_-0.1000 || 0.013288 0.370196\n",
      "                          Mo_3x3x3_cell_mode_2_strain_0.0200 || 0.359723 0.458524\n",
      "                          Mo_3x3x3_cell_mode_2_strain_0.0400 || 1.355696 0.444124\n",
      "                          Mo_3x3x3_cell_mode_2_strain_0.0600 || 2.904533 0.385921\n",
      "                          Mo_3x3x3_cell_mode_2_strain_0.0800 || 0.035510 0.378191\n",
      "                          Mo_3x3x3_cell_mode_2_strain_0.1000 || 1.429490 0.385843\n",
      "                         Mo_3x3x3_cell_mode_3_strain_-0.0200 || 0.019388 0.457454\n",
      "                         Mo_3x3x3_cell_mode_3_strain_-0.0400 || 0.066682 0.418995\n",
      "                         Mo_3x3x3_cell_mode_3_strain_-0.0600 || 0.148826 0.415138\n",
      "                         Mo_3x3x3_cell_mode_3_strain_-0.1000 || 0.020849 0.364758\n",
      "                          Mo_3x3x3_cell_mode_3_strain_0.0200 || 0.358723 0.454860\n",
      "                          Mo_3x3x3_cell_mode_3_strain_0.0400 || 1.352466 0.432882\n",
      "                          Mo_3x3x3_cell_mode_3_strain_0.0600 || 2.889105 0.411632\n",
      "                          Mo_3x3x3_cell_mode_3_strain_0.0800 || 0.033151 0.371539\n",
      "                          Mo_3x3x3_cell_mode_3_strain_0.1000 || 1.428573 0.390441\n",
      "                         Mo_3x3x3_cell_mode_4_strain_-0.0200 || 0.068099 0.453011\n",
      "                         Mo_3x3x3_cell_mode_4_strain_-0.0400 || 0.291647 0.455582\n",
      "                         Mo_3x3x3_cell_mode_4_strain_-0.0600 || 0.661780 0.442041\n",
      "                          Mo_3x3x3_cell_mode_4_strain_0.0200 || 0.070006 0.461785\n",
      "                          Mo_3x3x3_cell_mode_4_strain_0.0400 || 0.293469 0.456522\n",
      "                          Mo_3x3x3_cell_mode_4_strain_0.0600 || 0.660264 0.453350\n",
      "                          Mo_3x3x3_cell_mode_4_strain_0.0800 || 1.193388 0.424746\n",
      "                          Mo_3x3x3_cell_mode_4_strain_0.1000 || 1.942200 0.401856\n",
      "                         Mo_3x3x3_cell_mode_5_strain_-0.0200 || 0.068453 0.443012\n",
      "                         Mo_3x3x3_cell_mode_5_strain_-0.0400 || 0.295963 0.477980\n",
      "                         Mo_3x3x3_cell_mode_5_strain_-0.0600 || 0.657964 0.433296\n",
      "                         Mo_3x3x3_cell_mode_5_strain_-0.0800 || 1.192230 0.436508\n",
      "                         Mo_3x3x3_cell_mode_5_strain_-0.1000 || 1.943446 0.402602\n",
      "                          Mo_3x3x3_cell_mode_5_strain_0.0200 || 0.071256 0.463657\n",
      "                          Mo_3x3x3_cell_mode_5_strain_0.0400 || 0.288649 0.448802\n",
      "                          Mo_3x3x3_cell_mode_5_strain_0.0600 || 0.657838 0.440508\n",
      "                          Mo_3x3x3_cell_mode_5_strain_0.0800 || 1.188012 0.411075\n",
      "                          Mo_3x3x3_cell_mode_5_strain_0.1000 || 1.950035 0.424211\n",
      "                         Mo_3x3x3_cell_mode_6_strain_-0.0200 || 0.072786 0.461929\n",
      "                         Mo_3x3x3_cell_mode_6_strain_-0.0400 || 0.290493 0.465634\n",
      "                         Mo_3x3x3_cell_mode_6_strain_-0.0600 || 0.662520 0.445082\n",
      "                         Mo_3x3x3_cell_mode_6_strain_-0.0800 || 1.199493 0.445160\n",
      "                         Mo_3x3x3_cell_mode_6_strain_-0.1000 || 1.941310 0.403467\n",
      "                          Mo_3x3x3_cell_mode_6_strain_0.0200 || 0.069518 0.458543\n",
      "                          Mo_3x3x3_cell_mode_6_strain_0.0400 || 0.289412 0.447273\n",
      "                          Mo_3x3x3_cell_mode_6_strain_0.0600 || 0.661077 0.435956\n",
      "                          Mo_3x3x3_cell_mode_6_strain_0.0800 || 1.194602 0.442204\n",
      "                          Mo_3x3x3_cell_mode_6_strain_0.1000 || 1.949461 0.411214\n",
      "                                       Mo_3x3x3_cell_relaxed || 0.041192 0.000000\n",
      "                             Mo_surface_mp_Mo_mp-129__1_0_0_ || 1.501035 0.328600\n",
      "                             Mo_surface_mp_Mo_mp-129__1_1_0_ || 0.344625 0.242581\n",
      "                             Mo_surface_mp_Mo_mp-129__1_1_1_ || 0.001223 0.292405\n",
      "                             Mo_surface_mp_Mo_mp-129__2_1_0_ || 0.020809 0.408101\n",
      "                             Mo_surface_mp_Mo_mp-129__2_2_1_ || 0.661376 0.471522\n",
      "                             Mo_surface_mp_Mo_mp-129__3_1_1_ || 0.994671 0.524027\n",
      "                             Mo_surface_mp_Mo_mp-129__3_2_0_ || 0.011312 0.386115\n",
      "                             Mo_surface_mp_Mo_mp-129__3_2_1_ || 0.003325 0.613960\n",
      "                             Mo_surface_mp_Mo_mp-129__3_3_2_ || 0.206763 0.494767\n",
      "   Snapshot_10_of_12_of_Vacancy_AIMD_NVT_simulation_at_300_K || 0.037713 0.614600\n",
      "  Snapshot_10_of_12_of_Vacancy_AIMD_NVT_simulation_at_6000_K || 0.072206 0.559104\n",
      "          Snapshot_10_of_40_of_AIMD_NVT_simulation_at_3000_K || 0.348054 0.514266\n",
      "           Snapshot_10_of_40_of_AIMD_NVT_simulation_at_300_K || 0.524875 0.620669\n",
      "   Snapshot_11_of_12_of_Vacancy_AIMD_NVT_simulation_at_300_K || 0.060375 0.610037\n",
      "  Snapshot_11_of_12_of_Vacancy_AIMD_NVT_simulation_at_6000_K || 0.168710 0.626796\n",
      "           Snapshot_11_of_40_of_AIMD_NVT_simulation_at_300_K || 0.376516 0.609709\n",
      "          Snapshot_11_of_40_of_AIMD_NVT_simulation_at_6000_K || 0.230592 1.064917\n",
      "   Snapshot_12_of_12_of_Vacancy_AIMD_NVT_simulation_at_300_K || 0.125327 0.589333\n",
      "  Snapshot_12_of_12_of_Vacancy_AIMD_NVT_simulation_at_6000_K || 0.406497 0.596758\n",
      "          Snapshot_12_of_40_of_AIMD_NVT_simulation_at_3000_K || 0.429094 0.529110\n",
      "           Snapshot_12_of_40_of_AIMD_NVT_simulation_at_300_K || 0.447660 0.642261\n",
      "          Snapshot_12_of_40_of_AIMD_NVT_simulation_at_6000_K || 0.278463 1.088356\n",
      "          Snapshot_13_of_40_of_AIMD_NVT_simulation_at_3000_K || 0.344422 0.563990\n",
      "           Snapshot_13_of_40_of_AIMD_NVT_simulation_at_300_K || 0.383289 0.613397\n",
      "          Snapshot_13_of_40_of_AIMD_NVT_simulation_at_6000_K || 1.017565 1.114245\n",
      "           Snapshot_14_of_40_of_AIMD_NVT_simulation_at_300_K || 0.493538 0.631171\n",
      "          Snapshot_14_of_40_of_AIMD_NVT_simulation_at_6000_K || 0.007750 1.136202\n",
      "          Snapshot_15_of_40_of_AIMD_NVT_simulation_at_3000_K || 0.004752 0.548386\n",
      "           Snapshot_15_of_40_of_AIMD_NVT_simulation_at_300_K || 0.628908 0.645361\n",
      "          Snapshot_15_of_40_of_AIMD_NVT_simulation_at_6000_K || 0.486518 1.213804\n",
      "          Snapshot_16_of_40_of_AIMD_NVT_simulation_at_3000_K || 0.158999 0.584997\n",
      "           Snapshot_16_of_40_of_AIMD_NVT_simulation_at_300_K || 0.552290 0.632217\n",
      "          Snapshot_16_of_40_of_AIMD_NVT_simulation_at_6000_K || 0.164149 1.174248\n",
      "          Snapshot_17_of_40_of_AIMD_NVT_simulation_at_3000_K || 0.001682 0.586438\n",
      "           Snapshot_17_of_40_of_AIMD_NVT_simulation_at_300_K || 0.431866 0.627315\n",
      "          Snapshot_17_of_40_of_AIMD_NVT_simulation_at_6000_K || 0.012494 0.852259\n",
      "          Snapshot_18_of_40_of_AIMD_NVT_simulation_at_3000_K || 0.162211 0.566567\n",
      "           Snapshot_18_of_40_of_AIMD_NVT_simulation_at_300_K || 0.370454 0.621829\n",
      "          Snapshot_18_of_40_of_AIMD_NVT_simulation_at_6000_K || 0.256042 1.074200\n",
      "          Snapshot_19_of_40_of_AIMD_NVT_simulation_at_3000_K || 0.180590 0.561674\n",
      "           Snapshot_19_of_40_of_AIMD_NVT_simulation_at_300_K || 0.379887 0.620202\n",
      "    Snapshot_1_of_12_of_Vacancy_AIMD_NVT_simulation_at_300_K || 0.374123 0.506617\n",
      "   Snapshot_1_of_12_of_Vacancy_AIMD_NVT_simulation_at_6000_K || 0.157811 0.601228\n",
      "           Snapshot_1_of_40_of_AIMD_NVT_simulation_at_3000_K || 0.367875 0.560937\n",
      "            Snapshot_1_of_40_of_AIMD_NVT_simulation_at_300_K || 0.436882 0.628073\n",
      "           Snapshot_1_of_40_of_AIMD_NVT_simulation_at_6000_K || 0.471146 1.273529\n",
      "          Snapshot_20_of_40_of_AIMD_NVT_simulation_at_3000_K || 0.074767 0.570852\n",
      "           Snapshot_20_of_40_of_AIMD_NVT_simulation_at_300_K || 0.265822 0.603324\n",
      "          Snapshot_20_of_40_of_AIMD_NVT_simulation_at_6000_K || 0.674963 1.089213\n",
      "          Snapshot_21_of_40_of_AIMD_NVT_simulation_at_3000_K || 0.074317 0.605127\n",
      "           Snapshot_21_of_40_of_AIMD_NVT_simulation_at_300_K || 0.643677 0.650643\n",
      "          Snapshot_21_of_40_of_AIMD_NVT_simulation_at_6000_K || 0.303443 1.025697\n",
      "          Snapshot_22_of_40_of_AIMD_NVT_simulation_at_3000_K || 0.191152 0.568766\n",
      "           Snapshot_22_of_40_of_AIMD_NVT_simulation_at_300_K || 0.443839 0.646326\n",
      "          Snapshot_22_of_40_of_AIMD_NVT_simulation_at_6000_K || 0.583798 1.136166\n",
      "          Snapshot_23_of_40_of_AIMD_NVT_simulation_at_3000_K || 0.277099 0.621064\n",
      "           Snapshot_23_of_40_of_AIMD_NVT_simulation_at_300_K || 0.445866 0.643991\n",
      "          Snapshot_23_of_40_of_AIMD_NVT_simulation_at_6000_K || 0.015742 1.100556\n",
      "          Snapshot_24_of_40_of_AIMD_NVT_simulation_at_3000_K || 0.427863 0.601903\n",
      "           Snapshot_24_of_40_of_AIMD_NVT_simulation_at_300_K || 0.420877 0.632673\n",
      "          Snapshot_24_of_40_of_AIMD_NVT_simulation_at_6000_K || 0.344194 1.130225\n",
      "          Snapshot_25_of_40_of_AIMD_NVT_simulation_at_3000_K || 0.272872 0.624056\n",
      "          Snapshot_25_of_40_of_AIMD_NVT_simulation_at_6000_K || 0.750865 1.010365\n",
      "          Snapshot_26_of_40_of_AIMD_NVT_simulation_at_3000_K || 0.264905 0.558044\n",
      "           Snapshot_26_of_40_of_AIMD_NVT_simulation_at_300_K || 0.421534 0.612261\n",
      "          Snapshot_26_of_40_of_AIMD_NVT_simulation_at_6000_K || 0.392975 0.825746\n",
      "          Snapshot_27_of_40_of_AIMD_NVT_simulation_at_3000_K || 0.179561 0.576776\n",
      "          Snapshot_27_of_40_of_AIMD_NVT_simulation_at_6000_K || 0.271716 1.188553\n",
      "          Snapshot_28_of_40_of_AIMD_NVT_simulation_at_3000_K || 0.225778 0.565537\n",
      "           Snapshot_28_of_40_of_AIMD_NVT_simulation_at_300_K || 0.479659 0.629762\n",
      "          Snapshot_28_of_40_of_AIMD_NVT_simulation_at_6000_K || 0.271642 1.172590\n",
      "          Snapshot_29_of_40_of_AIMD_NVT_simulation_at_3000_K || 0.085678 0.577307\n",
      "           Snapshot_29_of_40_of_AIMD_NVT_simulation_at_300_K || 0.354032 0.623717\n",
      "          Snapshot_29_of_40_of_AIMD_NVT_simulation_at_6000_K || 0.463168 1.037068\n",
      "    Snapshot_2_of_12_of_Vacancy_AIMD_NVT_simulation_at_300_K || 0.166175 0.613403\n",
      "   Snapshot_2_of_12_of_Vacancy_AIMD_NVT_simulation_at_6000_K || 0.252437 0.626400\n",
      "           Snapshot_2_of_40_of_AIMD_NVT_simulation_at_3000_K || 0.038027 0.552933\n",
      "            Snapshot_2_of_40_of_AIMD_NVT_simulation_at_300_K || 0.482180 0.633759\n",
      "           Snapshot_2_of_40_of_AIMD_NVT_simulation_at_6000_K || 0.198632 0.919175\n",
      "          Snapshot_30_of_40_of_AIMD_NVT_simulation_at_3000_K || 0.004917 0.615675\n",
      "          Snapshot_30_of_40_of_AIMD_NVT_simulation_at_6000_K || 0.204633 1.060559\n",
      "          Snapshot_31_of_40_of_AIMD_NVT_simulation_at_3000_K || 0.451792 0.565721\n",
      "           Snapshot_31_of_40_of_AIMD_NVT_simulation_at_300_K || 0.375160 0.645700\n",
      "          Snapshot_32_of_40_of_AIMD_NVT_simulation_at_3000_K || 0.141697 0.566574\n",
      "           Snapshot_32_of_40_of_AIMD_NVT_simulation_at_300_K || 0.484079 0.650581\n",
      "          Snapshot_32_of_40_of_AIMD_NVT_simulation_at_6000_K || 0.128982 0.908283\n",
      "          Snapshot_33_of_40_of_AIMD_NVT_simulation_at_3000_K || 0.141823 0.523356\n",
      "           Snapshot_33_of_40_of_AIMD_NVT_simulation_at_300_K || 0.339833 0.616817\n",
      "          Snapshot_33_of_40_of_AIMD_NVT_simulation_at_6000_K || 0.124969 0.854491\n",
      "          Snapshot_34_of_40_of_AIMD_NVT_simulation_at_3000_K || 0.171784 0.550355\n",
      "           Snapshot_34_of_40_of_AIMD_NVT_simulation_at_300_K || 0.345042 0.618670\n",
      "          Snapshot_34_of_40_of_AIMD_NVT_simulation_at_6000_K || 0.247212 0.971822\n",
      "          Snapshot_35_of_40_of_AIMD_NVT_simulation_at_3000_K || 0.125290 0.610862\n",
      "           Snapshot_35_of_40_of_AIMD_NVT_simulation_at_300_K || 0.548635 0.662467\n",
      "          Snapshot_35_of_40_of_AIMD_NVT_simulation_at_6000_K || 0.127860 1.098310\n",
      "          Snapshot_36_of_40_of_AIMD_NVT_simulation_at_3000_K || 0.070991 0.612286\n",
      "           Snapshot_36_of_40_of_AIMD_NVT_simulation_at_300_K || 0.564256 0.650296\n",
      "          Snapshot_36_of_40_of_AIMD_NVT_simulation_at_6000_K || 0.284839 1.054431\n",
      "          Snapshot_37_of_40_of_AIMD_NVT_simulation_at_3000_K || 0.007849 0.560068\n",
      "           Snapshot_37_of_40_of_AIMD_NVT_simulation_at_300_K || 0.450355 0.622222\n",
      "          Snapshot_38_of_40_of_AIMD_NVT_simulation_at_3000_K || 0.174065 0.610217\n",
      "           Snapshot_38_of_40_of_AIMD_NVT_simulation_at_300_K || 0.464734 0.634360\n",
      "          Snapshot_38_of_40_of_AIMD_NVT_simulation_at_6000_K || 0.463960 0.923306\n",
      "          Snapshot_39_of_40_of_AIMD_NVT_simulation_at_3000_K || 0.060002 0.541570\n",
      "           Snapshot_39_of_40_of_AIMD_NVT_simulation_at_300_K || 0.453997 0.625542\n",
      "          Snapshot_39_of_40_of_AIMD_NVT_simulation_at_6000_K || 0.325565 1.006318\n",
      "    Snapshot_3_of_12_of_Vacancy_AIMD_NVT_simulation_at_300_K || 0.063452 0.593221\n",
      "   Snapshot_3_of_12_of_Vacancy_AIMD_NVT_simulation_at_6000_K || 0.097988 0.596322\n",
      "           Snapshot_3_of_40_of_AIMD_NVT_simulation_at_3000_K || 0.065657 0.552626\n",
      "            Snapshot_3_of_40_of_AIMD_NVT_simulation_at_300_K || 0.405268 0.640567\n",
      "           Snapshot_3_of_40_of_AIMD_NVT_simulation_at_6000_K || 0.174417 1.126860\n",
      "          Snapshot_40_of_40_of_AIMD_NVT_simulation_at_3000_K || 0.264965 0.576746\n",
      "          Snapshot_40_of_40_of_AIMD_NVT_simulation_at_6000_K || 0.054062 0.913285\n",
      "           Snapshot_4_of_40_of_AIMD_NVT_simulation_at_3000_K || 0.048199 0.557555\n",
      "            Snapshot_4_of_40_of_AIMD_NVT_simulation_at_300_K || 0.545474 0.670285\n",
      "           Snapshot_4_of_40_of_AIMD_NVT_simulation_at_6000_K || 0.451829 1.284022\n",
      "    Snapshot_5_of_12_of_Vacancy_AIMD_NVT_simulation_at_300_K || 0.136197 0.568401\n",
      "   Snapshot_5_of_12_of_Vacancy_AIMD_NVT_simulation_at_6000_K || 0.285112 0.559232\n",
      "           Snapshot_5_of_40_of_AIMD_NVT_simulation_at_3000_K || 0.182853 0.550769\n",
      "            Snapshot_5_of_40_of_AIMD_NVT_simulation_at_300_K || 0.396407 0.626280\n",
      "           Snapshot_5_of_40_of_AIMD_NVT_simulation_at_6000_K || 0.551055 1.511815\n",
      "    Snapshot_6_of_12_of_Vacancy_AIMD_NVT_simulation_at_300_K || 0.002186 0.613084\n",
      "   Snapshot_6_of_12_of_Vacancy_AIMD_NVT_simulation_at_6000_K || 0.043051 0.563497\n",
      "           Snapshot_6_of_40_of_AIMD_NVT_simulation_at_3000_K || 0.041769 0.628285\n",
      "            Snapshot_6_of_40_of_AIMD_NVT_simulation_at_300_K || 0.371730 0.614914\n",
      "           Snapshot_6_of_40_of_AIMD_NVT_simulation_at_6000_K || 0.695352 1.262327\n",
      "    Snapshot_7_of_12_of_Vacancy_AIMD_NVT_simulation_at_300_K || 0.136860 0.612804\n",
      "   Snapshot_7_of_12_of_Vacancy_AIMD_NVT_simulation_at_6000_K || 0.104521 0.558900\n",
      "           Snapshot_7_of_40_of_AIMD_NVT_simulation_at_6000_K || 0.083168 1.097648\n",
      "   Snapshot_8_of_12_of_Vacancy_AIMD_NVT_simulation_at_6000_K || 0.001734 0.589406\n",
      "           Snapshot_8_of_40_of_AIMD_NVT_simulation_at_3000_K || 0.238400 0.645231\n",
      "            Snapshot_8_of_40_of_AIMD_NVT_simulation_at_300_K || 0.374413 0.619851\n",
      "           Snapshot_8_of_40_of_AIMD_NVT_simulation_at_6000_K || 0.762621 1.116789\n",
      "    Snapshot_9_of_12_of_Vacancy_AIMD_NVT_simulation_at_300_K || 0.409294 0.258148\n",
      "   Snapshot_9_of_12_of_Vacancy_AIMD_NVT_simulation_at_6000_K || 0.118218 0.593453\n",
      "           Snapshot_9_of_40_of_AIMD_NVT_simulation_at_3000_K || 0.328809 0.571028\n",
      "            Snapshot_9_of_40_of_AIMD_NVT_simulation_at_300_K || 0.566264 0.634909\n",
      "           Snapshot_9_of_40_of_AIMD_NVT_simulation_at_6000_K || 0.079400 1.044388\n"
     ]
    }
   ],
   "source": [
    "with h5py.File('../svreg_data/mlearn/Mo/Mo.hdf5', 'r') as db:\n",
    "        \n",
    "    print(\n",
    "        '{:>45} average errors || {:.6f} {:.6f}\\n'.format(\n",
    "            str(tree),\n",
    "            np.average(errors[::2]),\n",
    "            np.average(errors[1::2]),\n",
    "        )\n",
    "    )\n",
    "    \n",
    "    print(\n",
    "        '{:>60} || {} {}'.format(\n",
    "            'structName',\n",
    "            '(eV/atom)',\n",
    "            '(eV/A)'\n",
    "        )\n",
    "    )\n",
    "    \n",
    "    for i, structName in enumerate(sorted(db)):\n",
    "        print(\n",
    "            '{:>60} || {:.6f} {:.6f}'.format(\n",
    "                structName,\n",
    "                errors[2*i],\n",
    "                errors[2*i+1]\n",
    "            )\n",
    "        )"
   ]
  },
  {
   "cell_type": "raw",
   "metadata": {},
   "source": [
    "mul(sqrt(sqrt(rho)), rho) average errors || 0.178780 0.543202"
   ]
  },
  {
   "cell_type": "code",
   "execution_count": 10,
   "metadata": {},
   "outputs": [
    {
     "data": {
      "text/plain": [
       "<matplotlib.legend.Legend at 0x7fabe24c9eb8>"
      ]
     },
     "execution_count": 10,
     "metadata": {},
     "output_type": "execute_result"
    },
    {
     "data": {
      "image/png": "[encoded data removed]",
      "text/plain": [
       "<Figure size 576x288 with 2 Axes>"
      ]
     },
     "metadata": {
      "needs_background": "light"
     },
     "output_type": "display_data"
    }
   ],
   "source": [
    "fig, ax = plt.subplots(1, 2, figsize=(8, 4))\n",
    "\n",
    "ax[0].hist(errors[::2] , bins=100, alpha=0.3, label='Energy errors', color='orange')\n",
    "ax[1].hist(errors[1::2], bins=100, alpha=0.3, label='Force errors', color='blue')\n",
    "\n",
    "ax[0].legend()\n",
    "ax[1].legend()"
   ]
  },
  {
   "cell_type": "code",
   "execution_count": null,
   "metadata": {},
   "outputs": [],
   "source": []
  }
 ],
 "metadata": {
  "kernelspec": {
   "display_name": "Python 3",
   "language": "python",
   "name": "python3"
  },
  "language_info": {
   "codemirror_mode": {
    "name": "ipython",
    "version": 3
   },
   "file_extension": ".py",
   "mimetype": "text/x-python",
   "name": "python",
   "nbconvert_exporter": "python",
   "pygments_lexer": "ipython3",
   "version": "3.6.10"
  }
 },
 "nbformat": 4,
 "nbformat_minor": 4
}
