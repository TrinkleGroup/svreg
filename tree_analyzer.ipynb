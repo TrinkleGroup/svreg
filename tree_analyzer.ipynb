{
 "cells": [
  {
   "cell_type": "markdown",
   "metadata": {},
   "source": [
    "# Imports"
   ]
  },
  {
   "cell_type": "code",
   "execution_count": 1,
   "metadata": {},
   "outputs": [],
   "source": [
    "import os\n",
    "import h5py\n",
    "import sympy\n",
    "import glob\n",
    "import pickle\n",
    "import numpy as np\n",
    "import matplotlib.pyplot as plt\n",
    "\n",
    "from IPython.display import display, Math\n",
    "from scipy.interpolate import CubicSpline\n",
    "\n",
    "from tree import SVTree\n",
    "from nodes import FunctionNode\n",
    "from regressor import SVRegressor"
   ]
  },
  {
   "cell_type": "markdown",
   "metadata": {},
   "source": [
    "# Setup"
   ]
  },
  {
   "cell_type": "code",
   "execution_count": 2,
   "metadata": {},
   "outputs": [],
   "source": [
    "basePath = os.path.join('results', 'smeam_dup')\n",
    "fromArchive = False\n",
    "\n",
    "basePath = os.path.join('results', 'mo_smooth2')\n",
    "fromArchive = True"
   ]
  },
  {
   "cell_type": "code",
   "execution_count": 3,
   "metadata": {},
   "outputs": [
    {
     "data": {
      "text/latex": [
       "$\\displaystyle 43.10<->ffg \\cdot \\rho + \\cos{\\left(\\rho \\right)}$"
      ],
      "text/plain": [
       "<IPython.core.display.Math object>"
      ]
     },
     "metadata": {},
     "output_type": "display_data"
    },
    {
     "data": {
      "text/latex": [
       "$\\displaystyle 46.42<->ffg \\cdot ffg$"
      ],
      "text/plain": [
       "<IPython.core.display.Math object>"
      ]
     },
     "metadata": {},
     "output_type": "display_data"
    },
    {
     "data": {
      "text/latex": [
       "$\\displaystyle 51.43<->\\left(ffg \\cdot \\rho + \\rho\\right) \\cdot \\left(\\operatorname{sig}{\\left(ffg \\right)} + \\cos{\\left(\\rho \\right)}\\right)$"
      ],
      "text/plain": [
       "<IPython.core.display.Math object>"
      ]
     },
     "metadata": {},
     "output_type": "display_data"
    },
    {
     "data": {
      "text/latex": [
       "$\\displaystyle 52.66<->ffg \\cdot ffg + \\rho \\cdot \\rho$"
      ],
      "text/plain": [
       "<IPython.core.display.Math object>"
      ]
     },
     "metadata": {},
     "output_type": "display_data"
    },
    {
     "data": {
      "text/latex": [
       "$\\displaystyle 65.35<->ffg \\cdot ffg + \\cos{\\left(\\rho \\right)}$"
      ],
      "text/plain": [
       "<IPython.core.display.Math object>"
      ]
     },
     "metadata": {},
     "output_type": "display_data"
    },
    {
     "data": {
      "text/latex": [
       "$\\displaystyle 78.78<->ffg$"
      ],
      "text/plain": [
       "<IPython.core.display.Math object>"
      ]
     },
     "metadata": {},
     "output_type": "display_data"
    },
    {
     "data": {
      "text/latex": [
       "$\\displaystyle 80.96<->\\rho$"
      ],
      "text/plain": [
       "<IPython.core.display.Math object>"
      ]
     },
     "metadata": {},
     "output_type": "display_data"
    },
    {
     "data": {
      "text/latex": [
       "$\\displaystyle 89.21<->ffg + \\operatorname{sig}{\\left(\\rho \\right)}$"
      ],
      "text/plain": [
       "<IPython.core.display.Math object>"
      ]
     },
     "metadata": {},
     "output_type": "display_data"
    }
   ],
   "source": [
    "choice = 0\n",
    "\n",
    "if fromArchive:\n",
    "    allTreeNames = glob.glob(os.path.join(basePath, '*'))\n",
    "    del allTreeNames[allTreeNames.index(os.path.join(basePath, 'archive.pkl'))]\n",
    "    \n",
    "    bestCost = np.inf\n",
    "    bestIdx = 0\n",
    "    \n",
    "    worstCost = 0\n",
    "    worstIdx = 0\n",
    "    \n",
    "    archive = pickle.load(open(os.path.join(basePath, 'archive.pkl'), 'rb'))\n",
    "    \n",
    "    allErrors = []\n",
    "    allLatex = []\n",
    "\n",
    "    for i, treePath in enumerate(allTreeNames):\n",
    "        treeName = os.path.split(treePath)[-1]\n",
    "        \n",
    "        tree = pickle.load(open(os.path.join(treePath, 'tree.pkl'), 'rb'))\n",
    "\n",
    "        entry = archive[treeName]\n",
    "        tree.bestParams = entry.bestParams\n",
    "\n",
    "        errors = entry.bestErrors\n",
    "    \n",
    "        latex = SVTree([\n",
    "            FunctionNode(n.description) if isinstance(n, FunctionNode)\n",
    "            else n\n",
    "            for n in tree.nodes\n",
    "        ]).latex()\n",
    "\n",
    "        sumErrors = np.sum(errors)\n",
    "        \n",
    "        if sumErrors < bestCost:\n",
    "            bestCost = sumErrors\n",
    "            bestIdx = i\n",
    "        \n",
    "        if sumErrors > worstCost:\n",
    "            worstCost = sumErrors\n",
    "            worstIdx = i\n",
    "        \n",
    "        allErrors.append(sumErrors)\n",
    "        allLatex.append(latex)\n",
    "        \n",
    "    allLatex = np.array(allLatex)[np.argsort(allErrors)]\n",
    "    allTreeNames = np.array(allTreeNames)[np.argsort(allErrors)]\n",
    "    allErrors = np.array(allErrors)[np.argsort(allErrors)]\n",
    "\n",
    "    for latex, errors in zip(allLatex, allErrors):\n",
    "        display(Math('{:.2f}<->{}'.format(\n",
    "            errors,\n",
    "            sympy.latex(sympy.sympify(latex, evaluate=False), mul_symbol='dot')\n",
    "        )))\n",
    "            \n",
    "    treePath = allTreeNames[choice]\n",
    "    treePath = allTreeNames[1]\n",
    "    treeName = os.path.split(treePath)[-1]\n",
    "\n",
    "    archive = pickle.load(open(os.path.join(basePath, 'archive.pkl'), 'rb'))\n",
    "    tree = pickle.load(open(os.path.join(basePath, treeName, 'tree.pkl'), 'rb'))\n",
    "    \n",
    "    entry = archive[treeName]\n",
    "    tree.bestParams = entry.bestParams\n",
    "    \n",
    "    errors = entry.bestErrors\n",
    "else:\n",
    "    files = sorted(glob.glob(os.path.join(basePath, 'tree*')))\n",
    "    intIndices = [int(s[s.find('tree')+5:s.find('.pkl')]) for s in files]\n",
    "\n",
    "    argsort = np.argsort(intIndices)\n",
    "\n",
    "    treeFile = np.array(files)[argsort][-1]\n",
    "    tree = pickle.load(open(treeFile, 'rb'))\n",
    "    \n",
    "    errorFiles = sorted(glob.glob(os.path.join(basePath, 'errors*')))\n",
    "    errorFile  = np.array(errorFiles)[argsort][-1]\n",
    "    errors = pickle.load(open(errorFile, 'rb'))"
   ]
  },
  {
   "cell_type": "code",
   "execution_count": 4,
   "metadata": {},
   "outputs": [
    {
     "data": {
      "text/plain": [
       "'results/mo_smooth2/mul(ffg, ffg)'"
      ]
     },
     "execution_count": 4,
     "metadata": {},
     "output_type": "execute_result"
    }
   ],
   "source": [
    "treePath"
   ]
  },
  {
   "cell_type": "markdown",
   "metadata": {},
   "source": [
    "# Plotting"
   ]
  },
  {
   "cell_type": "code",
   "execution_count": 29,
   "metadata": {},
   "outputs": [],
   "source": [
    "def plotSpline(x, y, bc):\n",
    "    cs = CubicSpline(x, y, bc_type=((1, bc[0]), (1, bc[1])))\n",
    "#     cs = CubicSpline(x, y, bc_type='natural')\n",
    "    \n",
    "    plotX = np.linspace(x[0]-.1, x[-1]+.1, 100)\n",
    "    plotY = cs(plotX)\n",
    "    \n",
    "    return plotX, plotY"
   ]
  },
  {
   "cell_type": "code",
   "execution_count": 30,
   "metadata": {},
   "outputs": [],
   "source": [
    "splits = []\n",
    "types = []\n",
    "\n",
    "for svNode in tree.svNodes:\n",
    "    for comp in svNode.components:\n",
    "        splits.append(svNode.numParams[comp]+len(svNode.restrictions[comp]))\n",
    "        types.append(comp)"
   ]
  },
  {
   "cell_type": "code",
   "execution_count": 31,
   "metadata": {},
   "outputs": [],
   "source": [
    "splitParams = np.array_split(tree.fillFixedKnots(tree.bestParams)[0], np.cumsum(splits)[:-1])"
   ]
  },
  {
   "cell_type": "code",
   "execution_count": 34,
   "metadata": {},
   "outputs": [
    {
     "data": {
      "text/latex": [
       "$\\displaystyle ffg \\cdot \\rho + \\cos{\\left(\\rho \\right)}$"
      ],
      "text/plain": [
       "<IPython.core.display.Math object>"
      ]
     },
     "metadata": {},
     "output_type": "display_data"
    },
    {
     "data": {
      "image/png": "[encoded data removed]",
      "text/plain": [
       "<Figure size 864x576 with 6 Axes>"
      ]
     },
     "metadata": {
      "needs_background": "light"
     },
     "output_type": "display_data"
    }
   ],
   "source": [
    "numRows = int(max(1, np.ceil(len(splitParams)/3)))\n",
    "\n",
    "fig, axes = plt.subplots(numRows, 3, figsize=(12, 4*numRows))\n",
    "\n",
    "compNames = np.hstack([svNode.components for svNode in tree.svNodes])\n",
    "\n",
    "display(Math('{}'.format(\n",
    "    sympy.latex(sympy.sympify(allLatex[choice], evaluate=False), mul_symbol='dot')\n",
    ")))\n",
    "    \n",
    "for i, spline in enumerate(splitParams):\n",
    "    y, bc = spline[:-2], spline[-2:]\n",
    "    \n",
    "    x = np.arange(len(y))\n",
    "    \n",
    "    plotX, plotY = plotSpline(x, y, bc)\n",
    "    \n",
    "    row = i//3\n",
    "    col = i%3\n",
    "    \n",
    "    if numRows > 1:\n",
    "        ax = axes[row][col]\n",
    "    else:\n",
    "        ax = axes[col]\n",
    "    \n",
    "    ax.plot(x, y, 'o')\n",
    "    ax.plot(plotX, plotY)\n",
    "    ax.set_title(compNames[i].decode('utf-8'))\n",
    "    \n",
    "# _ = plt.suptitle(r'${}$'.format(sympy.latex(sympy.sympify(allLatex[choice], evaluate=False), mul_symbol='dot')))"
   ]
  },
  {
   "cell_type": "code",
   "execution_count": 33,
   "metadata": {},
   "outputs": [
    {
     "data": {
      "text/plain": [
       "array([ 0.69400443,  0.34843976,  0.13220814,  0.04362019,  0.01183334,\n",
       "        0.00279363,  0.        , -0.35311995,  0.        ])"
      ]
     },
     "execution_count": 33,
     "metadata": {},
     "output_type": "execute_result"
    }
   ],
   "source": [
    "splitParams[2]"
   ]
  },
  {
   "cell_type": "markdown",
   "metadata": {},
   "source": [
    "# Errors"
   ]
  },
  {
   "cell_type": "markdown",
   "metadata": {},
   "source": [
    "## Directly from logs"
   ]
  },
  {
   "cell_type": "code",
   "execution_count": 53,
   "metadata": {},
   "outputs": [
    {
     "data": {
      "text/plain": [
       "0.23699244422719676"
      ]
     },
     "execution_count": 53,
     "metadata": {},
     "output_type": "execute_result"
    }
   ],
   "source": [
    "energyWeight = 1\n",
    "forcesWeight = 1\n",
    "\n",
    "unweighted = errors.copy()\n",
    "unweighted[::2] /= energyWeight\n",
    "unweighted[1::2] /= forcesWeight\n",
    "\n",
    "np.sqrt(np.average(unweighted**2))"
   ]
  },
  {
   "cell_type": "code",
   "execution_count": 54,
   "metadata": {},
   "outputs": [
    {
     "name": "stdout",
     "output_type": "stream",
     "text": [
      "            add(rho, add(ffg, mul(rho, ffg))) average errors || 0.011502 0.334961\n",
      "\n",
      "                                                  structName || (eV/atom) (eV/A)\n",
      "                                        Ground_state_crystal || 0.000000 0.014663\n",
      "                         Mo_3x3x3_cell_mode_1_strain_-0.0200 || 0.001451 0.012469\n",
      "                         Mo_3x3x3_cell_mode_1_strain_-0.0400 || 0.001806 0.015489\n",
      "                         Mo_3x3x3_cell_mode_1_strain_-0.0600 || 0.001430 0.023469\n",
      "                         Mo_3x3x3_cell_mode_1_strain_-0.0800 || 0.008387 0.028313\n",
      "                         Mo_3x3x3_cell_mode_1_strain_-0.1000 || 0.020667 0.045762\n",
      "                          Mo_3x3x3_cell_mode_1_strain_0.0200 || 0.000958 0.012809\n",
      "                          Mo_3x3x3_cell_mode_1_strain_0.0800 || 0.003137 0.015803\n",
      "                         Mo_3x3x3_cell_mode_2_strain_-0.0200 || 0.001466 0.013145\n",
      "                         Mo_3x3x3_cell_mode_2_strain_-0.0400 || 0.001829 0.017188\n",
      "                         Mo_3x3x3_cell_mode_2_strain_-0.0600 || 0.001488 0.022023\n",
      "                         Mo_3x3x3_cell_mode_2_strain_-0.0800 || 0.008366 0.028941\n",
      "                         Mo_3x3x3_cell_mode_2_strain_-0.1000 || 0.020693 0.051344\n",
      "                          Mo_3x3x3_cell_mode_2_strain_0.0200 || 0.000933 0.014574\n",
      "                          Mo_3x3x3_cell_mode_2_strain_0.0400 || 0.002851 0.014777\n",
      "                          Mo_3x3x3_cell_mode_2_strain_0.0600 || 0.004772 0.015038\n",
      "                          Mo_3x3x3_cell_mode_2_strain_0.0800 || 0.003128 0.015213\n",
      "                          Mo_3x3x3_cell_mode_2_strain_0.1000 || 0.002372 0.016735\n",
      "                         Mo_3x3x3_cell_mode_3_strain_-0.0200 || 0.001434 0.014093\n",
      "                         Mo_3x3x3_cell_mode_3_strain_-0.0400 || 0.001799 0.015331\n",
      "                         Mo_3x3x3_cell_mode_3_strain_-0.0600 || 0.001421 0.023188\n",
      "                         Mo_3x3x3_cell_mode_3_strain_-0.1000 || 0.020618 0.042777\n",
      "                          Mo_3x3x3_cell_mode_3_strain_0.0200 || 0.000895 0.013814\n",
      "                          Mo_3x3x3_cell_mode_3_strain_0.0400 || 0.002821 0.014227\n",
      "                          Mo_3x3x3_cell_mode_3_strain_0.0600 || 0.004768 0.016760\n",
      "                          Mo_3x3x3_cell_mode_3_strain_0.0800 || 0.003141 0.014577\n",
      "                          Mo_3x3x3_cell_mode_3_strain_0.1000 || 0.002370 0.018515\n",
      "                         Mo_3x3x3_cell_mode_4_strain_-0.0200 || 0.000391 0.014344\n",
      "                         Mo_3x3x3_cell_mode_4_strain_-0.0400 || 0.001682 0.011986\n",
      "                         Mo_3x3x3_cell_mode_4_strain_-0.0600 || 0.003646 0.012765\n",
      "                          Mo_3x3x3_cell_mode_4_strain_0.0200 || 0.000400 0.010757\n",
      "                          Mo_3x3x3_cell_mode_4_strain_0.0400 || 0.001672 0.015515\n",
      "                          Mo_3x3x3_cell_mode_4_strain_0.0600 || 0.003627 0.014616\n",
      "                          Mo_3x3x3_cell_mode_4_strain_0.0800 || 0.006669 0.016497\n",
      "                          Mo_3x3x3_cell_mode_4_strain_0.1000 || 0.010667 0.013176\n",
      "                         Mo_3x3x3_cell_mode_5_strain_-0.0200 || 0.000408 0.010747\n",
      "                         Mo_3x3x3_cell_mode_5_strain_-0.0400 || 0.001695 0.012437\n",
      "                         Mo_3x3x3_cell_mode_5_strain_-0.0600 || 0.003572 0.016728\n",
      "                         Mo_3x3x3_cell_mode_5_strain_-0.0800 || 0.006651 0.015708\n",
      "                         Mo_3x3x3_cell_mode_5_strain_-0.1000 || 0.010646 0.015772\n",
      "                          Mo_3x3x3_cell_mode_5_strain_0.0200 || 0.000321 0.011530\n",
      "                          Mo_3x3x3_cell_mode_5_strain_0.0400 || 0.001666 0.012783\n",
      "                          Mo_3x3x3_cell_mode_5_strain_0.0600 || 0.003574 0.012508\n",
      "                          Mo_3x3x3_cell_mode_5_strain_0.0800 || 0.006637 0.013117\n",
      "                          Mo_3x3x3_cell_mode_5_strain_0.1000 || 0.010679 0.016238\n",
      "                         Mo_3x3x3_cell_mode_6_strain_-0.0200 || 0.000413 0.013062\n",
      "                         Mo_3x3x3_cell_mode_6_strain_-0.0400 || 0.001681 0.013090\n",
      "                         Mo_3x3x3_cell_mode_6_strain_-0.0600 || 0.003637 0.014693\n",
      "                         Mo_3x3x3_cell_mode_6_strain_-0.0800 || 0.006600 0.015710\n",
      "                         Mo_3x3x3_cell_mode_6_strain_-0.1000 || 0.010675 0.013572\n",
      "                          Mo_3x3x3_cell_mode_6_strain_0.0200 || 0.000377 0.015673\n",
      "                          Mo_3x3x3_cell_mode_6_strain_0.0400 || 0.001669 0.013132\n",
      "                          Mo_3x3x3_cell_mode_6_strain_0.0600 || 0.003611 0.012483\n",
      "                          Mo_3x3x3_cell_mode_6_strain_0.0800 || 0.006652 0.016014\n",
      "                          Mo_3x3x3_cell_mode_6_strain_0.1000 || 0.010655 0.017217\n",
      "                                       Mo_3x3x3_cell_relaxed || 0.003513 0.000000\n",
      "                             Mo_surface_mp_Mo_mp-129__1_0_0_ || 0.055109 0.173908\n",
      "                             Mo_surface_mp_Mo_mp-129__1_1_0_ || 0.053506 0.076876\n",
      "                             Mo_surface_mp_Mo_mp-129__1_1_1_ || 0.010984 0.233472\n",
      "                             Mo_surface_mp_Mo_mp-129__2_1_0_ || 0.034660 0.184877\n",
      "                             Mo_surface_mp_Mo_mp-129__2_2_1_ || 0.027473 0.118024\n",
      "                             Mo_surface_mp_Mo_mp-129__3_1_1_ || 0.011329 0.235992\n",
      "                             Mo_surface_mp_Mo_mp-129__3_2_0_ || 0.046808 0.156777\n",
      "                             Mo_surface_mp_Mo_mp-129__3_2_1_ || 0.028009 0.186495\n",
      "                             Mo_surface_mp_Mo_mp-129__3_3_2_ || 0.013100 0.183595\n",
      "   Snapshot_10_of_12_of_Vacancy_AIMD_NVT_simulation_at_300_K || 0.000128 0.094754\n",
      "  Snapshot_10_of_12_of_Vacancy_AIMD_NVT_simulation_at_6000_K || 0.000059 0.316137\n",
      "          Snapshot_10_of_40_of_AIMD_NVT_simulation_at_3000_K || 0.001777 0.214550\n",
      "           Snapshot_10_of_40_of_AIMD_NVT_simulation_at_300_K || 0.000322 0.063311\n",
      "   Snapshot_11_of_12_of_Vacancy_AIMD_NVT_simulation_at_300_K || 0.000750 0.089718\n",
      "  Snapshot_11_of_12_of_Vacancy_AIMD_NVT_simulation_at_6000_K || 0.010952 0.290074\n",
      "           Snapshot_11_of_40_of_AIMD_NVT_simulation_at_300_K || 0.000977 0.059991\n",
      "          Snapshot_11_of_40_of_AIMD_NVT_simulation_at_6000_K || 0.020621 0.633804\n",
      "   Snapshot_12_of_12_of_Vacancy_AIMD_NVT_simulation_at_300_K || 0.002094 0.080747\n",
      "  Snapshot_12_of_12_of_Vacancy_AIMD_NVT_simulation_at_6000_K || 0.012195 0.427641\n",
      "          Snapshot_12_of_40_of_AIMD_NVT_simulation_at_3000_K || 0.008593 0.261224\n",
      "           Snapshot_12_of_40_of_AIMD_NVT_simulation_at_300_K || 0.000456 0.057971\n",
      "          Snapshot_12_of_40_of_AIMD_NVT_simulation_at_6000_K || 0.012538 0.741989\n",
      "          Snapshot_13_of_40_of_AIMD_NVT_simulation_at_3000_K || 0.007009 0.250106\n",
      "           Snapshot_13_of_40_of_AIMD_NVT_simulation_at_300_K || 0.001459 0.056113\n",
      "          Snapshot_13_of_40_of_AIMD_NVT_simulation_at_6000_K || 0.024172 0.672260\n",
      "           Snapshot_14_of_40_of_AIMD_NVT_simulation_at_300_K || 0.000202 0.059377\n",
      "          Snapshot_14_of_40_of_AIMD_NVT_simulation_at_6000_K || 0.007507 0.714775\n",
      "          Snapshot_15_of_40_of_AIMD_NVT_simulation_at_3000_K || 0.000232 0.233566\n",
      "           Snapshot_15_of_40_of_AIMD_NVT_simulation_at_300_K || 0.001081 0.066771\n",
      "          Snapshot_15_of_40_of_AIMD_NVT_simulation_at_6000_K || 0.015550 0.752479\n",
      "          Snapshot_16_of_40_of_AIMD_NVT_simulation_at_3000_K || 0.000394 0.272345\n",
      "           Snapshot_16_of_40_of_AIMD_NVT_simulation_at_300_K || 0.000956 0.067742\n",
      "          Snapshot_16_of_40_of_AIMD_NVT_simulation_at_6000_K || 0.002765 0.697647\n",
      "          Snapshot_17_of_40_of_AIMD_NVT_simulation_at_3000_K || 0.003119 0.269245\n",
      "           Snapshot_17_of_40_of_AIMD_NVT_simulation_at_300_K || 0.001194 0.059366\n",
      "          Snapshot_17_of_40_of_AIMD_NVT_simulation_at_6000_K || 0.011257 0.546753\n",
      "          Snapshot_18_of_40_of_AIMD_NVT_simulation_at_3000_K || 0.001535 0.258443\n",
      "           Snapshot_18_of_40_of_AIMD_NVT_simulation_at_300_K || 0.001777 0.052302\n",
      "          Snapshot_18_of_40_of_AIMD_NVT_simulation_at_6000_K || 0.010804 0.722424\n",
      "          Snapshot_19_of_40_of_AIMD_NVT_simulation_at_3000_K || 0.002736 0.282767\n",
      "           Snapshot_19_of_40_of_AIMD_NVT_simulation_at_300_K || 0.000824 0.062499\n",
      "    Snapshot_1_of_12_of_Vacancy_AIMD_NVT_simulation_at_300_K || 0.000003 0.084481\n",
      "   Snapshot_1_of_12_of_Vacancy_AIMD_NVT_simulation_at_6000_K || 0.002466 0.087037\n",
      "           Snapshot_1_of_40_of_AIMD_NVT_simulation_at_3000_K || 0.002981 0.220907\n",
      "            Snapshot_1_of_40_of_AIMD_NVT_simulation_at_300_K || 0.000799 0.055488\n",
      "           Snapshot_1_of_40_of_AIMD_NVT_simulation_at_6000_K || 0.032181 0.871231\n",
      "          Snapshot_20_of_40_of_AIMD_NVT_simulation_at_3000_K || 0.003324 0.275035\n",
      "           Snapshot_20_of_40_of_AIMD_NVT_simulation_at_300_K || 0.001315 0.045979\n",
      "          Snapshot_20_of_40_of_AIMD_NVT_simulation_at_6000_K || 0.001279 0.699390\n",
      "          Snapshot_21_of_40_of_AIMD_NVT_simulation_at_3000_K || 0.005788 0.257380\n",
      "           Snapshot_21_of_40_of_AIMD_NVT_simulation_at_300_K || 0.000140 0.062919\n",
      "          Snapshot_21_of_40_of_AIMD_NVT_simulation_at_6000_K || 0.006031 0.715027\n",
      "          Snapshot_22_of_40_of_AIMD_NVT_simulation_at_3000_K || 0.011635 0.282463\n",
      "           Snapshot_22_of_40_of_AIMD_NVT_simulation_at_300_K || 0.000579 0.053188\n",
      "          Snapshot_22_of_40_of_AIMD_NVT_simulation_at_6000_K || 0.012792 0.764344\n",
      "          Snapshot_23_of_40_of_AIMD_NVT_simulation_at_3000_K || 0.010206 0.250191\n",
      "           Snapshot_23_of_40_of_AIMD_NVT_simulation_at_300_K || 0.000566 0.062113\n",
      "          Snapshot_23_of_40_of_AIMD_NVT_simulation_at_6000_K || 0.037324 0.686272\n",
      "          Snapshot_24_of_40_of_AIMD_NVT_simulation_at_3000_K || 0.011660 0.245350\n",
      "           Snapshot_24_of_40_of_AIMD_NVT_simulation_at_300_K || 0.000110 0.055154\n",
      "          Snapshot_24_of_40_of_AIMD_NVT_simulation_at_6000_K || 0.024332 0.833324\n",
      "          Snapshot_25_of_40_of_AIMD_NVT_simulation_at_3000_K || 0.011005 0.240347\n",
      "          Snapshot_25_of_40_of_AIMD_NVT_simulation_at_6000_K || 0.000355 0.672402\n",
      "          Snapshot_26_of_40_of_AIMD_NVT_simulation_at_3000_K || 0.000924 0.258873\n",
      "           Snapshot_26_of_40_of_AIMD_NVT_simulation_at_300_K || 0.000660 0.062980\n",
      "          Snapshot_26_of_40_of_AIMD_NVT_simulation_at_6000_K || 0.034620 0.524776\n",
      "          Snapshot_27_of_40_of_AIMD_NVT_simulation_at_3000_K || 0.002701 0.333564\n",
      "          Snapshot_27_of_40_of_AIMD_NVT_simulation_at_6000_K || 0.013872 0.706908\n",
      "          Snapshot_28_of_40_of_AIMD_NVT_simulation_at_3000_K || 0.003534 0.206025\n",
      "           Snapshot_28_of_40_of_AIMD_NVT_simulation_at_300_K || 0.000703 0.065120\n",
      "          Snapshot_28_of_40_of_AIMD_NVT_simulation_at_6000_K || 0.005617 0.772783\n",
      "          Snapshot_29_of_40_of_AIMD_NVT_simulation_at_3000_K || 0.002785 0.268335\n",
      "           Snapshot_29_of_40_of_AIMD_NVT_simulation_at_300_K || 0.001949 0.052003\n",
      "          Snapshot_29_of_40_of_AIMD_NVT_simulation_at_6000_K || 0.004187 0.644537\n",
      "    Snapshot_2_of_12_of_Vacancy_AIMD_NVT_simulation_at_300_K || 0.001773 0.092155\n",
      "   Snapshot_2_of_12_of_Vacancy_AIMD_NVT_simulation_at_6000_K || 0.003654 0.271125\n",
      "           Snapshot_2_of_40_of_AIMD_NVT_simulation_at_3000_K || 0.003432 0.255821\n",
      "            Snapshot_2_of_40_of_AIMD_NVT_simulation_at_300_K || 0.000047 0.069174\n",
      "           Snapshot_2_of_40_of_AIMD_NVT_simulation_at_6000_K || 0.007912 0.584004\n",
      "          Snapshot_30_of_40_of_AIMD_NVT_simulation_at_3000_K || 0.007855 0.308855\n",
      "          Snapshot_30_of_40_of_AIMD_NVT_simulation_at_6000_K || 0.000437 0.682065\n",
      "          Snapshot_31_of_40_of_AIMD_NVT_simulation_at_3000_K || 0.003472 0.275007\n",
      "           Snapshot_31_of_40_of_AIMD_NVT_simulation_at_300_K || 0.000356 0.056923\n",
      "          Snapshot_32_of_40_of_AIMD_NVT_simulation_at_3000_K || 0.001461 0.289838\n",
      "           Snapshot_32_of_40_of_AIMD_NVT_simulation_at_300_K || 0.000007 0.060927\n",
      "          Snapshot_32_of_40_of_AIMD_NVT_simulation_at_6000_K || 0.015157 0.560552\n",
      "          Snapshot_33_of_40_of_AIMD_NVT_simulation_at_3000_K || 0.008614 0.218802\n",
      "           Snapshot_33_of_40_of_AIMD_NVT_simulation_at_300_K || 0.001352 0.052265\n",
      "          Snapshot_33_of_40_of_AIMD_NVT_simulation_at_6000_K || 0.039316 0.559141\n",
      "          Snapshot_34_of_40_of_AIMD_NVT_simulation_at_3000_K || 0.001633 0.247180\n",
      "           Snapshot_34_of_40_of_AIMD_NVT_simulation_at_300_K || 0.001413 0.051884\n",
      "          Snapshot_34_of_40_of_AIMD_NVT_simulation_at_6000_K || 0.001760 0.654173\n",
      "          Snapshot_35_of_40_of_AIMD_NVT_simulation_at_3000_K || 0.006113 0.309301\n",
      "           Snapshot_35_of_40_of_AIMD_NVT_simulation_at_300_K || 0.000103 0.066596\n",
      "          Snapshot_35_of_40_of_AIMD_NVT_simulation_at_6000_K || 0.013179 0.669666\n",
      "          Snapshot_36_of_40_of_AIMD_NVT_simulation_at_3000_K || 0.000124 0.326847\n",
      "           Snapshot_36_of_40_of_AIMD_NVT_simulation_at_300_K || 0.000209 0.062795\n",
      "          Snapshot_36_of_40_of_AIMD_NVT_simulation_at_6000_K || 0.020554 0.683574\n",
      "          Snapshot_37_of_40_of_AIMD_NVT_simulation_at_3000_K || 0.004289 0.271203\n",
      "           Snapshot_37_of_40_of_AIMD_NVT_simulation_at_300_K || 0.000736 0.060020\n",
      "          Snapshot_38_of_40_of_AIMD_NVT_simulation_at_3000_K || 0.001015 0.267491\n",
      "           Snapshot_38_of_40_of_AIMD_NVT_simulation_at_300_K || 0.001231 0.058673\n",
      "          Snapshot_38_of_40_of_AIMD_NVT_simulation_at_6000_K || 0.005687 0.549947\n",
      "          Snapshot_39_of_40_of_AIMD_NVT_simulation_at_3000_K || 0.004167 0.274415\n",
      "           Snapshot_39_of_40_of_AIMD_NVT_simulation_at_300_K || 0.000946 0.054763\n",
      "          Snapshot_39_of_40_of_AIMD_NVT_simulation_at_6000_K || 0.006045 0.594648\n",
      "    Snapshot_3_of_12_of_Vacancy_AIMD_NVT_simulation_at_300_K || 0.002783 0.090862\n",
      "   Snapshot_3_of_12_of_Vacancy_AIMD_NVT_simulation_at_6000_K || 0.005106 0.277145\n",
      "           Snapshot_3_of_40_of_AIMD_NVT_simulation_at_3000_K || 0.002427 0.247333\n",
      "            Snapshot_3_of_40_of_AIMD_NVT_simulation_at_300_K || 0.000585 0.057759\n",
      "           Snapshot_3_of_40_of_AIMD_NVT_simulation_at_6000_K || 0.007133 0.706989\n",
      "          Snapshot_40_of_40_of_AIMD_NVT_simulation_at_3000_K || 0.005931 0.226398\n",
      "          Snapshot_40_of_40_of_AIMD_NVT_simulation_at_6000_K || 0.013113 0.624568\n",
      "           Snapshot_4_of_40_of_AIMD_NVT_simulation_at_3000_K || 0.000262 0.288076\n",
      "            Snapshot_4_of_40_of_AIMD_NVT_simulation_at_300_K || 0.000773 0.061649\n",
      "           Snapshot_4_of_40_of_AIMD_NVT_simulation_at_6000_K || 0.003527 0.764038\n",
      "    Snapshot_5_of_12_of_Vacancy_AIMD_NVT_simulation_at_300_K || 0.008235 0.070702\n",
      "   Snapshot_5_of_12_of_Vacancy_AIMD_NVT_simulation_at_6000_K || 0.002344 0.289397\n",
      "           Snapshot_5_of_40_of_AIMD_NVT_simulation_at_3000_K || 0.000721 0.243851\n",
      "            Snapshot_5_of_40_of_AIMD_NVT_simulation_at_300_K || 0.002436 0.058028\n",
      "           Snapshot_5_of_40_of_AIMD_NVT_simulation_at_6000_K || 0.020474 0.983040\n",
      "    Snapshot_6_of_12_of_Vacancy_AIMD_NVT_simulation_at_300_K || 0.000040 0.085642\n",
      "   Snapshot_6_of_12_of_Vacancy_AIMD_NVT_simulation_at_6000_K || 0.004969 0.307466\n",
      "           Snapshot_6_of_40_of_AIMD_NVT_simulation_at_3000_K || 0.008033 0.297593\n",
      "            Snapshot_6_of_40_of_AIMD_NVT_simulation_at_300_K || 0.001417 0.050245\n",
      "           Snapshot_6_of_40_of_AIMD_NVT_simulation_at_6000_K || 0.011836 0.940023\n",
      "    Snapshot_7_of_12_of_Vacancy_AIMD_NVT_simulation_at_300_K || 0.005631 0.072321\n",
      "   Snapshot_7_of_12_of_Vacancy_AIMD_NVT_simulation_at_6000_K || 0.009601 0.230808\n",
      "           Snapshot_7_of_40_of_AIMD_NVT_simulation_at_6000_K || 0.002244 0.742943\n",
      "   Snapshot_8_of_12_of_Vacancy_AIMD_NVT_simulation_at_6000_K || 0.001228 0.307811\n",
      "           Snapshot_8_of_40_of_AIMD_NVT_simulation_at_3000_K || 0.004328 0.304752\n",
      "            Snapshot_8_of_40_of_AIMD_NVT_simulation_at_300_K || 0.001093 0.052930\n",
      "           Snapshot_8_of_40_of_AIMD_NVT_simulation_at_6000_K || 0.009581 0.694089\n",
      "    Snapshot_9_of_12_of_Vacancy_AIMD_NVT_simulation_at_300_K || 0.003452 0.058721\n",
      "   Snapshot_9_of_12_of_Vacancy_AIMD_NVT_simulation_at_6000_K || 0.007439 0.284355\n",
      "           Snapshot_9_of_40_of_AIMD_NVT_simulation_at_3000_K || 0.001047 0.210258\n",
      "            Snapshot_9_of_40_of_AIMD_NVT_simulation_at_300_K || 0.000064 0.064876\n",
      "           Snapshot_9_of_40_of_AIMD_NVT_simulation_at_6000_K || 0.021094 0.638054\n"
     ]
    }
   ],
   "source": [
    "with h5py.File('../svreg_data/mlearn/Mo/Mo.hdf5', 'r') as db:\n",
    "        \n",
    "    print(\n",
    "        '{:>45} average errors || {:.6f} {:.6f}\\n'.format(\n",
    "            str(tree),\n",
    "            np.sqrt(np.average(unweighted[::2]**2)),\n",
    "            np.sqrt(np.average(unweighted[1::2]**2)),\n",
    "        )\n",
    "    )\n",
    "    \n",
    "    print(\n",
    "        '{:>60} || {} {}'.format(\n",
    "            'structName',\n",
    "            '(eV/atom)',\n",
    "            '(eV/A)'\n",
    "        )\n",
    "    )\n",
    "    \n",
    "    for i, structName in enumerate(sorted(db)):\n",
    "        print(\n",
    "            '{:>60} || {:.6f} {:.6f}'.format(\n",
    "                structName,\n",
    "                unweighted[2*i],\n",
    "                unweighted[2*i+1]\n",
    "            )\n",
    "        )"
   ]
  },
  {
   "cell_type": "raw",
   "metadata": {},
   "source": [
    "mul(sqrt(sqrt(rho)), rho) average errors || 0.178780 0.543202"
   ]
  },
  {
   "cell_type": "code",
   "execution_count": 10,
   "metadata": {},
   "outputs": [
    {
     "data": {
      "text/plain": [
       "<matplotlib.legend.Legend at 0x7efeff6957b8>"
      ]
     },
     "execution_count": 10,
     "metadata": {},
     "output_type": "execute_result"
    },
    {
     "data": {
      "image/png": "[encoded data removed]",
      "text/plain": [
       "<Figure size 576x288 with 2 Axes>"
      ]
     },
     "metadata": {
      "needs_background": "light"
     },
     "output_type": "display_data"
    }
   ],
   "source": [
    "fig, ax = plt.subplots(1, 2, figsize=(8, 4))\n",
    "\n",
    "ax[0].hist(errors[::2] , bins=100, alpha=0.3, label='Energy errors', color='orange')\n",
    "ax[1].hist(errors[1::2], bins=100, alpha=0.3, label='Force errors', color='blue')\n",
    "\n",
    "ax[0].legend()\n",
    "ax[1].legend()"
   ]
  },
  {
   "cell_type": "markdown",
   "metadata": {},
   "source": [
    "## External validation"
   ]
  },
  {
   "cell_type": "code",
   "execution_count": 27,
   "metadata": {},
   "outputs": [
    {
     "data": {
      "text/plain": [
       "(32,)"
      ]
     },
     "execution_count": 27,
     "metadata": {},
     "output_type": "execute_result"
    }
   ],
   "source": [
    "tree.bestParams.shape"
   ]
  },
  {
   "cell_type": "code",
   "execution_count": 28,
   "metadata": {},
   "outputs": [],
   "source": [
    "popDict = tree.parseArr2Dict(np.atleast_2d(tree.bestParams), fillFixedKnots=True)\n",
    "\n",
    "for svName in popDict:\n",
    "    for bondType in popDict[svName]:\n",
    "        popDict[svName][bondType] = [popDict[svName][bondType]]"
   ]
  },
  {
   "cell_type": "code",
   "execution_count": 29,
   "metadata": {},
   "outputs": [],
   "source": [
    "def buildSVNodePool(group):\n",
    "    \"\"\"Prepare svNodePool for use in tree construction\"\"\"\n",
    "\n",
    "    svNodePool = []\n",
    "\n",
    "    # `group` is a pointer to an entry for a structure in the database\n",
    "    for svName in sorted(group):\n",
    "        svGroup = group[svName]\n",
    "\n",
    "        restrictions = None\n",
    "        if 'restrictions' in svGroup.attrs:\n",
    "            restrictions = []\n",
    "            resList = svGroup.attrs['restrictions'].tolist()\n",
    "            for num in svGroup.attrs['numRestrictions']:\n",
    "                tmp = []\n",
    "                for _ in range(num):\n",
    "                    tmp.append(tuple(resList.pop()))\n",
    "                restrictions.append(tmp)\n",
    "\n",
    "        svNodePool.append(\n",
    "            SVNode(\n",
    "                description=svName,\n",
    "                components=svGroup.attrs['components'],\n",
    "                numParams=svGroup.attrs['numParams'],\n",
    "                bonds={\n",
    "                    k:svGroup[k].attrs['components'] for k in svGroup.keys()\n",
    "                },\n",
    "                restrictions=restrictions,\n",
    "                paramRanges=svGroup.attrs['paramRanges']\\\n",
    "                    if 'paramRanges' in group[svName].attrs else None\n",
    "            )\n",
    "        )\n",
    "\n",
    "    return svNodePool"
   ]
  },
  {
   "cell_type": "code",
   "execution_count": 30,
   "metadata": {},
   "outputs": [
    {
     "name": "stdout",
     "output_type": "stream",
     "text": [
      "['ffg_AAA']\n"
     ]
    }
   ],
   "source": [
    "import h5py\n",
    "\n",
    "with h5py.File('../svreg_data/mlearn/Mo/Mo.hdf5', 'r') as db:\n",
    "    print(list(db['Ground_state_crystal']['ffg'].keys()))"
   ]
  },
  {
   "cell_type": "code",
   "execution_count": 34,
   "metadata": {},
   "outputs": [
    {
     "name": "stdout",
     "output_type": "stream",
     "text": [
      "Evaluator.eval() forces: [[[ 5.09266539e+00 -9.27719863e-01 -1.15435505e+00]\n",
      "  [ 1.27736389e+01  8.90342198e+00  6.70326012e-01]\n",
      "  [-1.51957321e+01  1.97656184e+01 -2.75610927e+00]\n",
      "  [-3.48295849e+00  1.55587427e+01 -1.62164406e+01]\n",
      "  [-2.04935615e+01  4.62515374e+00 -2.68536953e-01]\n",
      "  [ 2.16099353e+01  5.73452699e+00  1.35743271e+01]\n",
      "  [ 9.33906818e+00  5.86047701e+00  5.97351077e+00]\n",
      "  [-2.89610032e+01 -1.23009598e+01 -2.39156712e+00]\n",
      "  [ 1.82949410e+01 -2.40169265e+01  1.20639810e+01]\n",
      "  [-2.88367219e+01  2.24843269e+01 -1.33822250e+01]\n",
      "  [ 7.23731732e+00 -3.06379972e+01  2.17988797e+01]\n",
      "  [ 1.06389936e+01  1.11043220e+01  7.52858729e+00]\n",
      "  [-8.29692471e+00 -3.03815504e+01 -7.21885992e+00]\n",
      "  [ 1.24391309e+01  1.46642474e+01 -7.42163955e+00]\n",
      "  [-1.48796896e+01 -2.95499094e+01  5.25627026e+00]\n",
      "  [-3.88640829e+00 -3.72782469e+00  1.48952415e+01]\n",
      "  [ 1.74701422e+01  4.48616929e+00 -3.03831621e+01]\n",
      "  [-1.94144372e+01  1.84154110e+01  1.34889650e+01]\n",
      "  [-3.92924892e+00 -2.40164962e+01 -2.04444240e+00]\n",
      "  [-3.86135070e+00 -9.39685404e+00 -8.78424859e+00]\n",
      "  [ 7.93001610e+00 -9.09186027e+00 -3.61247118e+00]\n",
      "  [ 1.31771759e+01 -1.05775564e+01  3.59036735e+01]\n",
      "  [-1.88647605e+01  6.88394358e+00 -2.66850662e+01]\n",
      "  [ 7.83004875e+00  2.41194140e+01 -7.22497250e+00]\n",
      "  [ 5.38624128e+00  1.70088377e+01  4.89271703e+00]\n",
      "  [-1.14758835e+01  6.13889738e+00  6.69307595e+00]\n",
      "  [-5.65629143e+00 -8.44988346e+00 -6.01862348e+00]\n",
      "  [ 2.10536472e+01  6.63544406e+00  6.16891770e+00]\n",
      "  [-1.58758721e+00 -2.72178020e+01 -1.61321160e+01]\n",
      "  [-8.30769044e+00 -7.50848724e+00 -1.84378966e+00]\n",
      "  [-2.33160049e+01 -3.34981136e+00 -2.32987522e+01]\n",
      "  [ 2.84152765e+01  6.01399232e+00  2.38136366e+01]\n",
      "  [ 1.52307055e+00  1.18289055e+01 -1.81323059e+00]\n",
      "  [ 1.73221877e+01 -1.22678345e+01  1.44229355e+01]\n",
      "  [-8.99329026e+00  1.50962345e+01 -2.84561893e+01]\n",
      "  [ 6.62996932e+00 -1.19473454e+01  2.15706973e+01]\n",
      "  [ 1.61618524e+01  5.37641491e-01 -1.65374735e+01]\n",
      "  [-1.65808706e+01  3.99683681e+01 -6.79248985e+00]\n",
      "  [-1.67958887e+01  5.38086208e+00  2.40404284e+01]\n",
      "  [ 3.86070658e+01  2.65344445e+01  4.01718530e+01]\n",
      "  [-6.14747254e-01 -3.40881924e+01  2.29841471e+01]\n",
      "  [-1.46446962e+01 -4.13219085e+00 -5.84180663e+01]\n",
      "  [-1.29740940e+01 -5.97392965e+00 -1.35584093e+01]\n",
      "  [-3.86977512e+00  7.69401361e+00  7.58553343e+00]\n",
      "  [ 2.88773946e+01 -1.23992038e+01  3.94041702e+00]\n",
      "  [-1.90690407e+01  3.59112958e+01  1.83118809e+01]\n",
      "  [ 1.47586190e+01 -3.74704797e+01 -7.11094804e+00]\n",
      "  [ 2.13350182e+01 -1.74507271e+01 -1.10477613e+01]\n",
      "  [ 6.53392462e+00 -2.20228890e+00 -1.46693139e+00]\n",
      "  [ 8.57502898e+00  9.98132608e+00  4.47763545e+00]\n",
      "  [-3.19096905e+01  1.12898012e+01  5.05716782e+00]\n",
      "  [-9.36134452e+00 -1.94035400e+01 -1.56277974e+01]\n",
      "  [ 7.10982441e+00  4.00665050e+00 -1.06293231e+00]\n",
      "  [-1.08625276e+01  2.18548530e+01  3.44472741e+00]]\n",
      "\n",
      " [[-5.29557756e-05 -3.39451393e-05  1.40962873e-04]\n",
      "  [-6.19542559e-05 -1.39471334e-04 -1.62357689e-04]\n",
      "  [ 1.35853157e-04 -3.71276425e-04 -9.82586786e-05]\n",
      "  [-6.44313276e-05 -1.14009414e-04  5.07611192e-05]\n",
      "  [ 2.99347175e-04 -5.46215685e-05  1.47181979e-04]\n",
      "  [-1.74386195e-04 -9.83517374e-05 -2.20620095e-04]\n",
      "  [-1.39477161e-04 -9.21403202e-06 -1.24087948e-04]\n",
      "  [ 3.83824804e-04  1.87559240e-04  9.15437125e-05]\n",
      "  [-1.66330845e-04  3.54423077e-04 -1.72911207e-04]\n",
      "  [ 3.50647735e-04 -2.09026400e-04  1.37580647e-04]\n",
      "  [ 5.06775909e-06  3.25792591e-04 -2.16141747e-04]\n",
      "  [-2.96525572e-05 -1.28281998e-04 -1.08776782e-04]\n",
      "  [ 1.48810280e-04  3.91076795e-04 -3.52697159e-05]\n",
      "  [-8.60735994e-05 -1.85556145e-05  1.39671980e-04]\n",
      "  [ 7.48284257e-05  2.08225742e-04 -1.21036377e-04]\n",
      "  [ 2.19479856e-04 -7.51294151e-05 -1.93404818e-04]\n",
      "  [-1.13667119e-04 -6.28637434e-05  4.17579498e-04]\n",
      "  [ 2.24277875e-04 -4.71495358e-05 -2.24578318e-04]\n",
      "  [ 4.80785385e-05  2.94480446e-04 -8.11465992e-06]\n",
      "  [ 5.58416210e-05  1.40262302e-04  1.03214125e-04]\n",
      "  [-8.41188061e-05  1.62840326e-04  2.45759804e-06]\n",
      "  [-9.77940047e-05  2.20840931e-04 -4.52269591e-04]\n",
      "  [ 3.39523017e-04 -8.94789287e-05  5.31248757e-04]\n",
      "  [-5.78257115e-06 -3.27620613e-04  4.29001231e-05]\n",
      "  [-4.22709884e-05 -1.54862669e-04 -1.81707551e-04]\n",
      "  [ 3.16189725e-04  1.09659714e-04  2.94789128e-04]\n",
      "  [ 6.17738378e-05  1.19856433e-04 -5.05239691e-05]\n",
      "  [-2.82898205e-04 -3.28968029e-05 -8.02120271e-06]\n",
      "  [ 3.89710255e-06  3.04467952e-04  1.79787867e-04]\n",
      "  [-5.04440653e-05  1.10101230e-04  6.29092039e-05]\n",
      "  [ 1.16183244e-04 -8.89523787e-05  1.31180576e-04]\n",
      "  [-2.50617725e-04 -6.30850799e-05 -2.36376541e-04]\n",
      "  [ 4.58159506e-05 -1.81765157e-04  2.02196263e-04]\n",
      "  [-2.32255693e-04  1.43295796e-04 -1.02698203e-04]\n",
      "  [-1.40295275e-05 -1.77052822e-04  2.97781836e-04]\n",
      "  [-1.40877943e-04  1.98253190e-04 -1.43977967e-04]\n",
      "  [-2.62353346e-04 -2.39992460e-04  6.97149580e-05]\n",
      "  [ 1.81586004e-04 -3.81647266e-04  3.17596254e-05]\n",
      "  [ 2.03582879e-04 -1.17211638e-04 -1.08936918e-04]\n",
      "  [-5.50058633e-04 -2.15700299e-04 -5.86386144e-04]\n",
      "  [-1.60736251e-04  2.94735984e-04 -2.92449479e-04]\n",
      "  [ 4.85813516e-06 -4.28113956e-05  6.13286693e-04]\n",
      "  [-3.42763131e-05  7.32195044e-05  3.46337279e-05]\n",
      "  [ 2.74446845e-05 -1.14357690e-04  2.19412342e-06]\n",
      "  [-3.50136913e-04  1.31107466e-04 -2.77230137e-05]\n",
      "  [ 2.04331558e-04 -4.15042173e-04 -1.63419474e-04]\n",
      "  [-2.12657203e-04  4.00302846e-04  3.10161321e-05]\n",
      "  [-1.31041730e-04  2.27685430e-04  1.47953198e-04]\n",
      "  [-1.34480927e-04 -3.08839221e-05 -1.03382174e-04]\n",
      "  [-1.00471696e-04 -1.20203170e-04 -3.45668646e-05]\n",
      "  [ 3.48176633e-04 -1.50292674e-04  1.01166151e-04]\n",
      "  [ 1.14853627e-04  2.08330660e-04  1.76144846e-04]\n",
      "  [-1.04408608e-04 -9.13102149e-05  2.72105407e-05]\n",
      "  [ 2.16376965e-04 -2.09467894e-04 -3.08114120e-05]]]\n",
      "                                        Ground_state_crystal || 0.000000 5.827250 (-3766.259010)\n"
     ]
    }
   ],
   "source": [
    "import cma\n",
    "\n",
    "from mpi4py import MPI\n",
    "\n",
    "from nodes import SVNode\n",
    "from settings import Settings\n",
    "from database import SVDatabase\n",
    "from evaluator import SVEvaluator\n",
    "from regressor import SVRegressor\n",
    "\n",
    "settingsPath = 'examples/settings.in'\n",
    "databasePath = '../svreg_data/mlearn/Mo/Mo.hdf5'\n",
    "# databasePath = '../s-meam/data/fitting_databases/mlearn/data/Mo/Mo.hdf5-strain'\n",
    "\n",
    "settings = Settings.from_file(settingsPath)\n",
    "settings['PROCS_PER_PHYS_NODE'] = 1\n",
    "settings['PROCS_PER_MANAGER'] = 1\n",
    "\n",
    "worldComm = MPI.COMM_WORLD\n",
    "with SVDatabase(settings['databasePath'], 'r') as database:\n",
    "    engVec = database['Ground_state_crystal']['ffg']['ffg_AAA']['energy'][()]\n",
    "    fcsVec = database['Ground_state_crystal']['ffg']['ffg_AAA']['forces'][()]\n",
    "    \n",
    "    structNames = list(database.keys())\n",
    "    structNames = ['Ground_state_crystal']\n",
    "\n",
    "    if settings['refStruct'] not in structNames:\n",
    "        raise RuntimeError(\n",
    "            \"The reference structure must be included in structNames.\"\n",
    "        )\n",
    "\n",
    "    evaluator =  SVEvaluator(worldComm, structNames, settings)\n",
    "    evaluator.distributeDatabase(database)\n",
    "\n",
    "    trueValues = database.loadTrueValues()\n",
    "\n",
    "#     numStructs = len(trueValues)\n",
    "    \n",
    "    refStruct = settings['refStruct']\n",
    "    treeErrors = np.zeros(2*len(database))\n",
    "    \n",
    "    svNodePool = buildSVNodePool(database[settings['refStruct']])\n",
    "    \n",
    "    regressor = SVRegressor(\n",
    "        settings, svNodePool, cma.CMAEvolutionStrategy, [1.0, {'popsize': 1}]\n",
    "    )\n",
    "    \n",
    "    regressor.trees = [tree]\n",
    "    \n",
    "    treePopulations = [tree.parseArr2Dict(np.atleast_2d(tree.bestParams), fillFixedKnots=True)]\n",
    "    \n",
    "    # Group all dictionaries into one\n",
    "    populationDict = {}\n",
    "    for svNode in svNodePool:\n",
    "        populationDict[svNode.description] = {}\n",
    "        for bondType in svNode.bonds:\n",
    "            populationDict[svNode.description][bondType] = []\n",
    "\n",
    "    for treeDict in treePopulations:\n",
    "        for svName in treeDict.keys():\n",
    "            for bondType, pop in treeDict[svName].items():\n",
    "                populationDict[svName][bondType].append(pop)\n",
    "                            \n",
    "    svEng = evaluator.evaluate(populationDict, evalType='energy')\n",
    "    svFcs = evaluator.evaluate(populationDict, evalType='forces')\n",
    "    \n",
    "    energies, forces = regressor.evaluateTrees(svEng, svFcs, 1)\n",
    "    \n",
    "    for structName in sorted(structNames):\n",
    "        eng = energies[structName][0] - energies[refStruct][0]\n",
    "        fcs =   forces[structName][0]\n",
    "        \n",
    "        engErrors = eng - trueValues[structName]['energy']\n",
    "        fcsErrors = fcs - trueValues[structName]['forces']\n",
    "        \n",
    "        treeErrors[2*i]   = abs(engErrors)\n",
    "        treeErrors[2*i+1] = np.average(np.abs(fcsErrors), axis=(1, 2))\n",
    "        \n",
    "        print(\n",
    "            '{:>60} || {:.6f} {:.6f} ({:.6f})'.format(\n",
    "                structName,\n",
    "                treeErrors[2*i],\n",
    "                treeErrors[2*i+1],\n",
    "                energies[structName][0][0]\n",
    "            )\n",
    "        )\n",
    "# del evaluator"
   ]
  },
  {
   "cell_type": "code",
   "execution_count": 10,
   "metadata": {},
   "outputs": [],
   "source": [
    "from scipy.special import erf"
   ]
  },
  {
   "cell_type": "code",
   "execution_count": 18,
   "metadata": {},
   "outputs": [
    {
     "name": "stderr",
     "output_type": "stream",
     "text": [
      "/home/jvita/Programs/miniconda2/envs/parhdf5/lib/python3.6/site-packages/ipykernel_launcher.py:4: RuntimeWarning: divide by zero encountered in log\n",
      "  after removing the cwd from sys.path.\n"
     ]
    },
    {
     "data": {
      "text/plain": [
       "[<matplotlib.lines.Line2D at 0x7efefbbf9ac8>]"
      ]
     },
     "execution_count": 18,
     "metadata": {},
     "output_type": "execute_result"
    },
    {
     "data": {
      "image/png": "[encoded data removed]",
      "text/plain": [
       "<Figure size 432x288 with 1 Axes>"
      ]
     },
     "metadata": {
      "needs_background": "light"
     },
     "output_type": "display_data"
    }
   ],
   "source": [
    "fig, ax = plt.subplots()\n",
    "\n",
    "x = np.linspace(0, 10, 100)\n",
    "ax.plot(x, 1-erf(np.log(x)))"
   ]
  },
  {
   "cell_type": "code",
   "execution_count": 19,
   "metadata": {},
   "outputs": [
    {
     "name": "stderr",
     "output_type": "stream",
     "text": [
      "/home/jvita/Programs/miniconda2/envs/parhdf5/lib/python3.6/site-packages/ipykernel_launcher.py:1: RuntimeWarning: divide by zero encountered in log\n",
      "  \"\"\"Entry point for launching an IPython kernel.\n"
     ]
    },
    {
     "data": {
      "text/plain": [
       "array([2.00000000e+00, 1.99881362e+00, 1.97629491e+00, 1.90867730e+00,\n",
       "       1.80002313e+00, 1.66597825e+00, 1.52118092e+00, 1.37600848e+00,\n",
       "       1.23685949e+00, 1.10722126e+00, 9.88659792e-01, 8.81551842e-01,\n",
       "       7.85579776e-01, 7.00050408e-01, 6.24093620e-01, 5.56782297e-01,\n",
       "       4.97201968e-01, 4.44488927e-01, 3.97848925e-01, 3.56564155e-01,\n",
       "       3.19993391e-01, 2.87568330e-01, 2.58787995e-01, 2.33212354e-01,\n",
       "       2.10455803e-01, 1.90180917e-01, 1.72092635e-01, 1.55932998e-01,\n",
       "       1.41476443e-01, 1.28525632e-01, 1.16907805e-01, 1.06471578e-01,\n",
       "       9.70841656e-02, 8.86289679e-02, 8.10034728e-02, 7.41174426e-02,\n",
       "       6.78913431e-02, 6.22549816e-02, 5.71463281e-02, 5.25104931e-02,\n",
       "       4.82988410e-02, 4.44682204e-02, 4.09802950e-02, 3.78009622e-02,\n",
       "       3.48998459e-02, 3.22498552e-02, 2.98267981e-02, 2.76090449e-02,\n",
       "       2.55772333e-02, 2.37140095e-02, 2.20038018e-02, 2.04326211e-02,\n",
       "       1.89878862e-02, 1.76582690e-02, 1.64335587e-02, 1.53045418e-02,\n",
       "       1.42628955e-02, 1.33010946e-02, 1.24123271e-02, 1.15904214e-02,\n",
       "       1.08297800e-02, 1.01253218e-02, 9.47242941e-03, 8.86690366e-03,\n",
       "       8.30492184e-03, 7.78300102e-03, 7.29796505e-03, 6.84691508e-03,\n",
       "       6.42720313e-03, 6.03640840e-03, 5.67231599e-03, 5.33289778e-03,\n",
       "       5.01629525e-03, 4.72080396e-03, 4.44485967e-03, 4.18702571e-03,\n",
       "       3.94598161e-03, 3.72051289e-03, 3.50950173e-03, 3.31191860e-03,\n",
       "       3.12681464e-03, 2.95331476e-03, 2.79061137e-03, 2.63795874e-03,\n",
       "       2.49466776e-03, 2.36010132e-03, 2.23366998e-03, 2.11482810e-03,\n",
       "       2.00307029e-03, 1.89792816e-03, 1.79896735e-03, 1.70578490e-03,\n",
       "       1.61800667e-03, 1.53528519e-03, 1.45729752e-03, 1.38374340e-03,\n",
       "       1.31434349e-03, 1.24883779e-03, 1.18698418e-03, 1.12855709e-03])"
      ]
     },
     "execution_count": 19,
     "metadata": {},
     "output_type": "execute_result"
    }
   ],
   "source": [
    "1-erf(np.log(x))"
   ]
  },
  {
   "cell_type": "markdown",
   "metadata": {},
   "source": [
    "# Direct evaluation tests"
   ]
  },
  {
   "cell_type": "code",
   "execution_count": 5,
   "metadata": {},
   "outputs": [
    {
     "data": {
      "text/plain": [
       "'mul(ffg, ffg)'"
      ]
     },
     "execution_count": 5,
     "metadata": {},
     "output_type": "execute_result"
    }
   ],
   "source": [
    "str(tree)"
   ]
  },
  {
   "cell_type": "code",
   "execution_count": 6,
   "metadata": {},
   "outputs": [],
   "source": [
    "import os\n",
    "from ase.io import read"
   ]
  },
  {
   "cell_type": "code",
   "execution_count": 7,
   "metadata": {},
   "outputs": [],
   "source": [
    "atoms = read('/home/jvita/scripts/s-meam/data/fitting_databases/mlearn/data/Mo/lammps/Ground_state_crystal.data', format='lammps-data', style='atomic')"
   ]
  },
  {
   "cell_type": "code",
   "execution_count": 8,
   "metadata": {},
   "outputs": [
    {
     "data": {
      "text/plain": [
       "(36,)"
      ]
     },
     "execution_count": 8,
     "metadata": {},
     "output_type": "execute_result"
    }
   ],
   "source": [
    "y = tree.fillFixedKnots(tree.bestParams)[0]\n",
    "y.shape"
   ]
  },
  {
   "cell_type": "markdown",
   "metadata": {},
   "source": [
    "### Compare energies to old"
   ]
  },
  {
   "cell_type": "code",
   "execution_count": 25,
   "metadata": {},
   "outputs": [],
   "source": [
    "newEng = tree.directEvaluation(y, atoms, evalType='energy')# / len(atoms)"
   ]
  },
  {
   "cell_type": "code",
   "execution_count": 35,
   "metadata": {},
   "outputs": [
    {
     "data": {
      "text/plain": [
       "(array([-3766.25900969]), array([-3766.25862273]))"
      ]
     },
     "execution_count": 35,
     "metadata": {},
     "output_type": "execute_result"
    }
   ],
   "source": [
    "energies[refStruct][0], newEng"
   ]
  },
  {
   "cell_type": "code",
   "execution_count": 36,
   "metadata": {},
   "outputs": [
    {
     "data": {
      "text/plain": [
       "(7.165842682163067e-06, 7.165842682163067e-06, 0.0)"
      ]
     },
     "execution_count": 36,
     "metadata": {},
     "output_type": "execute_result"
    }
   ],
   "source": [
    "diff = abs(energies[refStruct][0] - newEng) / len(atoms)\n",
    "\n",
    "np.max(diff), np.average(diff), np.std(diff)"
   ]
  },
  {
   "cell_type": "markdown",
   "metadata": {},
   "source": [
    "### Compare forces to old"
   ]
  },
  {
   "cell_type": "code",
   "execution_count": 37,
   "metadata": {},
   "outputs": [],
   "source": [
    "newFcs = tree.directEvaluation(y, atoms, evalType='forces')"
   ]
  },
  {
   "cell_type": "code",
   "execution_count": 38,
   "metadata": {},
   "outputs": [
    {
     "data": {
      "text/plain": [
       "(0.0001669259939278689, 3.908781078218391e-05, 2.8679154892053747e-05)"
      ]
     },
     "execution_count": 38,
     "metadata": {},
     "output_type": "execute_result"
    }
   ],
   "source": [
    "diff = abs(fcs - newFcs)\n",
    "\n",
    "np.max(diff), np.average(diff), np.std(diff)"
   ]
  },
  {
   "cell_type": "markdown",
   "metadata": {},
   "source": [
    "### Compare SVs to old"
   ]
  },
  {
   "cell_type": "code",
   "execution_count": 9,
   "metadata": {
    "scrolled": true
   },
   "outputs": [],
   "source": [
    "from summation import _implemented_sums\n",
    "node = tree.svNodes[0]\n",
    "sums = _implemented_sums[node.description](\n",
    "    name=node.description,\n",
    "    components=node.components,\n",
    "    numParams=node.numParams,\n",
    "    restrictions=node.restrictions,\n",
    "    paramRanges=node.paramRanges,\n",
    "    bonds=node.bonds,\n",
    "    cutoffs=(2.4, 5.2),\n",
    "    numElements=1,\n",
    ")\n",
    "\n",
    "engSV, fcsSV, trackerNew = sums.loop(atoms, evalType='vector', bondType='ffg_AAA')"
   ]
  },
  {
   "cell_type": "code",
   "execution_count": 48,
   "metadata": {},
   "outputs": [
    {
     "data": {
      "text/plain": [
       "b'f_A'"
      ]
     },
     "execution_count": 48,
     "metadata": {},
     "output_type": "execute_result"
    }
   ],
   "source": [
    "sums.components[0]"
   ]
  },
  {
   "cell_type": "code",
   "execution_count": 49,
   "metadata": {},
   "outputs": [
    {
     "data": {
      "text/plain": [
       "array([2.4       , 2.86666667, 3.33333333, 3.8       , 4.26666667,\n",
       "       4.73333333, 5.2       ])"
      ]
     },
     "execution_count": 49,
     "metadata": {},
     "output_type": "execute_result"
    }
   ],
   "source": [
    "np.linspace(sums.cutoffs[0], sums.cutoffs[1], sums.numParams[b'f_A'] + len(sums.restrictions[b'f_A']) - 2)"
   ]
  },
  {
   "cell_type": "code",
   "execution_count": 60,
   "metadata": {},
   "outputs": [
    {
     "data": {
      "text/plain": [
       "array([ 0.217952  ,  0.29626718,  0.25977489,  0.12300407,  0.04432763,\n",
       "        0.02163163,  0.        , -0.50476742,  0.        ])"
      ]
     },
     "execution_count": 60,
     "metadata": {},
     "output_type": "execute_result"
    }
   ],
   "source": [
    "splitParams[0]"
   ]
  },
  {
   "cell_type": "code",
   "execution_count": 61,
   "metadata": {},
   "outputs": [
    {
     "data": {
      "text/plain": [
       "array([-0.50476742,  0.26360209, -0.28077953, -0.25431825, -0.08696557,\n",
       "       -0.04949944,  0.        ])"
      ]
     },
     "execution_count": 61,
     "metadata": {},
     "output_type": "execute_result"
    }
   ],
   "source": [
    "newSpline.M @ splitParams[0]"
   ]
  },
  {
   "cell_type": "code",
   "execution_count": 54,
   "metadata": {},
   "outputs": [],
   "source": [
    "newSpline = sums.fSplines[0]\n",
    "newSpline.buildDirectEvaluator(splitParams[0])"
   ]
  },
  {
   "cell_type": "code",
   "execution_count": 58,
   "metadata": {},
   "outputs": [
    {
     "data": {
      "text/plain": [
       "('fixed', 'fixed')"
      ]
     },
     "execution_count": 58,
     "metadata": {},
     "output_type": "execute_result"
    }
   ],
   "source": [
    "newSpline.bc_type"
   ]
  },
  {
   "cell_type": "code",
   "execution_count": 67,
   "metadata": {},
   "outputs": [
    {
     "data": {
      "text/plain": [
       "[<matplotlib.lines.Line2D at 0x7fd95740e3c8>]"
      ]
     },
     "execution_count": 67,
     "metadata": {},
     "output_type": "execute_result"
    },
    {
     "data": {
      "image/png": "[encoded data removed]",
      "text/plain": [
       "<Figure size 432x288 with 1 Axes>"
      ]
     },
     "metadata": {
      "needs_background": "light"
     },
     "output_type": "display_data"
    }
   ],
   "source": [
    "fig, ax = plt.subplots()\n",
    "\n",
    "x = np.linspace(2.2, 5.4, 100)\n",
    "y = [newSpline(x_i) for x_i in x]\n",
    "\n",
    "ax.plot(x, y)\n",
    "ax.plot(newSpline.knots, splitParams[0][:-2], 'o')"
   ]
  },
  {
   "cell_type": "markdown",
   "metadata": {},
   "source": [
    "### Recreate old"
   ]
  },
  {
   "cell_type": "code",
   "execution_count": 12,
   "metadata": {},
   "outputs": [],
   "source": [
    "atoms.get_chemical_symbols()\n",
    "atoms.set_chemical_symbols(['Mo']*len(atoms))"
   ]
  },
  {
   "cell_type": "code",
   "execution_count": 13,
   "metadata": {
    "scrolled": true
   },
   "outputs": [],
   "source": [
    "import sys\n",
    "sys.path.append('../s-meam/project/')\n",
    "from src.database import Database\n",
    "\n",
    "ic = 2.4\n",
    "oc = 5.2\n",
    "points_per_spline = 7\n",
    "\n",
    "x_pvec = np.concatenate([\n",
    "    np.tile(np.linspace(ic, oc, points_per_spline), 2),\n",
    "    np.tile(np.linspace(-1, 1, points_per_spline), 1),\n",
    "    np.tile(np.linspace(ic, oc, points_per_spline), 1),\n",
    "    np.tile(np.linspace(-1, 1, points_per_spline), 1)]\n",
    ")\n",
    "\n",
    "x_indices = list(\n",
    "    range(0, points_per_spline * 5, points_per_spline)\n",
    ")\n",
    "\n",
    "db = Database(\n",
    "    os.path.join('Mo.hdf5-delete'), 'a',\n",
    "    45, ['Mo'], x_pvec, x_indices, [ic, oc],\n",
    "    overwrite=False,\n",
    ")\n",
    "\n",
    "# db.prepare_file_structure(['Ground_state_crystal'], ntypes=1)\n",
    "trackerOld = db.add_structure('Ground_state_crystal', atoms, add_strained=False)"
   ]
  },
  {
   "cell_type": "code",
   "execution_count": 15,
   "metadata": {},
   "outputs": [
    {
     "data": {
      "text/plain": [
       "(8.881784197001252e-16, 1.2748991764374718e-18, 1.1864774490032234e-17)"
      ]
     },
     "execution_count": 15,
     "metadata": {},
     "output_type": "execute_result"
    }
   ],
   "source": [
    "diff = np.abs(np.array(trackerNew) - np.array(trackerOld))\n",
    "\n",
    "np.max(diff), np.average(diff), np.std(diff)"
   ]
  },
  {
   "cell_type": "code",
   "execution_count": 16,
   "metadata": {},
   "outputs": [],
   "source": [
    "oldEngVec = db['Ground_state_crystal']['ffg']['energy']['0']['0'][()]"
   ]
  },
  {
   "cell_type": "code",
   "execution_count": 40,
   "metadata": {},
   "outputs": [
    {
     "data": {
      "text/plain": [
       "(7.105427357601002e-15, 1.3915876009748063e-16, 3.7090989523638406e-16)"
      ]
     },
     "execution_count": 40,
     "metadata": {},
     "output_type": "execute_result"
    }
   ],
   "source": [
    "diff = abs(oldEngVec - engSV)\n",
    "\n",
    "np.max(diff), np.average(diff), np.std(diff)"
   ]
  },
  {
   "cell_type": "code",
   "execution_count": 21,
   "metadata": {},
   "outputs": [
    {
     "data": {
      "text/plain": [
       "(8748, 729)"
      ]
     },
     "execution_count": 21,
     "metadata": {},
     "output_type": "execute_result"
    }
   ],
   "source": [
    "oldFcsVec = db['Ground_state_crystal']['ffg']['forces']['0']['0'][()]\n",
    "oldFcsVec.shape"
   ]
  },
  {
   "cell_type": "code",
   "execution_count": 23,
   "metadata": {},
   "outputs": [
    {
     "data": {
      "text/plain": [
       "(8748, 729)"
      ]
     },
     "execution_count": 23,
     "metadata": {},
     "output_type": "execute_result"
    }
   ],
   "source": [
    "fcsSV.shape"
   ]
  },
  {
   "cell_type": "code",
   "execution_count": 24,
   "metadata": {},
   "outputs": [
    {
     "data": {
      "text/plain": [
       "(1.7763568394002505e-14, 3.1884650820733444e-17, 1.9493268581223417e-16)"
      ]
     },
     "execution_count": 24,
     "metadata": {},
     "output_type": "execute_result"
    }
   ],
   "source": [
    "diff = abs(oldFcsVec - fcsSV)\n",
    "\n",
    "np.max(diff), np.average(diff), np.std(diff)"
   ]
  },
  {
   "cell_type": "code",
   "execution_count": 40,
   "metadata": {},
   "outputs": [
    {
     "data": {
      "text/plain": [
       "0.42281004786491394"
      ]
     },
     "execution_count": 40,
     "metadata": {},
     "output_type": "execute_result"
    }
   ],
   "source": [
    "engVec[0][0]"
   ]
  },
  {
   "cell_type": "code",
   "execution_count": 42,
   "metadata": {
    "scrolled": true
   },
   "outputs": [
    {
     "name": "stdout",
     "output_type": "stream",
     "text": [
      "1 3.6106950207503985e-09\n",
      "2 3.5181497715086607e-09\n",
      "3 1.6174124040091442e-08\n",
      "4 8.120017991330997e-10\n",
      "5 2.4870935755316737e-08\n",
      "6 5.809237535459033e-09\n",
      "7 1.1528420024164987e-09\n",
      "8 2.0385138368994582e-10\n",
      "9 1.7975383855006744e-10\n",
      "10 0.0005992102840032265\n",
      "11 0.0023967867805235743\n",
      "12 0.008388779201836005\n",
      "13 0.031058133884706074\n",
      "14 0.12483049300209048\n",
      "15 0.3869945794013281\n",
      "16 0.05790204571443383\n",
      "17 6.65783925446247e-05\n",
      "18 0.006383948853142949\n",
      "19 0.0006028137232962916\n",
      "20 0.0024112645828950896\n",
      "21 0.008439496583763875\n",
      "22 0.026097603905342215\n",
      "23 0.12596244365029086\n",
      "24 0.41645411796363696\n",
      "25 0.04942299738435449\n",
      "26 6.698028688983601e-05\n",
      "27 0.005603512122078366\n",
      "28 7.248380287188088e-05\n",
      "29 0.00028992755486167976\n",
      "30 0.0010147718117350917\n",
      "31 0.008778851165791052\n",
      "32 0.015973599730294656\n",
      "33 0.11758455305878027\n",
      "34 0.015186529073657017\n",
      "35 8.053613259677468e-06\n",
      "36 0.001283479406649535\n",
      "37 0.00014316512084977528\n",
      "38 0.0005726701270989398\n",
      "39 0.002004352372802696\n",
      "40 0.06852093406245896\n",
      "41 0.025515041122673124\n",
      "42 0.26161870824905686\n",
      "43 0.1260326332898205\n",
      "44 1.590885043082496e-05\n",
      "45 0.01191295345714555\n",
      "46 0.00014391446916312\n",
      "47 0.00057569795604695\n",
      "48 0.0020149406306845426\n",
      "49 0.06036060660069509\n",
      "50 0.026440144414915143\n",
      "51 0.19017411640845916\n",
      "52 0.09984134758366738\n",
      "53 1.5991403763855605e-05\n",
      "54 0.00950486065412877\n",
      "55 3.0963064743663726e-05\n",
      "56 0.00012384666599551952\n",
      "57 0.00043345810447839627\n",
      "58 0.012693324935120931\n",
      "59 0.0057007857917108565\n",
      "60 0.04017883170099887\n",
      "61 0.0213967001109885\n",
      "62 3.440244335285031e-06\n",
      "63 0.0020365521897049137\n",
      "64 9.565924557961014e-07\n",
      "65 3.827097196623663e-06\n",
      "66 1.338098484567063e-05\n",
      "67 4.9712195169811235e-05\n",
      "68 0.00019915492590301398\n",
      "69 0.000616266040627228\n",
      "70 9.270675501103602e-05\n",
      "71 1.0622814623144176e-07\n",
      "72 1.0215401943534713e-05\n",
      "73 4.816083512805547e-06\n",
      "74 1.9264747187846057e-05\n",
      "75 6.742681075480535e-05\n",
      "76 0.001974518039972218\n",
      "77 0.0008867889112808293\n",
      "78 0.006250040817958963\n",
      "79 0.003328375544363358\n",
      "80 5.350922046639013e-07\n",
      "81 0.0003167970049429562\n",
      "82 0.0005992314261004106\n",
      "83 0.0023967970787213133\n",
      "84 0.008388908807952067\n",
      "85 0.03105815446899085\n",
      "86 0.1248305337229283\n",
      "87 0.3869944810409698\n",
      "88 0.057902052110947066\n",
      "89 6.65775100980176e-05\n",
      "90 0.006383947735609602\n",
      "91 4.3276899841515615e-09\n",
      "92 1.5571363576327713e-07\n",
      "93 1.681409393938793e-07\n",
      "94 4.761903094063769e-10\n",
      "95 1.1097958463324176e-07\n",
      "96 1.8845586602367348e-07\n",
      "97 2.2573726887742396e-08\n",
      "98 6.600858665217757e-09\n",
      "99 5.949278902850352e-09\n",
      "100 0.0017540789910039933\n",
      "101 0.007016386325406465\n",
      "102 0.02455727042608874\n",
      "103 0.1136156250916649\n",
      "104 0.3648232696293956\n",
      "105 1.1098232815927283\n",
      "106 0.1533474202215749\n",
      "107 0.00019489829167531475\n",
      "108 0.017284896554892057\n",
      "109 0.0003211831264426923\n",
      "110 0.0012847251523491199\n",
      "111 0.004496550440806657\n",
      "112 0.07211760510619758\n",
      "113 0.06528024992029424\n",
      "114 0.1546467165951977\n",
      "115 0.00941007001844324\n",
      "116 3.5688642740339116e-05\n",
      "117 8.139309834381131e-05\n",
      "118 6.422330333633042e-05\n",
      "119 0.00025736905439721625\n",
      "120 0.0009007191201420017\n",
      "121 0.2737376346762179\n",
      "122 0.005555256266542963\n",
      "123 0.20048919374881713\n",
      "124 0.20048213033584839\n",
      "125 7.149364952524495e-06\n",
      "126 0.01725065706261486\n",
      "127 1.735834839267092e-05\n",
      "128 6.980158014791016e-05\n",
      "129 0.00024370689752006847\n",
      "130 0.23322999277167256\n",
      "131 0.010815389837980693\n",
      "132 0.2618772444844515\n",
      "133 0.15384969930318038\n",
      "134 1.9349703302973253e-06\n",
      "135 0.013293957247294624\n",
      "136 5.591156688578014e-06\n",
      "137 2.2383596586461607e-05\n",
      "138 7.837760698772844e-05\n",
      "139 0.048785996213924765\n",
      "140 0.0026596679276447155\n",
      "141 0.05474724851182278\n",
      "142 0.03337061970630684\n",
      "143 6.236411574725431e-07\n",
      "144 0.0028916273130116174\n",
      "145 8.891076299248624e-05\n",
      "146 0.00035564443867877604\n",
      "147 0.0012447278107720616\n",
      "148 0.004607660539078295\n",
      "149 0.018522273167761505\n",
      "150 0.057422393583021536\n",
      "151 0.008592035434889476\n",
      "152 9.878794625849986e-06\n",
      "153 0.0009472940674181869\n",
      "154 8.700666218053321e-07\n",
      "155 3.4871909927736144e-06\n",
      "156 1.2192196374449099e-05\n",
      "157 0.007588935393483098\n",
      "158 0.00041372504588309267\n",
      "159 0.008516240644216189\n",
      "160 0.005190982969689353\n",
      "161 9.696945460751366e-08\n",
      "162 0.0004498086724390839\n",
      "163 0.0006028006716044532\n",
      "164 0.002411317586867412\n",
      "165 0.008439475076588931\n",
      "166 0.026097611075030613\n",
      "167 0.12596239565740563\n",
      "168 0.41645406729494105\n",
      "169 0.04942299295121011\n",
      "170 6.698109001321284e-05\n",
      "171 0.005603511700707532\n",
      "172 0.0017540957026180304\n",
      "173 0.007016438367053013\n",
      "174 0.024557340044145448\n",
      "175 0.1136156377719284\n",
      "176 0.3648232657382051\n",
      "177 1.1098230579081765\n",
      "178 0.15334744527266042\n",
      "179 0.00019489980774975435\n",
      "180 0.017284897548879158\n",
      "181 1.1719215509131686e-07\n",
      "182 5.889243315237991e-09\n",
      "183 7.132290313904832e-10\n",
      "184 2.2894432927245134e-07\n",
      "185 5.733125918450099e-09\n",
      "186 1.5328881719511855e-08\n",
      "187 3.552041327736788e-09\n",
      "188 7.958029617227691e-10\n",
      "189 2.1662251853404868e-10\n",
      "190 0.00011230653621496778\n",
      "191 0.0004493076387925843\n",
      "192 0.0015725397803068863\n",
      "193 0.10312109843885331\n",
      "194 0.01914382465368117\n",
      "195 0.17092890129530192\n",
      "196 0.032179292615378\n",
      "197 1.2480747715534063e-05\n",
      "198 0.003402724358266638\n",
      "199 0.0004909491614130124\n",
      "200 0.001963784003387481\n",
      "201 0.006873083474128933\n",
      "202 0.5334518102366532\n",
      "203 0.07996058820238966\n",
      "204 0.9680170610685703\n",
      "205 0.16211273070187693\n",
      "206 5.454897336126807e-05\n",
      "207 0.017063509110435277\n",
      "208 0.00040983887328727153\n",
      "209 0.0016396572113706043\n",
      "210 0.005738137201667076\n",
      "211 0.4633661493360073\n",
      "212 0.06612345855972124\n",
      "213 0.8251196278272044\n",
      "214 0.13404556466705586\n",
      "215 4.5540712117889126e-05\n",
      "216 0.014149656786258943\n",
      "217 8.62767703198597e-05\n",
      "218 0.0003450917057212788\n",
      "219 0.0012079151093401241\n",
      "220 0.09716763399399797\n",
      "221 0.013929797778487699\n",
      "222 0.17384194806858133\n",
      "223 0.028333271970512497\n",
      "224 9.58620173697848e-06\n",
      "225 0.002989179604654356\n",
      "226 8.664945687801573e-05\n",
      "227 0.00034656042225467143\n",
      "228 0.001213065148306644\n",
      "229 0.0036891311400601146\n",
      "230 0.01810817684700916\n",
      "231 0.060026253243933514\n",
      "232 0.007088313789976139\n",
      "233 9.627474222745173e-06\n",
      "234 0.0008038288015007845\n",
      "235 1.3421534604585866e-05\n",
      "236 5.3689541560847376e-05\n",
      "237 0.00018789756441239727\n",
      "238 0.015114966943639674\n",
      "239 0.0021668572045525653\n",
      "240 0.027042084784311082\n",
      "241 0.0044073968686689675\n",
      "242 1.491246438028353e-06\n",
      "243 0.00046498348888332963\n",
      "244 7.24848900704178e-05\n",
      "245 0.0002899083338490094\n",
      "246 0.0010147725530863377\n",
      "247 0.008778843846467321\n",
      "248 0.01597360398342433\n",
      "249 0.11758451476221365\n",
      "250 0.015186527175608533\n",
      "251 8.054587384943163e-06\n",
      "252 0.0012834797616925672\n",
      "253 0.00032116191947095807\n",
      "254 0.0012846086691480352\n",
      "255 0.0044965449637157165\n",
      "256 0.07211773025084423\n",
      "257 0.06528023444948813\n",
      "258 0.1546468509673713\n",
      "259 0.009410040239144934\n",
      "260 3.5683416552884095e-05\n",
      "261 8.139459282469064e-05\n",
      "262 0.00011233125072984684\n",
      "263 0.00044929215771705167\n",
      "264 0.0015725409994860329\n",
      "265 0.10312113786486177\n",
      "266 0.019143821016968945\n",
      "267 0.1709288940884656\n",
      "268 0.03217930704006061\n",
      "269 1.2480559405552306e-05\n",
      "270 0.0034027254148088666\n",
      "271 6.667831148332581e-10\n",
      "272 2.169680657360118e-09\n",
      "273 3.028396894366736e-09\n",
      "274 8.741347423679713e-09\n",
      "275 2.7610120023613405e-09\n",
      "276 1.7337206559275842e-08\n",
      "277 3.517141924924694e-10\n",
      "278 1.1425730240405274e-10\n",
      "279 8.083194009966821e-11\n",
      "280 8.476360645115477e-05\n",
      "281 0.00033904707501708486\n",
      "282 0.0011867629113211375\n",
      "283 0.08669131156924226\n",
      "284 0.013957292779041675\n",
      "285 0.16737711587668036\n",
      "286 0.030635025868222837\n",
      "287 9.419440860070766e-06\n",
      "288 0.0031817291170703754\n",
      "289 7.671688547311595e-05\n",
      "290 0.00030689033164454926\n",
      "291 0.0010742553700886504\n",
      "292 0.08077379424003439\n",
      "293 0.012563448600800164\n",
      "294 0.15196195354835274\n",
      "295 0.02702184118507274\n",
      "296 8.525671360538889e-06\n",
      "297 0.0028173688615300606\n",
      "298 1.6221306868985375e-05\n",
      "299 6.489710012552719e-05\n",
      "300 0.00022713822568684594\n",
      "301 0.016993778946017724\n",
      "302 0.0026591153203343043\n",
      "303 0.03211725869793025\n",
      "304 0.0057388495544556505\n",
      "305 1.8026300208861222e-06\n",
      "306 0.0005979540648567722\n",
      "307 1.0242141145724165e-05\n",
      "308 4.0970757666708435e-05\n",
      "309 0.00014339381941977543\n",
      "310 0.0014193032035764164\n",
      "311 0.0022660083887865064\n",
      "312 0.01720099319032012\n",
      "313 0.002238447250616206\n",
      "314 1.1379570710565341e-06\n",
      "315 0.00019032099979035587\n",
      "316 2.5237283229843227e-06\n",
      "317 1.0092620937041108e-05\n",
      "318 3.533393743228308e-05\n",
      "319 0.0026434783806206646\n",
      "320 0.0004136407404305084\n",
      "321 0.004996016695130362\n",
      "322 0.0008927098841269741\n",
      "323 2.804233428987859e-07\n",
      "324 9.301507837237717e-05\n",
      "325 0.00014314959252437198\n",
      "326 0.0005726280035278641\n",
      "327 0.0020043606000397785\n",
      "328 0.06852107347140546\n",
      "329 0.025515028367948556\n",
      "330 0.2616186068492423\n",
      "331 0.12603273901973355\n",
      "332 1.5909640700945138e-05\n",
      "333 0.011912960121411992\n",
      "334 6.449837408073478e-05\n",
      "335 0.0002573328604533742\n",
      "336 0.0009007295685428129\n",
      "337 0.27373690414604823\n",
      "338 0.005555227932035445\n",
      "339 0.200489245997737\n",
      "340 0.20048224121961322\n",
      "341 7.160779164239184e-06\n",
      "342 0.01725065414859661\n",
      "343 0.0004909345054242564\n",
      "344 0.0019637273283228396\n",
      "345 0.006873081837452222\n",
      "346 0.5334516190515033\n",
      "347 0.07996057920762745\n",
      "348 0.9680166755941615\n",
      "349 0.16211267653904093\n",
      "350 5.454842040544805e-05\n",
      "351 0.017063510901167506\n",
      "352 8.477655599092859e-05\n",
      "353 0.00033913469606816626\n",
      "354 0.0011867768673883283\n",
      "355 0.0866913091238386\n",
      "356 0.013957395232440994\n",
      "357 0.1673770470249929\n",
      "358 0.030635013996447802\n",
      "359 9.419579430992864e-06\n",
      "360 0.0031817305193046277\n",
      "361 4.1365038949692234e-08\n",
      "362 1.8311703531281864e-07\n",
      "363 8.076257262956688e-08\n",
      "364 8.541868989908608e-09\n",
      "365 1.5967945010686435e-07\n",
      "366 1.7627640680473178e-07\n",
      "367 5.876080511058035e-08\n",
      "368 2.907128343609955e-09\n",
      "369 3.1649520226828542e-09\n",
      "370 2.713757655614657e-05\n",
      "371 0.00010860278152513558\n",
      "372 0.0003806110904642779\n",
      "373 0.028415343159859496\n",
      "374 0.004456238466177709\n",
      "375 0.053788095303659134\n",
      "376 0.009631602517432114\n",
      "377 3.0189301313127137e-06\n",
      "378 0.001003270175058274\n",
      "379 5.9985222623515355e-06\n",
      "380 2.403491651348233e-05\n",
      "381 8.403410255208854e-05\n",
      "382 0.006242397618147266\n",
      "383 0.0009843227652288622\n",
      "384 0.011865746081063167\n",
      "385 0.0021342076065088977\n",
      "386 6.657461227160821e-07\n",
      "387 0.0002221738558817049\n",
      "388 2.1353611335900302e-05\n",
      "389 8.537979646192073e-05\n",
      "390 0.00029885626998567283\n",
      "391 0.010610765624001095\n",
      "392 0.003794746507875861\n",
      "393 0.039138468009544625\n",
      "394 0.018380902936527166\n",
      "395 2.371867828716151e-06\n",
      "396 0.0017401247472796644\n",
      "397 9.334345999825744e-07\n",
      "398 3.7265127251773222e-06\n",
      "399 1.3063030811444332e-05\n",
      "400 0.0009710417818794698\n",
      "401 0.00015311223867425783\n",
      "402 0.0018457837171317049\n",
      "403 0.0003319874359802369\n",
      "404 1.0371572840492393e-07\n",
      "405 3.4560589716184625e-05\n",
      "406 0.00014386668484700493\n",
      "407 0.0005756521642727996\n",
      "408 0.0020149354219186066\n",
      "409 0.060360399768874196\n",
      "410 0.026440131007922363\n",
      "411 0.19017409819224373\n",
      "412 0.09984137413820027\n",
      "413 1.598704210462043e-05\n",
      "414 0.009504866450895877\n",
      "415 1.7537630152553163e-05\n",
      "416 6.955433429389757e-05\n",
      "417 0.00024369039670735226\n",
      "418 0.23323098859183133\n",
      "419 0.010815394925387967\n",
      "420 0.261877235000461\n",
      "421 0.15384976427594665\n",
      "422 1.9262761102867287e-06\n",
      "423 0.013293982227061685\n",
      "424 0.00040986889999539144\n",
      "425 0.0016394059355469004\n",
      "426 0.005738141458536017\n",
      "427 0.46336628300559113\n",
      "428 0.06612346278843972\n",
      "429 0.825119641437356\n",
      "430 0.13404557359738045\n",
      "431 4.554038443592423e-05\n",
      "432 0.0141496578547241\n",
      "433 7.672299424876794e-05\n",
      "434 0.00030697079071528854\n",
      "435 0.0010742680949751282\n",
      "436 0.08077385451417252\n",
      "437 0.012563510544215895\n",
      "438 0.15196191520104785\n",
      "439 0.027021856395846866\n",
      "440 8.526019511005678e-06\n",
      "441 0.0028173695890215122\n",
      "442 2.7197996616656894e-05\n",
      "443 0.00010852794602289606\n",
      "444 0.0003803532483726002\n",
      "445 0.028415352068690947\n",
      "446 0.004455973825519877\n",
      "447 0.05378822662191318\n",
      "448 0.009631612731795691\n",
      "449 3.015918841414722e-06\n",
      "450 0.0010032721957020652\n",
      "451 2.8836742216320488e-08\n",
      "452 7.548392311207408e-08\n",
      "453 1.205183863817183e-08\n",
      "454 5.4067135879520833e-08\n",
      "455 5.162097771460594e-08\n",
      "456 1.581361415148308e-07\n",
      "457 1.6231666344346252e-08\n",
      "458 6.298051108410974e-10\n",
      "459 5.148598075654931e-10\n",
      "460 2.273268605301748e-07\n",
      "461 8.891262053278837e-07\n",
      "462 3.2389673965127486e-06\n",
      "463 0.00024613779648169354\n",
      "464 3.7114662005066634e-05\n",
      "465 0.0004518039298138099\n",
      "466 7.819719001136982e-05\n",
      "467 2.4492370062634272e-08\n",
      "468 8.183586632300177e-06\n",
      "469 2.133526853706491e-05\n",
      "470 8.531517166412983e-05\n",
      "471 0.00029859495807574993\n",
      "472 0.009334317050361363\n",
      "473 0.0039058752628199217\n",
      "474 0.028635085551766748\n",
      "475 0.014568984138321084\n",
      "476 2.369943381735906e-06\n",
      "477 0.0013891174945256067\n",
      "478 3.362348729302189e-08\n",
      "479 1.419510269051738e-07\n",
      "480 4.985411821423202e-07\n",
      "481 3.8287522185306844e-05\n",
      "482 5.757497295449943e-06\n",
      "483 7.027928675656936e-05\n",
      "484 1.2165911372367944e-05\n",
      "485 3.820272263029695e-09\n",
      "486 1.2730385831258295e-06\n",
      "487 3.0952339192924505e-05\n",
      "488 0.0001238523873859365\n",
      "489 0.0004334580316858669\n",
      "490 0.012693356882667706\n",
      "491 0.005700784902670536\n",
      "492 0.04017883941091355\n",
      "493 0.021396703691574925\n",
      "494 3.4402098838884343e-06\n",
      "495 0.002036551649602217\n",
      "496 5.585423986542715e-06\n",
      "497 2.2394430411187827e-05\n",
      "498 7.839653144353642e-05\n",
      "499 0.04878577723458477\n",
      "500 0.0026596708347134124\n",
      "501 0.05474727774241295\n",
      "502 0.03337063818173536\n",
      "503 6.20817614566116e-07\n",
      "504 0.0028916245551697806\n",
      "505 8.627950653634572e-05\n",
      "506 0.0003450956160641061\n",
      "507 0.0012079145127040398\n",
      "508 0.09716768782795454\n",
      "509 0.013929798508237723\n",
      "510 0.17384195264477514\n",
      "511 0.028333274628630112\n",
      "512 9.586647713062234e-06\n",
      "513 0.0029891800268533747\n",
      "514 1.6223429823904872e-05\n",
      "515 6.490839707351537e-05\n",
      "516 0.0002271343624639932\n",
      "517 0.016993780759102864\n",
      "518 0.002659107573812103\n",
      "519 0.03211723303956937\n",
      "520 0.005738848538611313\n",
      "521 1.802600855769186e-06\n",
      "522 0.000597953879563403\n",
      "523 5.994499379907703e-06\n",
      "524 2.4046330041160857e-05\n",
      "525 8.396215463601919e-05\n",
      "526 0.00624238728830101\n",
      "527 0.0009842869606093707\n",
      "528 0.011865779610668037\n",
      "529 0.0021342041961963376\n",
      "530 6.666137785001081e-07\n",
      "531 0.00022217418744979386\n",
      "532 2.206991916442469e-07\n",
      "533 9.382506742650065e-07\n",
      "534 3.228144555444956e-06\n",
      "535 0.00024611991288853163\n",
      "536 3.71111169006344e-05\n",
      "537 0.0004517872874801876\n",
      "538 7.819362184185996e-05\n",
      "539 2.4640693884608877e-08\n",
      "540 8.184167818753307e-06\n",
      "541 5.853602949579262e-10\n",
      "542 4.978338574712637e-10\n",
      "543 6.3804385941335084e-09\n",
      "544 3.033357107162793e-09\n",
      "545 4.727525287906431e-09\n",
      "546 2.4638215911920724e-09\n",
      "547 6.04696362427326e-11\n",
      "548 1.372057875301258e-10\n",
      "549 1.5715242648872696e-10\n",
      "550 4.585980210636276e-06\n",
      "551 1.8340109702596336e-05\n",
      "552 6.419316300014348e-05\n",
      "553 0.0019625048729425\n",
      "554 0.0008416271584471193\n",
      "555 0.006048929732274742\n",
      "556 0.0031215979309470107\n",
      "557 5.09392120749165e-07\n",
      "558 0.0002975695862592583\n",
      "559 1.986887590219033e-10\n",
      "560 1.1643225897306486e-09\n",
      "561 7.441599420010547e-10\n",
      "562 1.821107587646198e-10\n",
      "563 9.665254707691417e-12\n",
      "564 1.3490843858710022e-10\n",
      "565 1.975441338286643e-11\n",
      "566 1.7461985308241113e-11\n",
      "567 2.341369925631248e-11\n",
      "568 9.5463919656813e-07\n",
      "569 3.825323580258777e-06\n",
      "570 1.33847720266006e-05\n",
      "571 4.9712913031185746e-05\n",
      "572 0.0001991611809031013\n",
      "573 0.0006162690793736492\n",
      "574 9.27068316802903e-05\n",
      "575 1.0627730801654467e-07\n",
      "576 1.0215495284497927e-05\n",
      "577 8.890572678137143e-05\n",
      "578 0.00035563785061175357\n",
      "579 0.0012447332029347224\n",
      "580 0.004607658335557291\n",
      "581 0.01852227098737591\n",
      "582 0.057422381892056146\n",
      "583 0.008592033106305994\n",
      "584 9.878799532440311e-06\n",
      "585 0.0009472944852761955\n",
      "586 8.664571753083661e-05\n",
      "587 0.0003465893000053899\n",
      "588 0.0012130628687973006\n",
      "589 0.0036891417919216463\n",
      "590 0.018108176630368535\n",
      "591 0.060026273928738286\n",
      "592 0.007088312852499671\n",
      "593 9.627487167716223e-06\n",
      "594 0.0008038289244253021\n",
      "595 1.0242465080253105e-05\n",
      "596 4.096935086461695e-05\n",
      "597 0.0001433940468273632\n",
      "598 0.0014193054423260925\n",
      "599 0.002266008694930395\n",
      "600 0.017200986970026696\n",
      "601 0.0022384484766810476\n",
      "602 1.1380578948554966e-06\n",
      "603 0.00019032115092397497\n",
      "604 2.1346266501340305e-05\n",
      "605 8.538602391181677e-05\n",
      "606 0.0002988548544927128\n",
      "607 0.010610778975587709\n",
      "608 0.0037947446346825653\n",
      "609 0.03913848807719811\n",
      "610 0.018380910365227907\n",
      "611 2.3719253550583477e-06\n",
      "612 0.0017401246658135417\n",
      "613 2.1326998322745983e-05\n",
      "614 8.531173494220196e-05\n",
      "615 0.0002985965253006744\n",
      "616 0.009334307758976104\n",
      "617 0.0039058745224004685\n",
      "618 0.02863509235052357\n",
      "619 0.014568972872079863\n",
      "620 2.3697671812858423e-06\n",
      "621 0.001389117078221902\n",
      "622 4.585389295562459e-06\n",
      "623 1.8341216117283635e-05\n",
      "624 6.419329188335558e-05\n",
      "625 0.0019625068373508477\n",
      "626 0.0008416276207714533\n",
      "627 0.006048928962907318\n",
      "628 0.003121596932397753\n",
      "629 5.094752391020772e-07\n",
      "630 0.00029756940460308435\n",
      "631 2.442524325158013e-10\n",
      "632 2.4841410872777914e-10\n",
      "633 3.6397453107017697e-10\n",
      "634 8.33576350306453e-11\n",
      "635 1.5432678746041262e-10\n",
      "636 2.9107615623358285e-10\n",
      "637 8.735771958243155e-11\n",
      "638 4.94500396034693e-12\n",
      "639 2.67887605544595e-12\n",
      "640 7.132569092376494e-07\n",
      "641 2.8530884107168253e-06\n",
      "642 9.985623267751825e-06\n",
      "643 0.0003052788568877283\n",
      "644 0.00013091983659796073\n",
      "645 0.0009409446398655069\n",
      "646 0.0004855817452013378\n",
      "647 7.924394283855538e-08\n",
      "648 4.628857370578177e-05\n",
      "649 4.8172090615083984e-06\n",
      "650 1.926609249514738e-05\n",
      "651 6.742676353679693e-05\n",
      "652 0.001974510923093059\n",
      "653 0.0008867889282060896\n",
      "654 0.006250040113241727\n",
      "655 0.0033283770404270024\n",
      "656 5.35205847887639e-07\n",
      "657 0.0003167969646635689\n",
      "658 8.777844281160352e-07\n",
      "659 3.4789421473335747e-06\n",
      "660 1.2193029180859738e-05\n",
      "661 0.007588941066460797\n",
      "662 0.00041372640872029687\n",
      "663 0.008516239561869449\n",
      "664 0.005190984850234087\n",
      "665 9.713042247935788e-08\n",
      "666 0.0004498096300772879\n",
      "667 1.3421184136116517e-05\n",
      "668 5.368667289888662e-05\n",
      "669 0.0001878975957786931\n",
      "670 0.015114970681893991\n",
      "671 0.0021668574008534575\n",
      "672 0.027042080736070354\n",
      "673 0.004407399227583309\n",
      "674 1.491249196651761e-06\n",
      "675 0.00046498350281858904\n",
      "676 2.5236756833642293e-06\n",
      "677 1.0095371650933882e-05\n",
      "678 3.533101852810222e-05\n",
      "679 0.0026434776278532555\n",
      "680 0.00041363771416288303\n",
      "681 0.004996014276730111\n",
      "682 0.0008927099589373898\n",
      "683 2.8036835946409697e-07\n",
      "684 9.301501688799806e-05\n",
      "685 9.347956396732471e-07\n",
      "686 3.731930668854355e-06\n",
      "687 1.3068064622034914e-05\n",
      "688 0.0009710371947823232\n",
      "689 0.00015311428521594395\n",
      "690 0.0018457750250975846\n",
      "691 0.000331988147250592\n",
      "692 1.0365408453609504e-07\n",
      "693 3.45604808990041e-05\n",
      "694 3.63178068313319e-08\n",
      "695 1.3998964024097837e-07\n",
      "696 4.998378611287269e-07\n",
      "697 3.8286727114596186e-05\n",
      "698 5.757276971829484e-06\n",
      "699 7.027139975862573e-05\n",
      "700 1.216419734455243e-05\n",
      "701 3.8743889372791496e-09\n",
      "702 1.2730720757485672e-06\n",
      "703 1.9868876162398852e-10\n",
      "704 1.1643225897306486e-09\n",
      "705 7.441599420010547e-10\n",
      "706 1.8211076049934327e-10\n",
      "707 9.665254707691417e-12\n",
      "708 1.3490843858710022e-10\n",
      "709 1.975441338286643e-11\n",
      "710 1.7461985308241113e-11\n",
      "711 2.34136993647327e-11\n",
      "712 7.132815671752335e-07\n",
      "713 2.852833517533876e-06\n",
      "714 9.985585024304073e-06\n",
      "715 0.00030527799769353506\n",
      "716 0.00013091979313792032\n",
      "717 0.0009409443766678236\n",
      "718 0.0004855819624577061\n",
      "719 7.922971981353527e-08\n",
      "720 4.628860101349235e-05\n",
      "721 5.4464094258882545e-11\n",
      "722 2.0176020836676356e-10\n",
      "723 5.367004150130805e-11\n",
      "724 2.858581600595489e-11\n",
      "725 1.1533180573758406e-10\n",
      "726 2.0725027683604624e-10\n",
      "727 7.275118875382791e-12\n",
      "728 2.909894005441449e-13\n",
      "729 2.9953792809837843e-12\n"
     ]
    }
   ],
   "source": [
    "for i in range(engVec[0].shape[0]):\n",
    "    print(i+1, abs(engVec[0][i] - engSV[0][i]))"
   ]
  },
  {
   "cell_type": "code",
   "execution_count": 28,
   "metadata": {},
   "outputs": [
    {
     "data": {
      "text/plain": [
       "(22.525550605037665, 0.010124693475750294, 0.12573248052952557)"
      ]
     },
     "execution_count": 28,
     "metadata": {},
     "output_type": "execute_result"
    }
   ],
   "source": [
    "diff = abs(fcsVec - fcsSV)\n",
    "\n",
    "np.max(diff), np.average(diff), np.std(diff)"
   ]
  },
  {
   "cell_type": "code",
   "execution_count": 29,
   "metadata": {},
   "outputs": [
    {
     "data": {
      "text/plain": [
       "array([[9.69336778e-10, 1.20454521e-09, 3.06902470e-09, ...,\n",
       "        3.42999270e-12, 2.76013543e-13, 6.90396193e-14],\n",
       "       [7.09515910e-12, 3.49149355e-12, 3.20728409e-11, ...,\n",
       "        8.22980653e-16, 6.02201584e-16, 9.89893068e-16],\n",
       "       [1.39997260e-11, 2.19020633e-11, 8.70561579e-11, ...,\n",
       "        3.82652957e-17, 1.14609374e-15, 6.56348420e-16],\n",
       "       ...,\n",
       "       [3.29219210e-09, 1.00746219e-08, 4.40511991e-09, ...,\n",
       "        3.68893071e-15, 5.94097041e-16, 6.35422531e-16],\n",
       "       [2.60829408e-09, 2.09012091e-08, 5.87499854e-09, ...,\n",
       "        1.90224084e-14, 2.50681349e-15, 3.55117774e-15],\n",
       "       [2.44309626e-10, 1.36869767e-10, 7.70383084e-10, ...,\n",
       "        3.15279213e-12, 6.14398218e-13, 1.11409979e-13]])"
      ]
     },
     "execution_count": 29,
     "metadata": {},
     "output_type": "execute_result"
    }
   ],
   "source": [
    "diff"
   ]
  },
  {
   "cell_type": "code",
   "execution_count": 22,
   "metadata": {},
   "outputs": [],
   "source": [
    "splits = []\n",
    "types = []\n",
    "\n",
    "for svNode in tree.svNodes:\n",
    "    for comp in svNode.components:\n",
    "        splits.append(svNode.numParams[comp]+len(svNode.restrictions[comp]))\n",
    "        types.append(comp)\n",
    "        \n",
    "splitParams = np.array_split(y, np.cumsum(splits)[:-1])"
   ]
  },
  {
   "cell_type": "code",
   "execution_count": 23,
   "metadata": {},
   "outputs": [
    {
     "data": {
      "text/plain": [
       "(729,)"
      ]
     },
     "execution_count": 23,
     "metadata": {},
     "output_type": "execute_result"
    }
   ],
   "source": [
    "ycart1 = np.outer(np.outer(splitParams[0], splitParams[0]), splitParams[1]).ravel()\n",
    "ycart2 = np.outer(np.outer(splitParams[2], splitParams[2]), splitParams[3]).ravel()\n",
    "\n",
    "ycart1.shape"
   ]
  },
  {
   "cell_type": "code",
   "execution_count": 24,
   "metadata": {},
   "outputs": [
    {
     "data": {
      "text/plain": [
       "array([-2.5920599e-11])"
      ]
     },
     "execution_count": 24,
     "metadata": {},
     "output_type": "execute_result"
    }
   ],
   "source": [
    "eng1 = (engSV @ ycart1).sum()\n",
    "eng2 = (engSV @ ycart2).sum()\n",
    "eng1*eng2 - newEng"
   ]
  },
  {
   "cell_type": "code",
   "execution_count": 25,
   "metadata": {},
   "outputs": [
    {
     "data": {
      "text/plain": [
       "(3.0464519795714295e-12, 4.2880993680437257e-14, 1.1348888445235968e-12)"
      ]
     },
     "execution_count": 25,
     "metadata": {},
     "output_type": "execute_result"
    }
   ],
   "source": [
    "fcs1 = (fcsSV @ ycart1).reshape(3, len(atoms), len(atoms)).sum(axis=-1).swapaxes(0, 1)\n",
    "fcs2 = (fcsSV @ ycart2).reshape(3, len(atoms), len(atoms)).sum(axis=-1).swapaxes(0, 1)\n",
    "\n",
    "diff = (fcs1*eng2 + eng1*fcs2) - newFcs\n",
    "\n",
    "np.max(diff), np.average(diff), np.std(diff)"
   ]
  },
  {
   "cell_type": "code",
   "execution_count": null,
   "metadata": {},
   "outputs": [],
   "source": []
  },
  {
   "cell_type": "markdown",
   "metadata": {},
   "source": [
    "# Lattice constant tests"
   ]
  },
  {
   "cell_type": "code",
   "execution_count": 10,
   "metadata": {},
   "outputs": [
    {
     "name": "stderr",
     "output_type": "stream",
     "text": [
      "/home/jvita/Programs/miniconda2/envs/parhdf5/lib/python3.6/site-packages/ase/io/jsonio.py:122: VisibleDeprecationWarning: Creating an ndarray from ragged nested sequences (which is a list-or-tuple of lists-or-tuples-or ndarrays with different lengths or shapes) is deprecated. If you meant to do this, you must specify 'dtype=object' when creating the ndarray\n",
      "  a = np.array(obj)\n"
     ]
    }
   ],
   "source": [
    "import ase.build\n",
    "from ase.io import Trajectory, read, write\n",
    "\n",
    "y = tree.fillFixedKnots(tree.bestParams)[0]\n",
    "\n",
    "elements = ['Cu', 'Ge', 'Li' , 'Mo', 'Ni', 'Si']\n",
    "crystals = ['fcc', 'diamond', 'bcc', 'bcc', 'fcc', 'diamond']\n",
    "\n",
    "elem = 'Mo'\n",
    "\n",
    "types = [elem]\n",
    "cryst = crystals[elements.index(elem)]\n",
    "\n",
    "atoms = ase.build.bulk(elem, cryst, cubic=True, a=3.4188376753507015)\n",
    "traj = Trajectory(\"test.traj\", 'w')\n",
    "\n",
    "low = 2.5; high = 10\n",
    "\n",
    "a_linspace = np.linspace(low, high, 100)\n",
    "for a in a_linspace:\n",
    "    scaled_atoms = atoms.copy()\n",
    "\n",
    "    cell = scaled_atoms.get_cell()\n",
    "    cell[0,0] = cell[1,1] = cell[2, 2,] = a\n",
    "\n",
    "    scaled_atoms.set_cell(cell, scale_atoms=True)\n",
    "\n",
    "    traj.write(scaled_atoms)\n",
    "\n",
    "configs = ase.io.read(\"test.traj@:\")\n",
    "\n",
    "energies = [tree.directEvaluation(y, config, evalType='energy') / len(config) for config in configs]\n",
    "a_trace = [config.cell[0,0] for config in configs]\n",
    "\n",
    "os.remove('test.traj')"
   ]
  },
  {
   "cell_type": "code",
   "execution_count": 11,
   "metadata": {},
   "outputs": [
    {
     "name": "stdout",
     "output_type": "stream",
     "text": [
      "\n"
     ]
    },
    {
     "data": {
      "image/png": "[encoded data removed]",
      "text/plain": [
       "<Figure size 432x288 with 1 Axes>"
      ]
     },
     "metadata": {
      "needs_background": "light"
     },
     "output_type": "display_data"
    }
   ],
   "source": [
    "fig, ax = plt.subplots()\n",
    "\n",
    "ax.plot(a_trace, energies)\n",
    "\n",
    "ax.set_ylim([-5, 10])\n",
    "ax.set_xlabel(r\"Lattice constant ($\\AA$)\", fontsize=14)\n",
    "ax.set_ylabel(\"Energy (eV)\", fontsize=14)\n",
    "ax.set_title(\"Example tree: {}\".format(tree), fontsize=14)\n",
    "print()"
   ]
  },
  {
   "cell_type": "code",
   "execution_count": 21,
   "metadata": {},
   "outputs": [
    {
     "name": "stdout",
     "output_type": "stream",
     "text": [
      "3.168 3.106060606060606 -0.019551576369758263\n"
     ]
    }
   ],
   "source": [
    "min_idx = np.argmin(energies)\n",
    "\n",
    "min_a = a_trace[min_idx]\n",
    "\n",
    "expected_a = [3.621, 5.763, 3.427, 3.168, 3.508, 5.469]\n",
    "\n",
    "err = (min_a - expected_a[elements.index(elem)])/expected_a[elements.index(elem)]\n",
    "\n",
    "print(expected_a[elements.index(elem)], min_a, err)"
   ]
  },
  {
   "cell_type": "code",
   "execution_count": null,
   "metadata": {},
   "outputs": [],
   "source": []
  }
 ],
 "metadata": {
  "kernelspec": {
   "display_name": "Python 3",
   "language": "python",
   "name": "python3"
  },
  "language_info": {
   "codemirror_mode": {
    "name": "ipython",
    "version": 3
   },
   "file_extension": ".py",
   "mimetype": "text/x-python",
   "name": "python",
   "nbconvert_exporter": "python",
   "pygments_lexer": "ipython3",
   "version": "3.6.10"
  }
 },
 "nbformat": 4,
 "nbformat_minor": 4
}
