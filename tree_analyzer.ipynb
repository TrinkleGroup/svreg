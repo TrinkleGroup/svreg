{
 "cells": [
  {
   "cell_type": "markdown",
   "metadata": {},
   "source": [
    "# Imports"
   ]
  },
  {
   "cell_type": "code",
   "execution_count": 2,
   "metadata": {},
   "outputs": [],
   "source": [
    "import os\n",
    "import h5py\n",
    "import sympy\n",
    "import glob\n",
    "import pickle\n",
    "import numpy as np\n",
    "import matplotlib.pyplot as plt\n",
    "\n",
    "from IPython.display import display, Math\n",
    "from scipy.interpolate import CubicSpline\n",
    "\n",
    "from tree import SVTree\n",
    "from nodes import FunctionNode\n",
    "from regressor import SVRegressor"
   ]
  },
  {
   "cell_type": "markdown",
   "metadata": {},
   "source": [
    "# Setup"
   ]
  },
  {
   "cell_type": "code",
   "execution_count": 12,
   "metadata": {},
   "outputs": [],
   "source": [
    "basePath = os.path.join('results', 'smeam_dup')\n",
    "fromArchive = False\n",
    "\n",
    "basePath = os.path.join('results', 'mo_rmse_small')\n",
    "fromArchive = True"
   ]
  },
  {
   "cell_type": "code",
   "execution_count": 70,
   "metadata": {},
   "outputs": [
    {
     "name": "stdout",
     "output_type": "stream",
     "text": [
      "132.01845448275282 inf\n",
      "106.26434326206933 132.01845448275282\n",
      "67.29181282469347 106.26434326206933\n"
     ]
    },
    {
     "data": {
      "text/latex": [
       "$\\displaystyle 67.29<->ffg \\cdot ffg + \\cos{\\left(\\rho \\right)}$"
      ],
      "text/plain": [
       "<IPython.core.display.Math object>"
      ]
     },
     "metadata": {},
     "output_type": "display_data"
    },
    {
     "data": {
      "text/latex": [
       "$\\displaystyle 86.91<->ffg \\cdot \\rho + \\cos{\\left(\\rho \\right)}$"
      ],
      "text/plain": [
       "<IPython.core.display.Math object>"
      ]
     },
     "metadata": {},
     "output_type": "display_data"
    },
    {
     "data": {
      "text/latex": [
       "$\\displaystyle 100.42<->ffg \\cdot ffg$"
      ],
      "text/plain": [
       "<IPython.core.display.Math object>"
      ]
     },
     "metadata": {},
     "output_type": "display_data"
    },
    {
     "data": {
      "text/latex": [
       "$\\displaystyle 106.26<->\\rho$"
      ],
      "text/plain": [
       "<IPython.core.display.Math object>"
      ]
     },
     "metadata": {},
     "output_type": "display_data"
    },
    {
     "data": {
      "text/latex": [
       "$\\displaystyle 132.02<->ffg$"
      ],
      "text/plain": [
       "<IPython.core.display.Math object>"
      ]
     },
     "metadata": {},
     "output_type": "display_data"
    }
   ],
   "source": [
    "if fromArchive:\n",
    "    allTreeNames = glob.glob(os.path.join(basePath, '*'))\n",
    "    del allTreeNames[allTreeNames.index(os.path.join(basePath, 'archive.pkl'))]\n",
    "    \n",
    "    bestCost = np.inf\n",
    "    bestIdx = 0\n",
    "    \n",
    "    worstCost = 0\n",
    "    worstIdx = 0\n",
    "    \n",
    "    archive = pickle.load(open(os.path.join(basePath, 'archive.pkl'), 'rb'))\n",
    "    \n",
    "    allErrors = []\n",
    "    allLatex = []\n",
    "\n",
    "    for i, treePath in enumerate(allTreeNames):\n",
    "        treeName = os.path.split(treePath)[-1]\n",
    "        \n",
    "        tree = pickle.load(open(os.path.join(treePath, 'tree.pkl'), 'rb'))\n",
    "\n",
    "        entry = archive[treeName]\n",
    "        tree.bestParams = entry.bestParams\n",
    "\n",
    "        errors = entry.bestErrors\n",
    "    \n",
    "        latex = SVTree([\n",
    "            FunctionNode(n.description) if isinstance(n, FunctionNode)\n",
    "            else n\n",
    "            for n in tree.nodes\n",
    "        ]).latex()\n",
    "\n",
    "        sumErrors = np.sum(errors)\n",
    "        \n",
    "        if sumErrors < bestCost:\n",
    "            print(sumErrors, bestCost)\n",
    "            bestCost = sumErrors\n",
    "            bestIdx = i\n",
    "        \n",
    "        if sumErrors > worstCost:\n",
    "            worstCost = sumErrors\n",
    "            worstIdx = i\n",
    "        \n",
    "        allErrors.append(sumErrors)\n",
    "        allLatex.append(latex)\n",
    "        \n",
    "    allLatex = np.array(allLatex)[np.argsort(allErrors)]\n",
    "    allErrors = np.array(allErrors)[np.argsort(allErrors)]\n",
    "\n",
    "    for latex, errors in zip(allLatex, allErrors):\n",
    "        display(Math('{:.2f}<->{}'.format(\n",
    "            errors,\n",
    "            sympy.latex(sympy.sympify(latex, evaluate=False), mul_symbol='dot')\n",
    "        )))\n",
    "            \n",
    "    treePath = allTreeNames[bestIdx]\n",
    "#     treePath = allTreeNames[worstIdx]\n",
    "    treeName = os.path.split(treePath)[-1]\n",
    "\n",
    "    archive = pickle.load(open(os.path.join(basePath, 'archive.pkl'), 'rb'))\n",
    "    tree = pickle.load(open(os.path.join(basePath, treeName, 'tree.pkl'), 'rb'))\n",
    "    \n",
    "    entry = archive[treeName]\n",
    "    tree.bestParams = entry.bestParams\n",
    "    \n",
    "    errors = entry.bestErrors\n",
    "else:\n",
    "    files = sorted(glob.glob(os.path.join(basePath, 'tree*')))\n",
    "    intIndices = [int(s[s.find('tree')+5:s.find('.pkl')]) for s in files]\n",
    "\n",
    "    argsort = np.argsort(intIndices)\n",
    "\n",
    "    treeFile = np.array(files)[argsort][-1]\n",
    "    tree = pickle.load(open(treeFile, 'rb'))\n",
    "    \n",
    "    errorFiles = sorted(glob.glob(os.path.join(basePath, 'errors*')))\n",
    "    errorFile  = np.array(errorFiles)[argsort][-1]\n",
    "    errors = pickle.load(open(errorFile, 'rb'))"
   ]
  },
  {
   "cell_type": "code",
   "execution_count": 71,
   "metadata": {},
   "outputs": [
    {
     "data": {
      "text/plain": [
       "100.42172534953228"
      ]
     },
     "execution_count": 71,
     "metadata": {},
     "output_type": "execute_result"
    }
   ],
   "source": [
    "allErrors[bestIdx]"
   ]
  },
  {
   "cell_type": "markdown",
   "metadata": {},
   "source": [
    "# Plotting"
   ]
  },
  {
   "cell_type": "code",
   "execution_count": 54,
   "metadata": {},
   "outputs": [],
   "source": [
    "def plotSpline(x, y, bc):\n",
    "    cs = CubicSpline(x, y, bc_type=((1, bc[0]), (1, bc[1])))\n",
    "    \n",
    "    plotX = np.linspace(x[0]-0.1, x[-1]+0.1, 100)\n",
    "    plotY = cs(plotX)\n",
    "    \n",
    "    return plotX, plotY"
   ]
  },
  {
   "cell_type": "code",
   "execution_count": 55,
   "metadata": {},
   "outputs": [],
   "source": [
    "splits = []\n",
    "\n",
    "for svNode in tree.svNodes:\n",
    "    for comp in svNode.components:\n",
    "        splits.append(svNode.numParams[comp]+len(svNode.restrictions[comp]))"
   ]
  },
  {
   "cell_type": "code",
   "execution_count": 56,
   "metadata": {},
   "outputs": [],
   "source": [
    "splitParams = np.array_split(tree.fillFixedKnots(tree.bestParams)[0], np.cumsum(splits)[:-1])"
   ]
  },
  {
   "cell_type": "code",
   "execution_count": 72,
   "metadata": {},
   "outputs": [
    {
     "data": {
      "text/latex": [
       "$\\displaystyle ffg \\cdot ffg + \\cos{\\left(\\rho \\right)}$"
      ],
      "text/plain": [
       "<IPython.core.display.Math object>"
      ]
     },
     "metadata": {},
     "output_type": "display_data"
    },
    {
     "data": {
      "image/png": "[encoded data removed]",
      "text/plain": [
       "<Figure size 864x576 with 6 Axes>"
      ]
     },
     "metadata": {
      "needs_background": "light"
     },
     "output_type": "display_data"
    }
   ],
   "source": [
    "numRows = int(max(1, np.ceil(len(splitParams)/3)))\n",
    "\n",
    "fig, axes = plt.subplots(numRows, 3, figsize=(12, 4*numRows))\n",
    "\n",
    "compNames = np.hstack([svNode.components for svNode in tree.svNodes])\n",
    "\n",
    "display(Math('{}'.format(\n",
    "    sympy.latex(sympy.sympify(allLatex[0], evaluate=False), mul_symbol='dot')\n",
    ")))\n",
    "    \n",
    "for i, spline in enumerate(splitParams):\n",
    "    y, bc = spline[:-2], spline[-2:]\n",
    "    x = np.arange(len(y))\n",
    "    \n",
    "    plotX, plotY = plotSpline(x, y, bc)\n",
    "    \n",
    "    row = i//3\n",
    "    col = i%3\n",
    "    \n",
    "    if numRows > 1:\n",
    "        ax = axes[row][col]\n",
    "    else:\n",
    "        ax = axes[col]\n",
    "    \n",
    "    ax.plot(x, y, 'o')\n",
    "    ax.plot(plotX, plotY)\n",
    "    ax.set_title(compNames[i].decode('utf-8'))"
   ]
  },
  {
   "cell_type": "markdown",
   "metadata": {},
   "source": [
    "# Smoothness penalty test"
   ]
  },
  {
   "cell_type": "code",
   "execution_count": 58,
   "metadata": {},
   "outputs": [
    {
     "data": {
      "text/plain": [
       "array([-0.4994341 , -0.11030455, -0.11998354, -0.0784198 , -0.06370917,\n",
       "       -0.00924424,  0.        ,  1.37394735,  0.        , -0.13660039,\n",
       "       -0.00248173,  0.00787489,  0.15417981,  0.071136  ,  0.5226212 ,\n",
       "        1.54692781,  0.0495508 ,  0.83421893, -0.40585272, -0.39726521,\n",
       "       -0.20994077, -0.0751877 , -0.01097693, -0.02273246,  0.        ,\n",
       "        0.50699357,  0.        ,  0.90531436,  0.46404267,  0.24935594,\n",
       "        0.34245938,  0.41122508, -0.63834633, -0.11759854,  0.67421727,\n",
       "        0.18187128,  0.507609  ,  0.50137588,  0.42430973,  0.20382377,\n",
       "        0.1334928 ,  0.02855806,  0.        , -0.1586499 ,  0.        ])"
      ]
     },
     "execution_count": 58,
     "metadata": {},
     "output_type": "execute_result"
    }
   ],
   "source": [
    "tree.fillFixedKnots(tree.bestParams)[0]"
   ]
  },
  {
   "cell_type": "code",
   "execution_count": 59,
   "metadata": {},
   "outputs": [
    {
     "data": {
      "text/plain": [
       "array([0.507609  , 0.50137588, 0.42430973, 0.20382377, 0.1334928 ,\n",
       "       0.02855806, 0.        ])"
      ]
     },
     "execution_count": 59,
     "metadata": {},
     "output_type": "execute_result"
    }
   ],
   "source": [
    "y"
   ]
  },
  {
   "cell_type": "code",
   "execution_count": 60,
   "metadata": {},
   "outputs": [
    {
     "data": {
      "text/plain": [
       "array([-0.1586499,  0.       ])"
      ]
     },
     "execution_count": 60,
     "metadata": {},
     "output_type": "execute_result"
    }
   ],
   "source": [
    "bc"
   ]
  },
  {
   "cell_type": "code",
   "execution_count": 61,
   "metadata": {},
   "outputs": [],
   "source": [
    "bccopy = bc.copy()\n",
    "bccopy[0] = -0.5"
   ]
  },
  {
   "cell_type": "code",
   "execution_count": 62,
   "metadata": {},
   "outputs": [],
   "source": [
    "cs = CubicSpline(x, y, bc_type=((1, bc[0]), (1, bc[1])))"
   ]
  },
  {
   "cell_type": "code",
   "execution_count": 63,
   "metadata": {},
   "outputs": [],
   "source": [
    "xSamples = np.linspace(x[0], x[-1], 100)"
   ]
  },
  {
   "cell_type": "code",
   "execution_count": 64,
   "metadata": {},
   "outputs": [],
   "source": [
    "deriv = cs.derivative(nu=2)"
   ]
  },
  {
   "cell_type": "code",
   "execution_count": 65,
   "metadata": {},
   "outputs": [
    {
     "data": {
      "text/plain": [
       "2.8881361511691237"
      ]
     },
     "execution_count": 65,
     "metadata": {},
     "output_type": "execute_result"
    }
   ],
   "source": [
    "sum(deriv(xSamples))"
   ]
  },
  {
   "cell_type": "code",
   "execution_count": 74,
   "metadata": {},
   "outputs": [
    {
     "data": {
      "text/plain": [
       "(9,)"
      ]
     },
     "execution_count": 74,
     "metadata": {},
     "output_type": "execute_result"
    }
   ],
   "source": [
    "splitParams[0].shape"
   ]
  },
  {
   "cell_type": "code",
   "execution_count": 76,
   "metadata": {},
   "outputs": [],
   "source": [
    "n = splitParams[0].shape[0] - 2\n",
    "x = np.arange(n)\n",
    "dx = 1  # because we're ignoring actual knot spacing\n",
    "D = np.zeros((n-2, n))\n",
    "for i in range(D.shape[0]):\n",
    "    D[i,i] = 1\n",
    "    D[i,i+1] = -2\n",
    "    D[i,i+2] = 1\n",
    "\n",
    "W = np.zeros((n-2, n-2))\n",
    "for i in range(W.shape[0]):\n",
    "    W[i,i] = 2/3.\n",
    "    if i > 0:\n",
    "        W[i-1, i]=1/6.\n",
    "    if i < W.shape[0]-1:\n",
    "        W[i, i+1] = 1/6.\n",
    "\n",
    "A = D.T @ (np.linalg.inv(W) @ D)"
   ]
  },
  {
   "cell_type": "code",
   "execution_count": 77,
   "metadata": {},
   "outputs": [
    {
     "data": {
      "text/plain": [
       "(7, 7)"
      ]
     },
     "execution_count": 77,
     "metadata": {},
     "output_type": "execute_result"
    }
   ],
   "source": [
    "A.shape"
   ]
  },
  {
   "cell_type": "code",
   "execution_count": 91,
   "metadata": {},
   "outputs": [
    {
     "data": {
      "text/plain": [
       "132.2960476793055"
      ]
     },
     "execution_count": 91,
     "metadata": {},
     "output_type": "execute_result"
    }
   ],
   "source": [
    "m = splitParams[0][:-2].T\n",
    "m = np.random.normal(size=n)\n",
    "m.T @ (A @ m)"
   ]
  },
  {
   "cell_type": "code",
   "execution_count": 116,
   "metadata": {},
   "outputs": [
    {
     "name": "stdout",
     "output_type": "stream",
     "text": [
      "337.5\n"
     ]
    },
    {
     "data": {
      "text/plain": [
       "[<matplotlib.lines.Line2D at 0x7f1473888588>]"
      ]
     },
     "execution_count": 116,
     "metadata": {},
     "output_type": "execute_result"
    },
    {
     "data": {
      "image/png": "[encoded data removed]",
      "text/plain": [
       "<Figure size 432x288 with 1 Axes>"
      ]
     },
     "metadata": {
      "needs_background": "light"
     },
     "output_type": "display_data"
    }
   ],
   "source": [
    "m = splitParams[0][:-2].T\n",
    "m = np.random.normal(size=n)\n",
    "m = np.arange(n); m[-1] = 3*n\n",
    "print(m.T @ (A @ m))\n",
    "\n",
    "plotX, plotY = plotSpline(x, m, bc)\n",
    "\n",
    "fig, ax = plt.subplots()\n",
    "    \n",
    "ax.plot(x, m, 'o')\n",
    "ax.plot(plotX, plotY)"
   ]
  },
  {
   "cell_type": "markdown",
   "metadata": {},
   "source": [
    "# Errors"
   ]
  },
  {
   "cell_type": "markdown",
   "metadata": {},
   "source": [
    "## Directly from logs"
   ]
  },
  {
   "cell_type": "code",
   "execution_count": 66,
   "metadata": {},
   "outputs": [
    {
     "data": {
      "text/plain": [
       "0.25891297876350033"
      ]
     },
     "execution_count": 66,
     "metadata": {},
     "output_type": "execute_result"
    }
   ],
   "source": [
    "energyWeight = 10\n",
    "forcesWeight = 1\n",
    "\n",
    "unweighted = errors.copy()\n",
    "unweighted[::2] /= energyWeight\n",
    "unweighted[1::2] /= forcesWeight\n",
    "\n",
    "np.sqrt(np.average(unweighted**2))"
   ]
  },
  {
   "cell_type": "code",
   "execution_count": 67,
   "metadata": {},
   "outputs": [
    {
     "name": "stdout",
     "output_type": "stream",
     "text": [
      "                 add(mul(ffg, ffg), cos(rho)) average errors || 0.012775 0.365935\n",
      "\n",
      "                                                  structName || (eV/atom) (eV/A)\n",
      "                                        Ground_state_crystal || 0.000000 0.020708\n",
      "                         Mo_3x3x3_cell_mode_1_strain_-0.0200 || 0.009507 0.016513\n",
      "                         Mo_3x3x3_cell_mode_1_strain_-0.0400 || 0.011939 0.021577\n",
      "                         Mo_3x3x3_cell_mode_1_strain_-0.0600 || 0.005392 0.028498\n",
      "                         Mo_3x3x3_cell_mode_1_strain_-0.0800 || 0.010066 0.036077\n",
      "                         Mo_3x3x3_cell_mode_1_strain_-0.1000 || 0.031843 0.051958\n",
      "                          Mo_3x3x3_cell_mode_1_strain_0.0200 || 0.008848 0.020089\n",
      "                          Mo_3x3x3_cell_mode_1_strain_0.0800 || 0.004089 0.022117\n",
      "                         Mo_3x3x3_cell_mode_2_strain_-0.0200 || 0.009489 0.016181\n",
      "                         Mo_3x3x3_cell_mode_2_strain_-0.0400 || 0.011975 0.021440\n",
      "                         Mo_3x3x3_cell_mode_2_strain_-0.0600 || 0.005468 0.027094\n",
      "                         Mo_3x3x3_cell_mode_2_strain_-0.0800 || 0.010115 0.036937\n",
      "                         Mo_3x3x3_cell_mode_2_strain_-0.1000 || 0.031812 0.063383\n",
      "                          Mo_3x3x3_cell_mode_2_strain_0.0200 || 0.008851 0.020749\n",
      "                          Mo_3x3x3_cell_mode_2_strain_0.0400 || 0.014325 0.018897\n",
      "                          Mo_3x3x3_cell_mode_2_strain_0.0600 || 0.014403 0.023230\n",
      "                          Mo_3x3x3_cell_mode_2_strain_0.0800 || 0.004014 0.022543\n",
      "                          Mo_3x3x3_cell_mode_2_strain_0.1000 || 0.019771 0.023761\n",
      "                         Mo_3x3x3_cell_mode_3_strain_-0.0200 || 0.009498 0.019826\n",
      "                         Mo_3x3x3_cell_mode_3_strain_-0.0400 || 0.012001 0.017755\n",
      "                         Mo_3x3x3_cell_mode_3_strain_-0.0600 || 0.005380 0.026621\n",
      "                         Mo_3x3x3_cell_mode_3_strain_-0.1000 || 0.032037 0.061515\n",
      "                          Mo_3x3x3_cell_mode_3_strain_0.0200 || 0.008788 0.022813\n",
      "                          Mo_3x3x3_cell_mode_3_strain_0.0400 || 0.014297 0.019237\n",
      "                          Mo_3x3x3_cell_mode_3_strain_0.0600 || 0.014482 0.022319\n",
      "                          Mo_3x3x3_cell_mode_3_strain_0.0800 || 0.004017 0.021735\n",
      "                          Mo_3x3x3_cell_mode_3_strain_0.1000 || 0.019724 0.025508\n",
      "                         Mo_3x3x3_cell_mode_4_strain_-0.0200 || 0.000234 0.018894\n",
      "                         Mo_3x3x3_cell_mode_4_strain_-0.0400 || 0.001054 0.020485\n",
      "                         Mo_3x3x3_cell_mode_4_strain_-0.0600 || 0.001818 0.021268\n",
      "                          Mo_3x3x3_cell_mode_4_strain_0.0200 || 0.000265 0.017473\n",
      "                          Mo_3x3x3_cell_mode_4_strain_0.0400 || 0.001056 0.022912\n",
      "                          Mo_3x3x3_cell_mode_4_strain_0.0600 || 0.001761 0.019147\n",
      "                          Mo_3x3x3_cell_mode_4_strain_0.0800 || 0.002826 0.019523\n",
      "                          Mo_3x3x3_cell_mode_4_strain_0.1000 || 0.004640 0.022063\n",
      "                         Mo_3x3x3_cell_mode_5_strain_-0.0200 || 0.000241 0.018836\n",
      "                         Mo_3x3x3_cell_mode_5_strain_-0.0400 || 0.001059 0.023362\n",
      "                         Mo_3x3x3_cell_mode_5_strain_-0.0600 || 0.001789 0.024175\n",
      "                         Mo_3x3x3_cell_mode_5_strain_-0.0800 || 0.002821 0.022552\n",
      "                         Mo_3x3x3_cell_mode_5_strain_-0.1000 || 0.004657 0.018880\n",
      "                          Mo_3x3x3_cell_mode_5_strain_0.0200 || 0.000242 0.018905\n",
      "                          Mo_3x3x3_cell_mode_5_strain_0.0400 || 0.001017 0.018357\n",
      "                          Mo_3x3x3_cell_mode_5_strain_0.0600 || 0.001706 0.017622\n",
      "                          Mo_3x3x3_cell_mode_5_strain_0.0800 || 0.002820 0.021014\n",
      "                          Mo_3x3x3_cell_mode_5_strain_0.1000 || 0.004899 0.025272\n",
      "                         Mo_3x3x3_cell_mode_6_strain_-0.0200 || 0.000235 0.017859\n",
      "                         Mo_3x3x3_cell_mode_6_strain_-0.0400 || 0.001086 0.020821\n",
      "                         Mo_3x3x3_cell_mode_6_strain_-0.0600 || 0.001749 0.019476\n",
      "                         Mo_3x3x3_cell_mode_6_strain_-0.0800 || 0.002732 0.020979\n",
      "                         Mo_3x3x3_cell_mode_6_strain_-0.1000 || 0.004699 0.017393\n",
      "                          Mo_3x3x3_cell_mode_6_strain_0.0200 || 0.000290 0.020555\n",
      "                          Mo_3x3x3_cell_mode_6_strain_0.0400 || 0.001009 0.018642\n",
      "                          Mo_3x3x3_cell_mode_6_strain_0.0600 || 0.001750 0.019419\n",
      "                          Mo_3x3x3_cell_mode_6_strain_0.0800 || 0.002857 0.019327\n",
      "                          Mo_3x3x3_cell_mode_6_strain_0.1000 || 0.004690 0.020301\n",
      "                                       Mo_3x3x3_cell_relaxed || 0.002474 0.000000\n",
      "                             Mo_surface_mp_Mo_mp-129__1_0_0_ || 0.026002 0.188801\n",
      "                             Mo_surface_mp_Mo_mp-129__1_1_0_ || 0.001974 0.195278\n",
      "                             Mo_surface_mp_Mo_mp-129__1_1_1_ || 0.012627 0.237277\n",
      "                             Mo_surface_mp_Mo_mp-129__2_1_0_ || 0.016659 0.310367\n",
      "                             Mo_surface_mp_Mo_mp-129__2_2_1_ || 0.044002 0.202332\n",
      "                             Mo_surface_mp_Mo_mp-129__3_1_1_ || 0.033386 0.361031\n",
      "                             Mo_surface_mp_Mo_mp-129__3_2_0_ || 0.027781 0.306012\n",
      "                             Mo_surface_mp_Mo_mp-129__3_2_1_ || 0.035384 0.282057\n",
      "                             Mo_surface_mp_Mo_mp-129__3_3_2_ || 0.053447 0.268146\n",
      "   Snapshot_10_of_12_of_Vacancy_AIMD_NVT_simulation_at_300_K || 0.007955 0.160424\n",
      "  Snapshot_10_of_12_of_Vacancy_AIMD_NVT_simulation_at_6000_K || 0.006655 0.364254\n",
      "          Snapshot_10_of_40_of_AIMD_NVT_simulation_at_3000_K || 0.002675 0.234186\n",
      "           Snapshot_10_of_40_of_AIMD_NVT_simulation_at_300_K || 0.005852 0.096243\n",
      "   Snapshot_11_of_12_of_Vacancy_AIMD_NVT_simulation_at_300_K || 0.011132 0.148299\n",
      "  Snapshot_11_of_12_of_Vacancy_AIMD_NVT_simulation_at_6000_K || 0.002497 0.334382\n",
      "           Snapshot_11_of_40_of_AIMD_NVT_simulation_at_300_K || 0.006037 0.080212\n",
      "          Snapshot_11_of_40_of_AIMD_NVT_simulation_at_6000_K || 0.009911 0.707790\n",
      "   Snapshot_12_of_12_of_Vacancy_AIMD_NVT_simulation_at_300_K || 0.012885 0.136681\n",
      "  Snapshot_12_of_12_of_Vacancy_AIMD_NVT_simulation_at_6000_K || 0.013735 0.448368\n",
      "          Snapshot_12_of_40_of_AIMD_NVT_simulation_at_3000_K || 0.000920 0.322265\n",
      "           Snapshot_12_of_40_of_AIMD_NVT_simulation_at_300_K || 0.006729 0.088448\n",
      "          Snapshot_12_of_40_of_AIMD_NVT_simulation_at_6000_K || 0.011075 0.749640\n",
      "          Snapshot_13_of_40_of_AIMD_NVT_simulation_at_3000_K || 0.000909 0.277984\n",
      "           Snapshot_13_of_40_of_AIMD_NVT_simulation_at_300_K || 0.006207 0.085720\n",
      "          Snapshot_13_of_40_of_AIMD_NVT_simulation_at_6000_K || 0.036652 0.753813\n",
      "           Snapshot_14_of_40_of_AIMD_NVT_simulation_at_300_K || 0.006413 0.079973\n",
      "          Snapshot_14_of_40_of_AIMD_NVT_simulation_at_6000_K || 0.027230 0.740287\n",
      "          Snapshot_15_of_40_of_AIMD_NVT_simulation_at_3000_K || 0.001433 0.252248\n",
      "           Snapshot_15_of_40_of_AIMD_NVT_simulation_at_300_K || 0.007453 0.094401\n",
      "          Snapshot_15_of_40_of_AIMD_NVT_simulation_at_6000_K || 0.001658 0.854372\n",
      "          Snapshot_16_of_40_of_AIMD_NVT_simulation_at_3000_K || 0.000877 0.279518\n",
      "           Snapshot_16_of_40_of_AIMD_NVT_simulation_at_300_K || 0.005067 0.086298\n",
      "          Snapshot_16_of_40_of_AIMD_NVT_simulation_at_6000_K || 0.007854 0.738899\n",
      "          Snapshot_17_of_40_of_AIMD_NVT_simulation_at_3000_K || 0.006909 0.325706\n",
      "           Snapshot_17_of_40_of_AIMD_NVT_simulation_at_300_K || 0.005950 0.084807\n",
      "          Snapshot_17_of_40_of_AIMD_NVT_simulation_at_6000_K || 0.001554 0.578442\n",
      "          Snapshot_18_of_40_of_AIMD_NVT_simulation_at_3000_K || 0.002339 0.296820\n",
      "           Snapshot_18_of_40_of_AIMD_NVT_simulation_at_300_K || 0.005733 0.091254\n",
      "          Snapshot_18_of_40_of_AIMD_NVT_simulation_at_6000_K || 0.010822 0.745638\n",
      "          Snapshot_19_of_40_of_AIMD_NVT_simulation_at_3000_K || 0.007394 0.309459\n",
      "           Snapshot_19_of_40_of_AIMD_NVT_simulation_at_300_K || 0.006748 0.084666\n",
      "    Snapshot_1_of_12_of_Vacancy_AIMD_NVT_simulation_at_300_K || 0.006454 0.162893\n",
      "   Snapshot_1_of_12_of_Vacancy_AIMD_NVT_simulation_at_6000_K || 0.011135 0.143738\n",
      "           Snapshot_1_of_40_of_AIMD_NVT_simulation_at_3000_K || 0.001299 0.255863\n",
      "            Snapshot_1_of_40_of_AIMD_NVT_simulation_at_300_K || 0.006970 0.079835\n",
      "           Snapshot_1_of_40_of_AIMD_NVT_simulation_at_6000_K || 0.042329 0.944173\n",
      "          Snapshot_20_of_40_of_AIMD_NVT_simulation_at_3000_K || 0.012086 0.325547\n",
      "           Snapshot_20_of_40_of_AIMD_NVT_simulation_at_300_K || 0.006620 0.057681\n",
      "          Snapshot_20_of_40_of_AIMD_NVT_simulation_at_6000_K || 0.019886 0.725774\n",
      "          Snapshot_21_of_40_of_AIMD_NVT_simulation_at_3000_K || 0.012412 0.286222\n",
      "           Snapshot_21_of_40_of_AIMD_NVT_simulation_at_300_K || 0.003915 0.094621\n",
      "          Snapshot_21_of_40_of_AIMD_NVT_simulation_at_6000_K || 0.025051 0.772406\n",
      "          Snapshot_22_of_40_of_AIMD_NVT_simulation_at_3000_K || 0.015560 0.303059\n",
      "           Snapshot_22_of_40_of_AIMD_NVT_simulation_at_300_K || 0.007564 0.087232\n",
      "          Snapshot_22_of_40_of_AIMD_NVT_simulation_at_6000_K || 0.006738 0.888959\n",
      "          Snapshot_23_of_40_of_AIMD_NVT_simulation_at_3000_K || 0.017198 0.329055\n",
      "           Snapshot_23_of_40_of_AIMD_NVT_simulation_at_300_K || 0.008323 0.092767\n",
      "          Snapshot_23_of_40_of_AIMD_NVT_simulation_at_6000_K || 0.019534 0.673144\n",
      "          Snapshot_24_of_40_of_AIMD_NVT_simulation_at_3000_K || 0.013280 0.266051\n",
      "           Snapshot_24_of_40_of_AIMD_NVT_simulation_at_300_K || 0.006864 0.085246\n",
      "          Snapshot_24_of_40_of_AIMD_NVT_simulation_at_6000_K || 0.030828 0.939227\n",
      "          Snapshot_25_of_40_of_AIMD_NVT_simulation_at_3000_K || 0.009296 0.252984\n",
      "          Snapshot_25_of_40_of_AIMD_NVT_simulation_at_6000_K || 0.011638 0.638333\n",
      "          Snapshot_26_of_40_of_AIMD_NVT_simulation_at_3000_K || 0.003041 0.263184\n",
      "           Snapshot_26_of_40_of_AIMD_NVT_simulation_at_300_K || 0.006809 0.088077\n",
      "          Snapshot_26_of_40_of_AIMD_NVT_simulation_at_6000_K || 0.017783 0.544396\n",
      "          Snapshot_27_of_40_of_AIMD_NVT_simulation_at_3000_K || 0.009303 0.349197\n",
      "          Snapshot_27_of_40_of_AIMD_NVT_simulation_at_6000_K || 0.015895 0.780214\n",
      "          Snapshot_28_of_40_of_AIMD_NVT_simulation_at_3000_K || 0.002298 0.252669\n",
      "           Snapshot_28_of_40_of_AIMD_NVT_simulation_at_300_K || 0.007428 0.075918\n",
      "          Snapshot_28_of_40_of_AIMD_NVT_simulation_at_6000_K || 0.010277 0.804945\n",
      "          Snapshot_29_of_40_of_AIMD_NVT_simulation_at_3000_K || 0.006478 0.294735\n",
      "           Snapshot_29_of_40_of_AIMD_NVT_simulation_at_300_K || 0.005561 0.090584\n",
      "          Snapshot_29_of_40_of_AIMD_NVT_simulation_at_6000_K || 0.016372 0.722492\n",
      "    Snapshot_2_of_12_of_Vacancy_AIMD_NVT_simulation_at_300_K || 0.011276 0.165276\n",
      "   Snapshot_2_of_12_of_Vacancy_AIMD_NVT_simulation_at_6000_K || 0.000774 0.311590\n",
      "           Snapshot_2_of_40_of_AIMD_NVT_simulation_at_3000_K || 0.004480 0.307752\n",
      "            Snapshot_2_of_40_of_AIMD_NVT_simulation_at_300_K || 0.007150 0.092773\n",
      "           Snapshot_2_of_40_of_AIMD_NVT_simulation_at_6000_K || 0.005570 0.616501\n",
      "          Snapshot_30_of_40_of_AIMD_NVT_simulation_at_3000_K || 0.000080 0.348942\n",
      "          Snapshot_30_of_40_of_AIMD_NVT_simulation_at_6000_K || 0.017964 0.796430\n",
      "          Snapshot_31_of_40_of_AIMD_NVT_simulation_at_3000_K || 0.003902 0.324817\n",
      "           Snapshot_31_of_40_of_AIMD_NVT_simulation_at_300_K || 0.007611 0.083101\n",
      "          Snapshot_32_of_40_of_AIMD_NVT_simulation_at_3000_K || 0.006061 0.309198\n",
      "           Snapshot_32_of_40_of_AIMD_NVT_simulation_at_300_K || 0.006210 0.088116\n",
      "          Snapshot_32_of_40_of_AIMD_NVT_simulation_at_6000_K || 0.006769 0.634446\n",
      "          Snapshot_33_of_40_of_AIMD_NVT_simulation_at_3000_K || 0.005080 0.260044\n",
      "           Snapshot_33_of_40_of_AIMD_NVT_simulation_at_300_K || 0.006273 0.079144\n",
      "          Snapshot_33_of_40_of_AIMD_NVT_simulation_at_6000_K || 0.013182 0.579643\n",
      "          Snapshot_34_of_40_of_AIMD_NVT_simulation_at_3000_K || 0.002851 0.260798\n",
      "           Snapshot_34_of_40_of_AIMD_NVT_simulation_at_300_K || 0.005919 0.079268\n",
      "          Snapshot_34_of_40_of_AIMD_NVT_simulation_at_6000_K || 0.004713 0.730779\n",
      "          Snapshot_35_of_40_of_AIMD_NVT_simulation_at_3000_K || 0.004247 0.328834\n",
      "           Snapshot_35_of_40_of_AIMD_NVT_simulation_at_300_K || 0.006155 0.088404\n",
      "          Snapshot_35_of_40_of_AIMD_NVT_simulation_at_6000_K || 0.025404 0.668553\n",
      "          Snapshot_36_of_40_of_AIMD_NVT_simulation_at_3000_K || 0.000954 0.332812\n",
      "           Snapshot_36_of_40_of_AIMD_NVT_simulation_at_300_K || 0.006099 0.087735\n",
      "          Snapshot_36_of_40_of_AIMD_NVT_simulation_at_6000_K || 0.023647 0.732509\n",
      "          Snapshot_37_of_40_of_AIMD_NVT_simulation_at_3000_K || 0.002155 0.282287\n",
      "           Snapshot_37_of_40_of_AIMD_NVT_simulation_at_300_K || 0.006880 0.082740\n",
      "          Snapshot_38_of_40_of_AIMD_NVT_simulation_at_3000_K || 0.013374 0.330018\n",
      "           Snapshot_38_of_40_of_AIMD_NVT_simulation_at_300_K || 0.006787 0.085865\n",
      "          Snapshot_38_of_40_of_AIMD_NVT_simulation_at_6000_K || 0.010621 0.597025\n",
      "          Snapshot_39_of_40_of_AIMD_NVT_simulation_at_3000_K || 0.011444 0.312855\n",
      "           Snapshot_39_of_40_of_AIMD_NVT_simulation_at_300_K || 0.007094 0.088239\n",
      "          Snapshot_39_of_40_of_AIMD_NVT_simulation_at_6000_K || 0.000453 0.647453\n",
      "    Snapshot_3_of_12_of_Vacancy_AIMD_NVT_simulation_at_300_K || 0.009230 0.157067\n",
      "   Snapshot_3_of_12_of_Vacancy_AIMD_NVT_simulation_at_6000_K || 0.006884 0.345314\n",
      "           Snapshot_3_of_40_of_AIMD_NVT_simulation_at_3000_K || 0.001572 0.276074\n",
      "            Snapshot_3_of_40_of_AIMD_NVT_simulation_at_300_K || 0.007011 0.074329\n",
      "           Snapshot_3_of_40_of_AIMD_NVT_simulation_at_6000_K || 0.006703 0.736558\n",
      "          Snapshot_40_of_40_of_AIMD_NVT_simulation_at_3000_K || 0.005605 0.289822\n",
      "          Snapshot_40_of_40_of_AIMD_NVT_simulation_at_6000_K || 0.016861 0.654254\n",
      "           Snapshot_4_of_40_of_AIMD_NVT_simulation_at_3000_K || 0.000283 0.321449\n",
      "            Snapshot_4_of_40_of_AIMD_NVT_simulation_at_300_K || 0.007292 0.103153\n",
      "           Snapshot_4_of_40_of_AIMD_NVT_simulation_at_6000_K || 0.007285 0.779101\n",
      "    Snapshot_5_of_12_of_Vacancy_AIMD_NVT_simulation_at_300_K || 0.017707 0.099053\n",
      "   Snapshot_5_of_12_of_Vacancy_AIMD_NVT_simulation_at_6000_K || 0.003643 0.319126\n",
      "           Snapshot_5_of_40_of_AIMD_NVT_simulation_at_3000_K || 0.008726 0.254930\n",
      "            Snapshot_5_of_40_of_AIMD_NVT_simulation_at_300_K || 0.003930 0.093427\n",
      "           Snapshot_5_of_40_of_AIMD_NVT_simulation_at_6000_K || 0.005500 1.048320\n",
      "    Snapshot_6_of_12_of_Vacancy_AIMD_NVT_simulation_at_300_K || 0.008295 0.160099\n",
      "   Snapshot_6_of_12_of_Vacancy_AIMD_NVT_simulation_at_6000_K || 0.005880 0.352377\n",
      "           Snapshot_6_of_40_of_AIMD_NVT_simulation_at_3000_K || 0.005823 0.328633\n",
      "            Snapshot_6_of_40_of_AIMD_NVT_simulation_at_300_K || 0.005657 0.072758\n",
      "           Snapshot_6_of_40_of_AIMD_NVT_simulation_at_6000_K || 0.020744 0.958214\n",
      "    Snapshot_7_of_12_of_Vacancy_AIMD_NVT_simulation_at_300_K || 0.016023 0.118646\n",
      "   Snapshot_7_of_12_of_Vacancy_AIMD_NVT_simulation_at_6000_K || 0.008120 0.293182\n",
      "           Snapshot_7_of_40_of_AIMD_NVT_simulation_at_6000_K || 0.010331 0.793103\n",
      "   Snapshot_8_of_12_of_Vacancy_AIMD_NVT_simulation_at_6000_K || 0.013140 0.368321\n",
      "           Snapshot_8_of_40_of_AIMD_NVT_simulation_at_3000_K || 0.003996 0.339445\n",
      "            Snapshot_8_of_40_of_AIMD_NVT_simulation_at_300_K || 0.006466 0.075872\n",
      "           Snapshot_8_of_40_of_AIMD_NVT_simulation_at_6000_K || 0.003282 0.740750\n",
      "    Snapshot_9_of_12_of_Vacancy_AIMD_NVT_simulation_at_300_K || 0.010970 0.114970\n",
      "   Snapshot_9_of_12_of_Vacancy_AIMD_NVT_simulation_at_6000_K || 0.005972 0.354430\n",
      "           Snapshot_9_of_40_of_AIMD_NVT_simulation_at_3000_K || 0.014449 0.269085\n",
      "            Snapshot_9_of_40_of_AIMD_NVT_simulation_at_300_K || 0.006052 0.096154\n",
      "           Snapshot_9_of_40_of_AIMD_NVT_simulation_at_6000_K || 0.010720 0.714366\n"
     ]
    }
   ],
   "source": [
    "with h5py.File('../svreg_data/mlearn/Mo/Mo.hdf5', 'r') as db:\n",
    "        \n",
    "    print(\n",
    "        '{:>45} average errors || {:.6f} {:.6f}\\n'.format(\n",
    "            str(tree),\n",
    "            np.sqrt(np.average(unweighted[::2]**2)),\n",
    "            np.sqrt(np.average(unweighted[1::2]**2)),\n",
    "        )\n",
    "    )\n",
    "    \n",
    "    print(\n",
    "        '{:>60} || {} {}'.format(\n",
    "            'structName',\n",
    "            '(eV/atom)',\n",
    "            '(eV/A)'\n",
    "        )\n",
    "    )\n",
    "    \n",
    "    for i, structName in enumerate(sorted(db)):\n",
    "        print(\n",
    "            '{:>60} || {:.6f} {:.6f}'.format(\n",
    "                structName,\n",
    "                unweighted[2*i],\n",
    "                unweighted[2*i+1]\n",
    "            )\n",
    "        )"
   ]
  },
  {
   "cell_type": "raw",
   "metadata": {},
   "source": [
    "mul(sqrt(sqrt(rho)), rho) average errors || 0.178780 0.543202"
   ]
  },
  {
   "cell_type": "code",
   "execution_count": 11,
   "metadata": {},
   "outputs": [
    {
     "data": {
      "text/plain": [
       "<matplotlib.legend.Legend at 0x7f5b00e1b160>"
      ]
     },
     "execution_count": 11,
     "metadata": {},
     "output_type": "execute_result"
    },
    {
     "data": {
      "image/png": "[encoded data removed]",
      "text/plain": [
       "<Figure size 576x288 with 2 Axes>"
      ]
     },
     "metadata": {
      "needs_background": "light"
     },
     "output_type": "display_data"
    }
   ],
   "source": [
    "fig, ax = plt.subplots(1, 2, figsize=(8, 4))\n",
    "\n",
    "ax[0].hist(errors[::2] , bins=100, alpha=0.3, label='Energy errors', color='orange')\n",
    "ax[1].hist(errors[1::2], bins=100, alpha=0.3, label='Force errors', color='blue')\n",
    "\n",
    "ax[0].legend()\n",
    "ax[1].legend()"
   ]
  },
  {
   "cell_type": "markdown",
   "metadata": {},
   "source": [
    "## External validation"
   ]
  },
  {
   "cell_type": "code",
   "execution_count": 12,
   "metadata": {},
   "outputs": [
    {
     "data": {
      "text/plain": [
       "(21,)"
      ]
     },
     "execution_count": 12,
     "metadata": {},
     "output_type": "execute_result"
    }
   ],
   "source": [
    "tree.bestParams.shape"
   ]
  },
  {
   "cell_type": "code",
   "execution_count": 13,
   "metadata": {},
   "outputs": [],
   "source": [
    "popDict = tree.parseArr2Dict(np.atleast_2d(tree.bestParams), fillFixedKnots=True)\n",
    "\n",
    "for svName in popDict:\n",
    "    for bondType in popDict[svName]:\n",
    "        popDict[svName][bondType] = [popDict[svName][bondType]]"
   ]
  },
  {
   "cell_type": "code",
   "execution_count": 14,
   "metadata": {},
   "outputs": [],
   "source": [
    "def buildSVNodePool(group):\n",
    "    \"\"\"Prepare svNodePool for use in tree construction\"\"\"\n",
    "\n",
    "    svNodePool = []\n",
    "\n",
    "    # `group` is a pointer to an entry for a structure in the database\n",
    "    for svName in sorted(group):\n",
    "        svGroup = group[svName]\n",
    "\n",
    "        restrictions = None\n",
    "        if 'restrictions' in svGroup.attrs:\n",
    "            restrictions = []\n",
    "            resList = svGroup.attrs['restrictions'].tolist()\n",
    "            for num in svGroup.attrs['numRestrictions']:\n",
    "                tmp = []\n",
    "                for _ in range(num):\n",
    "                    tmp.append(tuple(resList.pop()))\n",
    "                restrictions.append(tmp)\n",
    "\n",
    "        svNodePool.append(\n",
    "            SVNode(\n",
    "                description=svName,\n",
    "                components=svGroup.attrs['components'],\n",
    "                numParams=svGroup.attrs['numParams'],\n",
    "                bonds={\n",
    "                    k:svGroup[k].attrs['components'] for k in svGroup.keys()\n",
    "                },\n",
    "                restrictions=restrictions,\n",
    "                paramRanges=svGroup.attrs['paramRanges']\\\n",
    "                    if 'paramRanges' in group[svName].attrs else None\n",
    "            )\n",
    "        )\n",
    "\n",
    "    return svNodePool"
   ]
  },
  {
   "cell_type": "code",
   "execution_count": 15,
   "metadata": {},
   "outputs": [
    {
     "name": "stdout",
     "output_type": "stream",
     "text": [
      "                                        Ground_state_crystal || 0.000000 0.028654\n",
      "                         Mo_3x3x3_cell_mode_1_strain_-0.0200 || 0.002350 0.028872\n",
      "                         Mo_3x3x3_cell_mode_1_strain_-0.0400 || 0.009258 0.028032\n",
      "                         Mo_3x3x3_cell_mode_1_strain_-0.0600 || 0.031877 0.033074\n",
      "                         Mo_3x3x3_cell_mode_1_strain_-0.0800 || 0.057567 0.032855\n",
      "                         Mo_3x3x3_cell_mode_1_strain_-0.1000 || 0.084679 0.035269\n",
      "                          Mo_3x3x3_cell_mode_1_strain_0.0200 || 0.005888 0.030261\n",
      "                          Mo_3x3x3_cell_mode_1_strain_0.0800 || 0.020028 0.035627\n",
      "                         Mo_3x3x3_cell_mode_2_strain_-0.0200 || 0.002422 0.022330\n",
      "                         Mo_3x3x3_cell_mode_2_strain_-0.0400 || 0.009313 0.031360\n",
      "                         Mo_3x3x3_cell_mode_2_strain_-0.0600 || 0.031967 0.031970\n",
      "                         Mo_3x3x3_cell_mode_2_strain_-0.0800 || 0.057517 0.032589\n",
      "                         Mo_3x3x3_cell_mode_2_strain_-0.1000 || 0.084827 0.044432\n",
      "                          Mo_3x3x3_cell_mode_2_strain_0.0200 || 0.005899 0.030859\n",
      "                          Mo_3x3x3_cell_mode_2_strain_0.0400 || 0.012062 0.035612\n",
      "                          Mo_3x3x3_cell_mode_2_strain_0.0600 || 0.016267 0.030170\n",
      "                          Mo_3x3x3_cell_mode_2_strain_0.0800 || 0.020101 0.032229\n",
      "                          Mo_3x3x3_cell_mode_2_strain_0.1000 || 0.025042 0.030522\n",
      "                         Mo_3x3x3_cell_mode_3_strain_-0.0200 || 0.002349 0.028948\n",
      "                         Mo_3x3x3_cell_mode_3_strain_-0.0400 || 0.009330 0.026374\n",
      "                         Mo_3x3x3_cell_mode_3_strain_-0.0600 || 0.031845 0.031250\n",
      "                         Mo_3x3x3_cell_mode_3_strain_-0.1000 || 0.084498 0.038308\n",
      "                          Mo_3x3x3_cell_mode_3_strain_0.0200 || 0.005978 0.028604\n",
      "                          Mo_3x3x3_cell_mode_3_strain_0.0400 || 0.012085 0.034558\n",
      "                          Mo_3x3x3_cell_mode_3_strain_0.0600 || 0.016151 0.035248\n",
      "                          Mo_3x3x3_cell_mode_3_strain_0.0800 || 0.020157 0.030332\n",
      "                          Mo_3x3x3_cell_mode_3_strain_0.1000 || 0.025033 0.031735\n",
      "                         Mo_3x3x3_cell_mode_4_strain_-0.0200 || 0.001246 0.024678\n",
      "                         Mo_3x3x3_cell_mode_4_strain_-0.0400 || 0.004902 0.023404\n",
      "                         Mo_3x3x3_cell_mode_4_strain_-0.0600 || 0.010700 0.022528\n",
      "                          Mo_3x3x3_cell_mode_4_strain_0.0200 || 0.001210 0.022193\n",
      "                          Mo_3x3x3_cell_mode_4_strain_0.0400 || 0.004901 0.027616\n",
      "                          Mo_3x3x3_cell_mode_4_strain_0.0600 || 0.010711 0.023990\n",
      "                          Mo_3x3x3_cell_mode_4_strain_0.0800 || 0.017898 0.021365\n",
      "                          Mo_3x3x3_cell_mode_4_strain_0.1000 || 0.026369 0.020771\n",
      "                         Mo_3x3x3_cell_mode_5_strain_-0.0200 || 0.001227 0.024168\n",
      "                         Mo_3x3x3_cell_mode_5_strain_-0.0400 || 0.004892 0.024712\n",
      "                         Mo_3x3x3_cell_mode_5_strain_-0.0600 || 0.010722 0.026699\n",
      "                         Mo_3x3x3_cell_mode_5_strain_-0.0800 || 0.017882 0.023114\n",
      "                         Mo_3x3x3_cell_mode_5_strain_-0.1000 || 0.026348 0.020574\n",
      "                          Mo_3x3x3_cell_mode_5_strain_0.0200 || 0.001209 0.024620\n",
      "                          Mo_3x3x3_cell_mode_5_strain_0.0400 || 0.004930 0.023333\n",
      "                          Mo_3x3x3_cell_mode_5_strain_0.0600 || 0.010813 0.021513\n",
      "                          Mo_3x3x3_cell_mode_5_strain_0.0800 || 0.017862 0.020423\n",
      "                          Mo_3x3x3_cell_mode_5_strain_0.1000 || 0.026196 0.022280\n",
      "                         Mo_3x3x3_cell_mode_6_strain_-0.0200 || 0.001279 0.024979\n",
      "                         Mo_3x3x3_cell_mode_6_strain_-0.0400 || 0.004892 0.022445\n",
      "                         Mo_3x3x3_cell_mode_6_strain_-0.0600 || 0.010814 0.021232\n",
      "                         Mo_3x3x3_cell_mode_6_strain_-0.0800 || 0.018018 0.026109\n",
      "                         Mo_3x3x3_cell_mode_6_strain_-0.1000 || 0.026291 0.018399\n",
      "                          Mo_3x3x3_cell_mode_6_strain_0.0200 || 0.001201 0.026546\n",
      "                          Mo_3x3x3_cell_mode_6_strain_0.0400 || 0.004953 0.022678\n",
      "                          Mo_3x3x3_cell_mode_6_strain_0.0600 || 0.010727 0.022450\n",
      "                          Mo_3x3x3_cell_mode_6_strain_0.0800 || 0.017834 0.020847\n",
      "                          Mo_3x3x3_cell_mode_6_strain_0.1000 || 0.026304 0.021152\n",
      "                                       Mo_3x3x3_cell_relaxed || 0.004360 0.000000\n",
      "                             Mo_surface_mp_Mo_mp-129__1_0_0_ || 0.076297 0.249098\n",
      "                             Mo_surface_mp_Mo_mp-129__1_1_0_ || 0.067664 0.158627\n",
      "                             Mo_surface_mp_Mo_mp-129__1_1_1_ || 0.011795 0.261576\n",
      "                             Mo_surface_mp_Mo_mp-129__2_1_0_ || 0.045501 0.296947\n",
      "                             Mo_surface_mp_Mo_mp-129__2_2_1_ || 0.026687 0.220493\n",
      "                             Mo_surface_mp_Mo_mp-129__3_1_1_ || 0.041918 0.386595\n",
      "                             Mo_surface_mp_Mo_mp-129__3_2_0_ || 0.071529 0.286768\n",
      "                             Mo_surface_mp_Mo_mp-129__3_2_1_ || 0.036087 0.319798\n",
      "                             Mo_surface_mp_Mo_mp-129__3_3_2_ || 0.016235 0.286415\n",
      "   Snapshot_10_of_12_of_Vacancy_AIMD_NVT_simulation_at_300_K || 0.023827 0.142408\n",
      "  Snapshot_10_of_12_of_Vacancy_AIMD_NVT_simulation_at_6000_K || 0.028102 0.514663\n",
      "          Snapshot_10_of_40_of_AIMD_NVT_simulation_at_3000_K || 0.001736 0.293404\n",
      "           Snapshot_10_of_40_of_AIMD_NVT_simulation_at_300_K || 0.004994 0.119223\n",
      "   Snapshot_11_of_12_of_Vacancy_AIMD_NVT_simulation_at_300_K || 0.021389 0.158646\n",
      "  Snapshot_11_of_12_of_Vacancy_AIMD_NVT_simulation_at_6000_K || 0.020251 0.437655\n",
      "           Snapshot_11_of_40_of_AIMD_NVT_simulation_at_300_K || 0.004111 0.113652\n",
      "          Snapshot_11_of_40_of_AIMD_NVT_simulation_at_6000_K || 0.019321 1.127559\n",
      "   Snapshot_12_of_12_of_Vacancy_AIMD_NVT_simulation_at_300_K || 0.021370 0.134368\n",
      "  Snapshot_12_of_12_of_Vacancy_AIMD_NVT_simulation_at_6000_K || 0.017051 0.621241\n",
      "          Snapshot_12_of_40_of_AIMD_NVT_simulation_at_3000_K || 0.000507 0.409348\n",
      "           Snapshot_12_of_40_of_AIMD_NVT_simulation_at_300_K || 0.003832 0.108311\n",
      "          Snapshot_12_of_40_of_AIMD_NVT_simulation_at_6000_K || 0.041307 1.225533\n",
      "          Snapshot_13_of_40_of_AIMD_NVT_simulation_at_3000_K || 0.004645 0.424833\n",
      "           Snapshot_13_of_40_of_AIMD_NVT_simulation_at_300_K || 0.004575 0.112025\n",
      "          Snapshot_13_of_40_of_AIMD_NVT_simulation_at_6000_K || 0.001515 1.164170\n",
      "           Snapshot_14_of_40_of_AIMD_NVT_simulation_at_300_K || 0.005124 0.109666\n",
      "          Snapshot_14_of_40_of_AIMD_NVT_simulation_at_6000_K || 0.021971 1.290693\n",
      "          Snapshot_15_of_40_of_AIMD_NVT_simulation_at_3000_K || 0.012940 0.332414\n",
      "           Snapshot_15_of_40_of_AIMD_NVT_simulation_at_300_K || 0.003327 0.119216\n",
      "          Snapshot_15_of_40_of_AIMD_NVT_simulation_at_6000_K || 0.024717 1.292363\n",
      "          Snapshot_16_of_40_of_AIMD_NVT_simulation_at_3000_K || 0.001997 0.408389\n",
      "           Snapshot_16_of_40_of_AIMD_NVT_simulation_at_300_K || 0.005471 0.122640\n",
      "          Snapshot_16_of_40_of_AIMD_NVT_simulation_at_6000_K || 0.021110 1.131265\n",
      "          Snapshot_17_of_40_of_AIMD_NVT_simulation_at_3000_K || 0.009852 0.477689\n",
      "           Snapshot_17_of_40_of_AIMD_NVT_simulation_at_300_K || 0.005558 0.107968\n",
      "          Snapshot_17_of_40_of_AIMD_NVT_simulation_at_6000_K || 0.031112 0.910315\n",
      "          Snapshot_18_of_40_of_AIMD_NVT_simulation_at_3000_K || 0.001732 0.411769\n",
      "           Snapshot_18_of_40_of_AIMD_NVT_simulation_at_300_K || 0.004414 0.114462\n",
      "          Snapshot_18_of_40_of_AIMD_NVT_simulation_at_6000_K || 0.042844 1.011107\n",
      "          Snapshot_19_of_40_of_AIMD_NVT_simulation_at_3000_K || 0.000843 0.369965\n",
      "           Snapshot_19_of_40_of_AIMD_NVT_simulation_at_300_K || 0.004565 0.112346\n",
      "    Snapshot_1_of_12_of_Vacancy_AIMD_NVT_simulation_at_300_K || 0.019185 0.115826\n",
      "   Snapshot_1_of_12_of_Vacancy_AIMD_NVT_simulation_at_6000_K || 0.021091 0.133397\n",
      "           Snapshot_1_of_40_of_AIMD_NVT_simulation_at_3000_K || 0.001875 0.331465\n",
      "            Snapshot_1_of_40_of_AIMD_NVT_simulation_at_300_K || 0.004163 0.105672\n",
      "           Snapshot_1_of_40_of_AIMD_NVT_simulation_at_6000_K || 0.026233 1.395040\n",
      "          Snapshot_20_of_40_of_AIMD_NVT_simulation_at_3000_K || 0.007995 0.521156\n",
      "           Snapshot_20_of_40_of_AIMD_NVT_simulation_at_300_K || 0.004728 0.089750\n",
      "          Snapshot_20_of_40_of_AIMD_NVT_simulation_at_6000_K || 0.031554 1.339896\n",
      "          Snapshot_21_of_40_of_AIMD_NVT_simulation_at_3000_K || 0.007472 0.400628\n",
      "           Snapshot_21_of_40_of_AIMD_NVT_simulation_at_300_K || 0.008624 0.112029\n",
      "          Snapshot_21_of_40_of_AIMD_NVT_simulation_at_6000_K || 0.003069 1.105898\n",
      "          Snapshot_22_of_40_of_AIMD_NVT_simulation_at_3000_K || 0.015749 0.411637\n",
      "           Snapshot_22_of_40_of_AIMD_NVT_simulation_at_300_K || 0.003063 0.124404\n",
      "          Snapshot_22_of_40_of_AIMD_NVT_simulation_at_6000_K || 0.009548 1.270375\n",
      "          Snapshot_23_of_40_of_AIMD_NVT_simulation_at_3000_K || 0.017036 0.446768\n",
      "           Snapshot_23_of_40_of_AIMD_NVT_simulation_at_300_K || 0.002007 0.130611\n",
      "          Snapshot_23_of_40_of_AIMD_NVT_simulation_at_6000_K || 0.003788 1.319430\n",
      "          Snapshot_24_of_40_of_AIMD_NVT_simulation_at_3000_K || 0.018874 0.418833\n",
      "           Snapshot_24_of_40_of_AIMD_NVT_simulation_at_300_K || 0.004436 0.110390\n",
      "          Snapshot_24_of_40_of_AIMD_NVT_simulation_at_6000_K || 0.055963 1.303089\n",
      "          Snapshot_25_of_40_of_AIMD_NVT_simulation_at_3000_K || 0.001674 0.382205\n",
      "          Snapshot_25_of_40_of_AIMD_NVT_simulation_at_6000_K || 0.061394 1.165716\n",
      "          Snapshot_26_of_40_of_AIMD_NVT_simulation_at_3000_K || 0.000665 0.355192\n",
      "           Snapshot_26_of_40_of_AIMD_NVT_simulation_at_300_K || 0.003556 0.113943\n",
      "          Snapshot_26_of_40_of_AIMD_NVT_simulation_at_6000_K || 0.041941 0.964515\n",
      "          Snapshot_27_of_40_of_AIMD_NVT_simulation_at_3000_K || 0.005527 0.540091\n",
      "          Snapshot_27_of_40_of_AIMD_NVT_simulation_at_6000_K || 0.011559 1.229961\n",
      "          Snapshot_28_of_40_of_AIMD_NVT_simulation_at_3000_K || 0.010052 0.382331\n",
      "           Snapshot_28_of_40_of_AIMD_NVT_simulation_at_300_K || 0.003956 0.110844\n",
      "          Snapshot_28_of_40_of_AIMD_NVT_simulation_at_6000_K || 0.021036 1.243512\n",
      "          Snapshot_29_of_40_of_AIMD_NVT_simulation_at_3000_K || 0.011827 0.408754\n",
      "           Snapshot_29_of_40_of_AIMD_NVT_simulation_at_300_K || 0.005788 0.104814\n",
      "          Snapshot_29_of_40_of_AIMD_NVT_simulation_at_6000_K || 0.002647 1.156263\n",
      "    Snapshot_2_of_12_of_Vacancy_AIMD_NVT_simulation_at_300_K || 0.022375 0.162175\n",
      "   Snapshot_2_of_12_of_Vacancy_AIMD_NVT_simulation_at_6000_K || 0.024173 0.427128\n",
      "           Snapshot_2_of_40_of_AIMD_NVT_simulation_at_3000_K || 0.002310 0.475001\n",
      "            Snapshot_2_of_40_of_AIMD_NVT_simulation_at_300_K || 0.004421 0.117385\n",
      "           Snapshot_2_of_40_of_AIMD_NVT_simulation_at_6000_K || 0.059929 1.057620\n",
      "          Snapshot_30_of_40_of_AIMD_NVT_simulation_at_3000_K || 0.007714 0.455724\n",
      "          Snapshot_30_of_40_of_AIMD_NVT_simulation_at_6000_K || 0.008423 1.150439\n",
      "          Snapshot_31_of_40_of_AIMD_NVT_simulation_at_3000_K || 0.002818 0.431189\n",
      "           Snapshot_31_of_40_of_AIMD_NVT_simulation_at_300_K || 0.003579 0.108796\n",
      "          Snapshot_32_of_40_of_AIMD_NVT_simulation_at_3000_K || 0.011041 0.465214\n",
      "           Snapshot_32_of_40_of_AIMD_NVT_simulation_at_300_K || 0.005464 0.106564\n",
      "          Snapshot_32_of_40_of_AIMD_NVT_simulation_at_6000_K || 0.009705 1.083050\n",
      "          Snapshot_33_of_40_of_AIMD_NVT_simulation_at_3000_K || 0.005617 0.368863\n",
      "           Snapshot_33_of_40_of_AIMD_NVT_simulation_at_300_K || 0.005029 0.098513\n",
      "          Snapshot_33_of_40_of_AIMD_NVT_simulation_at_6000_K || 0.040039 0.927797\n",
      "          Snapshot_34_of_40_of_AIMD_NVT_simulation_at_3000_K || 0.009254 0.361426\n",
      "           Snapshot_34_of_40_of_AIMD_NVT_simulation_at_300_K || 0.005563 0.095627\n",
      "          Snapshot_34_of_40_of_AIMD_NVT_simulation_at_6000_K || 0.012889 1.157329\n",
      "          Snapshot_35_of_40_of_AIMD_NVT_simulation_at_3000_K || 0.019731 0.493737\n",
      "           Snapshot_35_of_40_of_AIMD_NVT_simulation_at_300_K || 0.004852 0.122308\n",
      "          Snapshot_35_of_40_of_AIMD_NVT_simulation_at_6000_K || 0.017162 1.211579\n",
      "          Snapshot_36_of_40_of_AIMD_NVT_simulation_at_3000_K || 0.018296 0.513992\n",
      "           Snapshot_36_of_40_of_AIMD_NVT_simulation_at_300_K || 0.004294 0.120016\n",
      "          Snapshot_36_of_40_of_AIMD_NVT_simulation_at_6000_K || 0.029796 1.265353\n",
      "          Snapshot_37_of_40_of_AIMD_NVT_simulation_at_3000_K || 0.005470 0.389758\n",
      "           Snapshot_37_of_40_of_AIMD_NVT_simulation_at_300_K || 0.002935 0.115078\n",
      "          Snapshot_38_of_40_of_AIMD_NVT_simulation_at_3000_K || 0.020797 0.496197\n",
      "           Snapshot_38_of_40_of_AIMD_NVT_simulation_at_300_K || 0.003538 0.118556\n",
      "          Snapshot_38_of_40_of_AIMD_NVT_simulation_at_6000_K || 0.019433 1.030101\n",
      "          Snapshot_39_of_40_of_AIMD_NVT_simulation_at_3000_K || 0.012711 0.488809\n",
      "           Snapshot_39_of_40_of_AIMD_NVT_simulation_at_300_K || 0.003820 0.117843\n",
      "          Snapshot_39_of_40_of_AIMD_NVT_simulation_at_6000_K || 0.016124 1.125356\n",
      "    Snapshot_3_of_12_of_Vacancy_AIMD_NVT_simulation_at_300_K || 0.022358 0.149380\n",
      "   Snapshot_3_of_12_of_Vacancy_AIMD_NVT_simulation_at_6000_K || 0.027212 0.467331\n",
      "           Snapshot_3_of_40_of_AIMD_NVT_simulation_at_3000_K || 0.001897 0.383371\n",
      "            Snapshot_3_of_40_of_AIMD_NVT_simulation_at_300_K || 0.003669 0.110617\n",
      "           Snapshot_3_of_40_of_AIMD_NVT_simulation_at_6000_K || 0.034113 1.225275\n",
      "          Snapshot_40_of_40_of_AIMD_NVT_simulation_at_3000_K || 0.007099 0.367767\n",
      "          Snapshot_40_of_40_of_AIMD_NVT_simulation_at_6000_K || 0.012304 1.001760\n",
      "           Snapshot_4_of_40_of_AIMD_NVT_simulation_at_3000_K || 0.005842 0.405753\n",
      "            Snapshot_4_of_40_of_AIMD_NVT_simulation_at_300_K || 0.003202 0.124330\n",
      "           Snapshot_4_of_40_of_AIMD_NVT_simulation_at_6000_K || 0.041399 1.451023\n",
      "    Snapshot_5_of_12_of_Vacancy_AIMD_NVT_simulation_at_300_K || 0.026892 0.093534\n",
      "   Snapshot_5_of_12_of_Vacancy_AIMD_NVT_simulation_at_6000_K || 0.005051 0.438204\n",
      "           Snapshot_5_of_40_of_AIMD_NVT_simulation_at_3000_K || 0.008584 0.372374\n",
      "            Snapshot_5_of_40_of_AIMD_NVT_simulation_at_300_K || 0.006510 0.107157\n",
      "           Snapshot_5_of_40_of_AIMD_NVT_simulation_at_6000_K || 0.057882 1.707000\n",
      "    Snapshot_6_of_12_of_Vacancy_AIMD_NVT_simulation_at_300_K || 0.021404 0.144001\n",
      "   Snapshot_6_of_12_of_Vacancy_AIMD_NVT_simulation_at_6000_K || 0.026250 0.468675\n",
      "           Snapshot_6_of_40_of_AIMD_NVT_simulation_at_3000_K || 0.007021 0.471358\n",
      "            Snapshot_6_of_40_of_AIMD_NVT_simulation_at_300_K || 0.005537 0.096490\n",
      "           Snapshot_6_of_40_of_AIMD_NVT_simulation_at_6000_K || 0.077344 1.530498\n",
      "    Snapshot_7_of_12_of_Vacancy_AIMD_NVT_simulation_at_300_K || 0.023428 0.096046\n",
      "   Snapshot_7_of_12_of_Vacancy_AIMD_NVT_simulation_at_6000_K || 0.040601 0.454717\n",
      "           Snapshot_7_of_40_of_AIMD_NVT_simulation_at_6000_K || 0.006827 1.123439\n",
      "   Snapshot_8_of_12_of_Vacancy_AIMD_NVT_simulation_at_6000_K || 0.032860 0.550339\n",
      "           Snapshot_8_of_40_of_AIMD_NVT_simulation_at_3000_K || 0.008606 0.495707\n",
      "            Snapshot_8_of_40_of_AIMD_NVT_simulation_at_300_K || 0.003657 0.109617\n",
      "           Snapshot_8_of_40_of_AIMD_NVT_simulation_at_6000_K || 0.026243 1.294435\n",
      "    Snapshot_9_of_12_of_Vacancy_AIMD_NVT_simulation_at_300_K || 0.018836 0.069523\n",
      "   Snapshot_9_of_12_of_Vacancy_AIMD_NVT_simulation_at_6000_K || 0.028512 0.481865\n",
      "           Snapshot_9_of_40_of_AIMD_NVT_simulation_at_3000_K || 0.008871 0.343186\n",
      "            Snapshot_9_of_40_of_AIMD_NVT_simulation_at_300_K || 0.005289 0.121074\n",
      "           Snapshot_9_of_40_of_AIMD_NVT_simulation_at_6000_K || 0.044762 1.104642\n"
     ]
    }
   ],
   "source": [
    "import cma\n",
    "\n",
    "from mpi4py import MPI\n",
    "\n",
    "from nodes import SVNode\n",
    "from settings import Settings\n",
    "from database import SVDatabase\n",
    "from evaluator import SVEvaluator\n",
    "from regressor import SVRegressor\n",
    "\n",
    "settingsPath = 'examples/settings.in'\n",
    "databasePath = '../svreg_data/mlearn/Mo/Mo.hdf5'\n",
    "\n",
    "settings = Settings.from_file(settingsPath)\n",
    "settings['PROCS_PER_PHYS_NODE'] = 1\n",
    "settings['PROCS_PER_MANAGER'] = 1\n",
    "\n",
    "worldComm = MPI.COMM_WORLD\n",
    "with SVDatabase(settings['databasePath'], 'r') as database:\n",
    "    structNames = list(database.keys())\n",
    "#     structNames = ['Ground_state_crystal']\n",
    "\n",
    "    if settings['refStruct'] not in structNames:\n",
    "        raise RuntimeError(\n",
    "            \"The reference structure must be included in structNames.\"\n",
    "        )\n",
    "\n",
    "    evaluator =  SVEvaluator(worldComm, structNames, settings)\n",
    "    evaluator.distributeDatabase(database)\n",
    "\n",
    "    trueValues = database.loadTrueValues()\n",
    "\n",
    "#     numStructs = len(trueValues)\n",
    "    \n",
    "    refStruct = settings['refStruct']\n",
    "    treeErrors = np.zeros(2*len(database))\n",
    "    \n",
    "    svNodePool = buildSVNodePool(database[settings['refStruct']])\n",
    "    \n",
    "    regressor = SVRegressor(\n",
    "        settings, svNodePool, cma.CMAEvolutionStrategy, [1.0, {'popsize': 1}]\n",
    "    )\n",
    "    \n",
    "    regressor.trees = [tree]\n",
    "    \n",
    "    treePopulations = [tree.parseArr2Dict(np.atleast_2d(tree.bestParams), fillFixedKnots=True)]\n",
    "    \n",
    "    # Group all dictionaries into one\n",
    "    populationDict = {}\n",
    "    for svNode in svNodePool:\n",
    "        populationDict[svNode.description] = {}\n",
    "        for bondType in svNode.bonds:\n",
    "            populationDict[svNode.description][bondType] = []\n",
    "\n",
    "    for treeDict in treePopulations:\n",
    "        for svName in treeDict.keys():\n",
    "            for bondType, pop in treeDict[svName].items():\n",
    "                populationDict[svName][bondType].append(pop)\n",
    "                            \n",
    "    svEng = evaluator.evaluate(populationDict, evalType='energy')\n",
    "    svFcs = evaluator.evaluate(populationDict, evalType='forces')\n",
    "    \n",
    "    energies, forces = regressor.evaluateTrees(svEng, svFcs, 1)\n",
    "    \n",
    "    for structName in sorted(structNames):\n",
    "        eng = energies[structName][0] - energies[refStruct][0]\n",
    "        fcs =   forces[structName][0]\n",
    "        \n",
    "        engErrors = eng - trueValues[structName]['energy']\n",
    "        fcsErrors = fcs - trueValues[structName]['forces']\n",
    "        \n",
    "        treeErrors[2*i]   = abs(engErrors)\n",
    "        treeErrors[2*i+1] = np.average(np.abs(fcsErrors), axis=(1, 2))\n",
    "        \n",
    "        print(\n",
    "            '{:>60} || {:.6f} {:.6f}'.format(\n",
    "                structName,\n",
    "                treeErrors[2*i],\n",
    "                treeErrors[2*i+1]\n",
    "            )\n",
    "        )\n",
    "# del evaluator"
   ]
  },
  {
   "cell_type": "code",
   "execution_count": 19,
   "metadata": {},
   "outputs": [
    {
     "data": {
      "text/plain": [
       "0.8351426211278248"
      ]
     },
     "execution_count": 19,
     "metadata": {},
     "output_type": "execute_result"
    }
   ],
   "source": [
    "treeErrors.sum()"
   ]
  },
  {
   "cell_type": "code",
   "execution_count": null,
   "metadata": {},
   "outputs": [],
   "source": [
    "del evaluator"
   ]
  },
  {
   "cell_type": "code",
   "execution_count": 9,
   "metadata": {},
   "outputs": [],
   "source": [
    "from scipy.special import erf"
   ]
  },
  {
   "cell_type": "code",
   "execution_count": 21,
   "metadata": {},
   "outputs": [
    {
     "name": "stderr",
     "output_type": "stream",
     "text": [
      "/home/jvita/Programs/miniconda2/envs/parhdf5/lib/python3.6/site-packages/ipykernel_launcher.py:4: RuntimeWarning: divide by zero encountered in log\n",
      "  after removing the cwd from sys.path.\n"
     ]
    },
    {
     "data": {
      "text/plain": [
       "[<matplotlib.lines.Line2D at 0x7f6436030b00>]"
      ]
     },
     "execution_count": 21,
     "metadata": {},
     "output_type": "execute_result"
    },
    {
     "data": {
      "image/png": "[encoded data removed]",
      "text/plain": [
       "<Figure size 432x288 with 1 Axes>"
      ]
     },
     "metadata": {
      "needs_background": "light"
     },
     "output_type": "display_data"
    }
   ],
   "source": [
    "fig, ax = plt.subplots()\n",
    "\n",
    "x = np.linspace(0, 10, 100)\n",
    "ax.plot(x, 1-erf(np.log(x)))"
   ]
  },
  {
   "cell_type": "code",
   "execution_count": 23,
   "metadata": {},
   "outputs": [
    {
     "name": "stderr",
     "output_type": "stream",
     "text": [
      "/home/jvita/Programs/miniconda2/envs/parhdf5/lib/python3.6/site-packages/ipykernel_launcher.py:1: RuntimeWarning: divide by zero encountered in log\n",
      "  \"\"\"Entry point for launching an IPython kernel.\n"
     ]
    },
    {
     "data": {
      "text/plain": [
       "array([       -inf, -2.29253476, -1.59938758, -1.19392247, -0.9062404 ,\n",
       "       -0.68309684, -0.50077529, -0.34662461, -0.21309322, -0.09531018,\n",
       "        0.01005034,  0.10536052,  0.19237189,  0.2724146 ,  0.34652257,\n",
       "        0.41551544,  0.48005397,  0.54067859,  0.597837  ,  0.65190422,\n",
       "        0.70319752,  0.75198768,  0.7985077 ,  0.84295946,  0.88551907,\n",
       "        0.92634107,  0.96556178,  1.00330211,  1.03966975,  1.07476107,\n",
       "        1.10866262,  1.14145245,  1.17320115,  1.2039728 ,  1.23382577,\n",
       "        1.2628133 ,  1.29098418,  1.31838316,  1.3450514 ,  1.37102689,\n",
       "        1.3963447 ,  1.42103731,  1.44513486,  1.46866536,  1.49165488,\n",
       "        1.51412773,  1.53610664,  1.55761284,  1.57866625,  1.59928554,\n",
       "        1.61948825,  1.63929088,  1.65870896,  1.67775716,  1.69644929,\n",
       "        1.71479843,  1.73281693,  1.75051651,  1.76790825,  1.78500269,\n",
       "        1.80180981,  1.81833911,  1.83459963,  1.85059997,  1.86634833,\n",
       "        1.88185251,  1.89711998,  1.91215786,  1.92697295,  1.94157175,\n",
       "        1.95596048,  1.97014512,  1.98413136,  1.99792468,  2.01153034,\n",
       "        2.02495336,  2.03819858,  2.05127066,  2.06417407,  2.0769131 ,\n",
       "        2.08949188,  2.1019144 ,  2.11418449,  2.12630585,  2.13828204,\n",
       "        2.1501165 ,  2.16181254,  2.17337336,  2.18480206,  2.19610161,\n",
       "        2.20727491,  2.21832475,  2.22925382,  2.24006474,  2.25076003,\n",
       "        2.26134213,  2.27181343,  2.28217622,  2.29243272,  2.30258509])"
      ]
     },
     "execution_count": 23,
     "metadata": {},
     "output_type": "execute_result"
    }
   ],
   "source": [
    "1-erf(np.log(x))"
   ]
  },
  {
   "cell_type": "code",
   "execution_count": null,
   "metadata": {},
   "outputs": [],
   "source": []
  }
 ],
 "metadata": {
  "kernelspec": {
   "display_name": "Python 3",
   "language": "python",
   "name": "python3"
  },
  "language_info": {
   "codemirror_mode": {
    "name": "ipython",
    "version": 3
   },
   "file_extension": ".py",
   "mimetype": "text/x-python",
   "name": "python",
   "nbconvert_exporter": "python",
   "pygments_lexer": "ipython3",
   "version": "3.6.10"
  }
 },
 "nbformat": 4,
 "nbformat_minor": 4
}
