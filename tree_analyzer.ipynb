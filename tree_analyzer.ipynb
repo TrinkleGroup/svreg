{
 "cells": [
  {
   "cell_type": "markdown",
   "metadata": {},
   "source": [
    "# Imports"
   ]
  },
  {
   "cell_type": "code",
   "execution_count": 38,
   "metadata": {},
   "outputs": [],
   "source": [
    "import os\n",
    "import h5py\n",
    "import glob\n",
    "import pickle\n",
    "import numpy as np\n",
    "import matplotlib.pyplot as plt\n",
    "\n",
    "from scipy.interpolate import CubicSpline"
   ]
  },
  {
   "cell_type": "markdown",
   "metadata": {},
   "source": [
    "# Setup"
   ]
  },
  {
   "cell_type": "code",
   "execution_count": 12,
   "metadata": {},
   "outputs": [],
   "source": [
    "# basePath = os.path.join('results', 'polish_rho_rho')\n",
    "basePath = os.path.join('results', 'mo_fixed')\n",
    "\n",
    "fromArchive = True"
   ]
  },
  {
   "cell_type": "code",
   "execution_count": 31,
   "metadata": {},
   "outputs": [],
   "source": [
    "if fromArchive:\n",
    "    archive = pickle.load(open(os.path.join(basePath, 'archive.pkl'), 'rb'))\n",
    "    tree = pickle.load(open(os.path.join(basePath, 'tree.pkl'), 'rb'))\n",
    "    \n",
    "    treeName = 'mul(sqrt(sqrt(rho)), rho)'\n",
    "    entry = archive[treeName]\n",
    "    tree.bestParams = entry.bestParams\n",
    "    \n",
    "    errors = entry.bestErrors\n",
    "else:\n",
    "    files = sorted(glob.glob(os.path.join(basePath, 'tree*')))\n",
    "    intIndices = [int(s[s.find('tree')+5:s.find('.pkl')]) for s in files]\n",
    "\n",
    "    argsort = np.argsort(intIndices)\n",
    "\n",
    "    treeFile = np.array(files)[argsort][-1]\n",
    "    tree = pickle.load(open(treeFile, 'rb'))"
   ]
  },
  {
   "cell_type": "code",
   "execution_count": 32,
   "metadata": {},
   "outputs": [
    {
     "name": "stdout",
     "output_type": "stream",
     "text": [
      "Tree: mul(sqrt(rho), rho)\n"
     ]
    }
   ],
   "source": [
    "print('Tree:', tree)"
   ]
  },
  {
   "cell_type": "markdown",
   "metadata": {},
   "source": [
    "# Plotting"
   ]
  },
  {
   "cell_type": "code",
   "execution_count": 26,
   "metadata": {},
   "outputs": [],
   "source": [
    "def plotSpline(x, y, bc):\n",
    "    cs = CubicSpline(x, y, bc_type=((1, bc[0]), (1, bc[1])))\n",
    "    \n",
    "    plotX = np.linspace(x[0], x[-1], 100)\n",
    "    plotY = cs(plotX)\n",
    "    \n",
    "    return plotX, plotY"
   ]
  },
  {
   "cell_type": "code",
   "execution_count": 27,
   "metadata": {},
   "outputs": [],
   "source": [
    "splits = []\n",
    "\n",
    "for svNode in tree.svNodes:\n",
    "    for comp in svNode.components:\n",
    "        splits.append(svNode.numParams[comp]+2)"
   ]
  },
  {
   "cell_type": "code",
   "execution_count": 28,
   "metadata": {},
   "outputs": [],
   "source": [
    "splitParams = np.array_split(tree.bestParams, np.cumsum(splits)[:-1])"
   ]
  },
  {
   "cell_type": "code",
   "execution_count": 29,
   "metadata": {},
   "outputs": [
    {
     "data": {
      "image/png": "[encoded data removed]",
      "text/plain": [
       "<Figure size 864x288 with 3 Axes>"
      ]
     },
     "metadata": {
      "needs_background": "light"
     },
     "output_type": "display_data"
    }
   ],
   "source": [
    "numRows = len(splitParams)//3 + 1\n",
    "\n",
    "fig, axes = plt.subplots(numRows, 3, figsize=(12, 4*numRows))\n",
    "\n",
    "for i, spline in enumerate(splitParams):\n",
    "    y, bc = spline[:-2], spline[-2:]\n",
    "    x = np.arange(len(y))\n",
    "    \n",
    "    plotX, plotY = plotSpline(x, y, bc)\n",
    "    \n",
    "    row = i//3\n",
    "    col = i%3\n",
    "    \n",
    "    if numRows > 1:\n",
    "        ax = axes[row][col]\n",
    "    else:\n",
    "        ax = axes[col]\n",
    "    \n",
    "    ax.plot(x, y, 'o')\n",
    "    ax.plot(plotX, plotY)\n",
    "    ax.set_title(tree.svNodes[i].description)"
   ]
  },
  {
   "cell_type": "markdown",
   "metadata": {},
   "source": [
    "# Errors"
   ]
  },
  {
   "cell_type": "code",
   "execution_count": 48,
   "metadata": {},
   "outputs": [
    {
     "name": "stdout",
     "output_type": "stream",
     "text": [
      "                          mul(sqrt(rho), rho) average errors || 0.044520 0.375722\n",
      "\n",
      "                                                  structName || (eV/atom) (eV/A)\n",
      "                                        Ground_state_crystal || 0.000000 0.051103\n",
      "                         Mo_3x3x3_cell_mode_1_strain_-0.0200 || 0.029910 0.041121\n",
      "                         Mo_3x3x3_cell_mode_1_strain_-0.0400 || 0.056065 0.040372\n",
      "                         Mo_3x3x3_cell_mode_1_strain_-0.0600 || 0.077091 0.042918\n",
      "                         Mo_3x3x3_cell_mode_1_strain_-0.0800 || 0.091863 0.040386\n",
      "                         Mo_3x3x3_cell_mode_1_strain_-0.1000 || 0.097391 0.046941\n",
      "                          Mo_3x3x3_cell_mode_1_strain_0.0200 || 0.035147 0.055489\n",
      "                          Mo_3x3x3_cell_mode_1_strain_0.0800 || 0.160486 0.070082\n",
      "                         Mo_3x3x3_cell_mode_2_strain_-0.0200 || 0.029971 0.040508\n",
      "                         Mo_3x3x3_cell_mode_2_strain_-0.0400 || 0.056006 0.040337\n",
      "                         Mo_3x3x3_cell_mode_2_strain_-0.0600 || 0.076951 0.043041\n",
      "                         Mo_3x3x3_cell_mode_2_strain_-0.0800 || 0.091920 0.041209\n",
      "                         Mo_3x3x3_cell_mode_2_strain_-0.1000 || 0.097200 0.055281\n",
      "                          Mo_3x3x3_cell_mode_2_strain_0.0200 || 0.035118 0.057452\n",
      "                          Mo_3x3x3_cell_mode_2_strain_0.0400 || 0.074277 0.063347\n",
      "                          Mo_3x3x3_cell_mode_2_strain_0.0600 || 0.115472 0.067859\n",
      "                          Mo_3x3x3_cell_mode_2_strain_0.0800 || 0.160523 0.070275\n",
      "                          Mo_3x3x3_cell_mode_2_strain_0.1000 || 0.210695 0.069800\n",
      "                         Mo_3x3x3_cell_mode_3_strain_-0.0200 || 0.029928 0.045467\n",
      "                         Mo_3x3x3_cell_mode_3_strain_-0.0400 || 0.055974 0.036956\n",
      "                         Mo_3x3x3_cell_mode_3_strain_-0.0600 || 0.077130 0.040492\n",
      "                         Mo_3x3x3_cell_mode_3_strain_-0.1000 || 0.097589 0.049747\n",
      "                          Mo_3x3x3_cell_mode_3_strain_0.0200 || 0.035221 0.057198\n",
      "                          Mo_3x3x3_cell_mode_3_strain_0.0400 || 0.074274 0.063309\n",
      "                          Mo_3x3x3_cell_mode_3_strain_0.0600 || 0.115431 0.069272\n",
      "                          Mo_3x3x3_cell_mode_3_strain_0.0800 || 0.160521 0.069517\n",
      "                          Mo_3x3x3_cell_mode_3_strain_0.1000 || 0.210641 0.069634\n",
      "                         Mo_3x3x3_cell_mode_4_strain_-0.0200 || 0.000853 0.048412\n",
      "                         Mo_3x3x3_cell_mode_4_strain_-0.0400 || 0.003371 0.048152\n",
      "                         Mo_3x3x3_cell_mode_4_strain_-0.0600 || 0.008054 0.049954\n",
      "                          Mo_3x3x3_cell_mode_4_strain_0.0200 || 0.000828 0.046503\n",
      "                          Mo_3x3x3_cell_mode_4_strain_0.0400 || 0.003362 0.051282\n",
      "                          Mo_3x3x3_cell_mode_4_strain_0.0600 || 0.008163 0.051341\n",
      "                          Mo_3x3x3_cell_mode_4_strain_0.0800 || 0.014885 0.049075\n",
      "                          Mo_3x3x3_cell_mode_4_strain_0.1000 || 0.023376 0.048411\n",
      "                         Mo_3x3x3_cell_mode_5_strain_-0.0200 || 0.000846 0.047594\n",
      "                         Mo_3x3x3_cell_mode_5_strain_-0.0400 || 0.003327 0.051867\n",
      "                         Mo_3x3x3_cell_mode_5_strain_-0.0600 || 0.008071 0.052296\n",
      "                         Mo_3x3x3_cell_mode_5_strain_-0.0800 || 0.014892 0.049299\n",
      "                         Mo_3x3x3_cell_mode_5_strain_-0.1000 || 0.023305 0.045989\n",
      "                          Mo_3x3x3_cell_mode_5_strain_0.0200 || 0.000818 0.049788\n",
      "                          Mo_3x3x3_cell_mode_5_strain_0.0400 || 0.003424 0.047844\n",
      "                          Mo_3x3x3_cell_mode_5_strain_0.0600 || 0.008199 0.049549\n",
      "                          Mo_3x3x3_cell_mode_5_strain_0.0800 || 0.014893 0.049238\n",
      "                          Mo_3x3x3_cell_mode_5_strain_0.1000 || 0.022901 0.052839\n",
      "                         Mo_3x3x3_cell_mode_6_strain_-0.0200 || 0.000833 0.050531\n",
      "                         Mo_3x3x3_cell_mode_6_strain_-0.0400 || 0.003278 0.051061\n",
      "                         Mo_3x3x3_cell_mode_6_strain_-0.0600 || 0.008157 0.052127\n",
      "                         Mo_3x3x3_cell_mode_6_strain_-0.0800 || 0.014953 0.054922\n",
      "                         Mo_3x3x3_cell_mode_6_strain_-0.1000 || 0.023239 0.044706\n",
      "                          Mo_3x3x3_cell_mode_6_strain_0.0200 || 0.000781 0.050557\n",
      "                          Mo_3x3x3_cell_mode_6_strain_0.0400 || 0.003435 0.049384\n",
      "                          Mo_3x3x3_cell_mode_6_strain_0.0600 || 0.008120 0.049696\n",
      "                          Mo_3x3x3_cell_mode_6_strain_0.0800 || 0.014846 0.049225\n",
      "                          Mo_3x3x3_cell_mode_6_strain_0.1000 || 0.023231 0.050037\n",
      "                                       Mo_3x3x3_cell_relaxed || 0.006837 0.000000\n",
      "                             Mo_surface_mp_Mo_mp-129__1_0_0_ || 0.403301 0.352880\n",
      "                             Mo_surface_mp_Mo_mp-129__1_1_0_ || 0.361512 0.241955\n",
      "                             Mo_surface_mp_Mo_mp-129__1_1_1_ || 0.398645 0.400690\n",
      "                             Mo_surface_mp_Mo_mp-129__2_1_0_ || 0.352677 0.394452\n",
      "                             Mo_surface_mp_Mo_mp-129__2_2_1_ || 0.261019 0.294373\n",
      "                             Mo_surface_mp_Mo_mp-129__3_1_1_ || 0.455262 0.510313\n",
      "                             Mo_surface_mp_Mo_mp-129__3_2_0_ || 0.437289 0.399388\n",
      "                             Mo_surface_mp_Mo_mp-129__3_2_1_ || 0.321150 0.399201\n",
      "                             Mo_surface_mp_Mo_mp-129__3_3_2_ || 0.311123 0.391768\n",
      "   Snapshot_10_of_12_of_Vacancy_AIMD_NVT_simulation_at_300_K || 0.012636 0.173203\n",
      "  Snapshot_10_of_12_of_Vacancy_AIMD_NVT_simulation_at_6000_K || 0.023783 0.467255\n",
      "          Snapshot_10_of_40_of_AIMD_NVT_simulation_at_3000_K || 0.006539 0.315458\n",
      "           Snapshot_10_of_40_of_AIMD_NVT_simulation_at_300_K || 0.030912 0.174721\n",
      "   Snapshot_11_of_12_of_Vacancy_AIMD_NVT_simulation_at_300_K || 0.010550 0.185050\n",
      "  Snapshot_11_of_12_of_Vacancy_AIMD_NVT_simulation_at_6000_K || 0.024797 0.446587\n",
      "           Snapshot_11_of_40_of_AIMD_NVT_simulation_at_300_K || 0.032686 0.165394\n",
      "          Snapshot_11_of_40_of_AIMD_NVT_simulation_at_6000_K || 0.024000 1.028456\n",
      "   Snapshot_12_of_12_of_Vacancy_AIMD_NVT_simulation_at_300_K || 0.008701 0.165046\n",
      "  Snapshot_12_of_12_of_Vacancy_AIMD_NVT_simulation_at_6000_K || 0.047074 0.548385\n",
      "          Snapshot_12_of_40_of_AIMD_NVT_simulation_at_3000_K || 0.015873 0.417018\n",
      "           Snapshot_12_of_40_of_AIMD_NVT_simulation_at_300_K || 0.029751 0.170424\n",
      "          Snapshot_12_of_40_of_AIMD_NVT_simulation_at_6000_K || 0.057271 1.094178\n",
      "          Snapshot_13_of_40_of_AIMD_NVT_simulation_at_3000_K || 0.012484 0.411855\n",
      "           Snapshot_13_of_40_of_AIMD_NVT_simulation_at_300_K || 0.034932 0.148773\n",
      "          Snapshot_13_of_40_of_AIMD_NVT_simulation_at_6000_K || 0.006324 1.071478\n",
      "           Snapshot_14_of_40_of_AIMD_NVT_simulation_at_300_K || 0.031882 0.164232\n",
      "          Snapshot_14_of_40_of_AIMD_NVT_simulation_at_6000_K || 0.036446 1.137248\n",
      "          Snapshot_15_of_40_of_AIMD_NVT_simulation_at_3000_K || 0.006504 0.340079\n",
      "           Snapshot_15_of_40_of_AIMD_NVT_simulation_at_300_K || 0.027362 0.188188\n",
      "          Snapshot_15_of_40_of_AIMD_NVT_simulation_at_6000_K || 0.030813 1.207609\n",
      "          Snapshot_16_of_40_of_AIMD_NVT_simulation_at_3000_K || 0.010400 0.412119\n",
      "           Snapshot_16_of_40_of_AIMD_NVT_simulation_at_300_K || 0.033230 0.174647\n",
      "          Snapshot_16_of_40_of_AIMD_NVT_simulation_at_6000_K || 0.011753 1.072002\n",
      "          Snapshot_17_of_40_of_AIMD_NVT_simulation_at_3000_K || 0.009200 0.475862\n",
      "           Snapshot_17_of_40_of_AIMD_NVT_simulation_at_300_K || 0.031046 0.160520\n",
      "          Snapshot_17_of_40_of_AIMD_NVT_simulation_at_6000_K || 0.004761 0.817425\n",
      "          Snapshot_18_of_40_of_AIMD_NVT_simulation_at_3000_K || 0.001250 0.430302\n",
      "           Snapshot_18_of_40_of_AIMD_NVT_simulation_at_300_K || 0.034055 0.155210\n",
      "          Snapshot_18_of_40_of_AIMD_NVT_simulation_at_6000_K || 0.000516 0.998161\n",
      "          Snapshot_19_of_40_of_AIMD_NVT_simulation_at_3000_K || 0.007496 0.398174\n",
      "           Snapshot_19_of_40_of_AIMD_NVT_simulation_at_300_K || 0.033725 0.157853\n",
      "    Snapshot_1_of_12_of_Vacancy_AIMD_NVT_simulation_at_300_K || 0.010820 0.138885\n",
      "   Snapshot_1_of_12_of_Vacancy_AIMD_NVT_simulation_at_6000_K || 0.012607 0.149429\n",
      "           Snapshot_1_of_40_of_AIMD_NVT_simulation_at_3000_K || 0.004975 0.369238\n",
      "            Snapshot_1_of_40_of_AIMD_NVT_simulation_at_300_K || 0.032363 0.161146\n",
      "           Snapshot_1_of_40_of_AIMD_NVT_simulation_at_6000_K || 0.048519 1.251945\n",
      "          Snapshot_20_of_40_of_AIMD_NVT_simulation_at_3000_K || 0.002368 0.492001\n",
      "           Snapshot_20_of_40_of_AIMD_NVT_simulation_at_300_K || 0.034753 0.143639\n",
      "          Snapshot_20_of_40_of_AIMD_NVT_simulation_at_6000_K || 0.061200 1.162284\n",
      "          Snapshot_21_of_40_of_AIMD_NVT_simulation_at_3000_K || 0.002884 0.402658\n",
      "           Snapshot_21_of_40_of_AIMD_NVT_simulation_at_300_K || 0.033824 0.168449\n",
      "          Snapshot_21_of_40_of_AIMD_NVT_simulation_at_6000_K || 0.026612 1.036104\n",
      "          Snapshot_22_of_40_of_AIMD_NVT_simulation_at_3000_K || 0.008994 0.429870\n",
      "           Snapshot_22_of_40_of_AIMD_NVT_simulation_at_300_K || 0.027692 0.184517\n",
      "          Snapshot_22_of_40_of_AIMD_NVT_simulation_at_6000_K || 0.004012 1.134401\n",
      "          Snapshot_23_of_40_of_AIMD_NVT_simulation_at_3000_K || 0.007607 0.473464\n",
      "           Snapshot_23_of_40_of_AIMD_NVT_simulation_at_300_K || 0.026441 0.195222\n",
      "          Snapshot_23_of_40_of_AIMD_NVT_simulation_at_6000_K || 0.015671 1.114363\n",
      "          Snapshot_24_of_40_of_AIMD_NVT_simulation_at_3000_K || 0.004708 0.416889\n",
      "           Snapshot_24_of_40_of_AIMD_NVT_simulation_at_300_K || 0.029375 0.169968\n",
      "          Snapshot_24_of_40_of_AIMD_NVT_simulation_at_6000_K || 0.070360 1.157370\n",
      "          Snapshot_25_of_40_of_AIMD_NVT_simulation_at_3000_K || 0.007669 0.392137\n",
      "          Snapshot_25_of_40_of_AIMD_NVT_simulation_at_6000_K || 0.018568 1.021106\n",
      "          Snapshot_26_of_40_of_AIMD_NVT_simulation_at_3000_K || 0.011347 0.371468\n",
      "           Snapshot_26_of_40_of_AIMD_NVT_simulation_at_300_K || 0.030884 0.176811\n",
      "          Snapshot_26_of_40_of_AIMD_NVT_simulation_at_6000_K || 0.007644 0.851242\n",
      "          Snapshot_27_of_40_of_AIMD_NVT_simulation_at_3000_K || 0.014283 0.487957\n",
      "          Snapshot_27_of_40_of_AIMD_NVT_simulation_at_6000_K || 0.017625 1.127024\n",
      "          Snapshot_28_of_40_of_AIMD_NVT_simulation_at_3000_K || 0.007696 0.382435\n",
      "           Snapshot_28_of_40_of_AIMD_NVT_simulation_at_300_K || 0.028736 0.165361\n",
      "          Snapshot_28_of_40_of_AIMD_NVT_simulation_at_6000_K || 0.005956 1.159321\n",
      "          Snapshot_29_of_40_of_AIMD_NVT_simulation_at_3000_K || 0.006013 0.433633\n",
      "           Snapshot_29_of_40_of_AIMD_NVT_simulation_at_300_K || 0.032108 0.166936\n",
      "          Snapshot_29_of_40_of_AIMD_NVT_simulation_at_6000_K || 0.030738 1.038065\n",
      "    Snapshot_2_of_12_of_Vacancy_AIMD_NVT_simulation_at_300_K || 0.014153 0.209970\n",
      "   Snapshot_2_of_12_of_Vacancy_AIMD_NVT_simulation_at_6000_K || 0.031066 0.442090\n",
      "           Snapshot_2_of_40_of_AIMD_NVT_simulation_at_3000_K || 0.001418 0.438084\n",
      "            Snapshot_2_of_40_of_AIMD_NVT_simulation_at_300_K || 0.028098 0.175867\n",
      "           Snapshot_2_of_40_of_AIMD_NVT_simulation_at_6000_K || 0.014115 0.948521\n",
      "          Snapshot_30_of_40_of_AIMD_NVT_simulation_at_3000_K || 0.006427 0.460642\n",
      "          Snapshot_30_of_40_of_AIMD_NVT_simulation_at_6000_K || 0.005267 1.066628\n",
      "          Snapshot_31_of_40_of_AIMD_NVT_simulation_at_3000_K || 0.009182 0.455729\n",
      "           Snapshot_31_of_40_of_AIMD_NVT_simulation_at_300_K || 0.028703 0.166151\n",
      "          Snapshot_32_of_40_of_AIMD_NVT_simulation_at_3000_K || 0.004630 0.453052\n",
      "           Snapshot_32_of_40_of_AIMD_NVT_simulation_at_300_K || 0.029779 0.162674\n",
      "          Snapshot_32_of_40_of_AIMD_NVT_simulation_at_6000_K || 0.018570 0.950445\n",
      "          Snapshot_33_of_40_of_AIMD_NVT_simulation_at_3000_K || 0.000896 0.366842\n",
      "           Snapshot_33_of_40_of_AIMD_NVT_simulation_at_300_K || 0.032150 0.154886\n",
      "          Snapshot_33_of_40_of_AIMD_NVT_simulation_at_6000_K || 0.001684 0.826836\n",
      "          Snapshot_34_of_40_of_AIMD_NVT_simulation_at_3000_K || 0.006101 0.374466\n",
      "           Snapshot_34_of_40_of_AIMD_NVT_simulation_at_300_K || 0.034893 0.147671\n",
      "          Snapshot_34_of_40_of_AIMD_NVT_simulation_at_6000_K || 0.039261 0.999626\n",
      "          Snapshot_35_of_40_of_AIMD_NVT_simulation_at_3000_K || 0.000193 0.460740\n",
      "           Snapshot_35_of_40_of_AIMD_NVT_simulation_at_300_K || 0.029423 0.178639\n",
      "          Snapshot_35_of_40_of_AIMD_NVT_simulation_at_6000_K || 0.017739 1.128551\n",
      "          Snapshot_36_of_40_of_AIMD_NVT_simulation_at_3000_K || 0.015596 0.481600\n",
      "           Snapshot_36_of_40_of_AIMD_NVT_simulation_at_300_K || 0.027637 0.177630\n",
      "          Snapshot_36_of_40_of_AIMD_NVT_simulation_at_6000_K || 0.011994 1.122112\n",
      "          Snapshot_37_of_40_of_AIMD_NVT_simulation_at_3000_K || 0.005119 0.380932\n",
      "           Snapshot_37_of_40_of_AIMD_NVT_simulation_at_300_K || 0.027263 0.171311\n",
      "          Snapshot_38_of_40_of_AIMD_NVT_simulation_at_3000_K || 0.016605 0.499404\n",
      "           Snapshot_38_of_40_of_AIMD_NVT_simulation_at_300_K || 0.029870 0.171348\n",
      "          Snapshot_38_of_40_of_AIMD_NVT_simulation_at_6000_K || 0.026735 0.942572\n",
      "          Snapshot_39_of_40_of_AIMD_NVT_simulation_at_3000_K || 0.006208 0.451005\n",
      "           Snapshot_39_of_40_of_AIMD_NVT_simulation_at_300_K || 0.028017 0.175209\n",
      "          Snapshot_39_of_40_of_AIMD_NVT_simulation_at_6000_K || 0.029552 0.996500\n",
      "    Snapshot_3_of_12_of_Vacancy_AIMD_NVT_simulation_at_300_K || 0.015442 0.190284\n",
      "   Snapshot_3_of_12_of_Vacancy_AIMD_NVT_simulation_at_6000_K || 0.026520 0.459922\n",
      "           Snapshot_3_of_40_of_AIMD_NVT_simulation_at_3000_K || 0.003691 0.381291\n",
      "            Snapshot_3_of_40_of_AIMD_NVT_simulation_at_300_K || 0.029151 0.167756\n",
      "           Snapshot_3_of_40_of_AIMD_NVT_simulation_at_6000_K || 0.000002 1.130042\n",
      "          Snapshot_40_of_40_of_AIMD_NVT_simulation_at_3000_K || 0.002267 0.393864\n",
      "          Snapshot_40_of_40_of_AIMD_NVT_simulation_at_6000_K || 0.012846 0.871619\n",
      "           Snapshot_4_of_40_of_AIMD_NVT_simulation_at_3000_K || 0.006904 0.409098\n",
      "            Snapshot_4_of_40_of_AIMD_NVT_simulation_at_300_K || 0.026067 0.172700\n",
      "           Snapshot_4_of_40_of_AIMD_NVT_simulation_at_6000_K || 0.050143 1.279397\n",
      "    Snapshot_5_of_12_of_Vacancy_AIMD_NVT_simulation_at_300_K || 0.017276 0.120473\n",
      "   Snapshot_5_of_12_of_Vacancy_AIMD_NVT_simulation_at_6000_K || 0.043063 0.432117\n",
      "           Snapshot_5_of_40_of_AIMD_NVT_simulation_at_3000_K || 0.003965 0.370851\n",
      "            Snapshot_5_of_40_of_AIMD_NVT_simulation_at_300_K || 0.034892 0.159266\n",
      "           Snapshot_5_of_40_of_AIMD_NVT_simulation_at_6000_K || 0.065799 1.526534\n",
      "    Snapshot_6_of_12_of_Vacancy_AIMD_NVT_simulation_at_300_K || 0.014114 0.170054\n",
      "   Snapshot_6_of_12_of_Vacancy_AIMD_NVT_simulation_at_6000_K || 0.023912 0.460871\n",
      "           Snapshot_6_of_40_of_AIMD_NVT_simulation_at_3000_K || 0.011224 0.462081\n",
      "            Snapshot_6_of_40_of_AIMD_NVT_simulation_at_300_K || 0.033556 0.154927\n",
      "           Snapshot_6_of_40_of_AIMD_NVT_simulation_at_6000_K || 0.088289 1.310464\n",
      "    Snapshot_7_of_12_of_Vacancy_AIMD_NVT_simulation_at_300_K || 0.014418 0.139278\n",
      "   Snapshot_7_of_12_of_Vacancy_AIMD_NVT_simulation_at_6000_K || 0.020883 0.430660\n",
      "           Snapshot_7_of_40_of_AIMD_NVT_simulation_at_6000_K || 0.020387 1.062747\n",
      "   Snapshot_8_of_12_of_Vacancy_AIMD_NVT_simulation_at_6000_K || 0.024706 0.496900\n",
      "           Snapshot_8_of_40_of_AIMD_NVT_simulation_at_3000_K || 0.001801 0.519883\n",
      "            Snapshot_8_of_40_of_AIMD_NVT_simulation_at_300_K || 0.031304 0.165814\n",
      "           Snapshot_8_of_40_of_AIMD_NVT_simulation_at_6000_K || 0.058806 1.142691\n",
      "    Snapshot_9_of_12_of_Vacancy_AIMD_NVT_simulation_at_300_K || 0.019892 0.072462\n",
      "   Snapshot_9_of_12_of_Vacancy_AIMD_NVT_simulation_at_6000_K || 0.022523 0.479002\n",
      "           Snapshot_9_of_40_of_AIMD_NVT_simulation_at_3000_K || 0.001455 0.392785\n",
      "            Snapshot_9_of_40_of_AIMD_NVT_simulation_at_300_K || 0.030172 0.182111\n",
      "           Snapshot_9_of_40_of_AIMD_NVT_simulation_at_6000_K || 0.003236 1.030392\n"
     ]
    }
   ],
   "source": [
    "with h5py.File('../svreg_data/mlearn/Mo/Mo.hdf5', 'r') as db:\n",
    "        \n",
    "    print(\n",
    "        '{:>45} average errors || {:.6f} {:.6f}\\n'.format(\n",
    "            str(tree),\n",
    "            np.average(errors[::2]),\n",
    "            np.average(errors[1::2]),\n",
    "        )\n",
    "    )\n",
    "    \n",
    "    print(\n",
    "        '{:>60} || {} {}'.format(\n",
    "            'structName',\n",
    "            '(eV/atom)',\n",
    "            '(eV/A)'\n",
    "        )\n",
    "    )\n",
    "    \n",
    "    for i, structName in enumerate(sorted(db)):\n",
    "        print(\n",
    "            '{:>60} || {:.6f} {:.6f}'.format(\n",
    "                structName,\n",
    "                errors[2*i],\n",
    "                errors[2*i+1]\n",
    "            )\n",
    "        )"
   ]
  },
  {
   "cell_type": "code",
   "execution_count": 59,
   "metadata": {},
   "outputs": [
    {
     "data": {
      "text/plain": [
       "<matplotlib.legend.Legend at 0x7fbc63f07358>"
      ]
     },
     "execution_count": 59,
     "metadata": {},
     "output_type": "execute_result"
    },
    {
     "data": {
      "image/png": "[encoded data removed]",
      "text/plain": [
       "<Figure size 576x288 with 2 Axes>"
      ]
     },
     "metadata": {
      "needs_background": "light"
     },
     "output_type": "display_data"
    }
   ],
   "source": [
    "fig, ax = plt.subplots(1, 2, figsize=(8, 4))\n",
    "\n",
    "ax[0].hist(errors[::2] , bins=100, alpha=0.3, label='Energy errors', color='orange')\n",
    "ax[1].hist(errors[1::2], bins=100, alpha=0.3, label='Force errors', color='blue')\n",
    "\n",
    "ax[0].legend()\n",
    "ax[1].legend()"
   ]
  },
  {
   "cell_type": "code",
   "execution_count": null,
   "metadata": {},
   "outputs": [],
   "source": []
  }
 ],
 "metadata": {
  "kernelspec": {
   "display_name": "Python 3",
   "language": "python",
   "name": "python3"
  },
  "language_info": {
   "codemirror_mode": {
    "name": "ipython",
    "version": 3
   },
   "file_extension": ".py",
   "mimetype": "text/x-python",
   "name": "python",
   "nbconvert_exporter": "python",
   "pygments_lexer": "ipython3",
   "version": "3.6.10"
  }
 },
 "nbformat": 4,
 "nbformat_minor": 4
}
