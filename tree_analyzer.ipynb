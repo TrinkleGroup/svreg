{
 "cells": [
  {
   "cell_type": "markdown",
   "metadata": {},
   "source": [
    "# Imports"
   ]
  },
  {
   "cell_type": "code",
   "execution_count": 1,
   "metadata": {},
   "outputs": [],
   "source": [
    "import os\n",
    "import h5py\n",
    "import sympy\n",
    "import glob\n",
    "import pickle\n",
    "import numpy as np\n",
    "import matplotlib.pyplot as plt\n",
    "\n",
    "from IPython.display import display, Math\n",
    "from scipy.interpolate import CubicSpline\n",
    "\n",
    "from tree import SVTree\n",
    "from nodes import FunctionNode\n",
    "from regressor import SVRegressor"
   ]
  },
  {
   "cell_type": "markdown",
   "metadata": {},
   "source": [
    "# Setup"
   ]
  },
  {
   "cell_type": "code",
   "execution_count": 2,
   "metadata": {},
   "outputs": [],
   "source": [
    "basePath = os.path.join('results', 'smeam_dup')\n",
    "fromArchive = False\n",
    "\n",
    "basePath = os.path.join('results', 'mo_smooth2')\n",
    "fromArchive = True"
   ]
  },
  {
   "cell_type": "code",
   "execution_count": 3,
   "metadata": {},
   "outputs": [
    {
     "name": "stdout",
     "output_type": "stream",
     "text": [
      "78.77787188581301 inf\n"
     ]
    },
    {
     "data": {
      "text/latex": [
       "$\\displaystyle 78.78<->ffg$"
      ],
      "text/plain": [
       "<IPython.core.display.Math object>"
      ]
     },
     "metadata": {},
     "output_type": "display_data"
    },
    {
     "data": {
      "text/latex": [
       "$\\displaystyle 80.96<->\\rho$"
      ],
      "text/plain": [
       "<IPython.core.display.Math object>"
      ]
     },
     "metadata": {},
     "output_type": "display_data"
    },
    {
     "data": {
      "text/latex": [
       "$\\displaystyle 84.93<->ffg \\cdot ffg$"
      ],
      "text/plain": [
       "<IPython.core.display.Math object>"
      ]
     },
     "metadata": {},
     "output_type": "display_data"
    },
    {
     "data": {
      "text/latex": [
       "$\\displaystyle 100.10<->ffg + \\operatorname{sig}{\\left(\\rho \\right)}$"
      ],
      "text/plain": [
       "<IPython.core.display.Math object>"
      ]
     },
     "metadata": {},
     "output_type": "display_data"
    }
   ],
   "source": [
    "if fromArchive:\n",
    "    allTreeNames = glob.glob(os.path.join(basePath, '*'))\n",
    "    del allTreeNames[allTreeNames.index(os.path.join(basePath, 'archive.pkl'))]\n",
    "    \n",
    "    bestCost = np.inf\n",
    "    bestIdx = 0\n",
    "    \n",
    "    worstCost = 0\n",
    "    worstIdx = 0\n",
    "    \n",
    "    archive = pickle.load(open(os.path.join(basePath, 'archive.pkl'), 'rb'))\n",
    "    \n",
    "    allErrors = []\n",
    "    allLatex = []\n",
    "\n",
    "    for i, treePath in enumerate(allTreeNames):\n",
    "        treeName = os.path.split(treePath)[-1]\n",
    "        \n",
    "        tree = pickle.load(open(os.path.join(treePath, 'tree.pkl'), 'rb'))\n",
    "\n",
    "        entry = archive[treeName]\n",
    "        tree.bestParams = entry.bestParams\n",
    "\n",
    "        errors = entry.bestErrors\n",
    "    \n",
    "        latex = SVTree([\n",
    "            FunctionNode(n.description) if isinstance(n, FunctionNode)\n",
    "            else n\n",
    "            for n in tree.nodes\n",
    "        ]).latex()\n",
    "\n",
    "        sumErrors = np.sum(errors)\n",
    "        \n",
    "        if sumErrors < bestCost:\n",
    "            print(sumErrors, bestCost)\n",
    "            bestCost = sumErrors\n",
    "            bestIdx = i\n",
    "        \n",
    "        if sumErrors > worstCost:\n",
    "            worstCost = sumErrors\n",
    "            worstIdx = i\n",
    "        \n",
    "        allErrors.append(sumErrors)\n",
    "        allLatex.append(latex)\n",
    "        \n",
    "    allLatex = np.array(allLatex)[np.argsort(allErrors)]\n",
    "    allErrors = np.array(allErrors)[np.argsort(allErrors)]\n",
    "\n",
    "    for latex, errors in zip(allLatex, allErrors):\n",
    "        display(Math('{:.2f}<->{}'.format(\n",
    "            errors,\n",
    "            sympy.latex(sympy.sympify(latex, evaluate=False), mul_symbol='dot')\n",
    "        )))\n",
    "            \n",
    "    treePath = allTreeNames[bestIdx]\n",
    "#     treePath = allTreeNames[worstIdx]\n",
    "    treeName = os.path.split(treePath)[-1]\n",
    "\n",
    "    archive = pickle.load(open(os.path.join(basePath, 'archive.pkl'), 'rb'))\n",
    "    tree = pickle.load(open(os.path.join(basePath, treeName, 'tree.pkl'), 'rb'))\n",
    "    \n",
    "    entry = archive[treeName]\n",
    "    tree.bestParams = entry.bestParams\n",
    "    \n",
    "    errors = entry.bestErrors\n",
    "else:\n",
    "    files = sorted(glob.glob(os.path.join(basePath, 'tree*')))\n",
    "    intIndices = [int(s[s.find('tree')+5:s.find('.pkl')]) for s in files]\n",
    "\n",
    "    argsort = np.argsort(intIndices)\n",
    "\n",
    "    treeFile = np.array(files)[argsort][-1]\n",
    "    tree = pickle.load(open(treeFile, 'rb'))\n",
    "    \n",
    "    errorFiles = sorted(glob.glob(os.path.join(basePath, 'errors*')))\n",
    "    errorFile  = np.array(errorFiles)[argsort][-1]\n",
    "    errors = pickle.load(open(errorFile, 'rb'))"
   ]
  },
  {
   "cell_type": "code",
   "execution_count": 4,
   "metadata": {},
   "outputs": [
    {
     "data": {
      "text/plain": [
       "78.77787188581301"
      ]
     },
     "execution_count": 4,
     "metadata": {},
     "output_type": "execute_result"
    }
   ],
   "source": [
    "allErrors[bestIdx]"
   ]
  },
  {
   "cell_type": "markdown",
   "metadata": {},
   "source": [
    "# Plotting"
   ]
  },
  {
   "cell_type": "code",
   "execution_count": 5,
   "metadata": {},
   "outputs": [],
   "source": [
    "def plotSpline(x, y, bc):\n",
    "    cs = CubicSpline(x, y, bc_type=((1, bc[0]), (1, bc[1])))\n",
    "    \n",
    "    plotX = np.linspace(x[0]-0.1, x[-1]+0.1, 100)\n",
    "    plotY = cs(plotX)\n",
    "    \n",
    "    return plotX, plotY"
   ]
  },
  {
   "cell_type": "code",
   "execution_count": 6,
   "metadata": {},
   "outputs": [],
   "source": [
    "splits = []\n",
    "\n",
    "for svNode in tree.svNodes:\n",
    "    for comp in svNode.components:\n",
    "        splits.append(svNode.numParams[comp]+len(svNode.restrictions[comp]))"
   ]
  },
  {
   "cell_type": "code",
   "execution_count": 7,
   "metadata": {},
   "outputs": [],
   "source": [
    "splitParams = np.array_split(tree.fillFixedKnots(tree.bestParams)[0], np.cumsum(splits)[:-1])"
   ]
  },
  {
   "cell_type": "code",
   "execution_count": 8,
   "metadata": {},
   "outputs": [
    {
     "data": {
      "text/latex": [
       "$\\displaystyle ffg$"
      ],
      "text/plain": [
       "<IPython.core.display.Math object>"
      ]
     },
     "metadata": {},
     "output_type": "display_data"
    },
    {
     "data": {
      "image/png": "[encoded data removed]",
      "text/plain": [
       "<Figure size 864x288 with 3 Axes>"
      ]
     },
     "metadata": {
      "needs_background": "light"
     },
     "output_type": "display_data"
    }
   ],
   "source": [
    "numRows = int(max(1, np.ceil(len(splitParams)/3)))\n",
    "\n",
    "fig, axes = plt.subplots(numRows, 3, figsize=(12, 4*numRows))\n",
    "\n",
    "compNames = np.hstack([svNode.components for svNode in tree.svNodes])\n",
    "\n",
    "display(Math('{}'.format(\n",
    "    sympy.latex(sympy.sympify(allLatex[0], evaluate=False), mul_symbol='dot')\n",
    ")))\n",
    "    \n",
    "for i, spline in enumerate(splitParams):\n",
    "    y, bc = spline[:-2], spline[-2:]\n",
    "    x = np.arange(len(y))\n",
    "    \n",
    "    plotX, plotY = plotSpline(x, y, bc)\n",
    "    \n",
    "    row = i//3\n",
    "    col = i%3\n",
    "    \n",
    "    if numRows > 1:\n",
    "        ax = axes[row][col]\n",
    "    else:\n",
    "        ax = axes[col]\n",
    "    \n",
    "    ax.plot(x, y, 'o')\n",
    "    ax.plot(plotX, plotY)\n",
    "    ax.set_title(compNames[i].decode('utf-8'))"
   ]
  },
  {
   "cell_type": "markdown",
   "metadata": {},
   "source": [
    "# Errors"
   ]
  },
  {
   "cell_type": "markdown",
   "metadata": {},
   "source": [
    "## Directly from logs"
   ]
  },
  {
   "cell_type": "code",
   "execution_count": 21,
   "metadata": {},
   "outputs": [
    {
     "data": {
      "text/plain": [
       "0.33506613908759086"
      ]
     },
     "execution_count": 21,
     "metadata": {},
     "output_type": "execute_result"
    }
   ],
   "source": [
    "energyWeight = 1\n",
    "forcesWeight = 1\n",
    "\n",
    "unweighted = errors.copy()\n",
    "unweighted[::2] /= energyWeight\n",
    "unweighted[1::2] /= forcesWeight\n",
    "\n",
    "np.sqrt(np.average(unweighted**2))"
   ]
  },
  {
   "cell_type": "code",
   "execution_count": 22,
   "metadata": {},
   "outputs": [
    {
     "name": "stdout",
     "output_type": "stream",
     "text": [
      "                                          ffg average errors || 0.073472 0.468125\n",
      "\n",
      "                                                  structName || (eV/atom) (eV/A)\n",
      "                                        Ground_state_crystal || 0.000000 0.041492\n",
      "                         Mo_3x3x3_cell_mode_1_strain_-0.0200 || 0.013005 0.037592\n",
      "                         Mo_3x3x3_cell_mode_1_strain_-0.0400 || 0.036736 0.040078\n",
      "                         Mo_3x3x3_cell_mode_1_strain_-0.0600 || 0.069090 0.039750\n",
      "                         Mo_3x3x3_cell_mode_1_strain_-0.0800 || 0.108952 0.039201\n",
      "                         Mo_3x3x3_cell_mode_1_strain_-0.1000 || 0.156244 0.042046\n",
      "                          Mo_3x3x3_cell_mode_1_strain_0.0200 || 0.001161 0.042112\n",
      "                          Mo_3x3x3_cell_mode_1_strain_0.0800 || 0.066100 0.042391\n",
      "                         Mo_3x3x3_cell_mode_2_strain_-0.0200 || 0.012929 0.035582\n",
      "                         Mo_3x3x3_cell_mode_2_strain_-0.0400 || 0.036728 0.038874\n",
      "                         Mo_3x3x3_cell_mode_2_strain_-0.0600 || 0.069216 0.041709\n",
      "                         Mo_3x3x3_cell_mode_2_strain_-0.0800 || 0.108899 0.038774\n",
      "                         Mo_3x3x3_cell_mode_2_strain_-0.1000 || 0.156445 0.054153\n",
      "                          Mo_3x3x3_cell_mode_2_strain_0.0200 || 0.001141 0.043422\n",
      "                          Mo_3x3x3_cell_mode_2_strain_0.0400 || 0.014130 0.040818\n",
      "                          Mo_3x3x3_cell_mode_2_strain_0.0600 || 0.035646 0.041822\n",
      "                          Mo_3x3x3_cell_mode_2_strain_0.0800 || 0.066077 0.041250\n",
      "                          Mo_3x3x3_cell_mode_2_strain_0.1000 || 0.103641 0.042852\n",
      "                         Mo_3x3x3_cell_mode_3_strain_-0.0200 || 0.013122 0.042965\n",
      "                         Mo_3x3x3_cell_mode_3_strain_-0.0400 || 0.036676 0.034497\n",
      "                         Mo_3x3x3_cell_mode_3_strain_-0.0600 || 0.069016 0.038856\n",
      "                         Mo_3x3x3_cell_mode_3_strain_-0.1000 || 0.156238 0.040418\n",
      "                          Mo_3x3x3_cell_mode_3_strain_0.0200 || 0.001131 0.041129\n",
      "                          Mo_3x3x3_cell_mode_3_strain_0.0400 || 0.014125 0.039852\n",
      "                          Mo_3x3x3_cell_mode_3_strain_0.0600 || 0.035728 0.046311\n",
      "                          Mo_3x3x3_cell_mode_3_strain_0.0800 || 0.065964 0.035681\n",
      "                          Mo_3x3x3_cell_mode_3_strain_0.1000 || 0.103581 0.043270\n",
      "                         Mo_3x3x3_cell_mode_4_strain_-0.0200 || 0.000882 0.043057\n",
      "                         Mo_3x3x3_cell_mode_4_strain_-0.0400 || 0.003539 0.042079\n",
      "                         Mo_3x3x3_cell_mode_4_strain_-0.0600 || 0.007119 0.040438\n",
      "                          Mo_3x3x3_cell_mode_4_strain_0.0200 || 0.000873 0.037831\n",
      "                          Mo_3x3x3_cell_mode_4_strain_0.0400 || 0.003527 0.040758\n",
      "                          Mo_3x3x3_cell_mode_4_strain_0.0600 || 0.006987 0.036674\n",
      "                          Mo_3x3x3_cell_mode_4_strain_0.0800 || 0.011292 0.037865\n",
      "                          Mo_3x3x3_cell_mode_4_strain_0.1000 || 0.016011 0.035417\n",
      "                         Mo_3x3x3_cell_mode_5_strain_-0.0200 || 0.000848 0.039205\n",
      "                         Mo_3x3x3_cell_mode_5_strain_-0.0400 || 0.003600 0.042713\n",
      "                         Mo_3x3x3_cell_mode_5_strain_-0.0600 || 0.007004 0.038295\n",
      "                         Mo_3x3x3_cell_mode_5_strain_-0.0800 || 0.011299 0.041423\n",
      "                         Mo_3x3x3_cell_mode_5_strain_-0.1000 || 0.016145 0.038807\n",
      "                          Mo_3x3x3_cell_mode_5_strain_0.0200 || 0.000854 0.041503\n",
      "                          Mo_3x3x3_cell_mode_5_strain_0.0400 || 0.003419 0.036753\n",
      "                          Mo_3x3x3_cell_mode_5_strain_0.0600 || 0.006947 0.035209\n",
      "                          Mo_3x3x3_cell_mode_5_strain_0.0800 || 0.011190 0.038206\n",
      "                          Mo_3x3x3_cell_mode_5_strain_0.1000 || 0.016560 0.049742\n",
      "                         Mo_3x3x3_cell_mode_6_strain_-0.0200 || 0.000991 0.045017\n",
      "                         Mo_3x3x3_cell_mode_6_strain_-0.0400 || 0.003634 0.043375\n",
      "                         Mo_3x3x3_cell_mode_6_strain_-0.0600 || 0.007102 0.039287\n",
      "                         Mo_3x3x3_cell_mode_6_strain_-0.0800 || 0.011324 0.043581\n",
      "                         Mo_3x3x3_cell_mode_6_strain_-0.1000 || 0.016182 0.038052\n",
      "                          Mo_3x3x3_cell_mode_6_strain_0.0200 || 0.000911 0.042366\n",
      "                          Mo_3x3x3_cell_mode_6_strain_0.0400 || 0.003468 0.039975\n",
      "                          Mo_3x3x3_cell_mode_6_strain_0.0600 || 0.007060 0.036778\n",
      "                          Mo_3x3x3_cell_mode_6_strain_0.0800 || 0.011351 0.040114\n",
      "                          Mo_3x3x3_cell_mode_6_strain_0.1000 || 0.016250 0.042483\n",
      "                                       Mo_3x3x3_cell_relaxed || 0.002462 0.000000\n",
      "                             Mo_surface_mp_Mo_mp-129__1_0_0_ || 0.054598 0.424120\n",
      "                             Mo_surface_mp_Mo_mp-129__1_1_0_ || 0.005309 0.168374\n",
      "                             Mo_surface_mp_Mo_mp-129__1_1_1_ || 0.018674 0.421761\n",
      "                             Mo_surface_mp_Mo_mp-129__2_1_0_ || 0.011944 0.356356\n",
      "                             Mo_surface_mp_Mo_mp-129__2_2_1_ || 0.009816 0.269297\n",
      "                             Mo_surface_mp_Mo_mp-129__3_1_1_ || 0.012072 0.527704\n",
      "                             Mo_surface_mp_Mo_mp-129__3_2_0_ || 0.010741 0.361452\n",
      "                             Mo_surface_mp_Mo_mp-129__3_2_1_ || 0.005523 0.383372\n",
      "                             Mo_surface_mp_Mo_mp-129__3_3_2_ || 0.004070 0.393039\n",
      "   Snapshot_10_of_12_of_Vacancy_AIMD_NVT_simulation_at_300_K || 0.004711 0.237138\n",
      "  Snapshot_10_of_12_of_Vacancy_AIMD_NVT_simulation_at_6000_K || 0.090884 0.458651\n",
      "          Snapshot_10_of_40_of_AIMD_NVT_simulation_at_3000_K || 0.084129 0.398954\n",
      "           Snapshot_10_of_40_of_AIMD_NVT_simulation_at_300_K || 0.014580 0.207205\n",
      "   Snapshot_11_of_12_of_Vacancy_AIMD_NVT_simulation_at_300_K || 0.011684 0.226499\n",
      "  Snapshot_11_of_12_of_Vacancy_AIMD_NVT_simulation_at_6000_K || 0.071399 0.483171\n",
      "           Snapshot_11_of_40_of_AIMD_NVT_simulation_at_300_K || 0.010007 0.196503\n",
      "          Snapshot_11_of_40_of_AIMD_NVT_simulation_at_6000_K || 0.108632 0.864921\n",
      "   Snapshot_12_of_12_of_Vacancy_AIMD_NVT_simulation_at_300_K || 0.019591 0.186798\n",
      "  Snapshot_12_of_12_of_Vacancy_AIMD_NVT_simulation_at_6000_K || 0.118953 0.645264\n",
      "          Snapshot_12_of_40_of_AIMD_NVT_simulation_at_3000_K || 0.072468 0.449186\n",
      "           Snapshot_12_of_40_of_AIMD_NVT_simulation_at_300_K || 0.014980 0.210820\n",
      "          Snapshot_12_of_40_of_AIMD_NVT_simulation_at_6000_K || 0.088571 0.847233\n",
      "          Snapshot_13_of_40_of_AIMD_NVT_simulation_at_3000_K || 0.078860 0.419523\n",
      "           Snapshot_13_of_40_of_AIMD_NVT_simulation_at_300_K || 0.007185 0.172740\n",
      "          Snapshot_13_of_40_of_AIMD_NVT_simulation_at_6000_K || 0.070730 0.819302\n",
      "           Snapshot_14_of_40_of_AIMD_NVT_simulation_at_300_K || 0.012772 0.193408\n",
      "          Snapshot_14_of_40_of_AIMD_NVT_simulation_at_6000_K || 0.114198 0.936343\n",
      "          Snapshot_15_of_40_of_AIMD_NVT_simulation_at_3000_K || 0.092527 0.397196\n",
      "           Snapshot_15_of_40_of_AIMD_NVT_simulation_at_300_K || 0.017770 0.214554\n",
      "          Snapshot_15_of_40_of_AIMD_NVT_simulation_at_6000_K || 0.091001 1.002315\n",
      "          Snapshot_16_of_40_of_AIMD_NVT_simulation_at_3000_K || 0.094246 0.452443\n",
      "           Snapshot_16_of_40_of_AIMD_NVT_simulation_at_300_K || 0.012093 0.194931\n",
      "          Snapshot_16_of_40_of_AIMD_NVT_simulation_at_6000_K || 0.121991 0.875623\n",
      "          Snapshot_17_of_40_of_AIMD_NVT_simulation_at_3000_K || 0.090520 0.482008\n",
      "           Snapshot_17_of_40_of_AIMD_NVT_simulation_at_300_K || 0.012468 0.196339\n",
      "          Snapshot_17_of_40_of_AIMD_NVT_simulation_at_6000_K || 0.131571 0.709776\n",
      "          Snapshot_18_of_40_of_AIMD_NVT_simulation_at_3000_K || 0.095222 0.446106\n",
      "           Snapshot_18_of_40_of_AIMD_NVT_simulation_at_300_K || 0.008950 0.191973\n",
      "          Snapshot_18_of_40_of_AIMD_NVT_simulation_at_6000_K || 0.068173 0.880282\n",
      "          Snapshot_19_of_40_of_AIMD_NVT_simulation_at_3000_K || 0.069323 0.408254\n",
      "           Snapshot_19_of_40_of_AIMD_NVT_simulation_at_300_K || 0.010153 0.197343\n",
      "    Snapshot_1_of_12_of_Vacancy_AIMD_NVT_simulation_at_300_K || 0.020622 0.144678\n",
      "   Snapshot_1_of_12_of_Vacancy_AIMD_NVT_simulation_at_6000_K || 0.017889 0.169828\n",
      "           Snapshot_1_of_40_of_AIMD_NVT_simulation_at_3000_K || 0.092740 0.427920\n",
      "            Snapshot_1_of_40_of_AIMD_NVT_simulation_at_300_K || 0.011918 0.196538\n",
      "           Snapshot_1_of_40_of_AIMD_NVT_simulation_at_6000_K || 0.177525 1.156430\n",
      "          Snapshot_20_of_40_of_AIMD_NVT_simulation_at_3000_K || 0.100643 0.488846\n",
      "           Snapshot_20_of_40_of_AIMD_NVT_simulation_at_300_K || 0.006944 0.173883\n",
      "          Snapshot_20_of_40_of_AIMD_NVT_simulation_at_6000_K || 0.125084 0.891367\n",
      "          Snapshot_21_of_40_of_AIMD_NVT_simulation_at_3000_K || 0.099601 0.401153\n",
      "           Snapshot_21_of_40_of_AIMD_NVT_simulation_at_300_K || 0.012040 0.172420\n",
      "          Snapshot_21_of_40_of_AIMD_NVT_simulation_at_6000_K || 0.145738 0.933360\n",
      "          Snapshot_22_of_40_of_AIMD_NVT_simulation_at_3000_K || 0.106438 0.453827\n",
      "           Snapshot_22_of_40_of_AIMD_NVT_simulation_at_300_K || 0.013902 0.199007\n",
      "          Snapshot_22_of_40_of_AIMD_NVT_simulation_at_6000_K || 0.090205 0.932888\n",
      "          Snapshot_23_of_40_of_AIMD_NVT_simulation_at_3000_K || 0.096251 0.480837\n",
      "           Snapshot_23_of_40_of_AIMD_NVT_simulation_at_300_K || 0.018573 0.232800\n",
      "          Snapshot_23_of_40_of_AIMD_NVT_simulation_at_6000_K || 0.081064 0.865751\n",
      "          Snapshot_24_of_40_of_AIMD_NVT_simulation_at_3000_K || 0.091919 0.436710\n",
      "           Snapshot_24_of_40_of_AIMD_NVT_simulation_at_300_K || 0.013084 0.184636\n",
      "          Snapshot_24_of_40_of_AIMD_NVT_simulation_at_6000_K || 0.151618 1.117524\n",
      "          Snapshot_25_of_40_of_AIMD_NVT_simulation_at_3000_K || 0.118377 0.414235\n",
      "          Snapshot_25_of_40_of_AIMD_NVT_simulation_at_6000_K || 0.134032 0.859671\n",
      "          Snapshot_26_of_40_of_AIMD_NVT_simulation_at_3000_K || 0.079823 0.417906\n",
      "           Snapshot_26_of_40_of_AIMD_NVT_simulation_at_300_K || 0.013956 0.226845\n",
      "          Snapshot_26_of_40_of_AIMD_NVT_simulation_at_6000_K || 0.086772 0.687426\n",
      "          Snapshot_27_of_40_of_AIMD_NVT_simulation_at_3000_K || 0.062871 0.428941\n",
      "          Snapshot_27_of_40_of_AIMD_NVT_simulation_at_6000_K || 0.121519 0.890312\n",
      "          Snapshot_28_of_40_of_AIMD_NVT_simulation_at_3000_K || 0.092110 0.402402\n",
      "           Snapshot_28_of_40_of_AIMD_NVT_simulation_at_300_K || 0.015848 0.199492\n",
      "          Snapshot_28_of_40_of_AIMD_NVT_simulation_at_6000_K || 0.093427 0.997616\n",
      "          Snapshot_29_of_40_of_AIMD_NVT_simulation_at_3000_K || 0.103779 0.493949\n",
      "           Snapshot_29_of_40_of_AIMD_NVT_simulation_at_300_K || 0.009597 0.176257\n",
      "          Snapshot_29_of_40_of_AIMD_NVT_simulation_at_6000_K || 0.093317 0.754984\n",
      "    Snapshot_2_of_12_of_Vacancy_AIMD_NVT_simulation_at_300_K || 0.009188 0.238664\n",
      "   Snapshot_2_of_12_of_Vacancy_AIMD_NVT_simulation_at_6000_K || 0.099457 0.513549\n",
      "           Snapshot_2_of_40_of_AIMD_NVT_simulation_at_3000_K || 0.091210 0.415185\n",
      "            Snapshot_2_of_40_of_AIMD_NVT_simulation_at_300_K || 0.015863 0.204313\n",
      "           Snapshot_2_of_40_of_AIMD_NVT_simulation_at_6000_K || 0.126773 0.853071\n",
      "          Snapshot_30_of_40_of_AIMD_NVT_simulation_at_3000_K || 0.092254 0.495447\n",
      "          Snapshot_30_of_40_of_AIMD_NVT_simulation_at_6000_K || 0.111836 0.910814\n",
      "          Snapshot_31_of_40_of_AIMD_NVT_simulation_at_3000_K || 0.074863 0.467120\n",
      "           Snapshot_31_of_40_of_AIMD_NVT_simulation_at_300_K || 0.011816 0.180734\n",
      "          Snapshot_32_of_40_of_AIMD_NVT_simulation_at_3000_K || 0.097890 0.412519\n",
      "           Snapshot_32_of_40_of_AIMD_NVT_simulation_at_300_K || 0.013385 0.181224\n",
      "          Snapshot_32_of_40_of_AIMD_NVT_simulation_at_6000_K || 0.091284 0.791349\n",
      "          Snapshot_33_of_40_of_AIMD_NVT_simulation_at_3000_K || 0.105586 0.420371\n",
      "           Snapshot_33_of_40_of_AIMD_NVT_simulation_at_300_K || 0.009701 0.171785\n",
      "          Snapshot_33_of_40_of_AIMD_NVT_simulation_at_6000_K || 0.093351 0.742916\n",
      "          Snapshot_34_of_40_of_AIMD_NVT_simulation_at_3000_K || 0.088505 0.434444\n",
      "           Snapshot_34_of_40_of_AIMD_NVT_simulation_at_300_K || 0.007588 0.172142\n",
      "          Snapshot_34_of_40_of_AIMD_NVT_simulation_at_6000_K || 0.091103 0.834494\n",
      "          Snapshot_35_of_40_of_AIMD_NVT_simulation_at_3000_K || 0.087190 0.481975\n",
      "           Snapshot_35_of_40_of_AIMD_NVT_simulation_at_300_K || 0.014825 0.196809\n",
      "          Snapshot_35_of_40_of_AIMD_NVT_simulation_at_6000_K || 0.029141 0.815028\n",
      "          Snapshot_36_of_40_of_AIMD_NVT_simulation_at_3000_K || 0.095365 0.499155\n",
      "           Snapshot_36_of_40_of_AIMD_NVT_simulation_at_300_K || 0.019115 0.219179\n",
      "          Snapshot_36_of_40_of_AIMD_NVT_simulation_at_6000_K || 0.104644 0.942261\n",
      "          Snapshot_37_of_40_of_AIMD_NVT_simulation_at_3000_K || 0.096957 0.439105\n",
      "           Snapshot_37_of_40_of_AIMD_NVT_simulation_at_300_K || 0.018367 0.231367\n",
      "          Snapshot_38_of_40_of_AIMD_NVT_simulation_at_3000_K || 0.113225 0.485675\n",
      "           Snapshot_38_of_40_of_AIMD_NVT_simulation_at_300_K || 0.014696 0.206105\n",
      "          Snapshot_38_of_40_of_AIMD_NVT_simulation_at_6000_K || 0.142286 0.771025\n",
      "          Snapshot_39_of_40_of_AIMD_NVT_simulation_at_3000_K || 0.098437 0.446946\n",
      "           Snapshot_39_of_40_of_AIMD_NVT_simulation_at_300_K || 0.016033 0.208294\n",
      "          Snapshot_39_of_40_of_AIMD_NVT_simulation_at_6000_K || 0.126070 0.842749\n",
      "    Snapshot_3_of_12_of_Vacancy_AIMD_NVT_simulation_at_300_K || 0.011233 0.188878\n",
      "   Snapshot_3_of_12_of_Vacancy_AIMD_NVT_simulation_at_6000_K || 0.073763 0.460577\n",
      "           Snapshot_3_of_40_of_AIMD_NVT_simulation_at_3000_K || 0.089275 0.443327\n",
      "            Snapshot_3_of_40_of_AIMD_NVT_simulation_at_300_K || 0.013838 0.202877\n",
      "           Snapshot_3_of_40_of_AIMD_NVT_simulation_at_6000_K || 0.152837 0.940786\n",
      "          Snapshot_40_of_40_of_AIMD_NVT_simulation_at_3000_K || 0.094047 0.430165\n",
      "          Snapshot_40_of_40_of_AIMD_NVT_simulation_at_6000_K || 0.095534 0.683319\n",
      "           Snapshot_4_of_40_of_AIMD_NVT_simulation_at_3000_K || 0.086900 0.446610\n",
      "            Snapshot_4_of_40_of_AIMD_NVT_simulation_at_300_K || 0.017264 0.192857\n",
      "           Snapshot_4_of_40_of_AIMD_NVT_simulation_at_6000_K || 0.105120 1.008261\n",
      "    Snapshot_5_of_12_of_Vacancy_AIMD_NVT_simulation_at_300_K || 0.021912 0.066603\n",
      "   Snapshot_5_of_12_of_Vacancy_AIMD_NVT_simulation_at_6000_K || 0.054306 0.480696\n",
      "           Snapshot_5_of_40_of_AIMD_NVT_simulation_at_3000_K || 0.088681 0.399230\n",
      "            Snapshot_5_of_40_of_AIMD_NVT_simulation_at_300_K || 0.007173 0.170193\n",
      "           Snapshot_5_of_40_of_AIMD_NVT_simulation_at_6000_K || 0.195541 1.273478\n",
      "    Snapshot_6_of_12_of_Vacancy_AIMD_NVT_simulation_at_300_K || 0.007978 0.222924\n",
      "   Snapshot_6_of_12_of_Vacancy_AIMD_NVT_simulation_at_6000_K || 0.089264 0.498667\n",
      "           Snapshot_6_of_40_of_AIMD_NVT_simulation_at_3000_K || 0.089873 0.461771\n",
      "            Snapshot_6_of_40_of_AIMD_NVT_simulation_at_300_K || 0.009536 0.170856\n",
      "           Snapshot_6_of_40_of_AIMD_NVT_simulation_at_6000_K || 0.125665 1.087868\n",
      "    Snapshot_7_of_12_of_Vacancy_AIMD_NVT_simulation_at_300_K || 0.021041 0.114826\n",
      "   Snapshot_7_of_12_of_Vacancy_AIMD_NVT_simulation_at_6000_K || 0.078933 0.442807\n",
      "           Snapshot_7_of_40_of_AIMD_NVT_simulation_at_6000_K || 0.089481 0.916385\n",
      "   Snapshot_8_of_12_of_Vacancy_AIMD_NVT_simulation_at_6000_K || 0.111144 0.499541\n",
      "           Snapshot_8_of_40_of_AIMD_NVT_simulation_at_3000_K || 0.086873 0.480347\n",
      "            Snapshot_8_of_40_of_AIMD_NVT_simulation_at_300_K || 0.012991 0.205195\n",
      "           Snapshot_8_of_40_of_AIMD_NVT_simulation_at_6000_K || 0.136880 0.987525\n",
      "    Snapshot_9_of_12_of_Vacancy_AIMD_NVT_simulation_at_300_K || 0.015041 0.119250\n",
      "   Snapshot_9_of_12_of_Vacancy_AIMD_NVT_simulation_at_6000_K || 0.092259 0.472599\n",
      "           Snapshot_9_of_40_of_AIMD_NVT_simulation_at_3000_K || 0.085106 0.414567\n",
      "            Snapshot_9_of_40_of_AIMD_NVT_simulation_at_300_K || 0.015394 0.199978\n",
      "           Snapshot_9_of_40_of_AIMD_NVT_simulation_at_6000_K || 0.104353 0.926375\n"
     ]
    }
   ],
   "source": [
    "with h5py.File('../svreg_data/mlearn/Mo/Mo.hdf5', 'r') as db:\n",
    "        \n",
    "    print(\n",
    "        '{:>45} average errors || {:.6f} {:.6f}\\n'.format(\n",
    "            str(tree),\n",
    "            np.sqrt(np.average(unweighted[::2]**2)),\n",
    "            np.sqrt(np.average(unweighted[1::2]**2)),\n",
    "        )\n",
    "    )\n",
    "    \n",
    "    print(\n",
    "        '{:>60} || {} {}'.format(\n",
    "            'structName',\n",
    "            '(eV/atom)',\n",
    "            '(eV/A)'\n",
    "        )\n",
    "    )\n",
    "    \n",
    "    for i, structName in enumerate(sorted(db)):\n",
    "        print(\n",
    "            '{:>60} || {:.6f} {:.6f}'.format(\n",
    "                structName,\n",
    "                unweighted[2*i],\n",
    "                unweighted[2*i+1]\n",
    "            )\n",
    "        )"
   ]
  },
  {
   "cell_type": "raw",
   "metadata": {},
   "source": [
    "mul(sqrt(sqrt(rho)), rho) average errors || 0.178780 0.543202"
   ]
  },
  {
   "cell_type": "code",
   "execution_count": 11,
   "metadata": {},
   "outputs": [
    {
     "data": {
      "text/plain": [
       "<matplotlib.legend.Legend at 0x7f1e4f435550>"
      ]
     },
     "execution_count": 11,
     "metadata": {},
     "output_type": "execute_result"
    },
    {
     "data": {
      "image/png": "[encoded data removed]",
      "text/plain": [
       "<Figure size 576x288 with 2 Axes>"
      ]
     },
     "metadata": {
      "needs_background": "light"
     },
     "output_type": "display_data"
    }
   ],
   "source": [
    "fig, ax = plt.subplots(1, 2, figsize=(8, 4))\n",
    "\n",
    "ax[0].hist(errors[::2] , bins=100, alpha=0.3, label='Energy errors', color='orange')\n",
    "ax[1].hist(errors[1::2], bins=100, alpha=0.3, label='Force errors', color='blue')\n",
    "\n",
    "ax[0].legend()\n",
    "ax[1].legend()"
   ]
  },
  {
   "cell_type": "markdown",
   "metadata": {},
   "source": [
    "## External validation"
   ]
  },
  {
   "cell_type": "code",
   "execution_count": 12,
   "metadata": {},
   "outputs": [
    {
     "data": {
      "text/plain": [
       "(16,)"
      ]
     },
     "execution_count": 12,
     "metadata": {},
     "output_type": "execute_result"
    }
   ],
   "source": [
    "tree.bestParams.shape"
   ]
  },
  {
   "cell_type": "code",
   "execution_count": 13,
   "metadata": {},
   "outputs": [],
   "source": [
    "popDict = tree.parseArr2Dict(np.atleast_2d(tree.bestParams), fillFixedKnots=True)\n",
    "\n",
    "for svName in popDict:\n",
    "    for bondType in popDict[svName]:\n",
    "        popDict[svName][bondType] = [popDict[svName][bondType]]"
   ]
  },
  {
   "cell_type": "code",
   "execution_count": 14,
   "metadata": {},
   "outputs": [],
   "source": [
    "def buildSVNodePool(group):\n",
    "    \"\"\"Prepare svNodePool for use in tree construction\"\"\"\n",
    "\n",
    "    svNodePool = []\n",
    "\n",
    "    # `group` is a pointer to an entry for a structure in the database\n",
    "    for svName in sorted(group):\n",
    "        svGroup = group[svName]\n",
    "\n",
    "        restrictions = None\n",
    "        if 'restrictions' in svGroup.attrs:\n",
    "            restrictions = []\n",
    "            resList = svGroup.attrs['restrictions'].tolist()\n",
    "            for num in svGroup.attrs['numRestrictions']:\n",
    "                tmp = []\n",
    "                for _ in range(num):\n",
    "                    tmp.append(tuple(resList.pop()))\n",
    "                restrictions.append(tmp)\n",
    "\n",
    "        svNodePool.append(\n",
    "            SVNode(\n",
    "                description=svName,\n",
    "                components=svGroup.attrs['components'],\n",
    "                numParams=svGroup.attrs['numParams'],\n",
    "                bonds={\n",
    "                    k:svGroup[k].attrs['components'] for k in svGroup.keys()\n",
    "                },\n",
    "                restrictions=restrictions,\n",
    "                paramRanges=svGroup.attrs['paramRanges']\\\n",
    "                    if 'paramRanges' in group[svName].attrs else None\n",
    "            )\n",
    "        )\n",
    "\n",
    "    return svNodePool"
   ]
  },
  {
   "cell_type": "code",
   "execution_count": 15,
   "metadata": {},
   "outputs": [
    {
     "name": "stdout",
     "output_type": "stream",
     "text": [
      "                                        Ground_state_crystal || 0.000000 0.041492\n",
      "                         Mo_3x3x3_cell_mode_1_strain_-0.0200 || 0.013005 0.037592\n",
      "                         Mo_3x3x3_cell_mode_1_strain_-0.0400 || 0.036736 0.040078\n",
      "                         Mo_3x3x3_cell_mode_1_strain_-0.0600 || 0.069090 0.039750\n",
      "                         Mo_3x3x3_cell_mode_1_strain_-0.0800 || 0.108952 0.039201\n",
      "                         Mo_3x3x3_cell_mode_1_strain_-0.1000 || 0.156244 0.042046\n",
      "                          Mo_3x3x3_cell_mode_1_strain_0.0200 || 0.001161 0.042112\n",
      "                          Mo_3x3x3_cell_mode_1_strain_0.0800 || 0.066100 0.042391\n",
      "                         Mo_3x3x3_cell_mode_2_strain_-0.0200 || 0.012929 0.035582\n",
      "                         Mo_3x3x3_cell_mode_2_strain_-0.0400 || 0.036728 0.038874\n",
      "                         Mo_3x3x3_cell_mode_2_strain_-0.0600 || 0.069216 0.041709\n",
      "                         Mo_3x3x3_cell_mode_2_strain_-0.0800 || 0.108899 0.038774\n",
      "                         Mo_3x3x3_cell_mode_2_strain_-0.1000 || 0.156445 0.054153\n",
      "                          Mo_3x3x3_cell_mode_2_strain_0.0200 || 0.001141 0.043422\n",
      "                          Mo_3x3x3_cell_mode_2_strain_0.0400 || 0.014130 0.040818\n",
      "                          Mo_3x3x3_cell_mode_2_strain_0.0600 || 0.035646 0.041822\n",
      "                          Mo_3x3x3_cell_mode_2_strain_0.0800 || 0.066077 0.041250\n",
      "                          Mo_3x3x3_cell_mode_2_strain_0.1000 || 0.103641 0.042852\n",
      "                         Mo_3x3x3_cell_mode_3_strain_-0.0200 || 0.013122 0.042965\n",
      "                         Mo_3x3x3_cell_mode_3_strain_-0.0400 || 0.036676 0.034497\n",
      "                         Mo_3x3x3_cell_mode_3_strain_-0.0600 || 0.069016 0.038856\n",
      "                         Mo_3x3x3_cell_mode_3_strain_-0.1000 || 0.156238 0.040418\n",
      "                          Mo_3x3x3_cell_mode_3_strain_0.0200 || 0.001131 0.041129\n",
      "                          Mo_3x3x3_cell_mode_3_strain_0.0400 || 0.014125 0.039852\n",
      "                          Mo_3x3x3_cell_mode_3_strain_0.0600 || 0.035728 0.046311\n",
      "                          Mo_3x3x3_cell_mode_3_strain_0.0800 || 0.065964 0.035681\n",
      "                          Mo_3x3x3_cell_mode_3_strain_0.1000 || 0.103581 0.043270\n",
      "                         Mo_3x3x3_cell_mode_4_strain_-0.0200 || 0.000882 0.043057\n",
      "                         Mo_3x3x3_cell_mode_4_strain_-0.0400 || 0.003539 0.042079\n",
      "                         Mo_3x3x3_cell_mode_4_strain_-0.0600 || 0.007119 0.040438\n",
      "                          Mo_3x3x3_cell_mode_4_strain_0.0200 || 0.000873 0.037831\n",
      "                          Mo_3x3x3_cell_mode_4_strain_0.0400 || 0.003527 0.040758\n",
      "                          Mo_3x3x3_cell_mode_4_strain_0.0600 || 0.006987 0.036674\n",
      "                          Mo_3x3x3_cell_mode_4_strain_0.0800 || 0.011292 0.037865\n",
      "                          Mo_3x3x3_cell_mode_4_strain_0.1000 || 0.016011 0.035417\n",
      "                         Mo_3x3x3_cell_mode_5_strain_-0.0200 || 0.000848 0.039205\n",
      "                         Mo_3x3x3_cell_mode_5_strain_-0.0400 || 0.003600 0.042713\n",
      "                         Mo_3x3x3_cell_mode_5_strain_-0.0600 || 0.007004 0.038295\n",
      "                         Mo_3x3x3_cell_mode_5_strain_-0.0800 || 0.011299 0.041423\n",
      "                         Mo_3x3x3_cell_mode_5_strain_-0.1000 || 0.016145 0.038807\n",
      "                          Mo_3x3x3_cell_mode_5_strain_0.0200 || 0.000854 0.041503\n",
      "                          Mo_3x3x3_cell_mode_5_strain_0.0400 || 0.003419 0.036753\n",
      "                          Mo_3x3x3_cell_mode_5_strain_0.0600 || 0.006947 0.035209\n",
      "                          Mo_3x3x3_cell_mode_5_strain_0.0800 || 0.011190 0.038206\n",
      "                          Mo_3x3x3_cell_mode_5_strain_0.1000 || 0.016560 0.049742\n",
      "                         Mo_3x3x3_cell_mode_6_strain_-0.0200 || 0.000991 0.045017\n",
      "                         Mo_3x3x3_cell_mode_6_strain_-0.0400 || 0.003634 0.043375\n",
      "                         Mo_3x3x3_cell_mode_6_strain_-0.0600 || 0.007102 0.039287\n",
      "                         Mo_3x3x3_cell_mode_6_strain_-0.0800 || 0.011324 0.043581\n",
      "                         Mo_3x3x3_cell_mode_6_strain_-0.1000 || 0.016182 0.038052\n",
      "                          Mo_3x3x3_cell_mode_6_strain_0.0200 || 0.000911 0.042366\n",
      "                          Mo_3x3x3_cell_mode_6_strain_0.0400 || 0.003468 0.039975\n",
      "                          Mo_3x3x3_cell_mode_6_strain_0.0600 || 0.007060 0.036778\n",
      "                          Mo_3x3x3_cell_mode_6_strain_0.0800 || 0.011351 0.040114\n",
      "                          Mo_3x3x3_cell_mode_6_strain_0.1000 || 0.016250 0.042483\n",
      "                                       Mo_3x3x3_cell_relaxed || 0.002462 0.000000\n",
      "                             Mo_surface_mp_Mo_mp-129__1_0_0_ || 0.054598 0.424120\n",
      "                             Mo_surface_mp_Mo_mp-129__1_1_0_ || 0.005309 0.168374\n",
      "                             Mo_surface_mp_Mo_mp-129__1_1_1_ || 0.018674 0.421761\n",
      "                             Mo_surface_mp_Mo_mp-129__2_1_0_ || 0.011944 0.356356\n",
      "                             Mo_surface_mp_Mo_mp-129__2_2_1_ || 0.009816 0.269297\n",
      "                             Mo_surface_mp_Mo_mp-129__3_1_1_ || 0.012072 0.527704\n",
      "                             Mo_surface_mp_Mo_mp-129__3_2_0_ || 0.010741 0.361452\n",
      "                             Mo_surface_mp_Mo_mp-129__3_2_1_ || 0.005523 0.383372\n",
      "                             Mo_surface_mp_Mo_mp-129__3_3_2_ || 0.004070 0.393039\n",
      "   Snapshot_10_of_12_of_Vacancy_AIMD_NVT_simulation_at_300_K || 0.004711 0.237138\n",
      "  Snapshot_10_of_12_of_Vacancy_AIMD_NVT_simulation_at_6000_K || 0.090884 0.458651\n",
      "          Snapshot_10_of_40_of_AIMD_NVT_simulation_at_3000_K || 0.084129 0.398954\n",
      "           Snapshot_10_of_40_of_AIMD_NVT_simulation_at_300_K || 0.014580 0.207205\n",
      "   Snapshot_11_of_12_of_Vacancy_AIMD_NVT_simulation_at_300_K || 0.011684 0.226499\n",
      "  Snapshot_11_of_12_of_Vacancy_AIMD_NVT_simulation_at_6000_K || 0.071399 0.483171\n",
      "           Snapshot_11_of_40_of_AIMD_NVT_simulation_at_300_K || 0.010007 0.196503\n",
      "          Snapshot_11_of_40_of_AIMD_NVT_simulation_at_6000_K || 0.108632 0.864921\n",
      "   Snapshot_12_of_12_of_Vacancy_AIMD_NVT_simulation_at_300_K || 0.019591 0.186798\n",
      "  Snapshot_12_of_12_of_Vacancy_AIMD_NVT_simulation_at_6000_K || 0.118953 0.645264\n",
      "          Snapshot_12_of_40_of_AIMD_NVT_simulation_at_3000_K || 0.072468 0.449186\n",
      "           Snapshot_12_of_40_of_AIMD_NVT_simulation_at_300_K || 0.014980 0.210820\n",
      "          Snapshot_12_of_40_of_AIMD_NVT_simulation_at_6000_K || 0.088571 0.847233\n",
      "          Snapshot_13_of_40_of_AIMD_NVT_simulation_at_3000_K || 0.078860 0.419523\n",
      "           Snapshot_13_of_40_of_AIMD_NVT_simulation_at_300_K || 0.007185 0.172740\n",
      "          Snapshot_13_of_40_of_AIMD_NVT_simulation_at_6000_K || 0.070730 0.819302\n",
      "           Snapshot_14_of_40_of_AIMD_NVT_simulation_at_300_K || 0.012772 0.193408\n",
      "          Snapshot_14_of_40_of_AIMD_NVT_simulation_at_6000_K || 0.114198 0.936343\n",
      "          Snapshot_15_of_40_of_AIMD_NVT_simulation_at_3000_K || 0.092527 0.397196\n",
      "           Snapshot_15_of_40_of_AIMD_NVT_simulation_at_300_K || 0.017770 0.214554\n",
      "          Snapshot_15_of_40_of_AIMD_NVT_simulation_at_6000_K || 0.091001 1.002315\n",
      "          Snapshot_16_of_40_of_AIMD_NVT_simulation_at_3000_K || 0.094246 0.452443\n",
      "           Snapshot_16_of_40_of_AIMD_NVT_simulation_at_300_K || 0.012093 0.194931\n",
      "          Snapshot_16_of_40_of_AIMD_NVT_simulation_at_6000_K || 0.121991 0.875623\n",
      "          Snapshot_17_of_40_of_AIMD_NVT_simulation_at_3000_K || 0.090520 0.482008\n",
      "           Snapshot_17_of_40_of_AIMD_NVT_simulation_at_300_K || 0.012468 0.196339\n",
      "          Snapshot_17_of_40_of_AIMD_NVT_simulation_at_6000_K || 0.131571 0.709776\n",
      "          Snapshot_18_of_40_of_AIMD_NVT_simulation_at_3000_K || 0.095222 0.446106\n",
      "           Snapshot_18_of_40_of_AIMD_NVT_simulation_at_300_K || 0.008950 0.191973\n",
      "          Snapshot_18_of_40_of_AIMD_NVT_simulation_at_6000_K || 0.068173 0.880282\n",
      "          Snapshot_19_of_40_of_AIMD_NVT_simulation_at_3000_K || 0.069323 0.408254\n",
      "           Snapshot_19_of_40_of_AIMD_NVT_simulation_at_300_K || 0.010153 0.197343\n",
      "    Snapshot_1_of_12_of_Vacancy_AIMD_NVT_simulation_at_300_K || 0.020622 0.144678\n",
      "   Snapshot_1_of_12_of_Vacancy_AIMD_NVT_simulation_at_6000_K || 0.017889 0.169828\n",
      "           Snapshot_1_of_40_of_AIMD_NVT_simulation_at_3000_K || 0.092740 0.427920\n",
      "            Snapshot_1_of_40_of_AIMD_NVT_simulation_at_300_K || 0.011918 0.196538\n",
      "           Snapshot_1_of_40_of_AIMD_NVT_simulation_at_6000_K || 0.177525 1.156430\n",
      "          Snapshot_20_of_40_of_AIMD_NVT_simulation_at_3000_K || 0.100643 0.488846\n",
      "           Snapshot_20_of_40_of_AIMD_NVT_simulation_at_300_K || 0.006944 0.173883\n",
      "          Snapshot_20_of_40_of_AIMD_NVT_simulation_at_6000_K || 0.125084 0.891367\n",
      "          Snapshot_21_of_40_of_AIMD_NVT_simulation_at_3000_K || 0.099601 0.401153\n",
      "           Snapshot_21_of_40_of_AIMD_NVT_simulation_at_300_K || 0.012040 0.172420\n",
      "          Snapshot_21_of_40_of_AIMD_NVT_simulation_at_6000_K || 0.145738 0.933360\n",
      "          Snapshot_22_of_40_of_AIMD_NVT_simulation_at_3000_K || 0.106438 0.453827\n",
      "           Snapshot_22_of_40_of_AIMD_NVT_simulation_at_300_K || 0.013902 0.199007\n",
      "          Snapshot_22_of_40_of_AIMD_NVT_simulation_at_6000_K || 0.090205 0.932888\n",
      "          Snapshot_23_of_40_of_AIMD_NVT_simulation_at_3000_K || 0.096251 0.480837\n",
      "           Snapshot_23_of_40_of_AIMD_NVT_simulation_at_300_K || 0.018573 0.232800\n",
      "          Snapshot_23_of_40_of_AIMD_NVT_simulation_at_6000_K || 0.081064 0.865751\n",
      "          Snapshot_24_of_40_of_AIMD_NVT_simulation_at_3000_K || 0.091919 0.436710\n",
      "           Snapshot_24_of_40_of_AIMD_NVT_simulation_at_300_K || 0.013084 0.184636\n",
      "          Snapshot_24_of_40_of_AIMD_NVT_simulation_at_6000_K || 0.151618 1.117524\n",
      "          Snapshot_25_of_40_of_AIMD_NVT_simulation_at_3000_K || 0.118377 0.414235\n",
      "          Snapshot_25_of_40_of_AIMD_NVT_simulation_at_6000_K || 0.134032 0.859671\n",
      "          Snapshot_26_of_40_of_AIMD_NVT_simulation_at_3000_K || 0.079823 0.417906\n",
      "           Snapshot_26_of_40_of_AIMD_NVT_simulation_at_300_K || 0.013956 0.226845\n",
      "          Snapshot_26_of_40_of_AIMD_NVT_simulation_at_6000_K || 0.086772 0.687426\n",
      "          Snapshot_27_of_40_of_AIMD_NVT_simulation_at_3000_K || 0.062871 0.428941\n",
      "          Snapshot_27_of_40_of_AIMD_NVT_simulation_at_6000_K || 0.121519 0.890312\n",
      "          Snapshot_28_of_40_of_AIMD_NVT_simulation_at_3000_K || 0.092110 0.402402\n",
      "           Snapshot_28_of_40_of_AIMD_NVT_simulation_at_300_K || 0.015848 0.199492\n",
      "          Snapshot_28_of_40_of_AIMD_NVT_simulation_at_6000_K || 0.093427 0.997616\n",
      "          Snapshot_29_of_40_of_AIMD_NVT_simulation_at_3000_K || 0.103779 0.493949\n",
      "           Snapshot_29_of_40_of_AIMD_NVT_simulation_at_300_K || 0.009597 0.176257\n",
      "          Snapshot_29_of_40_of_AIMD_NVT_simulation_at_6000_K || 0.093317 0.754984\n",
      "    Snapshot_2_of_12_of_Vacancy_AIMD_NVT_simulation_at_300_K || 0.009188 0.238664\n",
      "   Snapshot_2_of_12_of_Vacancy_AIMD_NVT_simulation_at_6000_K || 0.099457 0.513549\n",
      "           Snapshot_2_of_40_of_AIMD_NVT_simulation_at_3000_K || 0.091210 0.415185\n",
      "            Snapshot_2_of_40_of_AIMD_NVT_simulation_at_300_K || 0.015863 0.204313\n",
      "           Snapshot_2_of_40_of_AIMD_NVT_simulation_at_6000_K || 0.126773 0.853071\n",
      "          Snapshot_30_of_40_of_AIMD_NVT_simulation_at_3000_K || 0.092254 0.495447\n",
      "          Snapshot_30_of_40_of_AIMD_NVT_simulation_at_6000_K || 0.111836 0.910814\n",
      "          Snapshot_31_of_40_of_AIMD_NVT_simulation_at_3000_K || 0.074863 0.467120\n",
      "           Snapshot_31_of_40_of_AIMD_NVT_simulation_at_300_K || 0.011816 0.180734\n",
      "          Snapshot_32_of_40_of_AIMD_NVT_simulation_at_3000_K || 0.097890 0.412519\n",
      "           Snapshot_32_of_40_of_AIMD_NVT_simulation_at_300_K || 0.013385 0.181224\n",
      "          Snapshot_32_of_40_of_AIMD_NVT_simulation_at_6000_K || 0.091284 0.791349\n",
      "          Snapshot_33_of_40_of_AIMD_NVT_simulation_at_3000_K || 0.105586 0.420371\n",
      "           Snapshot_33_of_40_of_AIMD_NVT_simulation_at_300_K || 0.009701 0.171785\n",
      "          Snapshot_33_of_40_of_AIMD_NVT_simulation_at_6000_K || 0.093351 0.742916\n",
      "          Snapshot_34_of_40_of_AIMD_NVT_simulation_at_3000_K || 0.088505 0.434444\n",
      "           Snapshot_34_of_40_of_AIMD_NVT_simulation_at_300_K || 0.007588 0.172142\n",
      "          Snapshot_34_of_40_of_AIMD_NVT_simulation_at_6000_K || 0.091103 0.834494\n",
      "          Snapshot_35_of_40_of_AIMD_NVT_simulation_at_3000_K || 0.087190 0.481975\n",
      "           Snapshot_35_of_40_of_AIMD_NVT_simulation_at_300_K || 0.014825 0.196809\n",
      "          Snapshot_35_of_40_of_AIMD_NVT_simulation_at_6000_K || 0.029141 0.815028\n",
      "          Snapshot_36_of_40_of_AIMD_NVT_simulation_at_3000_K || 0.095365 0.499155\n",
      "           Snapshot_36_of_40_of_AIMD_NVT_simulation_at_300_K || 0.019115 0.219179\n",
      "          Snapshot_36_of_40_of_AIMD_NVT_simulation_at_6000_K || 0.104644 0.942261\n",
      "          Snapshot_37_of_40_of_AIMD_NVT_simulation_at_3000_K || 0.096957 0.439105\n",
      "           Snapshot_37_of_40_of_AIMD_NVT_simulation_at_300_K || 0.018367 0.231367\n",
      "          Snapshot_38_of_40_of_AIMD_NVT_simulation_at_3000_K || 0.113225 0.485675\n",
      "           Snapshot_38_of_40_of_AIMD_NVT_simulation_at_300_K || 0.014696 0.206105\n",
      "          Snapshot_38_of_40_of_AIMD_NVT_simulation_at_6000_K || 0.142286 0.771025\n",
      "          Snapshot_39_of_40_of_AIMD_NVT_simulation_at_3000_K || 0.098437 0.446946\n",
      "           Snapshot_39_of_40_of_AIMD_NVT_simulation_at_300_K || 0.016033 0.208294\n",
      "          Snapshot_39_of_40_of_AIMD_NVT_simulation_at_6000_K || 0.126070 0.842749\n",
      "    Snapshot_3_of_12_of_Vacancy_AIMD_NVT_simulation_at_300_K || 0.011233 0.188878\n",
      "   Snapshot_3_of_12_of_Vacancy_AIMD_NVT_simulation_at_6000_K || 0.073763 0.460577\n",
      "           Snapshot_3_of_40_of_AIMD_NVT_simulation_at_3000_K || 0.089275 0.443327\n",
      "            Snapshot_3_of_40_of_AIMD_NVT_simulation_at_300_K || 0.013838 0.202877\n",
      "           Snapshot_3_of_40_of_AIMD_NVT_simulation_at_6000_K || 0.152837 0.940786\n",
      "          Snapshot_40_of_40_of_AIMD_NVT_simulation_at_3000_K || 0.094047 0.430165\n",
      "          Snapshot_40_of_40_of_AIMD_NVT_simulation_at_6000_K || 0.095534 0.683319\n",
      "           Snapshot_4_of_40_of_AIMD_NVT_simulation_at_3000_K || 0.086900 0.446610\n",
      "            Snapshot_4_of_40_of_AIMD_NVT_simulation_at_300_K || 0.017264 0.192857\n",
      "           Snapshot_4_of_40_of_AIMD_NVT_simulation_at_6000_K || 0.105120 1.008261\n",
      "    Snapshot_5_of_12_of_Vacancy_AIMD_NVT_simulation_at_300_K || 0.021912 0.066603\n",
      "   Snapshot_5_of_12_of_Vacancy_AIMD_NVT_simulation_at_6000_K || 0.054306 0.480696\n",
      "           Snapshot_5_of_40_of_AIMD_NVT_simulation_at_3000_K || 0.088681 0.399230\n",
      "            Snapshot_5_of_40_of_AIMD_NVT_simulation_at_300_K || 0.007173 0.170193\n",
      "           Snapshot_5_of_40_of_AIMD_NVT_simulation_at_6000_K || 0.195541 1.273478\n",
      "    Snapshot_6_of_12_of_Vacancy_AIMD_NVT_simulation_at_300_K || 0.007978 0.222924\n",
      "   Snapshot_6_of_12_of_Vacancy_AIMD_NVT_simulation_at_6000_K || 0.089264 0.498667\n",
      "           Snapshot_6_of_40_of_AIMD_NVT_simulation_at_3000_K || 0.089873 0.461771\n",
      "            Snapshot_6_of_40_of_AIMD_NVT_simulation_at_300_K || 0.009536 0.170856\n",
      "           Snapshot_6_of_40_of_AIMD_NVT_simulation_at_6000_K || 0.125665 1.087868\n",
      "    Snapshot_7_of_12_of_Vacancy_AIMD_NVT_simulation_at_300_K || 0.021041 0.114826\n",
      "   Snapshot_7_of_12_of_Vacancy_AIMD_NVT_simulation_at_6000_K || 0.078933 0.442807\n",
      "           Snapshot_7_of_40_of_AIMD_NVT_simulation_at_6000_K || 0.089481 0.916385\n",
      "   Snapshot_8_of_12_of_Vacancy_AIMD_NVT_simulation_at_6000_K || 0.111144 0.499541\n",
      "           Snapshot_8_of_40_of_AIMD_NVT_simulation_at_3000_K || 0.086873 0.480347\n",
      "            Snapshot_8_of_40_of_AIMD_NVT_simulation_at_300_K || 0.012991 0.205195\n",
      "           Snapshot_8_of_40_of_AIMD_NVT_simulation_at_6000_K || 0.136880 0.987525\n",
      "    Snapshot_9_of_12_of_Vacancy_AIMD_NVT_simulation_at_300_K || 0.015041 0.119250\n",
      "   Snapshot_9_of_12_of_Vacancy_AIMD_NVT_simulation_at_6000_K || 0.092259 0.472599\n",
      "           Snapshot_9_of_40_of_AIMD_NVT_simulation_at_3000_K || 0.085106 0.414567\n",
      "            Snapshot_9_of_40_of_AIMD_NVT_simulation_at_300_K || 0.015394 0.199978\n",
      "           Snapshot_9_of_40_of_AIMD_NVT_simulation_at_6000_K || 0.104353 0.926375\n"
     ]
    }
   ],
   "source": [
    "import cma\n",
    "\n",
    "from mpi4py import MPI\n",
    "\n",
    "from nodes import SVNode\n",
    "from settings import Settings\n",
    "from database import SVDatabase\n",
    "from evaluator import SVEvaluator\n",
    "from regressor import SVRegressor\n",
    "\n",
    "settingsPath = 'examples/settings.in'\n",
    "databasePath = '../svreg_data/mlearn/Mo/Mo.hdf5'\n",
    "\n",
    "settings = Settings.from_file(settingsPath)\n",
    "settings['PROCS_PER_PHYS_NODE'] = 1\n",
    "settings['PROCS_PER_MANAGER'] = 1\n",
    "\n",
    "worldComm = MPI.COMM_WORLD\n",
    "with SVDatabase(settings['databasePath'], 'r') as database:\n",
    "    structNames = list(database.keys())\n",
    "#     structNames = ['Ground_state_crystal']\n",
    "\n",
    "    if settings['refStruct'] not in structNames:\n",
    "        raise RuntimeError(\n",
    "            \"The reference structure must be included in structNames.\"\n",
    "        )\n",
    "\n",
    "    evaluator =  SVEvaluator(worldComm, structNames, settings)\n",
    "    evaluator.distributeDatabase(database)\n",
    "\n",
    "    trueValues = database.loadTrueValues()\n",
    "\n",
    "#     numStructs = len(trueValues)\n",
    "    \n",
    "    refStruct = settings['refStruct']\n",
    "    treeErrors = np.zeros(2*len(database))\n",
    "    \n",
    "    svNodePool = buildSVNodePool(database[settings['refStruct']])\n",
    "    \n",
    "    regressor = SVRegressor(\n",
    "        settings, svNodePool, cma.CMAEvolutionStrategy, [1.0, {'popsize': 1}]\n",
    "    )\n",
    "    \n",
    "    regressor.trees = [tree]\n",
    "    \n",
    "    treePopulations = [tree.parseArr2Dict(np.atleast_2d(tree.bestParams), fillFixedKnots=True)]\n",
    "    \n",
    "    # Group all dictionaries into one\n",
    "    populationDict = {}\n",
    "    for svNode in svNodePool:\n",
    "        populationDict[svNode.description] = {}\n",
    "        for bondType in svNode.bonds:\n",
    "            populationDict[svNode.description][bondType] = []\n",
    "\n",
    "    for treeDict in treePopulations:\n",
    "        for svName in treeDict.keys():\n",
    "            for bondType, pop in treeDict[svName].items():\n",
    "                populationDict[svName][bondType].append(pop)\n",
    "                            \n",
    "    svEng = evaluator.evaluate(populationDict, evalType='energy')\n",
    "    svFcs = evaluator.evaluate(populationDict, evalType='forces')\n",
    "    \n",
    "    energies, forces = regressor.evaluateTrees(svEng, svFcs, 1)\n",
    "    \n",
    "    for structName in sorted(structNames):\n",
    "        eng = energies[structName][0] - energies[refStruct][0]\n",
    "        fcs =   forces[structName][0]\n",
    "        \n",
    "        engErrors = eng - trueValues[structName]['energy']\n",
    "        fcsErrors = fcs - trueValues[structName]['forces']\n",
    "        \n",
    "        treeErrors[2*i]   = abs(engErrors)\n",
    "        treeErrors[2*i+1] = np.average(np.abs(fcsErrors), axis=(1, 2))\n",
    "        \n",
    "        print(\n",
    "            '{:>60} || {:.6f} {:.6f}'.format(\n",
    "                structName,\n",
    "                treeErrors[2*i],\n",
    "                treeErrors[2*i+1]\n",
    "            )\n",
    "        )\n",
    "# del evaluator"
   ]
  },
  {
   "cell_type": "code",
   "execution_count": 16,
   "metadata": {},
   "outputs": [
    {
     "data": {
      "text/plain": [
       "1.0307281294910198"
      ]
     },
     "execution_count": 16,
     "metadata": {},
     "output_type": "execute_result"
    }
   ],
   "source": [
    "treeErrors.sum()"
   ]
  },
  {
   "cell_type": "code",
   "execution_count": 17,
   "metadata": {},
   "outputs": [],
   "source": [
    "del evaluator"
   ]
  },
  {
   "cell_type": "code",
   "execution_count": 18,
   "metadata": {},
   "outputs": [],
   "source": [
    "from scipy.special import erf"
   ]
  },
  {
   "cell_type": "code",
   "execution_count": 19,
   "metadata": {},
   "outputs": [
    {
     "name": "stderr",
     "output_type": "stream",
     "text": [
      "/home/jvita/Programs/miniconda2/envs/parhdf5/lib/python3.6/site-packages/ipykernel_launcher.py:4: RuntimeWarning: divide by zero encountered in log\n",
      "  after removing the cwd from sys.path.\n"
     ]
    },
    {
     "data": {
      "text/plain": [
       "[<matplotlib.lines.Line2D at 0x7f1e4fffc748>]"
      ]
     },
     "execution_count": 19,
     "metadata": {},
     "output_type": "execute_result"
    },
    {
     "data": {
      "image/png": "[encoded data removed]",
      "text/plain": [
       "<Figure size 432x288 with 1 Axes>"
      ]
     },
     "metadata": {
      "needs_background": "light"
     },
     "output_type": "display_data"
    }
   ],
   "source": [
    "fig, ax = plt.subplots()\n",
    "\n",
    "x = np.linspace(0, 10, 100)\n",
    "ax.plot(x, 1-erf(np.log(x)))"
   ]
  },
  {
   "cell_type": "code",
   "execution_count": 20,
   "metadata": {},
   "outputs": [
    {
     "name": "stderr",
     "output_type": "stream",
     "text": [
      "/home/jvita/Programs/miniconda2/envs/parhdf5/lib/python3.6/site-packages/ipykernel_launcher.py:1: RuntimeWarning: divide by zero encountered in log\n",
      "  \"\"\"Entry point for launching an IPython kernel.\n"
     ]
    },
    {
     "data": {
      "text/plain": [
       "array([2.00000000e+00, 1.99881362e+00, 1.97629491e+00, 1.90867730e+00,\n",
       "       1.80002313e+00, 1.66597825e+00, 1.52118092e+00, 1.37600848e+00,\n",
       "       1.23685949e+00, 1.10722126e+00, 9.88659792e-01, 8.81551842e-01,\n",
       "       7.85579776e-01, 7.00050408e-01, 6.24093620e-01, 5.56782297e-01,\n",
       "       4.97201968e-01, 4.44488927e-01, 3.97848925e-01, 3.56564155e-01,\n",
       "       3.19993391e-01, 2.87568330e-01, 2.58787995e-01, 2.33212354e-01,\n",
       "       2.10455803e-01, 1.90180917e-01, 1.72092635e-01, 1.55932998e-01,\n",
       "       1.41476443e-01, 1.28525632e-01, 1.16907805e-01, 1.06471578e-01,\n",
       "       9.70841656e-02, 8.86289679e-02, 8.10034728e-02, 7.41174426e-02,\n",
       "       6.78913431e-02, 6.22549816e-02, 5.71463281e-02, 5.25104931e-02,\n",
       "       4.82988410e-02, 4.44682204e-02, 4.09802950e-02, 3.78009622e-02,\n",
       "       3.48998459e-02, 3.22498552e-02, 2.98267981e-02, 2.76090449e-02,\n",
       "       2.55772333e-02, 2.37140095e-02, 2.20038018e-02, 2.04326211e-02,\n",
       "       1.89878862e-02, 1.76582690e-02, 1.64335587e-02, 1.53045418e-02,\n",
       "       1.42628955e-02, 1.33010946e-02, 1.24123271e-02, 1.15904214e-02,\n",
       "       1.08297800e-02, 1.01253218e-02, 9.47242941e-03, 8.86690366e-03,\n",
       "       8.30492184e-03, 7.78300102e-03, 7.29796505e-03, 6.84691508e-03,\n",
       "       6.42720313e-03, 6.03640840e-03, 5.67231599e-03, 5.33289778e-03,\n",
       "       5.01629525e-03, 4.72080396e-03, 4.44485967e-03, 4.18702571e-03,\n",
       "       3.94598161e-03, 3.72051289e-03, 3.50950173e-03, 3.31191860e-03,\n",
       "       3.12681464e-03, 2.95331476e-03, 2.79061137e-03, 2.63795874e-03,\n",
       "       2.49466776e-03, 2.36010132e-03, 2.23366998e-03, 2.11482810e-03,\n",
       "       2.00307029e-03, 1.89792816e-03, 1.79896735e-03, 1.70578490e-03,\n",
       "       1.61800667e-03, 1.53528519e-03, 1.45729752e-03, 1.38374340e-03,\n",
       "       1.31434349e-03, 1.24883779e-03, 1.18698418e-03, 1.12855709e-03])"
      ]
     },
     "execution_count": 20,
     "metadata": {},
     "output_type": "execute_result"
    }
   ],
   "source": [
    "1-erf(np.log(x))"
   ]
  },
  {
   "cell_type": "code",
   "execution_count": null,
   "metadata": {},
   "outputs": [],
   "source": []
  }
 ],
 "metadata": {
  "kernelspec": {
   "display_name": "Python 3",
   "language": "python",
   "name": "python3"
  },
  "language_info": {
   "codemirror_mode": {
    "name": "ipython",
    "version": 3
   },
   "file_extension": ".py",
   "mimetype": "text/x-python",
   "name": "python",
   "nbconvert_exporter": "python",
   "pygments_lexer": "ipython3",
   "version": "3.6.10"
  }
 },
 "nbformat": 4,
 "nbformat_minor": 4
}
